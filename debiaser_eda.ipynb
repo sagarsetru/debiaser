{
 "cells": [
  {
   "cell_type": "markdown",
   "metadata": {},
   "source": [
    "# EDA and LDA model testing for 'debiaser' data product\n",
    "#### Sagar Setru, September 16th, 2020"
   ]
  },
  {
   "cell_type": "markdown",
   "metadata": {},
   "source": [
    "## Brief description using CoNVO framework"
   ]
  },
  {
   "cell_type": "markdown",
   "metadata": {},
   "source": [
    "### Context\n",
    "\n",
    "Some people are eager to get news from outside of their echo chamber. However, they do not know where to go outside of their echo chambers, and may also have some activation energy when it comes to seeking information from other sources. In the meantime, most newsfeeds only push you content that you agree with. You end up in an echo chamber, but may not have ever wanted to be in one in the first place."
   ]
  },
  {
   "cell_type": "markdown",
   "metadata": {},
   "source": [
    "### Need\n",
    "\n",
    "A way to find news articles from different yet reliable media sources."
   ]
  },
  {
   "cell_type": "markdown",
   "metadata": {},
   "source": [
    "### Vision\n",
    "\n",
    "Debiaser, a data product (maybe Chrome plug-in?) that will recommend news articles similar in topic to the one currently being read, but from several pre-curated and reliable news media organizations across the political spectrum, for example, following the \"media bias chart\" here https://www.adfontesmedia.com/ or the \"media bias ratings\" here: https://www.allsides.com/media-bias/media-bias-ratings. The app will determine the main topics of the text of a news article, and then show links to similar articles from other news organizations.\n",
    "\n",
    "The product will generate topics for a given document via latent Dirichlet allocation (LDA) and then search news websites for the topic words generated.\n",
    "\n",
    "Caveats: Many of these articles may be behind paywalls. News aggregators already basically do this. How different is this than just searching Google using the title of an article?"
   ]
  },
  {
   "cell_type": "markdown",
   "metadata": {},
   "source": [
    "### Outcome\n",
    "\n",
    "People who are motivated to engage in content outside of their echo chambers have a tool that enables them to quickly find news similar to what they are currently reading, but from a variety of news organizations."
   ]
  },
  {
   "cell_type": "markdown",
   "metadata": {},
   "source": [
    "# EDA, LDA testing"
   ]
  },
  {
   "cell_type": "code",
   "execution_count": 35,
   "metadata": {},
   "outputs": [
    {
     "name": "stdout",
     "output_type": "stream",
     "text": [
      "Conda environment:\n",
      "insight\n"
     ]
    }
   ],
   "source": [
    "# make sure I'm in the right environment\n",
    "\n",
    "print('Conda environment:')\n",
    "print(os.environ['CONDA_DEFAULT_ENV'])"
   ]
  },
  {
   "cell_type": "code",
   "execution_count": 36,
   "metadata": {},
   "outputs": [],
   "source": [
    "# import base packages\n",
    "\n",
    "import pandas as pd\n",
    "import numpy as np\n",
    "import os\n",
    "import matplotlib.pyplot as plt\n",
    "import seaborn as sns"
   ]
  },
  {
   "cell_type": "code",
   "execution_count": 408,
   "metadata": {},
   "outputs": [],
   "source": [
    "# import text processing and NLP specific packages\n",
    "\n",
    "# for generating LDA models\n",
    "import gensim\n",
    "\n",
    "# for preprocessing documents\n",
    "from gensim.parsing.preprocessing import preprocess_documents\n",
    "\n",
    "# to break articles up into sentences (currently not in use)\n",
    "from nltk import tokenize\n",
    "\n",
    "# for doing lemmatizing\n",
    "from nltk.stem import WordNetLemmatizer, SnowballStemmer\n",
    "\n",
    "# for counting frequency of words\n",
    "from collections import defaultdict\n",
    "\n",
    "# for processing lda topic output\n",
    "from gensim.parsing.preprocessing import preprocess_string\n",
    "from gensim.parsing.preprocessing import strip_punctuation\n",
    "from gensim.parsing.preprocessing import strip_numeric"
   ]
  },
  {
   "cell_type": "code",
   "execution_count": 262,
   "metadata": {},
   "outputs": [],
   "source": [
    "def load_stop_words_csv_to_list(full_file_name):\n",
    "    \"\"\"fxn that loads stop words list downloaded from git repo called 'news-stopwords'\"\"\"\n",
    "    \n",
    "    stop_words = pd.read_csv(full_file_name)\n",
    "\n",
    "    stop_words = stop_words['term']\n",
    "\n",
    "    stop_words = [word for word in stop_words]\n",
    "    \n",
    "    return stop_words"
   ]
  },
  {
   "cell_type": "code",
   "execution_count": 38,
   "metadata": {},
   "outputs": [],
   "source": [
    "# get list of manually made text files of articles\n",
    "\n",
    "full_path = '/Users/sagarsetru/Documents/post PhD positions search/insightDataScience/project/debiaser/article_text_files/'\n",
    "\n",
    "full_file_names = [\n",
    "full_path+'ap_hurricane_sally_unleashes_20200916.txt',\n",
    "full_path+'cnn_big_ten_backtracks_20200916.txt',\n",
    "full_path+'nyt_on_the_fire_line_20200915.txt',\n",
    "]"
   ]
  },
  {
   "cell_type": "code",
   "execution_count": 416,
   "metadata": {},
   "outputs": [],
   "source": [
    "# choose list of stop words\n",
    "\n",
    "# choose whether 1k, 10k, 100k, or nltk\n",
    "which_stop_words = '1k'\n",
    "# which_stop_words = '10k'\n",
    "# which_stop_words = '100k'\n",
    "# which_stop_words = 'nltk'\n",
    "\n",
    "stop_words_path = '/Users/sagarsetru/Documents/post PhD positions search/insightDataScience/project/debiaser/stop_words_db/news-stopwords-master/'\n",
    "\n",
    "\n",
    "if which_stop_words == '1k':\n",
    "    \n",
    "    # doing 1k words list\n",
    "    stop_words_file_name = 'sw1k.csv'\n",
    "    \n",
    "    # make full file name\n",
    "    stop_words_full_file_name = stop_words_path+stop_words_file_name\n",
    "    \n",
    "    # get list of stop words\n",
    "    stop_words = load_stop_words_csv_to_list(stop_words_full_file_name)\n",
    "    \n",
    "elif which_stop_words == '10k':\n",
    "    \n",
    "    # doing 10k words list\n",
    "    stop_words_file_name = 'sw10k.csv'\n",
    "\n",
    "    # make full file name\n",
    "    stop_words_full_file_name = stop_words_path+stop_words_file_name\n",
    "    \n",
    "    # get list of stop words\n",
    "    stop_words = load_stop_words_csv_to_list(stop_words_full_file_name)\n",
    "\n",
    "elif which_stop_words == '100k':\n",
    "    \n",
    "    # doing 100k\n",
    "    stop_words_file_name = 'sw100k.csv'  \n",
    "    \n",
    "    # get full file name\n",
    "    stop_words_full_file_name = stop_words_path+stop_words_file_name\n",
    "    \n",
    "    # get list of stop words\n",
    "    stop_words = load_stop_words_csv_to_list(stop_words_full_file_name)\n",
    "\n",
    "\n",
    "elif which_stop_words == 'nltk':\n",
    "    # import from nltk\n",
    "    from nltk.corpus import stopwords\n",
    "    \n",
    "    stop_words = stopwords.words('english')\n",
    "    \n",
    "else:\n",
    "    print('Select proper variable name for \"which_stop_words\"')\n",
    "    \n",
    "# adding custom words\n",
    "stop_words.append('said')\n",
    "stop_words.append('youre')"
   ]
  },
  {
   "cell_type": "code",
   "execution_count": 417,
   "metadata": {},
   "outputs": [],
   "source": [
    "# print(stop_words)"
   ]
  },
  {
   "cell_type": "code",
   "execution_count": 523,
   "metadata": {},
   "outputs": [
    {
     "name": "stdout",
     "output_type": "stream",
     "text": [
      "ap_hurricane_sally_unleashes_20200916.txt\n",
      "['hurricane', 'storm', 'alabama', 'pensacola', 'rain', 'sally', 'coast', 'mph', 'gulf', 'forecasters', 'florida', 'mobile', 'winds']\n",
      "{'hurricane': array([0.0274989 , 0.04370205, 0.04650091, 0.04982258, 0.02632177],\n",
      "      dtype=float32), 'storm': array([0.0269915 , 0.03506417, 0.04409991, 0.02956121, 0.02781347],\n",
      "      dtype=float32), 'alabama': array([0.02552938, 0.02659995, 0.02331683, 0.04517461, 0.03036397],\n",
      "      dtype=float32), 'pensacola': array([0.02493055, 0.03833016, 0.03608533, 0.04011808, 0.03169426],\n",
      "      dtype=float32), 'rain': array([0.02371229, 0.02920534, 0.034269  , 0.03075277, 0.02588541],\n",
      "      dtype=float32), 'sally': array([0.02298845, 0.02162019, 0.02832269, 0.01812612], dtype=float32), 'coast': array([0.02154853, 0.02525577, 0.02246977, 0.02486876], dtype=float32), 'mph': array([0.01905812, 0.02331138, 0.01912318], dtype=float32), 'gulf': array([0.01825371, 0.02580305, 0.02463652, 0.02527031], dtype=float32), 'forecasters': array([0.01800073], dtype=float32), 'florida': array([0.02280999, 0.01955175], dtype=float32), 'mobile': array([0.02247333, 0.02213671, 0.01822043], dtype=float32), 'winds': array([0.02074444, 0.01913859, 0.02077152, 0.02054319], dtype=float32)}\n",
      " \n",
      "cnn_big_ten_backtracks_20200916.txt\n",
      "['ten', 'athletes', 'student', 'football', 'sports', 'iowa', 'coaches', 'college', 'poc', 'ohio', 'coronavirus', 'require', '2020', 'covid']\n",
      "{'ten': array([0.13658318, 0.07525386, 0.13622954, 0.05890799, 0.05893232],\n",
      "      dtype=float32), 'athletes': array([0.10100357, 0.0739078 , 0.10765653, 0.05894751, 0.05889612],\n",
      "      dtype=float32), 'student': array([0.09304587, 0.06694005, 0.07751784, 0.05888541, 0.05888012],\n",
      "      dtype=float32), 'football': array([0.08957796, 0.07079036, 0.08274607, 0.05890322, 0.05890485],\n",
      "      dtype=float32), 'sports': array([0.06898602, 0.05920526, 0.07581561, 0.05882908, 0.05883517],\n",
      "      dtype=float32), 'iowa': array([0.05366513, 0.06034539, 0.05679708, 0.05882452, 0.05882445],\n",
      "      dtype=float32), 'coaches': array([0.05210076, 0.05680732, 0.06032626, 0.05882166, 0.05882459],\n",
      "      dtype=float32), 'college': array([0.05096628, 0.06580052, 0.06032502, 0.05882796, 0.05883338],\n",
      "      dtype=float32), 'poc': array([0.04257104], dtype=float32), 'ohio': array([0.0409656 , 0.05880842], dtype=float32), 'coronavirus': array([0.05658926, 0.05880727, 0.0588068 ], dtype=float32), 'require': array([0.05595028, 0.05880855], dtype=float32), '2020': array([0.04162386], dtype=float32), 'covid': array([0.04105935], dtype=float32)}\n",
      " \n"
     ]
    }
   ],
   "source": [
    "# Create a floor of the frequency of words to remove\n",
    "word_frequency_threshold = 1\n",
    "\n",
    "# choose the number of LDA topics\n",
    "num_lda_topics = 5\n",
    "\n",
    "# loop through files\n",
    "for ind, full_file_name in enumerate(full_file_names):\n",
    "    \n",
    "    # get path and file name\n",
    "    pathstr, fname = os.path.split(full_file_name)\n",
    "    \n",
    "    # print file name\n",
    "    print(fname)\n",
    "    \n",
    "    # get the article text as one string, remove new lines\n",
    "    with open(full_file_name, 'r') as file:\n",
    "        article_text = file.read().replace('\\n', ' ')\n",
    "        \n",
    "    # replace weird apostrophes\n",
    "    article_text = article_text.replace(\"`\",\"'\")\n",
    "    article_text = article_text.replace(\"’\",\"'\")\n",
    "    article_text = article_text.replace(\"'\",\"'\")\n",
    "    \n",
    "    # replace long dashes with short dashes\n",
    "    article_text = article_text.replace(\"—\",\"-\")\n",
    "    \n",
    "    # replace short dashes with spaces\n",
    "    article_text = article_text.replace(\"-\",\" \")\n",
    "    \n",
    "    # get rid of punctuation\n",
    "    article_text = article_text.translate(article_text.maketrans('', '', string.punctuation))\n",
    "\n",
    "    # break article into sentences\n",
    "#     article_sentences = tokenize.sent_tokenize(article_text)\n",
    "\n",
    "    # following https://radimrehurek.com/gensim/auto_examples/core/run_core_concepts.html#sphx-glr-auto-examples-core-run-core-concepts-py\n",
    "    # Lowercase each document, split it by white space and filter out stopwords\n",
    "    texts = [[word for word in document.lower().split() if word not in stop_words] \n",
    "             for document in [article_text]]\n",
    "\n",
    "    # Count word frequencies\n",
    "    frequency = defaultdict(int)\n",
    "    for text in texts:\n",
    "        for token in text:\n",
    "            frequency[token] += 1\n",
    "\n",
    "    # Only keep words that appear more than set frequency, to produce the corpus\n",
    "    processed_corpus = [[token for token in text if frequency[token] > word_frequency_threshold] for text in texts]\n",
    "\n",
    "#     print('Number of documents: %d' % len(processed_corpus))\n",
    "    \n",
    "    # generate a dictionary via gensim\n",
    "    processed_dictionary = Dictionary(processed_corpus)\n",
    "    \n",
    "    # generate bag of words of the corpus\n",
    "    bow_corpus = [processed_dictionary.doc2bow(text) for text in processed_corpus]\n",
    "    \n",
    "    # generate the LDA model\n",
    "    lda = gensim.models.LdaModel(corpus = bow_corpus,\n",
    "                                 num_topics = num_lda_topics,\n",
    "                                 id2word = processed_dictionary,\n",
    "                                 passes = 1)\n",
    "\n",
    "    # get the topics from the lda model\n",
    "    lda_topics = lda.show_topics(formatted=False)\n",
    "    \n",
    "    # dictionary for topics and the probabilities associated with them\n",
    "    topics_probs_dict = {}\n",
    "    \n",
    "    # list of unique topic names\n",
    "    topics = []\n",
    "    \n",
    "    # loop through each list of generated topics\n",
    "    for topic in lda_topics:\n",
    "        \n",
    "        # get the list of topics\n",
    "        topic_words = topic[1]\n",
    "        \n",
    "        # loop through topic words and probabilities\n",
    "        for topic_word, prob in topic_words:\n",
    "            \n",
    "            # if the word isn't already in the list of topics, add it to list of topics\n",
    "            if topic_word not in topics: \n",
    "                topics.append(topic_word)\n",
    "                \n",
    "            # if the word is not a key in the dictionary of topics to probabilities, add it to dictionary\n",
    "            if topic_word not in topics_probs_dict.keys():\n",
    "                \n",
    "                topics_probs_dict[topic_word] = np.array([prob])\n",
    "            \n",
    "            # if the word is a key in the dictionary of topics to probabilities, append probability\n",
    "            else:\n",
    "                topics_probs_dict[topic_word] = np.append(topics_probs_dict[topic_word],[prob])\n",
    "        \n",
    "        # dictionary for topic probability means\n",
    "        topics_mean_probs_dict = {}\n",
    "        \n",
    "        # dictionary for topic probability std devs\n",
    "        topics_std_probs_dict = {}\n",
    "        \n",
    "        # dictionary for topic frequency\n",
    "        topics_frequency_dict = {}\n",
    "\n",
    "        # loop through topics and probabilities\n",
    "        for topic, prob in topics_probs_dict.items():\n",
    "            \n",
    "            # update dictionary for mean probability\n",
    "            topics_mean_probs_dict[topic] = np.mean(prob)\n",
    "            \n",
    "            # update dictionary for std dev probability\n",
    "            topics_std_probs_dict[topic] = np.std(prob)\n",
    "            \n",
    "            # update dictionary for topic frequency\n",
    "            topics_frequency_dict[topic] =  prob.size\n",
    "                \n",
    "            \n",
    "                \n",
    "    print(topics)\n",
    "    print(topics_probs_dict)\n",
    "    print(' ')\n",
    "        \n",
    "    if ind == 1:\n",
    "        break\n",
    "        \n"
   ]
  },
  {
   "cell_type": "code",
   "execution_count": 524,
   "metadata": {},
   "outputs": [],
   "source": [
    "x_topics = []\n",
    "y_means = np.zeros((len(topics_mean_probs_dict)))\n",
    "y_std = np.zeros((len(topics_std_probs_dict)))\n",
    "y_frequencies = np.zeros((len(topics_frequency_dict)))\n",
    "\n",
    "counter = -1\n",
    "for topics, mean_prob in topics_mean_probs_dict.items():\n",
    "    counter += 1\n",
    "    x_topics.append(topics)\n",
    "    y_means[counter] = mean_prob\n",
    "    \n",
    "counter2 = -1\n",
    "for topics, frequency in topics_frequency_dict.items():\n",
    "    counter2 += 1\n",
    "    y_frequencies[counter2] = frequency\n",
    "    \n",
    "counter3 = -1\n",
    "for topics, std in topics_std_probs_dict.items():\n",
    "    counter3 += 1\n",
    "    y_std[counter3] = std"
   ]
  },
  {
   "cell_type": "code",
   "execution_count": 533,
   "metadata": {},
   "outputs": [
    {
     "data": {
      "image/png": "[encoded data removed]",
      "text/plain": [
       "<Figure size 1800x360 with 1 Axes>"
      ]
     },
     "metadata": {
      "needs_background": "light"
     },
     "output_type": "display_data"
    }
   ],
   "source": [
    "plt.figure(figsize=(25,5))\n",
    "plt.bar(x_topics,y_means,yerr=y_std);\n",
    "plt.ylabel('Mean probability')\n",
    "plt.xlabel('Topics')\n",
    "sns.set_context('talk', font_scale=1.5)\n",
    "plt.xticks(rotation=45);"
   ]
  },
  {
   "cell_type": "code",
   "execution_count": 526,
   "metadata": {},
   "outputs": [
    {
     "data": {
      "image/png": "[encoded data removed]",
      "text/plain": [
       "<Figure size 1800x360 with 1 Axes>"
      ]
     },
     "metadata": {
      "needs_background": "light"
     },
     "output_type": "display_data"
    }
   ],
   "source": [
    "plt.figure(figsize=(25,5))\n",
    "sns.barplot(x=x_topics,y=y_frequencies);\n",
    "plt.ylabel('N')\n",
    "plt.xlabel('Topics')\n",
    "sns.set_context('talk', font_scale=1.5)\n",
    "plt.xticks(rotation=45);"
   ]
  },
  {
   "cell_type": "code",
   "execution_count": 479,
   "metadata": {},
   "outputs": [
    {
     "data": {
      "text/plain": [
       "array([0., 0., 0., 0., 0., 0., 0., 0., 0., 0., 0., 0., 0., 0., 0., 0.])"
      ]
     },
     "execution_count": 479,
     "metadata": {},
     "output_type": "execute_result"
    }
   ],
   "source": [
    "y_means"
   ]
  },
  {
   "cell_type": "code",
   "execution_count": 304,
   "metadata": {},
   "outputs": [
    {
     "name": "stdout",
     "output_type": "stream",
     "text": [
      "Dictionary(6 unique tokens: ['coaches,', 'college', 'football', 'sports', 'student-athletes']...)\n"
     ]
    }
   ],
   "source": [
    "# Create a set of frequent meaningless words to remove\n",
    "word_frequency_threshold = 2\n",
    "\n",
    "# following https://radimrehurek.com/gensim/auto_examples/core/run_core_concepts.html#sphx-glr-auto-examples-core-run-core-concepts-py\n",
    "\n",
    "# Lowercase each document, split it by white space and filter out stopwords\n",
    "texts = [[word for word in document.lower().split() if word not in stop_words]\n",
    "         for document in [article_text]]\n",
    "\n",
    "# Count word frequencies\n",
    "from collections import defaultdict\n",
    "frequency = defaultdict(int)\n",
    "for text in texts:\n",
    "    for token in text:\n",
    "        frequency[token] += 1\n",
    "\n",
    "# Only keep words that appear more than once\n",
    "processed_corpus = [[token for token in text if frequency[token] > word_frequency_threshold] for text in texts]\n",
    "\n",
    "processed_dictionary = Dictionary(processed_corpus)\n",
    "print(processed_dictionary)"
   ]
  },
  {
   "cell_type": "code",
   "execution_count": 305,
   "metadata": {},
   "outputs": [],
   "source": [
    "bow_corpus = [processed_dictionary.doc2bow(text) for text in processed_corpus]\n",
    "lda_2 = gensim.models.LdaModel(corpus=bow_corpus,num_topics=5,id2word=processed_dictionary)"
   ]
  },
  {
   "cell_type": "code",
   "execution_count": 306,
   "metadata": {},
   "outputs": [
    {
     "name": "stdout",
     "output_type": "stream",
     "text": [
      "['ten', 'football', 'sports', 'student', 'athletes', 'coaches', 'college']\n",
      "ten\n",
      "football\n",
      "sports\n",
      "student\n",
      "athletes\n",
      "coaches\n",
      "college\n",
      " \n",
      "['ten', 'football', 'college', 'sports', 'coaches', 'student', 'athletes']\n",
      "ten\n",
      "football\n",
      "college\n",
      "sports\n",
      "coaches\n",
      "student\n",
      "athletes\n",
      " \n",
      "['ten', 'football', 'college', 'coaches', 'sports', 'student', 'athletes']\n",
      "ten\n",
      "football\n",
      "college\n",
      "coaches\n",
      "sports\n",
      "student\n",
      "athletes\n",
      " \n",
      "['ten', 'football', 'college', 'coaches', 'student', 'athletes', 'sports']\n",
      "ten\n",
      "football\n",
      "college\n",
      "coaches\n",
      "student\n",
      "athletes\n",
      "sports\n",
      " \n",
      "['ten', 'football', 'coaches', 'college', 'student', 'athletes', 'sports']\n",
      "ten\n",
      "football\n",
      "coaches\n",
      "college\n",
      "student\n",
      "athletes\n",
      "sports\n",
      " \n",
      "['ten', 'football', 'sports', 'student', 'athletes', 'coaches', 'college', 'ten', 'football', 'college', 'sports', 'coaches', 'student', 'athletes', 'ten', 'football', 'college', 'coaches', 'sports', 'student', 'athletes', 'ten', 'football', 'college', 'coaches', 'student', 'athletes', 'sports', 'ten', 'football', 'coaches', 'college', 'student', 'athletes', 'sports']\n"
     ]
    }
   ],
   "source": [
    "from gensim.parsing.preprocessing import preprocess_string\n",
    "from gensim.parsing.preprocessing import strip_punctuation\n",
    "from gensim.parsing.preprocessing import strip_numeric\n",
    "\n",
    "# # lda.top_topics(corpus=bow_corpus,dictionary=processed_dictionary)\n",
    "# for i in range(0, lda.num_topics-1):\n",
    "#     current_topic = lda.print_topic(i)\n",
    "#     print(current_topic)\n",
    "    \n",
    "lda_topics = lda_2.show_topics()\n",
    "\n",
    "topics = []\n",
    "filters = [lambda x: x.lower(), strip_punctuation, strip_numeric]\n",
    "\n",
    "for topic in lda_topics:\n",
    "#     print(topic)\n",
    "    topics.append(preprocess_string(topic[1], filters))\n",
    "\n",
    "all_topic_words = []\n",
    "for topic in topics:\n",
    "    print(topic)\n",
    "    for topic_word in topic:\n",
    "        print(topic_word)\n",
    "        all_topic_words.append(topic_word)\n",
    "    \n",
    "    print(' ')\n",
    "\n",
    "print(all_topic_words)"
   ]
  },
  {
   "cell_type": "code",
   "execution_count": 307,
   "metadata": {},
   "outputs": [
    {
     "name": "stdout",
     "output_type": "stream",
     "text": [
      "[['ten', 'football', 'sports', 'student', 'athletes', 'coaches', 'college'], ['ten', 'football', 'college', 'sports', 'coaches', 'student', 'athletes'], ['ten', 'football', 'college', 'coaches', 'sports', 'student', 'athletes'], ['ten', 'football', 'college', 'coaches', 'student', 'athletes', 'sports'], ['ten', 'football', 'coaches', 'college', 'student', 'athletes', 'sports']]\n"
     ]
    }
   ],
   "source": [
    "print(topics)"
   ]
  },
  {
   "cell_type": "code",
   "execution_count": 318,
   "metadata": {},
   "outputs": [
    {
     "name": "stdout",
     "output_type": "stream",
     "text": [
      "['ten', 'football', 'sports', 'student', 'athletes', 'coaches', 'college']\n"
     ]
    }
   ],
   "source": [
    "all_unique_topics = []\n",
    "for topic_list in topics:\n",
    "    for topic in topic_list:\n",
    "        if topic not in all_unique_topics:\n",
    "            all_unique_topics.append(topic)\n",
    "\n",
    "print(all_unique_topics)"
   ]
  },
  {
   "cell_type": "code",
   "execution_count": 314,
   "metadata": {},
   "outputs": [
    {
     "data": {
      "text/plain": [
       "['coaches', 'college', 'football', 'sports', 'student', 'ten', 'athletes']"
      ]
     },
     "execution_count": 314,
     "metadata": {},
     "output_type": "execute_result"
    }
   ],
   "source": [
    "all_topics"
   ]
  },
  {
   "cell_type": "code",
   "execution_count": 312,
   "metadata": {},
   "outputs": [
    {
     "name": "stdout",
     "output_type": "stream",
     "text": [
      "['ten', 'football', 'sports', 'student', 'athletes', 'coaches', 'college']\n"
     ]
    }
   ],
   "source": [
    "len(topics[0])\n",
    "print(topics[0])"
   ]
  },
  {
   "cell_type": "code",
   "execution_count": null,
   "metadata": {},
   "outputs": [],
   "source": []
  }
 ],
 "metadata": {
  "kernelspec": {
   "display_name": "Python 3",
   "language": "python",
   "name": "python3"
  },
  "language_info": {
   "codemirror_mode": {
    "name": "ipython",
    "version": 3
   },
   "file_extension": ".py",
   "mimetype": "text/x-python",
   "name": "python",
   "nbconvert_exporter": "python",
   "pygments_lexer": "ipython3",
   "version": "3.8.5"
  }
 },
 "nbformat": 4,
 "nbformat_minor": 4
}
