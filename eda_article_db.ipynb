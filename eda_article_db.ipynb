{
 "cells": [
  {
   "cell_type": "markdown",
   "metadata": {},
   "source": [
    "# EDA (downloaded document corpus) for 'debiaser' data product\n",
    "#### Sagar Setru, September 21th, 2020"
   ]
  },
  {
   "cell_type": "markdown",
   "metadata": {},
   "source": [
    "## Brief description using CoNVO framework"
   ]
  },
  {
   "cell_type": "markdown",
   "metadata": {},
   "source": [
    "### Context\n",
    "\n",
    "Some people are eager to get news from outside of their echo chamber. However, they do not know where to go outside of their echo chambers, and may also have some activation energy when it comes to seeking information from other sources. In the meantime, most newsfeeds only push you content that you agree with. You end up in an echo chamber, but may not have ever wanted to be in one in the first place."
   ]
  },
  {
   "cell_type": "markdown",
   "metadata": {},
   "source": [
    "### Need\n",
    "\n",
    "A way to find news articles from different yet reliable media sources."
   ]
  },
  {
   "cell_type": "markdown",
   "metadata": {},
   "source": [
    "### Vision\n",
    "\n",
    "Debiaser, a data product (maybe Chrome plug-in?) that will recommend news articles similar in topic to the one currently being read, but from several pre-curated and reliable news media organizations across the political spectrum, for example, following the \"media bias chart\" here https://www.adfontesmedia.com/ or the \"media bias ratings\" here: https://www.allsides.com/media-bias/media-bias-ratings. The app will determine the main topics of the text of a news article, and then show links to similar articles from other news organizations.\n",
    "\n",
    "The product will generate topics for a given document via latent Dirichlet allocation (LDA) and then search news websites for the topic words generated.\n",
    "\n",
    "Caveats: Many of these articles may be behind paywalls. News aggregators already basically do this. How different is this than just searching Google using the title of an article?"
   ]
  },
  {
   "cell_type": "markdown",
   "metadata": {},
   "source": [
    "### Outcome\n",
    "\n",
    "People who are motivated to engage in content outside of their echo chambers have a tool that enables them to quickly find news similar to what they are currently reading, but from a variety of news organizations."
   ]
  },
  {
   "cell_type": "markdown",
   "metadata": {},
   "source": [
    "### EDA of news articles database\n",
    "News articles taken from here: https://components.one/datasets/all-the-news-articles-dataset/"
   ]
  },
  {
   "cell_type": "code",
   "execution_count": 1,
   "metadata": {},
   "outputs": [],
   "source": [
    "import pandas as pd\n",
    "import seaborn as sns\n",
    "import matplotlib.pyplot as plt\n",
    "import numpy as np\n",
    "import os"
   ]
  },
  {
   "cell_type": "code",
   "execution_count": 2,
   "metadata": {},
   "outputs": [
    {
     "name": "stdout",
     "output_type": "stream",
     "text": [
      "Conda environment:\n",
      "insight\n"
     ]
    }
   ],
   "source": [
    "# make sure I'm in the right environment (should be 'insight')\n",
    "print('Conda environment:')\n",
    "print(os.environ['CONDA_DEFAULT_ENV'])"
   ]
  },
  {
   "cell_type": "code",
   "execution_count": 3,
   "metadata": {},
   "outputs": [
    {
     "name": "stderr",
     "output_type": "stream",
     "text": [
      "/Users/sagarsetru/anaconda3/envs/insight/lib/python3.8/site-packages/IPython/core/interactiveshell.py:3145: DtypeWarning: Columns (0,1,11,12) have mixed types.Specify dtype option on import or set low_memory=False.\n",
      "  has_raised = await self.run_ast_nodes(code_ast.body, cell_name,\n"
     ]
    }
   ],
   "source": [
    "# get the entire news csv into data frame\n",
    "\n",
    "# get file name\n",
    "fname = './all_the_news/all_the_news_db.csv'\n",
    "\n",
    "# load into data frame\n",
    "all_news_df = pd.read_csv(fname)"
   ]
  },
  {
   "cell_type": "code",
   "execution_count": 4,
   "metadata": {},
   "outputs": [
    {
     "data": {
      "text/html": [
       "<div>\n",
       "<style scoped>\n",
       "    .dataframe tbody tr th:only-of-type {\n",
       "        vertical-align: middle;\n",
       "    }\n",
       "\n",
       "    .dataframe tbody tr th {\n",
       "        vertical-align: top;\n",
       "    }\n",
       "\n",
       "    .dataframe thead th {\n",
       "        text-align: right;\n",
       "    }\n",
       "</style>\n",
       "<table border=\"1\" class=\"dataframe\">\n",
       "  <thead>\n",
       "    <tr style=\"text-align: right;\">\n",
       "      <th></th>\n",
       "      <th>index</th>\n",
       "      <th>id</th>\n",
       "      <th>title</th>\n",
       "      <th>author</th>\n",
       "      <th>date</th>\n",
       "      <th>content</th>\n",
       "      <th>year</th>\n",
       "      <th>month</th>\n",
       "      <th>publication</th>\n",
       "      <th>category</th>\n",
       "      <th>digital</th>\n",
       "      <th>section</th>\n",
       "      <th>url</th>\n",
       "    </tr>\n",
       "  </thead>\n",
       "  <tbody>\n",
       "    <tr>\n",
       "      <th>0</th>\n",
       "      <td>0</td>\n",
       "      <td>1</td>\n",
       "      <td>Agent Cooper in Twin Peaks is the audience: on...</td>\n",
       "      <td>\\nTasha Robinson\\n</td>\n",
       "      <td>2017-05-31</td>\n",
       "      <td>And never more so than in Showtime’s new...</td>\n",
       "      <td>2017.0</td>\n",
       "      <td>5.0</td>\n",
       "      <td>Verge</td>\n",
       "      <td>Longform</td>\n",
       "      <td>1.0</td>\n",
       "      <td>NaN</td>\n",
       "      <td>NaN</td>\n",
       "    </tr>\n",
       "    <tr>\n",
       "      <th>1</th>\n",
       "      <td>1</td>\n",
       "      <td>2</td>\n",
       "      <td>AI, the humanity!</td>\n",
       "      <td>\\nSam Byford\\n</td>\n",
       "      <td>2017-05-30</td>\n",
       "      <td>AlphaGo’s victory isn’t a defeat for hum...</td>\n",
       "      <td>2017.0</td>\n",
       "      <td>5.0</td>\n",
       "      <td>Verge</td>\n",
       "      <td>Longform</td>\n",
       "      <td>1.0</td>\n",
       "      <td>NaN</td>\n",
       "      <td>NaN</td>\n",
       "    </tr>\n",
       "    <tr>\n",
       "      <th>2</th>\n",
       "      <td>2</td>\n",
       "      <td>3</td>\n",
       "      <td>The Viral Machine</td>\n",
       "      <td>\\nKaitlyn Tiffany\\n</td>\n",
       "      <td>2017-05-25</td>\n",
       "      <td>Super Deluxe built a weird internet empi...</td>\n",
       "      <td>2017.0</td>\n",
       "      <td>5.0</td>\n",
       "      <td>Verge</td>\n",
       "      <td>Longform</td>\n",
       "      <td>1.0</td>\n",
       "      <td>NaN</td>\n",
       "      <td>NaN</td>\n",
       "    </tr>\n",
       "    <tr>\n",
       "      <th>3</th>\n",
       "      <td>3</td>\n",
       "      <td>4</td>\n",
       "      <td>How Anker is beating Apple and Samsung at thei...</td>\n",
       "      <td>\\nNick Statt\\n</td>\n",
       "      <td>2017-05-22</td>\n",
       "      <td>Steven Yang quit his job at Google in th...</td>\n",
       "      <td>2017.0</td>\n",
       "      <td>5.0</td>\n",
       "      <td>Verge</td>\n",
       "      <td>Longform</td>\n",
       "      <td>1.0</td>\n",
       "      <td>NaN</td>\n",
       "      <td>NaN</td>\n",
       "    </tr>\n",
       "    <tr>\n",
       "      <th>4</th>\n",
       "      <td>4</td>\n",
       "      <td>5</td>\n",
       "      <td>Tour Black Panther’s reimagined homeland with ...</td>\n",
       "      <td>\\nKwame Opam\\n</td>\n",
       "      <td>2017-05-15</td>\n",
       "      <td>Ahead of Black Panther’s 2018 theatrical...</td>\n",
       "      <td>2017.0</td>\n",
       "      <td>5.0</td>\n",
       "      <td>Verge</td>\n",
       "      <td>Longform</td>\n",
       "      <td>1.0</td>\n",
       "      <td>NaN</td>\n",
       "      <td>NaN</td>\n",
       "    </tr>\n",
       "  </tbody>\n",
       "</table>\n",
       "</div>"
      ],
      "text/plain": [
       "  index id                                              title  \\\n",
       "0     0  1  Agent Cooper in Twin Peaks is the audience: on...   \n",
       "1     1  2                                  AI, the humanity!   \n",
       "2     2  3                                  The Viral Machine   \n",
       "3     3  4  How Anker is beating Apple and Samsung at thei...   \n",
       "4     4  5  Tour Black Panther’s reimagined homeland with ...   \n",
       "\n",
       "                author        date  \\\n",
       "0   \\nTasha Robinson\\n  2017-05-31   \n",
       "1       \\nSam Byford\\n  2017-05-30   \n",
       "2  \\nKaitlyn Tiffany\\n  2017-05-25   \n",
       "3       \\nNick Statt\\n  2017-05-22   \n",
       "4       \\nKwame Opam\\n  2017-05-15   \n",
       "\n",
       "                                             content    year  month  \\\n",
       "0        And never more so than in Showtime’s new...  2017.0    5.0   \n",
       "1        AlphaGo’s victory isn’t a defeat for hum...  2017.0    5.0   \n",
       "2        Super Deluxe built a weird internet empi...  2017.0    5.0   \n",
       "3        Steven Yang quit his job at Google in th...  2017.0    5.0   \n",
       "4        Ahead of Black Panther’s 2018 theatrical...  2017.0    5.0   \n",
       "\n",
       "  publication  category  digital section  url  \n",
       "0       Verge  Longform      1.0     NaN  NaN  \n",
       "1       Verge  Longform      1.0     NaN  NaN  \n",
       "2       Verge  Longform      1.0     NaN  NaN  \n",
       "3       Verge  Longform      1.0     NaN  NaN  \n",
       "4       Verge  Longform      1.0     NaN  NaN  "
      ]
     },
     "execution_count": 4,
     "metadata": {},
     "output_type": "execute_result"
    }
   ],
   "source": [
    "all_news_df.head()"
   ]
  },
  {
   "cell_type": "code",
   "execution_count": 5,
   "metadata": {},
   "outputs": [
    {
     "name": "stdout",
     "output_type": "stream",
     "text": [
      "Index(['index', 'id', 'title', 'author', 'date', 'content', 'year', 'month',\n",
      "       'publication', 'category', 'digital', 'section', 'url'],\n",
      "      dtype='object')\n"
     ]
    }
   ],
   "source": [
    "# show columns\n",
    "print(all_news_df.columns)"
   ]
  },
  {
   "cell_type": "code",
   "execution_count": 6,
   "metadata": {},
   "outputs": [
    {
     "data": {
      "text/html": [
       "<div>\n",
       "<style scoped>\n",
       "    .dataframe tbody tr th:only-of-type {\n",
       "        vertical-align: middle;\n",
       "    }\n",
       "\n",
       "    .dataframe tbody tr th {\n",
       "        vertical-align: top;\n",
       "    }\n",
       "\n",
       "    .dataframe thead th {\n",
       "        text-align: right;\n",
       "    }\n",
       "</style>\n",
       "<table border=\"1\" class=\"dataframe\">\n",
       "  <thead>\n",
       "    <tr style=\"text-align: right;\">\n",
       "      <th></th>\n",
       "      <th>year</th>\n",
       "      <th>month</th>\n",
       "      <th>digital</th>\n",
       "    </tr>\n",
       "  </thead>\n",
       "  <tbody>\n",
       "    <tr>\n",
       "      <th>count</th>\n",
       "      <td>191530.000000</td>\n",
       "      <td>191530.000000</td>\n",
       "      <td>193115.000000</td>\n",
       "    </tr>\n",
       "    <tr>\n",
       "      <th>mean</th>\n",
       "      <td>2016.312374</td>\n",
       "      <td>5.723589</td>\n",
       "      <td>1.060435</td>\n",
       "    </tr>\n",
       "    <tr>\n",
       "      <th>std</th>\n",
       "      <td>0.833314</td>\n",
       "      <td>3.467818</td>\n",
       "      <td>1.200331</td>\n",
       "    </tr>\n",
       "    <tr>\n",
       "      <th>min</th>\n",
       "      <td>2000.000000</td>\n",
       "      <td>1.000000</td>\n",
       "      <td>0.000000</td>\n",
       "    </tr>\n",
       "    <tr>\n",
       "      <th>25%</th>\n",
       "      <td>2016.000000</td>\n",
       "      <td>3.000000</td>\n",
       "      <td>0.000000</td>\n",
       "    </tr>\n",
       "    <tr>\n",
       "      <th>50%</th>\n",
       "      <td>2016.000000</td>\n",
       "      <td>5.000000</td>\n",
       "      <td>1.000000</td>\n",
       "    </tr>\n",
       "    <tr>\n",
       "      <th>75%</th>\n",
       "      <td>2017.000000</td>\n",
       "      <td>9.000000</td>\n",
       "      <td>1.000000</td>\n",
       "    </tr>\n",
       "    <tr>\n",
       "      <th>max</th>\n",
       "      <td>2018.000000</td>\n",
       "      <td>12.000000</td>\n",
       "      <td>4.000000</td>\n",
       "    </tr>\n",
       "  </tbody>\n",
       "</table>\n",
       "</div>"
      ],
      "text/plain": [
       "                year          month        digital\n",
       "count  191530.000000  191530.000000  193115.000000\n",
       "mean     2016.312374       5.723589       1.060435\n",
       "std         0.833314       3.467818       1.200331\n",
       "min      2000.000000       1.000000       0.000000\n",
       "25%      2016.000000       3.000000       0.000000\n",
       "50%      2016.000000       5.000000       1.000000\n",
       "75%      2017.000000       9.000000       1.000000\n",
       "max      2018.000000      12.000000       4.000000"
      ]
     },
     "execution_count": 6,
     "metadata": {},
     "output_type": "execute_result"
    }
   ],
   "source": [
    "# show descriptions\n",
    "all_news_df.describe()"
   ]
  },
  {
   "cell_type": "code",
   "execution_count": 7,
   "metadata": {},
   "outputs": [
    {
     "data": {
      "text/plain": [
       "index               0\n",
       "id                  0\n",
       "title               5\n",
       "author          54071\n",
       "date            34274\n",
       "content         37072\n",
       "year            34274\n",
       "month           34274\n",
       "publication     29384\n",
       "category        57091\n",
       "digital         32689\n",
       "section        151232\n",
       "url            127008\n",
       "dtype: int64"
      ]
     },
     "execution_count": 7,
     "metadata": {},
     "output_type": "execute_result"
    }
   ],
   "source": [
    "# determine number of nan\n",
    "all_news_df.isnull().sum()"
   ]
  },
  {
   "cell_type": "code",
   "execution_count": 8,
   "metadata": {},
   "outputs": [],
   "source": [
    "# remove articles that are nan\n",
    "all_news_df = all_news_df[pd.notnull(all_news_df['content'])]"
   ]
  },
  {
   "cell_type": "code",
   "execution_count": 9,
   "metadata": {},
   "outputs": [
    {
     "data": {
      "text/plain": [
       "index               0\n",
       "id                  0\n",
       "title               3\n",
       "author          19967\n",
       "date             4422\n",
       "content             0\n",
       "year             4422\n",
       "month            4422\n",
       "publication         4\n",
       "category        26607\n",
       "digital          3268\n",
       "section        117336\n",
       "url             97449\n",
       "dtype: int64"
      ]
     },
     "execution_count": 9,
     "metadata": {},
     "output_type": "execute_result"
    }
   ],
   "source": [
    "all_news_df.isnull().sum()"
   ]
  },
  {
   "cell_type": "code",
   "execution_count": 10,
   "metadata": {},
   "outputs": [
    {
     "data": {
      "image/png": "[encoded data removed]",
      "text/plain": [
       "<Figure size 720x360 with 1 Axes>"
      ]
     },
     "metadata": {
      "needs_background": "light"
     },
     "output_type": "display_data"
    },
    {
     "data": {
      "text/plain": [
       "<Figure size 432x288 with 0 Axes>"
      ]
     },
     "metadata": {},
     "output_type": "display_data"
    }
   ],
   "source": [
    "# plot histograms of data across publications\n",
    "\n",
    "plt.figure(figsize=(10,5));\n",
    "sns.countplot(all_news_df['publication'])\n",
    "plt.ylabel('N');\n",
    "sns.set_context('talk', font_scale=1.5);\n",
    "plt.xticks(rotation=90);\n",
    "plt.show();\n",
    "plt.clf();"
   ]
  },
  {
   "cell_type": "markdown",
   "metadata": {},
   "source": [
    "We see a decent distribution of data across news media organizations and also across the political spectrum."
   ]
  },
  {
   "cell_type": "code",
   "execution_count": 11,
   "metadata": {},
   "outputs": [
    {
     "data": {
      "image/png": "[encoded data removed]",
      "text/plain": [
       "<Figure size 720x360 with 1 Axes>"
      ]
     },
     "metadata": {
      "needs_background": "light"
     },
     "output_type": "display_data"
    },
    {
     "data": {
      "text/plain": [
       "<Figure size 432x288 with 0 Axes>"
      ]
     },
     "metadata": {},
     "output_type": "display_data"
    }
   ],
   "source": [
    "# plot histograms across year published\n",
    "\n",
    "plt.figure(figsize=(10,5));\n",
    "sns.countplot(all_news_df['year'])\n",
    "plt.ylabel('N');\n",
    "sns.set_context('talk', font_scale=1.5);\n",
    "plt.xticks(rotation=90);\n",
    "plt.yscale('log')\n",
    "plt.show();\n",
    "plt.clf()"
   ]
  },
  {
   "cell_type": "markdown",
   "metadata": {},
   "source": [
    "Articles are mostly from 2015 to 2018. There are some older articles. This may make topic modeling of older news difficult."
   ]
  },
  {
   "cell_type": "code",
   "execution_count": 12,
   "metadata": {},
   "outputs": [
    {
     "data": {
      "image/png": "[encoded data removed]",
      "text/plain": [
       "<Figure size 720x360 with 1 Axes>"
      ]
     },
     "metadata": {
      "needs_background": "light"
     },
     "output_type": "display_data"
    },
    {
     "data": {
      "text/plain": [
       "<Figure size 432x288 with 0 Axes>"
      ]
     },
     "metadata": {},
     "output_type": "display_data"
    }
   ],
   "source": [
    "# plot histograms across type/category of article\n",
    "\n",
    "plt.figure(figsize=(10,5));\n",
    "sns.countplot(all_news_df['category'])\n",
    "plt.ylabel('N');\n",
    "sns.set_context('talk', font_scale=1.5);\n",
    "plt.xticks(rotation=90);\n",
    "plt.yscale('log')\n",
    "plt.show();\n",
    "plt.clf()"
   ]
  },
  {
   "cell_type": "markdown",
   "metadata": {},
   "source": [
    "There are pletny of news paper articles. The radio component is interesting. What is that?"
   ]
  },
  {
   "cell_type": "code",
   "execution_count": 13,
   "metadata": {},
   "outputs": [
    {
     "data": {
      "text/html": [
       "<div>\n",
       "<style scoped>\n",
       "    .dataframe tbody tr th:only-of-type {\n",
       "        vertical-align: middle;\n",
       "    }\n",
       "\n",
       "    .dataframe tbody tr th {\n",
       "        vertical-align: top;\n",
       "    }\n",
       "\n",
       "    .dataframe thead th {\n",
       "        text-align: right;\n",
       "    }\n",
       "</style>\n",
       "<table border=\"1\" class=\"dataframe\">\n",
       "  <thead>\n",
       "    <tr style=\"text-align: right;\">\n",
       "      <th></th>\n",
       "      <th>index</th>\n",
       "      <th>id</th>\n",
       "      <th>title</th>\n",
       "      <th>author</th>\n",
       "      <th>date</th>\n",
       "      <th>content</th>\n",
       "      <th>year</th>\n",
       "      <th>month</th>\n",
       "      <th>publication</th>\n",
       "      <th>category</th>\n",
       "      <th>digital</th>\n",
       "      <th>section</th>\n",
       "      <th>url</th>\n",
       "    </tr>\n",
       "  </thead>\n",
       "  <tbody>\n",
       "    <tr>\n",
       "      <th>126586</th>\n",
       "      <td>126586</td>\n",
       "      <td>160641</td>\n",
       "      <td>Thanks To Russia, 2016 Isn't Really Going To E...</td>\n",
       "      <td>Ron Elving</td>\n",
       "      <td>2016-12-31</td>\n",
       "      <td>[In the Washington of 2016, even when the poli...</td>\n",
       "      <td>2016.0</td>\n",
       "      <td>12.0</td>\n",
       "      <td>NPR</td>\n",
       "      <td>radio</td>\n",
       "      <td>3.0</td>\n",
       "      <td>NaN</td>\n",
       "      <td>http://www.npr.org/2016/12/31/507596704/for-tr...</td>\n",
       "    </tr>\n",
       "    <tr>\n",
       "      <th>126587</th>\n",
       "      <td>126587</td>\n",
       "      <td>160642</td>\n",
       "      <td>Trump Tweets Give A Glimpse Into Foreign Polic...</td>\n",
       "      <td>Jessica Taylor</td>\n",
       "      <td>2016-12-28</td>\n",
       "      <td>[President-elect Donald Trump has used Twitter...</td>\n",
       "      <td>2016.0</td>\n",
       "      <td>12.0</td>\n",
       "      <td>NPR</td>\n",
       "      <td>radio</td>\n",
       "      <td>3.0</td>\n",
       "      <td>NaN</td>\n",
       "      <td>http://www.npr.org/2016/12/28/507284226/trump-...</td>\n",
       "    </tr>\n",
       "    <tr>\n",
       "      <th>126588</th>\n",
       "      <td>126588</td>\n",
       "      <td>160643</td>\n",
       "      <td>As U.S. Confronts Russia, Trump's Admiration O...</td>\n",
       "      <td>Arnie Seipel</td>\n",
       "      <td>2016-12-30</td>\n",
       "      <td>[President-elect Donald Trump is unabashedly p...</td>\n",
       "      <td>2016.0</td>\n",
       "      <td>12.0</td>\n",
       "      <td>NPR</td>\n",
       "      <td>radio</td>\n",
       "      <td>3.0</td>\n",
       "      <td>NaN</td>\n",
       "      <td>http://www.npr.org/2016/12/30/507584595/as-u-s...</td>\n",
       "    </tr>\n",
       "    <tr>\n",
       "      <th>126589</th>\n",
       "      <td>126589</td>\n",
       "      <td>160644</td>\n",
       "      <td>Putin Says Russia Won't Expel Diplomats In Res...</td>\n",
       "      <td>Camila Domonoske</td>\n",
       "      <td>2016-12-30</td>\n",
       "      <td>[Updated at 2:50 p.m. ET, Russian President Vl...</td>\n",
       "      <td>2016.0</td>\n",
       "      <td>12.0</td>\n",
       "      <td>NPR</td>\n",
       "      <td>radio</td>\n",
       "      <td>3.0</td>\n",
       "      <td>thetwo-way</td>\n",
       "      <td>http://www.npr.org/sections/thetwo-way/2016/12...</td>\n",
       "    </tr>\n",
       "    <tr>\n",
       "      <th>126590</th>\n",
       "      <td>126590</td>\n",
       "      <td>160645</td>\n",
       "      <td>(Some Of) Our Favorite Visual Stories of 2016</td>\n",
       "      <td>Ariel Zambelich</td>\n",
       "      <td>2016-12-31</td>\n",
       "      <td>[From photography, illustration and video, to ...</td>\n",
       "      <td>2016.0</td>\n",
       "      <td>12.0</td>\n",
       "      <td>NPR</td>\n",
       "      <td>radio</td>\n",
       "      <td>3.0</td>\n",
       "      <td>NaN</td>\n",
       "      <td>http://www.npr.org/2016/12/31/507590770/-some-...</td>\n",
       "    </tr>\n",
       "  </tbody>\n",
       "</table>\n",
       "</div>"
      ],
      "text/plain": [
       "         index      id                                              title  \\\n",
       "126586  126586  160641  Thanks To Russia, 2016 Isn't Really Going To E...   \n",
       "126587  126587  160642  Trump Tweets Give A Glimpse Into Foreign Polic...   \n",
       "126588  126588  160643  As U.S. Confronts Russia, Trump's Admiration O...   \n",
       "126589  126589  160644  Putin Says Russia Won't Expel Diplomats In Res...   \n",
       "126590  126590  160645      (Some Of) Our Favorite Visual Stories of 2016   \n",
       "\n",
       "                  author        date  \\\n",
       "126586        Ron Elving  2016-12-31   \n",
       "126587    Jessica Taylor  2016-12-28   \n",
       "126588      Arnie Seipel  2016-12-30   \n",
       "126589  Camila Domonoske  2016-12-30   \n",
       "126590   Ariel Zambelich  2016-12-31   \n",
       "\n",
       "                                                  content    year  month  \\\n",
       "126586  [In the Washington of 2016, even when the poli...  2016.0   12.0   \n",
       "126587  [President-elect Donald Trump has used Twitter...  2016.0   12.0   \n",
       "126588  [President-elect Donald Trump is unabashedly p...  2016.0   12.0   \n",
       "126589  [Updated at 2:50 p.m. ET, Russian President Vl...  2016.0   12.0   \n",
       "126590  [From photography, illustration and video, to ...  2016.0   12.0   \n",
       "\n",
       "       publication category  digital     section  \\\n",
       "126586         NPR    radio      3.0         NaN   \n",
       "126587         NPR    radio      3.0         NaN   \n",
       "126588         NPR    radio      3.0         NaN   \n",
       "126589         NPR    radio      3.0  thetwo-way   \n",
       "126590         NPR    radio      3.0         NaN   \n",
       "\n",
       "                                                      url  \n",
       "126586  http://www.npr.org/2016/12/31/507596704/for-tr...  \n",
       "126587  http://www.npr.org/2016/12/28/507284226/trump-...  \n",
       "126588  http://www.npr.org/2016/12/30/507584595/as-u-s...  \n",
       "126589  http://www.npr.org/sections/thetwo-way/2016/12...  \n",
       "126590  http://www.npr.org/2016/12/31/507590770/-some-...  "
      ]
     },
     "execution_count": 13,
     "metadata": {},
     "output_type": "execute_result"
    }
   ],
   "source": [
    "radio_news = all_news_df.loc[all_news_df['category'] == 'radio']\n",
    "\n",
    "radio_news.head()\n"
   ]
  },
  {
   "cell_type": "code",
   "execution_count": 14,
   "metadata": {},
   "outputs": [
    {
     "data": {
      "image/png": "[encoded data removed]",
      "text/plain": [
       "<Figure size 720x360 with 1 Axes>"
      ]
     },
     "metadata": {
      "needs_background": "light"
     },
     "output_type": "display_data"
    },
    {
     "data": {
      "text/plain": [
       "<Figure size 432x288 with 0 Axes>"
      ]
     },
     "metadata": {},
     "output_type": "display_data"
    }
   ],
   "source": [
    "plt.figure(figsize=(10,5));\n",
    "sns.countplot(radio_news['publication'])\n",
    "plt.ylabel('N');\n",
    "sns.set_context('talk', font_scale=1.5);\n",
    "plt.xticks(rotation=90);\n",
    "plt.show();\n",
    "plt.clf();"
   ]
  },
  {
   "cell_type": "markdown",
   "metadata": {},
   "source": [
    "The radio news is entirely \"NPR\". Interesting. Let's look at an article to get a sense of whether it is transcribed from an interview or an NPR news article."
   ]
  },
  {
   "cell_type": "code",
   "execution_count": 15,
   "metadata": {},
   "outputs": [
    {
     "data": {
      "text/plain": [
       "'[President-elect Donald Trump has used Twitter — his preferred means of communication — to weigh in on a swath of foreign policy issues over the past few weeks., His comments give a glimpse into how his incoming administration will deal with pressing foreign matters — but also highlight how reactionary comments on social media can immediately spur international concern and attention. And his staff has indicated that taking to Twitter to air his concerns or, often, grievances, won\\'t end once he enters the Oval Office., On Wednesday, Trump blasted the U.S.\\'s abstention from the U.N. Security Council vote on Israeli settlements earlier this month., , The tweets came just hours before Secretary of State John Kerry gave a speech defending the decision and calling the continued building of settlements on Palestinian territory in the West Bank a threat to the two-state solution in the region., Trump\\'s support for Israel and Prime Minister Benjamin Netanyahu — who has had a fraught relationship with President Obama — may be the biggest forthcoming shift in immediate foreign policy between the outgoing and incoming administrations. Throughout the campaign, he pledged that his administration would be a steadfast ally of Israel., To underscore that, Netanyahu replied to one of Trump\\'s morning tweets, thanking him — and also his children Donald Jr. and Ivanka, who are close advisers — for their support. Ivanka converted to Judaism when she married her husband, Jared Kushner., An Israeli official told CNN the government will give the Trump administration \"detailed, sensitive information\" proving that the U.S. worked to push through the resolution. The Obama administration has denied those claims., Last week, after the U.S. decided not to veto the resolution, Trump also tweeted that \"things will be different\" come his inauguration, and then on Monday he again blasted the U.N. as ineffective., The Israeli settlement issue has been at the forefront in recent days, but last week Trump also weighed in on nuclear issues. In a tweet, Trump called for the U.S. to strengthen its nuclear arsenal. MSNBC\\'s Morning Joe reported that the president-elect told them he wanted an \"arms race. We will outmatch them at every pass.\", As the Washington Post\\'s Dan Zak told NPR\\'s Robert Siegel on All Things Considered last Friday, Trump was inconsistent in his statements about nuclear weapons during the campaign., \"Trump said, you know, he\\'d be the last to use nuclear weapons. Nuclear weapons are a horror. He seemed to understand what they\\'re capable of doing,\" Zak said. \"At the same time, he said it was only a matter of time until countries like South Korea and Japan get nuclear weapons. He seemed to tacitly or not so tacitly endorse proliferation, again going against decades of international policy.\", Trump also slammed China for its seizure of an unmanned U.S. Navy underwater drone, calling it \"unpresidented\" in a tweet before correcting the typo in a new tweet., After talks with the Pentagon, China agreed to return the drone, but then Trump later said the country should keep it., It\\'s not the first time Trump has stoked tensions with China. In a stark break with protocol, Trump spoke on the phone with Taiwanese President Tsai Ing-wen earlier this month. Beijing considers Taiwan to be a renegade province and doesn\\'t recognize it, and most other countries don\\'t either. The U.S. has operated under a \"one China\" policy for more than four decades., Throughout the campaign, Trump blasted China for taking away U.S. jobs and claimed it was intentionally devaluing its currency to boost exports. He has blasted U.S. companies that manufacture goods in China, but as a New York Times story noted Wednesday morning, many of his daughter Ivanka\\'s clothing and shoe lines are made in China much of Trump\\'s own apparel line is also made overseas, including in China.]'"
      ]
     },
     "execution_count": 15,
     "metadata": {},
     "output_type": "execute_result"
    }
   ],
   "source": [
    "radio_news.iloc[1,5]"
   ]
  },
  {
   "cell_type": "markdown",
   "metadata": {},
   "source": [
    "Is this transcribed from a radio recording or a news article from NPR? A quick Google search verifies it is a news article. I think it is certainly okay to include this."
   ]
  },
  {
   "cell_type": "code",
   "execution_count": 16,
   "metadata": {},
   "outputs": [
    {
     "data": {
      "text/html": [
       "<div>\n",
       "<style scoped>\n",
       "    .dataframe tbody tr th:only-of-type {\n",
       "        vertical-align: middle;\n",
       "    }\n",
       "\n",
       "    .dataframe tbody tr th {\n",
       "        vertical-align: top;\n",
       "    }\n",
       "\n",
       "    .dataframe thead th {\n",
       "        text-align: right;\n",
       "    }\n",
       "</style>\n",
       "<table border=\"1\" class=\"dataframe\">\n",
       "  <thead>\n",
       "    <tr style=\"text-align: right;\">\n",
       "      <th></th>\n",
       "      <th>index</th>\n",
       "      <th>id</th>\n",
       "      <th>title</th>\n",
       "      <th>author</th>\n",
       "      <th>date</th>\n",
       "      <th>content</th>\n",
       "      <th>year</th>\n",
       "      <th>month</th>\n",
       "      <th>publication</th>\n",
       "      <th>category</th>\n",
       "      <th>digital</th>\n",
       "      <th>section</th>\n",
       "      <th>url</th>\n",
       "      <th>article_length</th>\n",
       "    </tr>\n",
       "  </thead>\n",
       "  <tbody>\n",
       "    <tr>\n",
       "      <th>0</th>\n",
       "      <td>0</td>\n",
       "      <td>1</td>\n",
       "      <td>Agent Cooper in Twin Peaks is the audience: on...</td>\n",
       "      <td>\\nTasha Robinson\\n</td>\n",
       "      <td>2017-05-31</td>\n",
       "      <td>And never more so than in Showtime’s new...</td>\n",
       "      <td>2017.0</td>\n",
       "      <td>5.0</td>\n",
       "      <td>Verge</td>\n",
       "      <td>Longform</td>\n",
       "      <td>1.0</td>\n",
       "      <td>NaN</td>\n",
       "      <td>NaN</td>\n",
       "      <td>2121</td>\n",
       "    </tr>\n",
       "    <tr>\n",
       "      <th>1</th>\n",
       "      <td>1</td>\n",
       "      <td>2</td>\n",
       "      <td>AI, the humanity!</td>\n",
       "      <td>\\nSam Byford\\n</td>\n",
       "      <td>2017-05-30</td>\n",
       "      <td>AlphaGo’s victory isn’t a defeat for hum...</td>\n",
       "      <td>2017.0</td>\n",
       "      <td>5.0</td>\n",
       "      <td>Verge</td>\n",
       "      <td>Longform</td>\n",
       "      <td>1.0</td>\n",
       "      <td>NaN</td>\n",
       "      <td>NaN</td>\n",
       "      <td>1948</td>\n",
       "    </tr>\n",
       "    <tr>\n",
       "      <th>2</th>\n",
       "      <td>2</td>\n",
       "      <td>3</td>\n",
       "      <td>The Viral Machine</td>\n",
       "      <td>\\nKaitlyn Tiffany\\n</td>\n",
       "      <td>2017-05-25</td>\n",
       "      <td>Super Deluxe built a weird internet empi...</td>\n",
       "      <td>2017.0</td>\n",
       "      <td>5.0</td>\n",
       "      <td>Verge</td>\n",
       "      <td>Longform</td>\n",
       "      <td>1.0</td>\n",
       "      <td>NaN</td>\n",
       "      <td>NaN</td>\n",
       "      <td>3011</td>\n",
       "    </tr>\n",
       "    <tr>\n",
       "      <th>3</th>\n",
       "      <td>3</td>\n",
       "      <td>4</td>\n",
       "      <td>How Anker is beating Apple and Samsung at thei...</td>\n",
       "      <td>\\nNick Statt\\n</td>\n",
       "      <td>2017-05-22</td>\n",
       "      <td>Steven Yang quit his job at Google in th...</td>\n",
       "      <td>2017.0</td>\n",
       "      <td>5.0</td>\n",
       "      <td>Verge</td>\n",
       "      <td>Longform</td>\n",
       "      <td>1.0</td>\n",
       "      <td>NaN</td>\n",
       "      <td>NaN</td>\n",
       "      <td>3281</td>\n",
       "    </tr>\n",
       "    <tr>\n",
       "      <th>4</th>\n",
       "      <td>4</td>\n",
       "      <td>5</td>\n",
       "      <td>Tour Black Panther’s reimagined homeland with ...</td>\n",
       "      <td>\\nKwame Opam\\n</td>\n",
       "      <td>2017-05-15</td>\n",
       "      <td>Ahead of Black Panther’s 2018 theatrical...</td>\n",
       "      <td>2017.0</td>\n",
       "      <td>5.0</td>\n",
       "      <td>Verge</td>\n",
       "      <td>Longform</td>\n",
       "      <td>1.0</td>\n",
       "      <td>NaN</td>\n",
       "      <td>NaN</td>\n",
       "      <td>239</td>\n",
       "    </tr>\n",
       "  </tbody>\n",
       "</table>\n",
       "</div>"
      ],
      "text/plain": [
       "  index id                                              title  \\\n",
       "0     0  1  Agent Cooper in Twin Peaks is the audience: on...   \n",
       "1     1  2                                  AI, the humanity!   \n",
       "2     2  3                                  The Viral Machine   \n",
       "3     3  4  How Anker is beating Apple and Samsung at thei...   \n",
       "4     4  5  Tour Black Panther’s reimagined homeland with ...   \n",
       "\n",
       "                author        date  \\\n",
       "0   \\nTasha Robinson\\n  2017-05-31   \n",
       "1       \\nSam Byford\\n  2017-05-30   \n",
       "2  \\nKaitlyn Tiffany\\n  2017-05-25   \n",
       "3       \\nNick Statt\\n  2017-05-22   \n",
       "4       \\nKwame Opam\\n  2017-05-15   \n",
       "\n",
       "                                             content    year  month  \\\n",
       "0        And never more so than in Showtime’s new...  2017.0    5.0   \n",
       "1        AlphaGo’s victory isn’t a defeat for hum...  2017.0    5.0   \n",
       "2        Super Deluxe built a weird internet empi...  2017.0    5.0   \n",
       "3        Steven Yang quit his job at Google in th...  2017.0    5.0   \n",
       "4        Ahead of Black Panther’s 2018 theatrical...  2017.0    5.0   \n",
       "\n",
       "  publication  category  digital section  url  article_length  \n",
       "0       Verge  Longform      1.0     NaN  NaN            2121  \n",
       "1       Verge  Longform      1.0     NaN  NaN            1948  \n",
       "2       Verge  Longform      1.0     NaN  NaN            3011  \n",
       "3       Verge  Longform      1.0     NaN  NaN            3281  \n",
       "4       Verge  Longform      1.0     NaN  NaN             239  "
      ]
     },
     "execution_count": 16,
     "metadata": {},
     "output_type": "execute_result"
    }
   ],
   "source": [
    "# let's look at the lengths of the articles in words. first compute their lengths\n",
    "all_news_df['article_length'] = all_news_df.apply(lambda x: len(x['content'].split(' ')),axis=1)\n",
    "all_news_df.head()"
   ]
  },
  {
   "cell_type": "code",
   "execution_count": 17,
   "metadata": {},
   "outputs": [
    {
     "data": {
      "image/png": "[encoded data removed]",
      "text/plain": [
       "<Figure size 720x360 with 1 Axes>"
      ]
     },
     "metadata": {
      "needs_background": "light"
     },
     "output_type": "display_data"
    },
    {
     "data": {
      "text/plain": [
       "<Figure size 432x288 with 0 Axes>"
      ]
     },
     "metadata": {},
     "output_type": "display_data"
    }
   ],
   "source": [
    "plt.figure(figsize=(10,5));\n",
    "sns.distplot(all_news_df['article_length'],kde=False,bins=np.arange(0,10000,10))\n",
    "plt.ylabel('N');\n",
    "sns.set_context('talk', font_scale=1.5);\n",
    "plt.xticks(rotation=90);\n",
    "plt.xscale('log')\n",
    "plt.show();\n",
    "plt.clf()"
   ]
  },
  {
   "cell_type": "markdown",
   "metadata": {},
   "source": [
    "There are many short articles. I think it is fair to remove the shortest ones. We will choose a cut off of 50 words to\n",
    "keep some shorter articles."
   ]
  },
  {
   "cell_type": "code",
   "execution_count": 18,
   "metadata": {},
   "outputs": [],
   "source": [
    "all_news_df = all_news_df.loc[all_news_df['article_length'] > 50]"
   ]
  },
  {
   "cell_type": "code",
   "execution_count": 19,
   "metadata": {},
   "outputs": [
    {
     "data": {
      "image/png": "[encoded data removed]",
      "text/plain": [
       "<Figure size 720x360 with 1 Axes>"
      ]
     },
     "metadata": {
      "needs_background": "light"
     },
     "output_type": "display_data"
    },
    {
     "data": {
      "text/plain": [
       "<Figure size 432x288 with 0 Axes>"
      ]
     },
     "metadata": {},
     "output_type": "display_data"
    }
   ],
   "source": [
    "plt.figure(figsize=(10,5));\n",
    "sns.distplot(all_news_df['article_length'],kde=False,bins=np.arange(0,10000,10))\n",
    "plt.ylabel('N');\n",
    "sns.set_context('talk', font_scale=1.5);\n",
    "plt.xticks(rotation=90);\n",
    "plt.xscale('log')\n",
    "plt.show();\n",
    "plt.clf()"
   ]
  },
  {
   "cell_type": "markdown",
   "metadata": {},
   "source": [
    "This looks like a reasonable distribution of articles to work with as the corpus."
   ]
  },
  {
   "cell_type": "code",
   "execution_count": 20,
   "metadata": {},
   "outputs": [
    {
     "data": {
      "text/plain": [
       "(182636,)"
      ]
     },
     "execution_count": 20,
     "metadata": {},
     "output_type": "execute_result"
    }
   ],
   "source": [
    "all_news_df['content'].shape"
   ]
  },
  {
   "cell_type": "markdown",
   "metadata": {},
   "source": [
    "There are ~180,000 articles in this final article corpus. Save it to a csv."
   ]
  },
  {
   "cell_type": "code",
   "execution_count": 21,
   "metadata": {},
   "outputs": [],
   "source": [
    "all_news_df.to_csv('./all_the_news/all_news_df_processed.csv', index_label='index')"
   ]
  },
  {
   "cell_type": "markdown",
   "metadata": {},
   "source": [
    "### testing single document lda on these articles"
   ]
  },
  {
   "cell_type": "code",
   "execution_count": 12,
   "metadata": {},
   "outputs": [
    {
     "name": "stderr",
     "output_type": "stream",
     "text": [
      "/Users/sagarsetru/anaconda3/envs/debiaser/lib/python3.7/site-packages/IPython/core/interactiveshell.py:3146: DtypeWarning: Columns (12,13) have mixed types.Specify dtype option on import or set low_memory=False.\n",
      "  interactivity=interactivity, compiler=compiler, result=result)\n"
     ]
    },
    {
     "data": {
      "text/html": [
       "<div>\n",
       "<style scoped>\n",
       "    .dataframe tbody tr th:only-of-type {\n",
       "        vertical-align: middle;\n",
       "    }\n",
       "\n",
       "    .dataframe tbody tr th {\n",
       "        vertical-align: top;\n",
       "    }\n",
       "\n",
       "    .dataframe thead th {\n",
       "        text-align: right;\n",
       "    }\n",
       "</style>\n",
       "<table border=\"1\" class=\"dataframe\">\n",
       "  <thead>\n",
       "    <tr style=\"text-align: right;\">\n",
       "      <th></th>\n",
       "      <th>index</th>\n",
       "      <th>index.1</th>\n",
       "      <th>id</th>\n",
       "      <th>title</th>\n",
       "      <th>author</th>\n",
       "      <th>date</th>\n",
       "      <th>content</th>\n",
       "      <th>year</th>\n",
       "      <th>month</th>\n",
       "      <th>publication</th>\n",
       "      <th>category</th>\n",
       "      <th>digital</th>\n",
       "      <th>section</th>\n",
       "      <th>url</th>\n",
       "      <th>article_length</th>\n",
       "    </tr>\n",
       "  </thead>\n",
       "  <tbody>\n",
       "    <tr>\n",
       "      <th>0</th>\n",
       "      <td>0</td>\n",
       "      <td>0</td>\n",
       "      <td>1</td>\n",
       "      <td>Agent Cooper in Twin Peaks is the audience: on...</td>\n",
       "      <td>\\nTasha Robinson\\n</td>\n",
       "      <td>2017-05-31</td>\n",
       "      <td>And never more so than in Showtime’s new...</td>\n",
       "      <td>2017.0</td>\n",
       "      <td>5.0</td>\n",
       "      <td>Verge</td>\n",
       "      <td>Longform</td>\n",
       "      <td>1.0</td>\n",
       "      <td>NaN</td>\n",
       "      <td>NaN</td>\n",
       "      <td>2121</td>\n",
       "    </tr>\n",
       "    <tr>\n",
       "      <th>1</th>\n",
       "      <td>1</td>\n",
       "      <td>1</td>\n",
       "      <td>2</td>\n",
       "      <td>AI, the humanity!</td>\n",
       "      <td>\\nSam Byford\\n</td>\n",
       "      <td>2017-05-30</td>\n",
       "      <td>AlphaGo’s victory isn’t a defeat for hum...</td>\n",
       "      <td>2017.0</td>\n",
       "      <td>5.0</td>\n",
       "      <td>Verge</td>\n",
       "      <td>Longform</td>\n",
       "      <td>1.0</td>\n",
       "      <td>NaN</td>\n",
       "      <td>NaN</td>\n",
       "      <td>1948</td>\n",
       "    </tr>\n",
       "    <tr>\n",
       "      <th>2</th>\n",
       "      <td>2</td>\n",
       "      <td>2</td>\n",
       "      <td>3</td>\n",
       "      <td>The Viral Machine</td>\n",
       "      <td>\\nKaitlyn Tiffany\\n</td>\n",
       "      <td>2017-05-25</td>\n",
       "      <td>Super Deluxe built a weird internet empi...</td>\n",
       "      <td>2017.0</td>\n",
       "      <td>5.0</td>\n",
       "      <td>Verge</td>\n",
       "      <td>Longform</td>\n",
       "      <td>1.0</td>\n",
       "      <td>NaN</td>\n",
       "      <td>NaN</td>\n",
       "      <td>3011</td>\n",
       "    </tr>\n",
       "    <tr>\n",
       "      <th>3</th>\n",
       "      <td>3</td>\n",
       "      <td>3</td>\n",
       "      <td>4</td>\n",
       "      <td>How Anker is beating Apple and Samsung at thei...</td>\n",
       "      <td>\\nNick Statt\\n</td>\n",
       "      <td>2017-05-22</td>\n",
       "      <td>Steven Yang quit his job at Google in th...</td>\n",
       "      <td>2017.0</td>\n",
       "      <td>5.0</td>\n",
       "      <td>Verge</td>\n",
       "      <td>Longform</td>\n",
       "      <td>1.0</td>\n",
       "      <td>NaN</td>\n",
       "      <td>NaN</td>\n",
       "      <td>3281</td>\n",
       "    </tr>\n",
       "    <tr>\n",
       "      <th>4</th>\n",
       "      <td>4</td>\n",
       "      <td>4</td>\n",
       "      <td>5</td>\n",
       "      <td>Tour Black Panther’s reimagined homeland with ...</td>\n",
       "      <td>\\nKwame Opam\\n</td>\n",
       "      <td>2017-05-15</td>\n",
       "      <td>Ahead of Black Panther’s 2018 theatrical...</td>\n",
       "      <td>2017.0</td>\n",
       "      <td>5.0</td>\n",
       "      <td>Verge</td>\n",
       "      <td>Longform</td>\n",
       "      <td>1.0</td>\n",
       "      <td>NaN</td>\n",
       "      <td>NaN</td>\n",
       "      <td>239</td>\n",
       "    </tr>\n",
       "  </tbody>\n",
       "</table>\n",
       "</div>"
      ],
      "text/plain": [
       "   index  index.1  id                                              title  \\\n",
       "0      0        0   1  Agent Cooper in Twin Peaks is the audience: on...   \n",
       "1      1        1   2                                  AI, the humanity!   \n",
       "2      2        2   3                                  The Viral Machine   \n",
       "3      3        3   4  How Anker is beating Apple and Samsung at thei...   \n",
       "4      4        4   5  Tour Black Panther’s reimagined homeland with ...   \n",
       "\n",
       "                author        date  \\\n",
       "0   \\nTasha Robinson\\n  2017-05-31   \n",
       "1       \\nSam Byford\\n  2017-05-30   \n",
       "2  \\nKaitlyn Tiffany\\n  2017-05-25   \n",
       "3       \\nNick Statt\\n  2017-05-22   \n",
       "4       \\nKwame Opam\\n  2017-05-15   \n",
       "\n",
       "                                             content    year  month  \\\n",
       "0        And never more so than in Showtime’s new...  2017.0    5.0   \n",
       "1        AlphaGo’s victory isn’t a defeat for hum...  2017.0    5.0   \n",
       "2        Super Deluxe built a weird internet empi...  2017.0    5.0   \n",
       "3        Steven Yang quit his job at Google in th...  2017.0    5.0   \n",
       "4        Ahead of Black Panther’s 2018 theatrical...  2017.0    5.0   \n",
       "\n",
       "  publication  category  digital section  url  article_length  \n",
       "0       Verge  Longform      1.0     NaN  NaN            2121  \n",
       "1       Verge  Longform      1.0     NaN  NaN            1948  \n",
       "2       Verge  Longform      1.0     NaN  NaN            3011  \n",
       "3       Verge  Longform      1.0     NaN  NaN            3281  \n",
       "4       Verge  Longform      1.0     NaN  NaN             239  "
      ]
     },
     "execution_count": 12,
     "metadata": {},
     "output_type": "execute_result"
    }
   ],
   "source": [
    "import pandas as pd\n",
    "import numpy as np\n",
    "import matplotlib.pyplot as plt\n",
    "import seaborn as sns\n",
    "import os\n",
    "\n",
    "all_news_df = pd.read_csv('./all_the_news/all_news_df_processed.csv')\n",
    "all_news_df.head()"
   ]
  },
  {
   "cell_type": "code",
   "execution_count": 3,
   "metadata": {},
   "outputs": [],
   "source": [
    "# NLP Packages\n",
    "import spacy\n",
    "nlp  = spacy.load('en_core_web_sm')\n",
    "\n",
    "from gensim.corpora import Dictionary\n",
    "from gensim.models import LdaModel\n",
    "from gensim.utils import simple_preprocess\n",
    "\n",
    "# to break articles up into sentences\n",
    "from nltk import tokenize\n",
    "\n",
    "import string\n",
    "\n",
    "# for counting frequency of words\n",
    "from collections import defaultdict\n",
    "\n",
    "import spacy\n",
    "nlp  = spacy.load('en_core_web_sm')\n",
    "\n",
    "import pyLDAvis\n",
    "import pyLDAvis.gensim\n",
    "\n",
    "from googlesearch import search"
   ]
  },
  {
   "cell_type": "code",
   "execution_count": 4,
   "metadata": {},
   "outputs": [
    {
     "name": "stderr",
     "output_type": "stream",
     "text": [
      "/Users/sagarsetru/anaconda3/envs/debiaser/lib/python3.7/site-packages/ipykernel/ipkernel.py:287: DeprecationWarning: `should_run_async` will not call `transform_cell` automatically in the future. Please pass the result to `transformed_cell` argument and any exception that happen during thetransform in `preprocessing_exc_tuple` in IPython 7.17 and above.\n",
      "  and should_run_async(code)\n"
     ]
    }
   ],
   "source": [
    "import json"
   ]
  },
  {
   "cell_type": "code",
   "execution_count": 5,
   "metadata": {},
   "outputs": [
    {
     "name": "stderr",
     "output_type": "stream",
     "text": [
      "/Users/sagarsetru/anaconda3/envs/debiaser/lib/python3.7/site-packages/ipykernel/ipkernel.py:287: DeprecationWarning: `should_run_async` will not call `transform_cell` automatically in the future. Please pass the result to `transformed_cell` argument and any exception that happen during thetransform in `preprocessing_exc_tuple` in IPython 7.17 and above.\n",
      "  and should_run_async(code)\n"
     ]
    }
   ],
   "source": [
    "# del process_all_articles\n",
    "from text_processing_functions import process_all_articles, remove_stopwords"
   ]
  },
  {
   "cell_type": "code",
   "execution_count": 6,
   "metadata": {},
   "outputs": [],
   "source": [
    "# del process_all_articles\n",
    "# process_all_articles"
   ]
  },
  {
   "cell_type": "code",
   "execution_count": 7,
   "metadata": {},
   "outputs": [],
   "source": [
    "def load_stop_words_csv_to_list(full_file_name):\n",
    "    \"\"\"fxn that loads stop words list downloaded from git repo called 'news-stopwords'\"\"\"\n",
    "    \n",
    "    stop_words = pd.read_csv(full_file_name)\n",
    "\n",
    "    stop_words = stop_words['term']\n",
    "\n",
    "    stop_words = [word for word in stop_words]\n",
    "    \n",
    "    return stop_words"
   ]
  },
  {
   "cell_type": "code",
   "execution_count": 8,
   "metadata": {},
   "outputs": [],
   "source": [
    "def lemmatize(raw_texts,nlp):\n",
    "\n",
    "    'Function that lemmatizes text'\n",
    "\n",
    "    out_text = []\n",
    "    \n",
    "    for text in raw_texts:\n",
    "        doc = nlp(text)\n",
    "\n",
    "\n",
    "        #Remove stopwords and lemmatize\n",
    "        tokens = [token.lemma_ for token in doc]\n",
    "        \n",
    "        out_text.append(tokens)\n",
    "    \n",
    "    return out_text"
   ]
  },
  {
   "cell_type": "code",
   "execution_count": 9,
   "metadata": {},
   "outputs": [],
   "source": [
    "def get_simple_corpus_dictionary_bow(texts,word_frequency_threshold):\n",
    "    \"\"\"fxn returns corpus, proc. dict, bag of words\"\"\"\n",
    "    \n",
    "    # Count word frequencies\n",
    "    frequency = defaultdict(int)\n",
    "    for text in texts:\n",
    "        for token in text:\n",
    "            frequency[token] += 1\n",
    "\n",
    "    # Only keep words that appear more than set frequency, to produce the corpus\n",
    "    processed_corpus = [[token for token in text if frequency[token] > word_frequency_threshold] for text in texts]\n",
    "    \n",
    "    # generate a dictionary via gensim\n",
    "    processed_dictionary = Dictionary(processed_corpus)\n",
    "    \n",
    "    # generate bag of words of the corpus\n",
    "    bow_corpus = [processed_dictionary.doc2bow(text) for text in processed_corpus]\n",
    "    \n",
    "    return processed_corpus, processed_dictionary, bow_corpus"
   ]
  },
  {
   "cell_type": "code",
   "execution_count": 10,
   "metadata": {},
   "outputs": [],
   "source": [
    "def sort_topics_mean_frequency(topics,topics_mean_probs_dict,topics_std_probs_dict,topics_frequency_dict):\n",
    "    \"\"\"fxn returns topics sorted by their mean probability and frequency. also returns std dev of prob\"\"\"\n",
    "    \n",
    "    # empty dict for topics\n",
    "    x_topics = []\n",
    "    \n",
    "    # to store mean probs\n",
    "    y_means = np.zeros((len(topics_mean_probs_dict)))\n",
    "    \n",
    "    # to store std dev probs\n",
    "    y_std = np.zeros((len(topics_std_probs_dict)))\n",
    "    \n",
    "    # to store frequency of topic\n",
    "    y_frequencies = np.zeros((len(topics_frequency_dict)))\n",
    "\n",
    "    # measure mean probs\n",
    "    counter = -1\n",
    "    for topics, mean_prob in topics_mean_probs_dict.items():\n",
    "        counter += 1\n",
    "        x_topics.append(topics)\n",
    "        y_means[counter] = mean_prob\n",
    "\n",
    "    # measure std dev probs\n",
    "    counter2 = -1\n",
    "    for topics, frequency in topics_frequency_dict.items():\n",
    "        counter2 += 1\n",
    "        y_frequencies[counter2] = frequency\n",
    "\n",
    "    # measure frequency topic shows up\n",
    "    counter3 = -1\n",
    "    for topics, std in topics_std_probs_dict.items():\n",
    "        counter3 += 1\n",
    "        y_std[counter3] = std\n",
    "\n",
    "    # sort by mean and frequency\n",
    "\n",
    "    zipped_mean = zip(y_means, x_topics)\n",
    "    sorted_zipped_mean = sorted(zipped_mean)\n",
    "    y_means_sorted = [element1 for element1,element2 in sorted_zipped_mean]\n",
    "    y_means_sorted = y_means_sorted[::-1]\n",
    "    x_topics_means = [element2 for element1,element2 in sorted_zipped_mean]\n",
    "    x_topics_means = x_topics_means[::-1]\n",
    "\n",
    "    zipped_mean_std = zip(y_means,y_std)\n",
    "    sorted_zipped_mean_std = sorted(zipped_mean_std)\n",
    "    y_std_sorted = [element2 for element1,element2 in sorted_zipped_mean_std]\n",
    "    y_std_sorted = y_std_sorted[::-1]\n",
    "\n",
    "    zipped_freq = zip(y_frequencies,x_topics)\n",
    "    sorted_zipped_freq = sorted(zipped_freq)\n",
    "    y_freq_sorted = [element1 for (element1,element2) in sorted_zipped_freq]\n",
    "    y_freq_sorted = y_freq_sorted[::-1]\n",
    "    x_topics_freq = [element2 for element1,element2 in sorted_zipped_freq]\n",
    "    x_topics_freq = x_topics_freq[::-1]\n",
    "    \n",
    "    return x_topics_means, y_means_sorted, y_std_sorted, x_topics_freq, y_freq_sorted"
   ]
  },
  {
   "cell_type": "code",
   "execution_count": 13,
   "metadata": {},
   "outputs": [],
   "source": [
    "# choose list of stop words\n",
    "\n",
    "# choose whether 1k, 10k, 100k, or nltk\n",
    "which_stop_words = '1k'\n",
    "# which_stop_words = '10k'\n",
    "# which_stop_words = '100k'\n",
    "# which_stop_words = 'nltk'\n",
    "\n",
    "stop_words_path = '/Users/sagarsetru/Documents/post PhD positions search/insightDataScience/project/debiaser/stop_words_db/news-stopwords-master/'\n",
    "\n",
    "\n",
    "if which_stop_words == '1k':\n",
    "    \n",
    "    # doing 1k words list\n",
    "    stop_words_file_name = 'sw1k.csv'\n",
    "    \n",
    "    # make full file name\n",
    "    stop_words_full_file_name = stop_words_path+stop_words_file_name\n",
    "    \n",
    "    # get list of stop words\n",
    "    stop_words = load_stop_words_csv_to_list(stop_words_full_file_name)\n",
    "    \n",
    "elif which_stop_words == '10k':\n",
    "    \n",
    "    # doing 10k words list\n",
    "    stop_words_file_name = 'sw10k.csv'\n",
    "\n",
    "    # make full file name\n",
    "    stop_words_full_file_name = stop_words_path+stop_words_file_name\n",
    "    \n",
    "    # get list of stop words\n",
    "    stop_words = load_stop_words_csv_to_list(stop_words_full_file_name)\n",
    "\n",
    "elif which_stop_words == '100k':\n",
    "    \n",
    "    # doing 100k\n",
    "    stop_words_file_name = 'sw100k.csv'  \n",
    "    \n",
    "    # get full file name\n",
    "    stop_words_full_file_name = stop_words_path+stop_words_file_name\n",
    "    \n",
    "    # get list of stop words\n",
    "    stop_words = load_stop_words_csv_to_list(stop_words_full_file_name)\n",
    "\n",
    "\n",
    "elif which_stop_words == 'nltk':\n",
    "    # import from nltk\n",
    "    from nltk.corpus import stopwords\n",
    "    \n",
    "    stop_words = stopwords.words('english')\n",
    "    \n",
    "else:\n",
    "    print('Select proper variable name for \"which_stop_words\"')\n",
    "    \n",
    "# adding custom words\n",
    "stop_words.append('said')\n",
    "stop_words.append('youre')"
   ]
  },
  {
   "cell_type": "code",
   "execution_count": 14,
   "metadata": {},
   "outputs": [],
   "source": [
    "# get a random sampling of these articles for testing single document lda\n",
    "\n",
    "n_sample = 10\n",
    "\n",
    "articles_df_random_subset = all_news_df.sample(n=n_sample)"
   ]
  },
  {
   "cell_type": "code",
   "execution_count": 15,
   "metadata": {},
   "outputs": [],
   "source": [
    "# del preprocess_spacy"
   ]
  },
  {
   "cell_type": "code",
   "execution_count": 16,
   "metadata": {},
   "outputs": [],
   "source": [
    "def entity_recognizer(raw_text,nlp):\n",
    "    \"\"\"Function that recognizes specific entitites, returns dictionary of them\"\"\"\n",
    "\n",
    "    doc = nlp(raw_text)\n",
    "    \n",
    "    entity_dict = {}\n",
    "    \n",
    "    word_types = ['DATE', 'PERSON', 'ORG','MONEY','GPE']\n",
    "    \n",
    "    for word_type in word_types:\n",
    "        entity_dict[word_type] = [entity.text for entity in doc.ents if entity.label_ in {word_type}]\n",
    "#         entity_dict['PERSON'] = [entity.text for entity in doc.ents if entity.label_ in {'PERSON'}]\n",
    "    \n",
    "    #Remove organizations and people from documnet text\n",
    "#     tokens_ner = [entity.text for entity in doc.ents if entity.label_ in {'DATE', 'PERSON', 'ORG','MONEY','GPE'}]\n",
    "    \n",
    "    return entity_dict"
   ]
  },
  {
   "cell_type": "code",
   "execution_count": 17,
   "metadata": {},
   "outputs": [
    {
     "name": "stdout",
     "output_type": "stream",
     "text": [
      "[The main site for Archive Team is at archiveteam.org and contains up to the date information on various projects, manifestos, plans and walkthroughs., This collection contains the output of many Archive Team projects, both ongoing and completed. Thanks to the generous providing of disk space by the Internet Archive, multi-terabyte datasets can be made available, as well as in use by the Wayback Machine, providing a path back to lost websites and work. , Our collection has grown to the point of having sub-collections for the type of data we acquire. If you are seeking to browse the contents of these collections, the Wayback Machine is the best first stop. Otherwise, you are free to dig into the stacks to see what you may find., The Archive Team Panic Downloads are full pulldowns of currently extant websites, meant to serve as emergency backups for needed sites that are in danger of closing, or which will be missed dearly if suddenly lost due to hard drive crashes or server failures. , , Try two trial issues of The Atlantic with our compliments., Readers recommend their favorites. Submit your own—especially if the cover goes across genres—via hello@theatlantic.com, and please include a short description of why you love it so much., Sarah G. is a big fan of the cover series:, I’ve been following it intermittently for a while now, especially when I need a break from political coverage. It first caught my eye when you featured Richard Thompson, [who also sang] “1952 Vincent Black Lightning.” I had just shared that video, again, on Facebook, and friends were certain that I had suggested it. But I digress., Covers of songs—sometimes they are great, sometimes they are terrible. Pearl Jam has covered so many songs that I could spend all day just talking about and listening to their covers. Scrolling through the archive, I thought first of Jeff Buckley, which of course led me to think about I’m Your Fan, a compilation of Leonard Cohen covers by various artists. [CB: There’s another compilation of Cohen covers, I’m Your Man, which I bought after seeing the 2005 documentary of the same name, and two of its best covers are Rufus Wainwright’s “Chelsea Hotel #2” and Antony Hegarty’s “If It Be Your Will.”], But I think I’ll take this opportunity to show some love to The Church’s album of covers from 1999, A Box of Birds. They cover the Monkees, the Beatles, Ultravox, and Neil Young, among others. I enjoyed the eclectic song selection and the hints at the band’s sense of humor and fun. Some of the tracks are faithful to the originals, others are uniquely The Church. Here’s their cover of Neil Young’s “Cortez the Killer” in all of its trippy glory., , (Submit a cover via hello@. Track of the Day archive here. Pre-Notes archive here.), , This reader, Richard, lets the cynicism melt away:, I am the type of person that doesn’t think TV soap operas are cool. I certainly disapprove of “kiddy country” acts. I also like to think that I don’t go for over-produced, artfully designed to tug-at-your-heartstrings music or video., But I love this video of two young girls singing a Lumineers song on an extremely soapy network TV show, Nashville. So sue me., (Submit a cover via hello@. Track of the Day archive here. Pre-Notes archive here.), , Amy Jones, the reader who sent the creepy cover of Blondie’s “One Way or Another,” serves up another great one:, After his 2013 album For Now I Am Winter, Bafta award-winning artist Ólafur Arnalds collaborated with vocalist Arnor Dan, with whom he also performed on the Broadchurch soundtrack. Most of Arnalds’ music is classified as “neo-classical,” and though Destiny’s Child may seem a strange choice for such an artist, his cover of “Say My Name” emphasizes the desperation in the lyrics with slow, lush strings and somber acoustic piano., (Submit a cover via hello@. Track of the Day archive here. Pre-Notes archive here.), , A reader in London, David Durant, takes out the cowbell but adds a lot more:, Without doubt, my favourite totally transformed cover song is Apollo 440’s version of the classic Blue Oyster Cult 1976 hit “Don’t Fear the Reaper.” (The Bangles cover of Simon and Garfunkel’s “Hazy Shade of Winter” is also awesome, but Apollo 440 takes the crown here.) I love the way the timeless smoothness of Blue Oyster Cult’s lyrics remains in place but is enhanced by the high energy of a rhythm section. This is what I want played at my funeral., (Submit your own via hello@. Track of the Day archive here. Pre-Notes archive here.), , A reader in Mississippi, Amy Jones, recommends a cover that really brings out the creepiness of the lyrics:, An episode of the American drama series Stalker highlighted the cover of Blondie’s hit in its fifth episode, though I first stumbled upon it via Spotify. I try not to look at my phone while driving, but I had to glance down to check if this was a cover of that old song I had never thought much about but dismissed as silly., The band, Until the Ribbon Breaks, describes their style as one that “blends genres like electronic, pop, rock, and hip-hop … with a sharp alternative edge.” Their cover of “One Way or Another” certainly fits that description, with soft beats underlying harmonies with just enough dissonance to be beautiful but interesting. My favorite covers are those that recast the lyrics in such a different light that the listener considers them in a new way, and this British band succeeds as their vocalist croons the old playful words with haunting conviction., Debbie Harry was inspired to write the original song after her experience with a stalker. She told Entertainment Weekly:, I was actually stalked by a nutjob, so it came out of a not-so-friendly personal event. I tried to inject a little levity into it to make it more lighthearted. It was a survival mechanism., (Submit a cover via hello@. Track of the Day archive here. Pre-Notes archive here.), A reader in Pittsburgh, Josh, has a moving tribute to his friend:, I’ve been following your cover series and would like to contribute a favorite. In March, I lost my best friend Chris—far, far too young at only 36. In suburban Pittsburgh in the ‘90s, we were an unlikely pair. He was black, I was white, and about as physically and socially different as could be. In 10th grade, Chris joined the marching band, and playing together in the trumpet section, we became inseparable., In band, you played a wide variety of genres and were exposed to many influences. Chris and I cultivated eclectic musical tastes, and in the pre-Napster/iTunes/Spotify days, when people defined identity by the contents of their CD binder, we could exchange any band or genre without shame. He blew my mind with a Prince record I floored him with the White Album. It united us, and as we passed through the momentary catastrophes and tender triumphs of adolescence, we always had a soundtrack., So my selection for this cover series is “Let It Be” by Gladys Knight and the Pips:, , McCartney’s sparse hymn is transformed by Gladys’ soaring gospel performance and the call and response into an urgent demand. It almost seems as if the Pips’ plaintive echoes are restraining her from ascending to another plane of existence., The Beatles began by playing Motown songs, and after their explosion, Motown artists covered them frequently. This cover of “Let It Be” has been solace in my personal grief, but also as an echo of the troubled times in which it was written and recorded, and a tonic to the current unrest in our civic society. I know Chris loved this song, and I know he would agree., (Submit a cover via hello@. Track of the Day archive here. Pre-Notes archive here.), , From reader Conor Murphy:, I nominate Aretha Franklin’s cover of “The Weight” by The Band. Taking a song as moody and solemn as that and singing it the way she does transforms it in startling ways. Switching to a soul arrangement and foregoing the piano for horns creates an entirely new dynamic within the song, while the pure power and depth of her voice is almost overwhelming.  , By the way, if you want to continue the Beatles covers, you could also use Franklin’s “Eleanor Rigby,” which is similarly incredible., (Submit a cover via hello@. Track of the Day archive here. Pre-Notes archive here.), , Reader John Maschoff ends a despairing week of national news on an optimistic note:, This version of “We Can Work It Out” so wonderfully injects the groovy funk and soul that Stevie Wonder has been creating for decades. It’s a must-include on this list., He follows up:, If you’re looking for an extra lift for the weekend, might I impose and suggest an extra Stevie gem from the same album. So, so good., (Submit a cover via hello@. Track of the Day archive here. Pre-Notes archive here.), , Lance goes with a cross-subgenre pick—Nada Surf’s cover of Depeche Mode’s “Enjoy the Silence”:, I love this song because it takes a classic synthpop song and turns it into a classic power pop song. When I listen to the original, it’s hard for me to imagine it as a power pop song when I listen to the cover, it’s hard for me to imagine it as a synthpop song. The Nada Surf arrangement works on its own, without depending on knowledge of the original for its effect., (Submit a cover via hello@. Track of the Day archive here. Pre-Notes archive here.), , I recently asked readers for their favorite Beatles covers, specifically ones that transcend the rock genre. One reader pointed to a reggae-jazz version of “She’s a Woman” while another highlighted an eclectic a cappella version of “Helter Skelter.” This next reader gets right to the point:, The Carpenters’s “Ticket To Ride.” Brilliant. Period. End of sentence., Here’s some trivia regarding that song title, relayed by Don Short, a Daily Mirror music journalist:, The girls who worked the streets in Hamburg had to have a clean bill of health and so the medical authorities would give them a card saying that they didn’t have a dose of anything. I was with The Beatles when they went back to Hamburg in June 1966 and it was then that John told me that he had coined the phrase ‘a ticket to ride’ to describe these cards. He could have been joking – you always had to be careful with John like that – but I certainly remember him telling me that., (Submit a song via hello@. Track of the Day archive here. Pre-Notes archive here.), , A reader in NYC, David Leitner, has the perfect cover for the day:, Marvin Gaye’s “Star Spangled Banner” is the ultimate song transformation. What only he could sing, solo with a beat box …, If you have any Star-Spangled suggestions of your own, let us know and we’ll update. Update from Noam:, This version is my fave because Sufjan [Stevens] captures the menace of it. The song is fundamentally about a war, and although patriotism compels us to ignore the fact that war is hell, this cover doesn’t., (Track of the Day archive here. Pre-Notes archive here.), , In response to my inquiry for the most genre-bending Beatles cover, Jay in Cincinnati remembers a truly unique, a cappella version of “Helter Skelter”:, Somewhere in the mid-1980s, I was working late ... really really late, after 3 A.M. late. Finally driving home, my brain competed with only two thoughts: staying conscious enough to survive the trip, and how good it would feel when I finally could collapse into bed., The radio was on—nice and loud, to help me avoid nodding off, tuned to a small non-commercial station that played non-mainstream music. When this song came on, it must have been close to 30 seconds before I even realized it was a song I knew. It was so different—not just different from the original song, but from almost any kind of music I’d ever heard—that for my own safety I pulled off the road so I could listen. Nobody identified what I’d heard they just kept playing more music. Sometimes on this station it could be 40 minutes before anyone came on to list what had been played., There were no cell phones, there was no internet. When I got home, I did not go to bed. I had to get a phone book, look up the station’s number and call. I had to know. Unlike today, when hardly any radio station in America has a live person on the air overnight, someone answered., I’ve since seen this group [The Bobs] in concert maybe ten times, occasionally planning family/friend visits to other cities based on when they would be performing there. They’ve done covers of other famous songs, sometimes as radically different as this, but also in versions more recognizable. Mostly they sing their own songs, which range from hilarious to weird to touching. Every time I see them do this song, it brings back that night., Update from a reader in Bend, Oregon:, I nominate Tiny Tim’s cover of the Beatles song “Girl.” Tiny was generally not taken seriously, but he was very serious about music:, When he burst into public recognition in 1968, people either regarded Tiny Tim as a lovable wacko, or simply a wacko though Tim’s eccentricity seemed both charming and oddly appropriate in the wake of the Summer of Love, despite his long hair and beatific attitude, he was no hippie, but instead an amateur archivist of American popular song who made it his life’s crusade to remind people about the joys of the Tin Pan Alley era. In his own odd way, Tiny Tim was one of the first artists of the rock era to celebrate the notion of the Great American songbook, though his fondness for a warbling falsetto delivery, his thrift-store wardrobe, his slightly fey personality, and his championing of the ukulele as his favored means of accompaniment was every bit as anomalous in 1968 as it would be today. While Tiny Tim was (principally) marketed as a novelty act and treated as a joke by many who presented him to the public (one of his most frequent television platforms was on Rowan and Martin's Laugh-In), Tim wasn’t kidding -- he loved and lived for this music, and he performed it in a historically accurate manner, remaining true to his musical vision right up to the very end . . . ., This cover sounds both serious and wacky, and it bends the original song into such a bizarre vaudeville style that it is almost unrecognizable. Tiny’s vocal range is very wide, and gives the song a unique sound. I would guess that most people won’t like it, but here it is anyway., (Track of the Day archive here. Pre-Notes archive here. Submit via hello@.)]\n"
     ]
    }
   ],
   "source": [
    "article_text = articles_df_random_subset.iloc[1,6]\n",
    "print(article_text)"
   ]
  },
  {
   "cell_type": "code",
   "execution_count": 83,
   "metadata": {},
   "outputs": [],
   "source": [
    "full_path = '/Users/sagarsetru/Documents/post PhD positions search/insightDataScience/project/debiaser/article_text_files/'\n",
    "\n",
    "full_file_names = [\n",
    "full_path+'ap_hurricane_sally_unleashes_20200916.txt',\n",
    "full_path+'cnn_big_ten_backtracks_20200916.txt',\n",
    "full_path+'nyt_on_the_fire_line_20200915.txt',\n",
    "full_path+'foxnews_snake_face_mask_20200916_v2.txt',\n",
    "'/Users/sagarsetru/Documents/post PhD positions search/insightDataScience/project/debiaser/article_html_files/U.S. Stocks Lower as Fed Outlook Rattles Investors - WSJ.html'\n",
    "]\n",
    "\n",
    "from bs4 import BeautifulSoup\n",
    "\n",
    "import requests\n",
    "\n",
    "# full_file_name = full_file_names[4]\n",
    "\n",
    "# # with open(full_file_name, 'r') as file:\n",
    "# #     main_article = file.read().replace('\\n', ' ')\n",
    "    \n",
    "    \n",
    "# # get the html as one string\n",
    "# with open(full_file_name, 'r') as file:\n",
    "#     coverpage = file.read()\n",
    "\n",
    "url = 'https://www.nytimes.com/2020/09/27/us/politics/trump-biden-debate-expectations.html?action=click&module=Top%20Stories&pgtype=Homepage'\n",
    "# url = 'https://www.nytimes.com/2020/09/25/us/politics/rbg-retirement-obama.html'\n",
    "page = requests.get(url)\n",
    "coverpage = page.content"
   ]
  },
  {
   "cell_type": "code",
   "execution_count": 84,
   "metadata": {},
   "outputs": [
    {
     "name": "stdout",
     "output_type": "stream",
     "text": [
      "By Lowering the Debate Bar for Biden, Has Trump Set a Trap for Himself?\n",
      " \n"
     ]
    }
   ],
   "source": [
    "# create soup object\n",
    "soup = BeautifulSoup(coverpage, 'html.parser')\n",
    "\n",
    "# get title\n",
    "headline = soup.find('h1').get_text()\n",
    "print(headline)\n",
    "print(' ')\n",
    "\n",
    "# get text from all <p> tags\n",
    "p_tags = soup.find_all('p')\n",
    "\n",
    "# get text from each p tag and strip whitespace\n",
    "p_tags_text = [tag.get_text().strip() for tag in p_tags]\n",
    "\n",
    "# filter out sentences without periods\n",
    "p_tags_text = [sentence for sentence in p_tags_text if '.' in sentence]\n",
    "\n",
    "# convert all p_tags_text to single article text string\n",
    "\n",
    "p_tags_text_1string = ''\n",
    "\n",
    "for p_tag_text in p_tags_text:\n",
    "    p_tags_text_1string += p_tag_text\n",
    "\n",
    "main_article = p_tags_text_1string"
   ]
  },
  {
   "cell_type": "code",
   "execution_count": 85,
   "metadata": {},
   "outputs": [
    {
     "data": {
      "text/plain": [
       "{'DATE': [], 'PERSON': [], 'ORG': [], 'MONEY': [], 'GPE': []}"
      ]
     },
     "execution_count": 85,
     "metadata": {},
     "output_type": "execute_result"
    }
   ],
   "source": [
    "entity_recognizer(headline,nlp)\n"
   ]
  },
  {
   "cell_type": "code",
   "execution_count": 86,
   "metadata": {},
   "outputs": [
    {
     "data": {
      "text/plain": [
       "'President Trump has worked overtime to persuade followers that Joe Biden is addled and incoherent. That could backfire if Mr. Biden doesn’t fit the caricature.WASHINGTON — President Trump has framed the first general election debate as a test for his opponent, former Vice President Joseph R. Biden Jr.Yet he has simultaneously set the bar so low for so long that many of his supporters — having watched unflattering, often manipulated clips of Mr. Biden in Trump campaign advertisements or on Fox News — are now expecting the president to mop the floor with an incoherent opponent in something resembling a W.W.E. match.Democrats — and even some Republicans — believe that is not likely to happen.The misleading notion that Mr. Biden is too addled for the presidency has been driven by Mr. Trump since 2018, when he first started referring to the former vice president as Sleepy Joe. Since then, in speeches, in interviews and at his rallies, Mr. Trump has been crafting a narrative depicting the former vice president as having a diminished physical and mental stature, in the hope of making voters believe that Mr. Biden is unfit for office.It is a message that Mr. Trump’s campaign has spent millions of dollars amplifying, often in misleading, spliced-together clips contrasting an energetic Mr. Biden from the past with a supposedly barely functioning one now. And the campaign has posed the question to voters: “Did something happen to Joe Biden?”“It’s an uncomfortable conversation to have, but voters deserve to be able to assess Joe Biden’s capabilities by seeing him and listening to him in his own words, especially as compared to just a few years ago,” Tim Murtaugh, the Trump campaign communications director, tweeted.Most recently, the president floated the baseless conjecture that Mr. Biden was on performance-enhancing drugs. Trump allies have taken the talking point even further. Representative Joe Murphy of North Carolina claimed outright last month that Mr. Biden suffered from dementia.All of that means that if Mr. Biden does not appear weak, the tactic will have backfired.Brett O’Donnell, a Republican strategist who has coached candidates ahead of debates, said the Trump campaign might have given Mr. Biden an unintentional gift.“In trying to message that Biden may be unfit for office, the campaign also may have lowered expectations on his debate performance,” Mr. O’Donnell said.Studying Mr. Biden’s various debate performances, the president’s advisers began warning Mr. Trump months ago that the former vice president had successfully handled a lengthy, one-on-one debate with Senator Bernie Sanders in March toward the end of their primary fight. Outside advisers warned Mr. Trump that he needed to change the way he was playing the expectations game with Mr. Biden.So Mr. Trump has tried modifying his approach in his public comments, grudgingly acknowledging that Mr. Biden fared well in the two-man debate.Given that Mr. Biden’s performance may exceed the low expectations that the president has set, Mr. Trump on Sunday morning threw out the wild suggestion of a “drug test” before or after the debate. “Only drugs could have caused this discrepancy” in Mr. Biden’s debate performances, Mr. Trump tweeted, claiming the former vice president’s debates were “UNEVEN, to put it mildly.”Mr. Trump has not been able to stop pointing out where Mr. Biden struggled in more crowded primary debates. And the stage-setting has been years in the making.“There’s talk about Joe Biden, Sleepy Joe, getting into the race,” Mr. Trump said at the Gridiron Dinner in 2018. “Just trust me, I would kick his ass.”In March 2018, after Mr. Biden said he would beat up Mr. Trump if the two were still in high school (a comment he later apologized for), Mr. Trump tweeted that the former vice president was “weak, both mentally and physically” and claimed, “He doesn’t know me, but he would go down fast and hard, crying all the way.”Sign up for On Politics to get the latest election and politics news and insights.Mr. Trump began to focus more on the mental deficiencies during the Democratic primary last year. “I’d rather run against, I think, Biden than anybody,” Mr. Trump said. “I think he’s the weakest mentally.”The president has often engaged in projection, accusing his political opponents of the same charges they make against him. Mr. Biden’s case has been no different. As he has tried to portray Mr. Biden as old and senile, Mr. Trump has simultaneously defended his own ability to drink water from a glass without assistance and confidently walk down a ramp. Groups supporting Mr. Biden have posted clips of Mr. Trump slurring his words or speaking incoherently.In recent weeks, as Mr. Biden has pulled down his campaign schedule to spend time in debate prep sessions in Delaware, Mr. Trump has practiced mostly on the go. He and his campaign aides have discussed how to raise the most uncomfortable issues for Mr. Biden, like the sexual assault allegations made against him by Tara Reade, even casually discussing bringing her to the debate, and personal attacks about Mr. Biden’s son Hunter.His aides have compiled for him a 30-page binder filled with bullet points. Instead of regular, formal sessions, aides traveling with him to rallies or official events have used time on the plane to pepper him with questions.He has had a few meetings in the Oval Office, where he has talked through the debate with advisers and aides, including former Gov. Chris Christie of New Jersey and his advisers Hope Hicks, Jason Miller and Stephen Miller, as well as his campaign manager, Bill Stepien, according to several people familiar with the get-togethers. At least one more prep session was expected to take place over the weekend.Mr. Trump has never favored formal debate prep with mock-ups at lecterns and instead, in 2016, preferred to tell war stories and vent about what was on his mind. His opponent that year, Hillary Clinton, received a bump in the polls after each of the three debates.But Mrs. Clinton was known as a strong debater. Mr. Biden — even if he is not what the Trumpian caricature would like him to be — suffered from some very rocky debate moments in the Democratic primary last year and could encounter them again. Mr. Biden regularly cut himself off before his allotted time for speaking was up, making it sound as if he was having trouble finishing his thought. He sometimes says the opposite of what he means.“I would eliminate the capital gains tax — I would raise the capital gains tax,” he said in a debate last year.Karl Rove, who served as President George W. Bush’s chief strategist and has informally offered advice to the president and his campaign, conceded that lowering expectations for Mr. Biden was “maybe” an unintentional gift.But he said Mr. Biden had bigger issues to overcome than simply exceeding that low bar. “What I’m seeing in these battleground Senate polls is that people know that Joe Biden was Obama’s vice president, and that he’s been around for a long time. They don’t really know the guy,” he said. “The Biden voter is simply an anti-Trump voter. What if he fails to make this about what he’s for and what he’s about?”The Biden campaign, meanwhile, has been telling people that no debate outcome will fundamentally change the contours of a race that has been defined, since March, by the president’s handling of the pandemic, even if the president performs well onstage. Mr. Biden’s hope on Tuesday night, according to someone familiar with the campaign’s strategy, is to continue making the election about the president’s accountability for the lives lost to the coronavirus, while trying to show what it would look like to have a leader in charge who doesn’t need to be fact-checked in real time, and who attempts to bring the country together.Democrats are concerned that Mr. Trump may be successful at making Mr. Biden lose his temper by talking about Hunter Biden. The president has repeatedly talked about the younger Mr. Biden in the past week, and Republicans have tried to push negative coverage about him in the news media.In the past, Mr. Biden has struggled to come up with a definitive response to questions about his son’s work overseas and whether it raised questions about conflicts of interest while his father was in office. While Mr. Biden’s empathy and his love for his children have been calling cards for voters who like him, they have made it challenging for him to put those questions to rest.Mr. Rove accused him of trying to “defend the indefensible.”But it’s not clear that simply unsettling Mr. Biden with murky accusations of corruption will necessarily have the intended effect on the audience watching at home. “Trump has to try and change public perceptions of him,” said David Axelrod, a former top adviser to President Barack Obama. “That is not going to do it.”Mr. Trump’s allies are also concerned that the president, who is generally cocooned from people who oppose him, will be unable to resist the temptation to defend himself from Mr. Biden’s face-to-face criticisms.Mr. O’Donnell anticipated that Mr. Trump would “try to put pressure” on Mr. Biden, through tactics like interruption, name-calling and a physically dominating presence onstage.“No one has figured out how to debate the president, because he’s so unconventional,” Mr. O’Donnell said. “Because moderators never call him out for doing any of those things, the candidates can’t do it” either.Still, Democrats said the person who needed a reset was not Mr. Biden.“The pressure has shifted to Trump,” Mr. Axelrod said. “We’re late in the race; people are already voting. Biden’s lead has been seven to eight points. This is his last best chance to shake up the dynamic.”After President Trump announced on Saturday that he had selected Judge Amy Coney Barrett as his Supreme Court nominee, Republicans promised to fast-track her nomination. Read the latest.Many rules have changed during the pandemic, making it harder to figure out how to cast your ballot. This interactive guide\\xa0can help you ensure your vote is counted.Joe Biden and Donald Trump need 270 electoral votes to reach the White House. Try building your own coalition of battleground states\\xa0to see potential outcomes.'"
      ]
     },
     "execution_count": 86,
     "metadata": {},
     "output_type": "execute_result"
    }
   ],
   "source": [
    "main_article"
   ]
  },
  {
   "cell_type": "code",
   "execution_count": 88,
   "metadata": {},
   "outputs": [
    {
     "data": {
      "image/png": "[encoded data removed]",
      "text/plain": [
       "<Figure size 1080x360 with 1 Axes>"
      ]
     },
     "metadata": {
      "needs_background": "light"
     },
     "output_type": "display_data"
    },
    {
     "data": {
      "text/plain": [
       "<Figure size 432x288 with 0 Axes>"
      ]
     },
     "metadata": {},
     "output_type": "display_data"
    },
    {
     "data": {
      "image/png": "[encoded data removed]",
      "text/plain": [
       "<Figure size 1080x360 with 1 Axes>"
      ]
     },
     "metadata": {
      "needs_background": "light"
     },
     "output_type": "display_data"
    },
    {
     "data": {
      "text/plain": [
       "<Figure size 432x288 with 0 Axes>"
      ]
     },
     "metadata": {},
     "output_type": "display_data"
    }
   ],
   "source": [
    "# Create a floor of the frequency of words to remove\n",
    "word_frequency_threshold = 1\n",
    "\n",
    "# choose the number of LDA topics\n",
    "num_lda_topics = 1\n",
    "\n",
    "# do by sentences\n",
    "do_sentences = 1\n",
    "\n",
    "do_plot = 1\n",
    "\n",
    "do_print = 0\n",
    "\n",
    "n_passes = 100\n",
    "\n",
    "n_runs = 1\n",
    "\n",
    "unique_topic_words = 1\n",
    "\n",
    "perplexity_scores = np.zeros((n_runs,1))\n",
    "\n",
    "counter = -1\n",
    "for i in range(n_runs):\n",
    "    counter += 1\n",
    "    # loop through articles\n",
    "    # for ind, full_file_name in enumerate(full_file_names):\n",
    "\n",
    "    # for ind, article_text in enumerate(articles_df_random_subset['content']):\n",
    "#     for ind, article_text in enumerate([articles_df_random_subset.iloc[1,6]]):\n",
    "    for ind, article_text in enumerate([main_article]):\n",
    "\n",
    "\n",
    "\n",
    "\n",
    "    #     if ind == 0:\n",
    "    #         continue\n",
    "\n",
    "        if do_print:\n",
    "            print(article_text)\n",
    "\n",
    "        # pull out dictionary of important entities\n",
    "    #     entity_dict = entity_recognizer(article_text,nlp)\n",
    "\n",
    "    #     if do_print:\n",
    "    #         print(' ')\n",
    "\n",
    "    #     for key in entity_dict:\n",
    "\n",
    "    #         if do_print:\n",
    "    #             print(key)\n",
    "    #             print(entity_dict[key])\n",
    "    #             print(' ')\n",
    "\n",
    "    #     # replace weird apostrophes\n",
    "    #     article_text = article_text.replace(\"`\",\"'\")\n",
    "    #     article_text = article_text.replace(\"’\",\"'\")\n",
    "    #     article_text = article_text.replace(\"'\",\"'\")\n",
    "\n",
    "    #     # replace long dashes with short dashes\n",
    "    #     article_text = article_text.replace(\"—\",\"-\")\n",
    "\n",
    "    #     # replace short dashes with spaces\n",
    "    #     article_text = article_text.replace(\"-\",\" \")\n",
    "\n",
    "        if do_sentences:\n",
    "            # break article into sentences\n",
    "            article_text = tokenize.sent_tokenize(article_text)\n",
    "\n",
    "    #         article_text = [sentence.translate(sentence.maketrans('', '', string.punctuation)) for sentence in article_text]\n",
    "\n",
    "            # process article\n",
    "            article_processed = process_all_articles(article_text,nlp)\n",
    "\n",
    "            # remove stopwords\n",
    "            article_processed = remove_stopwords(article_processed,stop_words)\n",
    "\n",
    "            # following https://radimrehurek.com/gensim/auto_examples/core/run_core_concepts.html#sphx-glr-auto-examples-core-run-core-concepts-py\n",
    "            # Lowercase each document, split it by white space and filter out stopwords\n",
    "    #         texts = [[word for word in document.lower().split() if word not in stop_words] \n",
    "    #                  for document in article_text]\n",
    "\n",
    "        else:\n",
    "            # get rid of punctuation\n",
    "            article_text = article_text.translate(article_text.maketrans('', '', string.punctuation))\n",
    "\n",
    "            # following https://radimrehurek.com/gensim/auto_examples/core/run_core_concepts.html#sphx-glr-auto-examples-core-run-core-concepts-py\n",
    "            # Lowercase each document, split it by white space and filter out stopwords\n",
    "            article_processed = [[word for word in document.lower().split() if word not in stop_words] for document in [article_text]]\n",
    "\n",
    "        # get corpus, dictionary, bag of words\n",
    "        processed_corpus, processed_dictionary, bow_corpus = get_simple_corpus_dictionary_bow(article_processed,\n",
    "                                                                                              word_frequency_threshold)\n",
    "\n",
    "        # generate the LDA model\n",
    "        lda = LdaModel(corpus = bow_corpus,\n",
    "                         num_topics = num_lda_topics,\n",
    "                         id2word = processed_dictionary,\n",
    "                         passes = n_passes)\n",
    "\n",
    "        # get the topics from the lda model\n",
    "        lda_topics = lda.show_topics(formatted=False)\n",
    "\n",
    "        # dictionary for topics and the probabilities associated with them\n",
    "        topics_probs_dict = {}\n",
    "\n",
    "        # list of unique topic names\n",
    "        topics = []\n",
    "\n",
    "        # loop through each list of generated topics\n",
    "        for topic in lda_topics:\n",
    "\n",
    "            # get the list of topics\n",
    "            topic_words = topic[1]\n",
    "\n",
    "            # loop through topic words and probabilities\n",
    "            for topic_word, prob in topic_words:\n",
    "\n",
    "                # if the word isn't already in the list of topics, add it to list of topics\n",
    "                if topic_word not in topics: \n",
    "                    topics.append(topic_word)\n",
    "\n",
    "                # if the word is not a key in the dictionary of topics to probabilities, add it to dictionary\n",
    "                if topic_word not in topics_probs_dict.keys():\n",
    "\n",
    "                    topics_probs_dict[topic_word] = np.array([prob])\n",
    "\n",
    "                # if the word is a key in the dictionary of topics to probabilities, append probability\n",
    "                else:\n",
    "                    topics_probs_dict[topic_word] = np.append(topics_probs_dict[topic_word],[prob])\n",
    "\n",
    "        # dictionary for topic probability means\n",
    "        topics_mean_probs_dict = {}\n",
    "\n",
    "        # dictionary for topic probability std devs\n",
    "        topics_std_probs_dict = {}\n",
    "\n",
    "        # dictionary for topic frequency\n",
    "        topics_frequency_dict = {}\n",
    "\n",
    "        # loop through topics and probabilities\n",
    "        for topic, prob in topics_probs_dict.items():\n",
    "\n",
    "            # update dictionary for mean probability\n",
    "            topics_mean_probs_dict[topic] = np.mean(prob)\n",
    "\n",
    "            # update dictionary for std dev probability\n",
    "            topics_std_probs_dict[topic] = np.std(prob)\n",
    "\n",
    "            # update dictionary for topic frequency\n",
    "            topics_frequency_dict[topic] =  prob.size\n",
    "\n",
    "\n",
    "\n",
    "        # get the topic mean probs and frequencies, sorted\n",
    "        topics_means, means_sorted, std_sorted, topics_freq, freq_sorted = sort_topics_mean_frequency(topics,\n",
    "                                                 topics_mean_probs_dict,\n",
    "                                                 topics_std_probs_dict,\n",
    "                                                 topics_frequency_dict)\n",
    "\n",
    "        \n",
    "        \n",
    "        # get top words per topic\n",
    "        lda_top_topic_words = ''        \n",
    "\n",
    "        # list is for checking previous words\n",
    "        lda_top_topic_words_list = []\n",
    "\n",
    "        if not unique_topic_words:\n",
    "\n",
    "            for topic in lda_topics:\n",
    "\n",
    "                # get the list of topics\n",
    "                topic_words = topic[1]\n",
    "\n",
    "                lda_top_topic_words += ' '+topic_words[0][0]\n",
    "\n",
    "        else:\n",
    "\n",
    "            # loop through each list of generated topics\n",
    "            for topic in lda_topics:\n",
    "\n",
    "                # set word added to 0\n",
    "                word_added = 0\n",
    "\n",
    "                # get the list of topics\n",
    "                topic_words = topic[1]\n",
    "\n",
    "                # loop through words in topic\n",
    "                # add as search term only if they aren't already search terms\n",
    "                for i in range(len(topic_words)):\n",
    "\n",
    "                    # if the current word in topic is not in list of search terms\n",
    "                    if topic_words[i][0] not in lda_top_topic_words_list:\n",
    "\n",
    "                        # add this word to list of topic/search terms\n",
    "                        lda_top_topic_words_list.append(topic_words[i][0])\n",
    "\n",
    "                        # also update the string for the search terms\n",
    "                        lda_top_topic_words += ' '+topic_words[i][0]\n",
    "\n",
    "                        # update word added\n",
    "                        word_added = 1\n",
    "                        break\n",
    "\n",
    "                # if no word was added because all supporting words in topic are already\n",
    "                # search terms, then just add the highest prob/first word in topic\n",
    "                if word_added == 0:\n",
    "                    # if every word in this topic is already a search term,\n",
    "                    # just add the first most probable word and leave the while loop\n",
    "                    lda_top_topic_words_list.append(topic_words[0][0])\n",
    "                    lda_top_topic_words += ' '+topic_words[0][0]\n",
    "        \n",
    "        if do_plot:\n",
    "            plt.figure(figsize=(15,5));\n",
    "            plt.bar(topics_means,means_sorted,yerr=std_sorted);\n",
    "            plt.ylabel('Mean probability');\n",
    "            sns.set_context('talk', font_scale=1.5);\n",
    "            plt.xticks(rotation=90);\n",
    "            plt.show();\n",
    "            plt.clf();\n",
    "        #     plt.savefig('./eda_figs/mean_prob_vs_topic_big_ten_resumes.png', dpi=300, bbox_inches='tight')\n",
    "\n",
    "            plt.figure(figsize=(15,5));\n",
    "            plt.bar(topics_freq,freq_sorted);\n",
    "            plt.ylabel('N');\n",
    "            # plt.xlabel('Topics')\n",
    "            sns.set_context('talk', font_scale=1.5);\n",
    "            plt.xticks(rotation=90);\n",
    "            plt.show();\n",
    "            plt.clf();\n",
    "            # plt.savefig('./edafigs/frequency_vs_topic_big_ten_resumes.pdf')\n",
    "\n",
    "        if do_print:\n",
    "            print(topics)\n",
    "            print(topics_probs_dict)\n",
    "            print(' ')\n",
    "\n",
    "            for lda_topic in lda_topics:\n",
    "                print(lda_topic)\n",
    "\n",
    "            print(lda_top_topic_words)\n",
    "\n",
    "    #     print(' ')\n",
    "    #     if ind == 0:\n",
    "    #         break\n",
    "    perplexity = lda.log_perplexity(bow_corpus)\n",
    "    perplexity_scores[counter] = perplexity\n",
    "        \n",
    "        \n",
    "# print('\\nPerplexity: ', lda.log_perplexity(bow_corpus))\n",
    "\n",
    "# Visualize the topics\n",
    "\n",
    "if num_lda_topics > 1:\n",
    "    pyLDAvis.enable_notebook()\n",
    "    vis = pyLDAvis.gensim.prepare(lda, bow_corpus, processed_dictionary)\n",
    "    vis\n"
   ]
  },
  {
   "cell_type": "code",
   "execution_count": 91,
   "metadata": {},
   "outputs": [],
   "source": [
    "lda_top_topic_words = ''\n",
    "\n",
    "n_topic_words = 3\n",
    "\n",
    "for topic in lda_topics:\n",
    "                \n",
    "    # get the list of topic words\n",
    "    topic_words = topic[1]\n",
    "\n",
    "    # loop through these words and get the top n number\n",
    "    counter = -1\n",
    "    for topic_word in topic_words:\n",
    "\n",
    "        counter += 1\n",
    "\n",
    "        if counter < n_topic_words:\n",
    "\n",
    "            lda_top_topic_words += ' '+topic_word[0]"
   ]
  },
  {
   "cell_type": "code",
   "execution_count": 92,
   "metadata": {},
   "outputs": [
    {
     "data": {
      "text/plain": [
       "' biden debate joe'"
      ]
     },
     "execution_count": 92,
     "metadata": {},
     "output_type": "execute_result"
    }
   ],
   "source": [
    "lda_top_topic_words"
   ]
  },
  {
   "cell_type": "code",
   "execution_count": 66,
   "metadata": {},
   "outputs": [
    {
     "name": "stdout",
     "output_type": "stream",
     "text": [
      "-4.443012381004075\n",
      "0.0\n"
     ]
    }
   ],
   "source": [
    "print(np.mean(perplexity_scores))\n",
    "print(np.std(perplexity_scores))"
   ]
  },
  {
   "cell_type": "code",
   "execution_count": 45,
   "metadata": {},
   "outputs": [
    {
     "data": {
      "image/png": "[encoded data removed]",
      "text/plain": [
       "<Figure size 1080x360 with 1 Axes>"
      ]
     },
     "metadata": {
      "needs_background": "light"
     },
     "output_type": "display_data"
    },
    {
     "data": {
      "text/plain": [
       "<Figure size 432x288 with 0 Axes>"
      ]
     },
     "metadata": {},
     "output_type": "display_data"
    }
   ],
   "source": [
    "plt.figure(figsize=(15,5));\n",
    "plt.hist(perplexity_scores);\n",
    "plt.ylabel('N');\n",
    "plt.xlabel('Perplexity')\n",
    "sns.set_context('talk', font_scale=1.5);\n",
    "plt.xticks(rotation=90);\n",
    "plt.show();\n",
    "plt.clf();"
   ]
  },
  {
   "cell_type": "code",
   "execution_count": 37,
   "metadata": {},
   "outputs": [
    {
     "name": "stdout",
     "output_type": "stream",
     "text": [
      "17\n"
     ]
    }
   ],
   "source": [
    "print(len(article_text))\n",
    "processed_corpus, processed_dictionary, bow_corpus = get_simple_corpus_dictionary_bow(article_processed,\n",
    "                                                                                          word_frequency_threshold)"
   ]
  },
  {
   "cell_type": "code",
   "execution_count": 94,
   "metadata": {},
   "outputs": [
    {
     "data": {
      "text/plain": [
       "0         abcnews.go.com\n",
       "1          aljazeera.com\n",
       "2             apnews.com\n",
       "3                bbc.com\n",
       "4          bloomberg.com\n",
       "5          breitbart.com\n",
       "6       buzzfeednews.com\n",
       "7                cbn.com\n",
       "8            cbsnews.com\n",
       "9          csmonitor.com\n",
       "10               cnn.com\n",
       "11     thedailybeast.com\n",
       "12      democracynow.org\n",
       "13         factcheck.org\n",
       "14            forbes.com\n",
       "15           foxnews.com\n",
       "16          huffpost.com\n",
       "17       motherjones.com\n",
       "18             msnbc.com\n",
       "19    nationalreview.com\n",
       "20           nbcnews.com\n",
       "21            nypost.com\n",
       "22           nytimes.com\n",
       "23           newsmax.com\n",
       "24               npr.org\n",
       "25          politico.com\n",
       "26            reason.com\n",
       "27           reuters.com\n",
       "28             salon.com\n",
       "29         spectator.org\n",
       "30       theatlantic.com\n",
       "31       theguardian.com\n",
       "32           thehill.com\n",
       "33               wsj.com\n",
       "Name: domain, dtype: object"
      ]
     },
     "execution_count": 94,
     "metadata": {},
     "output_type": "execute_result"
    }
   ],
   "source": [
    "# lda_top_topic_words\n",
    "all_sides_domains"
   ]
  },
  {
   "cell_type": "code",
   "execution_count": 39,
   "metadata": {},
   "outputs": [],
   "source": [
    "# load domain names from all sides media csv, write string for google search\n",
    "all_sides_with_domains = pd.read_csv('./all_sides_media_data/allsides_final_plus_others_with_domains.csv')\n",
    "\n",
    "all_sides_names = all_sides_with_domains['name']\n",
    "all_sides_domains = all_sides_with_domains['domain']\n",
    "\n",
    "all_sides_names_domains = pd.concat([all_sides_names,all_sides_domains],axis=1)"
   ]
  },
  {
   "cell_type": "code",
   "execution_count": 161,
   "metadata": {},
   "outputs": [
    {
     "data": {
      "text/html": [
       "<div>\n",
       "<style scoped>\n",
       "    .dataframe tbody tr th:only-of-type {\n",
       "        vertical-align: middle;\n",
       "    }\n",
       "\n",
       "    .dataframe tbody tr th {\n",
       "        vertical-align: top;\n",
       "    }\n",
       "\n",
       "    .dataframe thead th {\n",
       "        text-align: right;\n",
       "    }\n",
       "</style>\n",
       "<table border=\"1\" class=\"dataframe\">\n",
       "  <thead>\n",
       "    <tr style=\"text-align: right;\">\n",
       "      <th></th>\n",
       "      <th>name</th>\n",
       "      <th>domain</th>\n",
       "      <th>google_query</th>\n",
       "    </tr>\n",
       "  </thead>\n",
       "  <tbody>\n",
       "    <tr>\n",
       "      <th>0</th>\n",
       "      <td>ABC News (Online)</td>\n",
       "      <td>abcnews.go.com</td>\n",
       "      <td>site:nytimes.com dow trading rates vaccine wsj</td>\n",
       "    </tr>\n",
       "    <tr>\n",
       "      <th>1</th>\n",
       "      <td>Al Jazeera</td>\n",
       "      <td>aljazeera.com</td>\n",
       "      <td>site:bloomberg.com dow trading rates vaccine wsj</td>\n",
       "    </tr>\n",
       "    <tr>\n",
       "      <th>2</th>\n",
       "      <td>Associated Press</td>\n",
       "      <td>apnews.com</td>\n",
       "      <td>site:reuters.com dow trading rates vaccine wsj</td>\n",
       "    </tr>\n",
       "    <tr>\n",
       "      <th>3</th>\n",
       "      <td>BBC News</td>\n",
       "      <td>bbc.com</td>\n",
       "      <td>site:wsj.com dow trading rates vaccine wsj</td>\n",
       "    </tr>\n",
       "    <tr>\n",
       "      <th>4</th>\n",
       "      <td>Bloomberg</td>\n",
       "      <td>bloomberg.com</td>\n",
       "      <td>NaN</td>\n",
       "    </tr>\n",
       "    <tr>\n",
       "      <th>5</th>\n",
       "      <td>Breitbart News</td>\n",
       "      <td>breitbart.com</td>\n",
       "      <td>NaN</td>\n",
       "    </tr>\n",
       "    <tr>\n",
       "      <th>6</th>\n",
       "      <td>BuzzFeed News</td>\n",
       "      <td>buzzfeednews.com</td>\n",
       "      <td>NaN</td>\n",
       "    </tr>\n",
       "    <tr>\n",
       "      <th>7</th>\n",
       "      <td>CBN</td>\n",
       "      <td>cbn.com</td>\n",
       "      <td>NaN</td>\n",
       "    </tr>\n",
       "    <tr>\n",
       "      <th>8</th>\n",
       "      <td>CBS News</td>\n",
       "      <td>cbsnews.com</td>\n",
       "      <td>NaN</td>\n",
       "    </tr>\n",
       "    <tr>\n",
       "      <th>9</th>\n",
       "      <td>Christian Science Monitor</td>\n",
       "      <td>csmonitor.com</td>\n",
       "      <td>NaN</td>\n",
       "    </tr>\n",
       "    <tr>\n",
       "      <th>10</th>\n",
       "      <td>CNN (Web News)</td>\n",
       "      <td>cnn.com</td>\n",
       "      <td>NaN</td>\n",
       "    </tr>\n",
       "    <tr>\n",
       "      <th>11</th>\n",
       "      <td>Daily Beast</td>\n",
       "      <td>thedailybeast.com</td>\n",
       "      <td>NaN</td>\n",
       "    </tr>\n",
       "    <tr>\n",
       "      <th>12</th>\n",
       "      <td>Democracy Now</td>\n",
       "      <td>democracynow.org</td>\n",
       "      <td>NaN</td>\n",
       "    </tr>\n",
       "    <tr>\n",
       "      <th>13</th>\n",
       "      <td>FactCheck.org</td>\n",
       "      <td>factcheck.org</td>\n",
       "      <td>NaN</td>\n",
       "    </tr>\n",
       "    <tr>\n",
       "      <th>14</th>\n",
       "      <td>Forbes</td>\n",
       "      <td>forbes.com</td>\n",
       "      <td>NaN</td>\n",
       "    </tr>\n",
       "    <tr>\n",
       "      <th>15</th>\n",
       "      <td>Fox News (Online)</td>\n",
       "      <td>foxnews.com</td>\n",
       "      <td>NaN</td>\n",
       "    </tr>\n",
       "    <tr>\n",
       "      <th>16</th>\n",
       "      <td>HuffPost</td>\n",
       "      <td>huffpost.com</td>\n",
       "      <td>NaN</td>\n",
       "    </tr>\n",
       "    <tr>\n",
       "      <th>17</th>\n",
       "      <td>Mother Jones</td>\n",
       "      <td>motherjones.com</td>\n",
       "      <td>NaN</td>\n",
       "    </tr>\n",
       "    <tr>\n",
       "      <th>18</th>\n",
       "      <td>MSNBC</td>\n",
       "      <td>msnbc.com</td>\n",
       "      <td>NaN</td>\n",
       "    </tr>\n",
       "    <tr>\n",
       "      <th>19</th>\n",
       "      <td>National Review</td>\n",
       "      <td>nationalreview.com</td>\n",
       "      <td>NaN</td>\n",
       "    </tr>\n",
       "    <tr>\n",
       "      <th>20</th>\n",
       "      <td>NBC News (Online)</td>\n",
       "      <td>nbcnews.com</td>\n",
       "      <td>NaN</td>\n",
       "    </tr>\n",
       "    <tr>\n",
       "      <th>21</th>\n",
       "      <td>New York Post</td>\n",
       "      <td>nypost.com</td>\n",
       "      <td>NaN</td>\n",
       "    </tr>\n",
       "    <tr>\n",
       "      <th>22</th>\n",
       "      <td>New York Times (Online News)</td>\n",
       "      <td>nytimes.com</td>\n",
       "      <td>NaN</td>\n",
       "    </tr>\n",
       "    <tr>\n",
       "      <th>23</th>\n",
       "      <td>Newsmax - News</td>\n",
       "      <td>newsmax.com</td>\n",
       "      <td>NaN</td>\n",
       "    </tr>\n",
       "    <tr>\n",
       "      <th>24</th>\n",
       "      <td>NPR Online News</td>\n",
       "      <td>npr.org</td>\n",
       "      <td>NaN</td>\n",
       "    </tr>\n",
       "    <tr>\n",
       "      <th>25</th>\n",
       "      <td>Politico</td>\n",
       "      <td>politico.com</td>\n",
       "      <td>NaN</td>\n",
       "    </tr>\n",
       "    <tr>\n",
       "      <th>26</th>\n",
       "      <td>Reason</td>\n",
       "      <td>reason.com</td>\n",
       "      <td>NaN</td>\n",
       "    </tr>\n",
       "    <tr>\n",
       "      <th>27</th>\n",
       "      <td>Reuters</td>\n",
       "      <td>reuters.com</td>\n",
       "      <td>NaN</td>\n",
       "    </tr>\n",
       "    <tr>\n",
       "      <th>28</th>\n",
       "      <td>Salon</td>\n",
       "      <td>salon.com</td>\n",
       "      <td>NaN</td>\n",
       "    </tr>\n",
       "    <tr>\n",
       "      <th>29</th>\n",
       "      <td>The American Spectator</td>\n",
       "      <td>spectator.org</td>\n",
       "      <td>NaN</td>\n",
       "    </tr>\n",
       "    <tr>\n",
       "      <th>30</th>\n",
       "      <td>The Atlantic</td>\n",
       "      <td>theatlantic.com</td>\n",
       "      <td>NaN</td>\n",
       "    </tr>\n",
       "    <tr>\n",
       "      <th>31</th>\n",
       "      <td>The Guardian</td>\n",
       "      <td>theguardian.com</td>\n",
       "      <td>NaN</td>\n",
       "    </tr>\n",
       "    <tr>\n",
       "      <th>32</th>\n",
       "      <td>The Hill</td>\n",
       "      <td>thehill.com</td>\n",
       "      <td>NaN</td>\n",
       "    </tr>\n",
       "    <tr>\n",
       "      <th>33</th>\n",
       "      <td>The Wall Street Journal</td>\n",
       "      <td>wsj.com</td>\n",
       "      <td>NaN</td>\n",
       "    </tr>\n",
       "  </tbody>\n",
       "</table>\n",
       "</div>"
      ],
      "text/plain": [
       "                            name              domain  \\\n",
       "0              ABC News (Online)      abcnews.go.com   \n",
       "1                     Al Jazeera       aljazeera.com   \n",
       "2               Associated Press          apnews.com   \n",
       "3                       BBC News             bbc.com   \n",
       "4                      Bloomberg       bloomberg.com   \n",
       "5                 Breitbart News       breitbart.com   \n",
       "6                  BuzzFeed News    buzzfeednews.com   \n",
       "7                            CBN             cbn.com   \n",
       "8                       CBS News         cbsnews.com   \n",
       "9      Christian Science Monitor       csmonitor.com   \n",
       "10                CNN (Web News)             cnn.com   \n",
       "11                   Daily Beast   thedailybeast.com   \n",
       "12                 Democracy Now    democracynow.org   \n",
       "13                 FactCheck.org       factcheck.org   \n",
       "14                        Forbes          forbes.com   \n",
       "15             Fox News (Online)         foxnews.com   \n",
       "16                      HuffPost        huffpost.com   \n",
       "17                  Mother Jones     motherjones.com   \n",
       "18                         MSNBC           msnbc.com   \n",
       "19               National Review  nationalreview.com   \n",
       "20             NBC News (Online)         nbcnews.com   \n",
       "21                 New York Post          nypost.com   \n",
       "22  New York Times (Online News)         nytimes.com   \n",
       "23                Newsmax - News         newsmax.com   \n",
       "24               NPR Online News             npr.org   \n",
       "25                      Politico        politico.com   \n",
       "26                        Reason          reason.com   \n",
       "27                       Reuters         reuters.com   \n",
       "28                         Salon           salon.com   \n",
       "29        The American Spectator       spectator.org   \n",
       "30                  The Atlantic     theatlantic.com   \n",
       "31                  The Guardian     theguardian.com   \n",
       "32                      The Hill         thehill.com   \n",
       "33       The Wall Street Journal             wsj.com   \n",
       "\n",
       "                                        google_query  \n",
       "0     site:nytimes.com dow trading rates vaccine wsj  \n",
       "1   site:bloomberg.com dow trading rates vaccine wsj  \n",
       "2     site:reuters.com dow trading rates vaccine wsj  \n",
       "3         site:wsj.com dow trading rates vaccine wsj  \n",
       "4                                                NaN  \n",
       "5                                                NaN  \n",
       "6                                                NaN  \n",
       "7                                                NaN  \n",
       "8                                                NaN  \n",
       "9                                                NaN  \n",
       "10                                               NaN  \n",
       "11                                               NaN  \n",
       "12                                               NaN  \n",
       "13                                               NaN  \n",
       "14                                               NaN  \n",
       "15                                               NaN  \n",
       "16                                               NaN  \n",
       "17                                               NaN  \n",
       "18                                               NaN  \n",
       "19                                               NaN  \n",
       "20                                               NaN  \n",
       "21                                               NaN  \n",
       "22                                               NaN  \n",
       "23                                               NaN  \n",
       "24                                               NaN  \n",
       "25                                               NaN  \n",
       "26                                               NaN  \n",
       "27                                               NaN  \n",
       "28                                               NaN  \n",
       "29                                               NaN  \n",
       "30                                               NaN  \n",
       "31                                               NaN  \n",
       "32                                               NaN  \n",
       "33                                               NaN  "
      ]
     },
     "execution_count": 161,
     "metadata": {},
     "output_type": "execute_result"
    }
   ],
   "source": [
    "all_sides_names_domains"
   ]
  },
  {
   "cell_type": "code",
   "execution_count": 162,
   "metadata": {},
   "outputs": [],
   "source": [
    "queries = []\n",
    "\n",
    "all_sides_domains_test = ['nytimes.com','bloomberg.com','reuters.com','wsj.com']\n",
    "all_sides_names_test = ['New York Times','Bloomberg','Reuters','The Wall Street Journal']\n",
    "# for domain in all_sides_domains:\n",
    "for domain in all_sides_domains_test:\n",
    "\n",
    "    query = 'site:'+domain+lda_top_topic_words\n",
    "    queries.append(query)\n",
    "    \n",
    "\n",
    "all_sides_names_domains['google_query'] = pd.DataFrame(queries)"
   ]
  },
  {
   "cell_type": "code",
   "execution_count": 163,
   "metadata": {},
   "outputs": [
    {
     "name": "stdout",
     "output_type": "stream",
     "text": [
      "['site:nytimes.com dow trading rates vaccine wsj', 'site:bloomberg.com dow trading rates vaccine wsj', 'site:reuters.com dow trading rates vaccine wsj', 'site:wsj.com dow trading rates vaccine wsj']\n",
      "['New York Times', 'Bloomberg', 'Reuters', 'The Wall Street Journal']\n"
     ]
    }
   ],
   "source": [
    "print(queries)\n",
    "print(all_sides_names_test)"
   ]
  },
  {
   "cell_type": "code",
   "execution_count": 164,
   "metadata": {},
   "outputs": [],
   "source": [
    "# for j in search(query, tld='com', lang='en', num = 1, start = 0, stop = 1, pause = 10):\n",
    "#     print(j)"
   ]
  },
  {
   "cell_type": "code",
   "execution_count": 165,
   "metadata": {},
   "outputs": [
    {
     "ename": "HTTPError",
     "evalue": "HTTP Error 429: Too Many Requests",
     "output_type": "error",
     "traceback": [
      "\u001b[0;31m---------------------------------------------------------------------------\u001b[0m",
      "\u001b[0;31mHTTPError\u001b[0m                                 Traceback (most recent call last)",
      "\u001b[0;32m<ipython-input-165-35df7a6d3352>\u001b[0m in \u001b[0;36m<module>\u001b[0;34m\u001b[0m\n\u001b[1;32m      4\u001b[0m     \u001b[0mcurrent_results\u001b[0m \u001b[0;34m=\u001b[0m \u001b[0;34m[\u001b[0m\u001b[0;34m]\u001b[0m\u001b[0;34m\u001b[0m\u001b[0;34m\u001b[0m\u001b[0m\n\u001b[1;32m      5\u001b[0m \u001b[0;34m\u001b[0m\u001b[0m\n\u001b[0;32m----> 6\u001b[0;31m     \u001b[0;32mfor\u001b[0m \u001b[0mj\u001b[0m \u001b[0;32min\u001b[0m \u001b[0msearch\u001b[0m\u001b[0;34m(\u001b[0m\u001b[0mquery\u001b[0m\u001b[0;34m,\u001b[0m \u001b[0mtld\u001b[0m\u001b[0;34m=\u001b[0m\u001b[0;34m'com'\u001b[0m\u001b[0;34m,\u001b[0m \u001b[0mlang\u001b[0m\u001b[0;34m=\u001b[0m\u001b[0;34m'en'\u001b[0m\u001b[0;34m,\u001b[0m \u001b[0mnum\u001b[0m \u001b[0;34m=\u001b[0m \u001b[0;36m1\u001b[0m\u001b[0;34m,\u001b[0m \u001b[0mstart\u001b[0m\u001b[0;34m=\u001b[0m\u001b[0;36m0\u001b[0m\u001b[0;34m,\u001b[0m \u001b[0mstop\u001b[0m \u001b[0;34m=\u001b[0m \u001b[0;36m5\u001b[0m\u001b[0;34m,\u001b[0m \u001b[0mpause\u001b[0m \u001b[0;34m=\u001b[0m \u001b[0;36m2.0\u001b[0m\u001b[0;34m)\u001b[0m\u001b[0;34m:\u001b[0m\u001b[0;34m\u001b[0m\u001b[0;34m\u001b[0m\u001b[0m\n\u001b[0m\u001b[1;32m      7\u001b[0m         \u001b[0mcurrent_results\u001b[0m\u001b[0;34m.\u001b[0m\u001b[0mappend\u001b[0m\u001b[0;34m(\u001b[0m\u001b[0mj\u001b[0m\u001b[0;34m)\u001b[0m\u001b[0;34m\u001b[0m\u001b[0;34m\u001b[0m\u001b[0m\n\u001b[1;32m      8\u001b[0m \u001b[0;34m\u001b[0m\u001b[0m\n",
      "\u001b[0;32m~/anaconda3/envs/insight/lib/python3.8/site-packages/googlesearch/__init__.py\u001b[0m in \u001b[0;36msearch\u001b[0;34m(query, tld, lang, tbs, safe, num, start, stop, pause, country, extra_params, user_agent, verify_ssl)\u001b[0m\n\u001b[1;32m    303\u001b[0m \u001b[0;34m\u001b[0m\u001b[0m\n\u001b[1;32m    304\u001b[0m         \u001b[0;31m# Request the Google Search results page.\u001b[0m\u001b[0;34m\u001b[0m\u001b[0;34m\u001b[0m\u001b[0;34m\u001b[0m\u001b[0m\n\u001b[0;32m--> 305\u001b[0;31m         \u001b[0mhtml\u001b[0m \u001b[0;34m=\u001b[0m \u001b[0mget_page\u001b[0m\u001b[0;34m(\u001b[0m\u001b[0murl\u001b[0m\u001b[0;34m,\u001b[0m \u001b[0muser_agent\u001b[0m\u001b[0;34m,\u001b[0m \u001b[0mverify_ssl\u001b[0m\u001b[0;34m)\u001b[0m\u001b[0;34m\u001b[0m\u001b[0;34m\u001b[0m\u001b[0m\n\u001b[0m\u001b[1;32m    306\u001b[0m \u001b[0;34m\u001b[0m\u001b[0m\n\u001b[1;32m    307\u001b[0m         \u001b[0;31m# Parse the response and get every anchored URL.\u001b[0m\u001b[0;34m\u001b[0m\u001b[0;34m\u001b[0m\u001b[0;34m\u001b[0m\u001b[0m\n",
      "\u001b[0;32m~/anaconda3/envs/insight/lib/python3.8/site-packages/googlesearch/__init__.py\u001b[0m in \u001b[0;36mget_page\u001b[0;34m(url, user_agent, verify_ssl)\u001b[0m\n\u001b[1;32m    172\u001b[0m     \u001b[0mcookie_jar\u001b[0m\u001b[0;34m.\u001b[0m\u001b[0madd_cookie_header\u001b[0m\u001b[0;34m(\u001b[0m\u001b[0mrequest\u001b[0m\u001b[0;34m)\u001b[0m\u001b[0;34m\u001b[0m\u001b[0;34m\u001b[0m\u001b[0m\n\u001b[1;32m    173\u001b[0m     \u001b[0;32mif\u001b[0m \u001b[0mverify_ssl\u001b[0m\u001b[0;34m:\u001b[0m\u001b[0;34m\u001b[0m\u001b[0;34m\u001b[0m\u001b[0m\n\u001b[0;32m--> 174\u001b[0;31m         \u001b[0mresponse\u001b[0m \u001b[0;34m=\u001b[0m \u001b[0murlopen\u001b[0m\u001b[0;34m(\u001b[0m\u001b[0mrequest\u001b[0m\u001b[0;34m)\u001b[0m\u001b[0;34m\u001b[0m\u001b[0;34m\u001b[0m\u001b[0m\n\u001b[0m\u001b[1;32m    175\u001b[0m     \u001b[0;32melse\u001b[0m\u001b[0;34m:\u001b[0m\u001b[0;34m\u001b[0m\u001b[0;34m\u001b[0m\u001b[0m\n\u001b[1;32m    176\u001b[0m         \u001b[0mcontext\u001b[0m \u001b[0;34m=\u001b[0m \u001b[0mssl\u001b[0m\u001b[0;34m.\u001b[0m\u001b[0m_create_unverified_context\u001b[0m\u001b[0;34m(\u001b[0m\u001b[0;34m)\u001b[0m\u001b[0;34m\u001b[0m\u001b[0;34m\u001b[0m\u001b[0m\n",
      "\u001b[0;32m~/anaconda3/envs/insight/lib/python3.8/urllib/request.py\u001b[0m in \u001b[0;36murlopen\u001b[0;34m(url, data, timeout, cafile, capath, cadefault, context)\u001b[0m\n\u001b[1;32m    220\u001b[0m     \u001b[0;32melse\u001b[0m\u001b[0;34m:\u001b[0m\u001b[0;34m\u001b[0m\u001b[0;34m\u001b[0m\u001b[0m\n\u001b[1;32m    221\u001b[0m         \u001b[0mopener\u001b[0m \u001b[0;34m=\u001b[0m \u001b[0m_opener\u001b[0m\u001b[0;34m\u001b[0m\u001b[0;34m\u001b[0m\u001b[0m\n\u001b[0;32m--> 222\u001b[0;31m     \u001b[0;32mreturn\u001b[0m \u001b[0mopener\u001b[0m\u001b[0;34m.\u001b[0m\u001b[0mopen\u001b[0m\u001b[0;34m(\u001b[0m\u001b[0murl\u001b[0m\u001b[0;34m,\u001b[0m \u001b[0mdata\u001b[0m\u001b[0;34m,\u001b[0m \u001b[0mtimeout\u001b[0m\u001b[0;34m)\u001b[0m\u001b[0;34m\u001b[0m\u001b[0;34m\u001b[0m\u001b[0m\n\u001b[0m\u001b[1;32m    223\u001b[0m \u001b[0;34m\u001b[0m\u001b[0m\n\u001b[1;32m    224\u001b[0m \u001b[0;32mdef\u001b[0m \u001b[0minstall_opener\u001b[0m\u001b[0;34m(\u001b[0m\u001b[0mopener\u001b[0m\u001b[0;34m)\u001b[0m\u001b[0;34m:\u001b[0m\u001b[0;34m\u001b[0m\u001b[0;34m\u001b[0m\u001b[0m\n",
      "\u001b[0;32m~/anaconda3/envs/insight/lib/python3.8/urllib/request.py\u001b[0m in \u001b[0;36mopen\u001b[0;34m(self, fullurl, data, timeout)\u001b[0m\n\u001b[1;32m    529\u001b[0m         \u001b[0;32mfor\u001b[0m \u001b[0mprocessor\u001b[0m \u001b[0;32min\u001b[0m \u001b[0mself\u001b[0m\u001b[0;34m.\u001b[0m\u001b[0mprocess_response\u001b[0m\u001b[0;34m.\u001b[0m\u001b[0mget\u001b[0m\u001b[0;34m(\u001b[0m\u001b[0mprotocol\u001b[0m\u001b[0;34m,\u001b[0m \u001b[0;34m[\u001b[0m\u001b[0;34m]\u001b[0m\u001b[0;34m)\u001b[0m\u001b[0;34m:\u001b[0m\u001b[0;34m\u001b[0m\u001b[0;34m\u001b[0m\u001b[0m\n\u001b[1;32m    530\u001b[0m             \u001b[0mmeth\u001b[0m \u001b[0;34m=\u001b[0m \u001b[0mgetattr\u001b[0m\u001b[0;34m(\u001b[0m\u001b[0mprocessor\u001b[0m\u001b[0;34m,\u001b[0m \u001b[0mmeth_name\u001b[0m\u001b[0;34m)\u001b[0m\u001b[0;34m\u001b[0m\u001b[0;34m\u001b[0m\u001b[0m\n\u001b[0;32m--> 531\u001b[0;31m             \u001b[0mresponse\u001b[0m \u001b[0;34m=\u001b[0m \u001b[0mmeth\u001b[0m\u001b[0;34m(\u001b[0m\u001b[0mreq\u001b[0m\u001b[0;34m,\u001b[0m \u001b[0mresponse\u001b[0m\u001b[0;34m)\u001b[0m\u001b[0;34m\u001b[0m\u001b[0;34m\u001b[0m\u001b[0m\n\u001b[0m\u001b[1;32m    532\u001b[0m \u001b[0;34m\u001b[0m\u001b[0m\n\u001b[1;32m    533\u001b[0m         \u001b[0;32mreturn\u001b[0m \u001b[0mresponse\u001b[0m\u001b[0;34m\u001b[0m\u001b[0;34m\u001b[0m\u001b[0m\n",
      "\u001b[0;32m~/anaconda3/envs/insight/lib/python3.8/urllib/request.py\u001b[0m in \u001b[0;36mhttp_response\u001b[0;34m(self, request, response)\u001b[0m\n\u001b[1;32m    638\u001b[0m         \u001b[0;31m# request was successfully received, understood, and accepted.\u001b[0m\u001b[0;34m\u001b[0m\u001b[0;34m\u001b[0m\u001b[0;34m\u001b[0m\u001b[0m\n\u001b[1;32m    639\u001b[0m         \u001b[0;32mif\u001b[0m \u001b[0;32mnot\u001b[0m \u001b[0;34m(\u001b[0m\u001b[0;36m200\u001b[0m \u001b[0;34m<=\u001b[0m \u001b[0mcode\u001b[0m \u001b[0;34m<\u001b[0m \u001b[0;36m300\u001b[0m\u001b[0;34m)\u001b[0m\u001b[0;34m:\u001b[0m\u001b[0;34m\u001b[0m\u001b[0;34m\u001b[0m\u001b[0m\n\u001b[0;32m--> 640\u001b[0;31m             response = self.parent.error(\n\u001b[0m\u001b[1;32m    641\u001b[0m                 'http', request, response, code, msg, hdrs)\n\u001b[1;32m    642\u001b[0m \u001b[0;34m\u001b[0m\u001b[0m\n",
      "\u001b[0;32m~/anaconda3/envs/insight/lib/python3.8/urllib/request.py\u001b[0m in \u001b[0;36merror\u001b[0;34m(self, proto, *args)\u001b[0m\n\u001b[1;32m    561\u001b[0m             \u001b[0mhttp_err\u001b[0m \u001b[0;34m=\u001b[0m \u001b[0;36m0\u001b[0m\u001b[0;34m\u001b[0m\u001b[0;34m\u001b[0m\u001b[0m\n\u001b[1;32m    562\u001b[0m         \u001b[0margs\u001b[0m \u001b[0;34m=\u001b[0m \u001b[0;34m(\u001b[0m\u001b[0mdict\u001b[0m\u001b[0;34m,\u001b[0m \u001b[0mproto\u001b[0m\u001b[0;34m,\u001b[0m \u001b[0mmeth_name\u001b[0m\u001b[0;34m)\u001b[0m \u001b[0;34m+\u001b[0m \u001b[0margs\u001b[0m\u001b[0;34m\u001b[0m\u001b[0;34m\u001b[0m\u001b[0m\n\u001b[0;32m--> 563\u001b[0;31m         \u001b[0mresult\u001b[0m \u001b[0;34m=\u001b[0m \u001b[0mself\u001b[0m\u001b[0;34m.\u001b[0m\u001b[0m_call_chain\u001b[0m\u001b[0;34m(\u001b[0m\u001b[0;34m*\u001b[0m\u001b[0margs\u001b[0m\u001b[0;34m)\u001b[0m\u001b[0;34m\u001b[0m\u001b[0;34m\u001b[0m\u001b[0m\n\u001b[0m\u001b[1;32m    564\u001b[0m         \u001b[0;32mif\u001b[0m \u001b[0mresult\u001b[0m\u001b[0;34m:\u001b[0m\u001b[0;34m\u001b[0m\u001b[0;34m\u001b[0m\u001b[0m\n\u001b[1;32m    565\u001b[0m             \u001b[0;32mreturn\u001b[0m \u001b[0mresult\u001b[0m\u001b[0;34m\u001b[0m\u001b[0;34m\u001b[0m\u001b[0m\n",
      "\u001b[0;32m~/anaconda3/envs/insight/lib/python3.8/urllib/request.py\u001b[0m in \u001b[0;36m_call_chain\u001b[0;34m(self, chain, kind, meth_name, *args)\u001b[0m\n\u001b[1;32m    500\u001b[0m         \u001b[0;32mfor\u001b[0m \u001b[0mhandler\u001b[0m \u001b[0;32min\u001b[0m \u001b[0mhandlers\u001b[0m\u001b[0;34m:\u001b[0m\u001b[0;34m\u001b[0m\u001b[0;34m\u001b[0m\u001b[0m\n\u001b[1;32m    501\u001b[0m             \u001b[0mfunc\u001b[0m \u001b[0;34m=\u001b[0m \u001b[0mgetattr\u001b[0m\u001b[0;34m(\u001b[0m\u001b[0mhandler\u001b[0m\u001b[0;34m,\u001b[0m \u001b[0mmeth_name\u001b[0m\u001b[0;34m)\u001b[0m\u001b[0;34m\u001b[0m\u001b[0;34m\u001b[0m\u001b[0m\n\u001b[0;32m--> 502\u001b[0;31m             \u001b[0mresult\u001b[0m \u001b[0;34m=\u001b[0m \u001b[0mfunc\u001b[0m\u001b[0;34m(\u001b[0m\u001b[0;34m*\u001b[0m\u001b[0margs\u001b[0m\u001b[0;34m)\u001b[0m\u001b[0;34m\u001b[0m\u001b[0;34m\u001b[0m\u001b[0m\n\u001b[0m\u001b[1;32m    503\u001b[0m             \u001b[0;32mif\u001b[0m \u001b[0mresult\u001b[0m \u001b[0;32mis\u001b[0m \u001b[0;32mnot\u001b[0m \u001b[0;32mNone\u001b[0m\u001b[0;34m:\u001b[0m\u001b[0;34m\u001b[0m\u001b[0;34m\u001b[0m\u001b[0m\n\u001b[1;32m    504\u001b[0m                 \u001b[0;32mreturn\u001b[0m \u001b[0mresult\u001b[0m\u001b[0;34m\u001b[0m\u001b[0;34m\u001b[0m\u001b[0m\n",
      "\u001b[0;32m~/anaconda3/envs/insight/lib/python3.8/urllib/request.py\u001b[0m in \u001b[0;36mhttp_error_302\u001b[0;34m(self, req, fp, code, msg, headers)\u001b[0m\n\u001b[1;32m    753\u001b[0m         \u001b[0mfp\u001b[0m\u001b[0;34m.\u001b[0m\u001b[0mclose\u001b[0m\u001b[0;34m(\u001b[0m\u001b[0;34m)\u001b[0m\u001b[0;34m\u001b[0m\u001b[0;34m\u001b[0m\u001b[0m\n\u001b[1;32m    754\u001b[0m \u001b[0;34m\u001b[0m\u001b[0m\n\u001b[0;32m--> 755\u001b[0;31m         \u001b[0;32mreturn\u001b[0m \u001b[0mself\u001b[0m\u001b[0;34m.\u001b[0m\u001b[0mparent\u001b[0m\u001b[0;34m.\u001b[0m\u001b[0mopen\u001b[0m\u001b[0;34m(\u001b[0m\u001b[0mnew\u001b[0m\u001b[0;34m,\u001b[0m \u001b[0mtimeout\u001b[0m\u001b[0;34m=\u001b[0m\u001b[0mreq\u001b[0m\u001b[0;34m.\u001b[0m\u001b[0mtimeout\u001b[0m\u001b[0;34m)\u001b[0m\u001b[0;34m\u001b[0m\u001b[0;34m\u001b[0m\u001b[0m\n\u001b[0m\u001b[1;32m    756\u001b[0m \u001b[0;34m\u001b[0m\u001b[0m\n\u001b[1;32m    757\u001b[0m     \u001b[0mhttp_error_301\u001b[0m \u001b[0;34m=\u001b[0m \u001b[0mhttp_error_303\u001b[0m \u001b[0;34m=\u001b[0m \u001b[0mhttp_error_307\u001b[0m \u001b[0;34m=\u001b[0m \u001b[0mhttp_error_302\u001b[0m\u001b[0;34m\u001b[0m\u001b[0;34m\u001b[0m\u001b[0m\n",
      "\u001b[0;32m~/anaconda3/envs/insight/lib/python3.8/urllib/request.py\u001b[0m in \u001b[0;36mopen\u001b[0;34m(self, fullurl, data, timeout)\u001b[0m\n\u001b[1;32m    529\u001b[0m         \u001b[0;32mfor\u001b[0m \u001b[0mprocessor\u001b[0m \u001b[0;32min\u001b[0m \u001b[0mself\u001b[0m\u001b[0;34m.\u001b[0m\u001b[0mprocess_response\u001b[0m\u001b[0;34m.\u001b[0m\u001b[0mget\u001b[0m\u001b[0;34m(\u001b[0m\u001b[0mprotocol\u001b[0m\u001b[0;34m,\u001b[0m \u001b[0;34m[\u001b[0m\u001b[0;34m]\u001b[0m\u001b[0;34m)\u001b[0m\u001b[0;34m:\u001b[0m\u001b[0;34m\u001b[0m\u001b[0;34m\u001b[0m\u001b[0m\n\u001b[1;32m    530\u001b[0m             \u001b[0mmeth\u001b[0m \u001b[0;34m=\u001b[0m \u001b[0mgetattr\u001b[0m\u001b[0;34m(\u001b[0m\u001b[0mprocessor\u001b[0m\u001b[0;34m,\u001b[0m \u001b[0mmeth_name\u001b[0m\u001b[0;34m)\u001b[0m\u001b[0;34m\u001b[0m\u001b[0;34m\u001b[0m\u001b[0m\n\u001b[0;32m--> 531\u001b[0;31m             \u001b[0mresponse\u001b[0m \u001b[0;34m=\u001b[0m \u001b[0mmeth\u001b[0m\u001b[0;34m(\u001b[0m\u001b[0mreq\u001b[0m\u001b[0;34m,\u001b[0m \u001b[0mresponse\u001b[0m\u001b[0;34m)\u001b[0m\u001b[0;34m\u001b[0m\u001b[0;34m\u001b[0m\u001b[0m\n\u001b[0m\u001b[1;32m    532\u001b[0m \u001b[0;34m\u001b[0m\u001b[0m\n\u001b[1;32m    533\u001b[0m         \u001b[0;32mreturn\u001b[0m \u001b[0mresponse\u001b[0m\u001b[0;34m\u001b[0m\u001b[0;34m\u001b[0m\u001b[0m\n",
      "\u001b[0;32m~/anaconda3/envs/insight/lib/python3.8/urllib/request.py\u001b[0m in \u001b[0;36mhttp_response\u001b[0;34m(self, request, response)\u001b[0m\n\u001b[1;32m    638\u001b[0m         \u001b[0;31m# request was successfully received, understood, and accepted.\u001b[0m\u001b[0;34m\u001b[0m\u001b[0;34m\u001b[0m\u001b[0;34m\u001b[0m\u001b[0m\n\u001b[1;32m    639\u001b[0m         \u001b[0;32mif\u001b[0m \u001b[0;32mnot\u001b[0m \u001b[0;34m(\u001b[0m\u001b[0;36m200\u001b[0m \u001b[0;34m<=\u001b[0m \u001b[0mcode\u001b[0m \u001b[0;34m<\u001b[0m \u001b[0;36m300\u001b[0m\u001b[0;34m)\u001b[0m\u001b[0;34m:\u001b[0m\u001b[0;34m\u001b[0m\u001b[0;34m\u001b[0m\u001b[0m\n\u001b[0;32m--> 640\u001b[0;31m             response = self.parent.error(\n\u001b[0m\u001b[1;32m    641\u001b[0m                 'http', request, response, code, msg, hdrs)\n\u001b[1;32m    642\u001b[0m \u001b[0;34m\u001b[0m\u001b[0m\n",
      "\u001b[0;32m~/anaconda3/envs/insight/lib/python3.8/urllib/request.py\u001b[0m in \u001b[0;36merror\u001b[0;34m(self, proto, *args)\u001b[0m\n\u001b[1;32m    567\u001b[0m         \u001b[0;32mif\u001b[0m \u001b[0mhttp_err\u001b[0m\u001b[0;34m:\u001b[0m\u001b[0;34m\u001b[0m\u001b[0;34m\u001b[0m\u001b[0m\n\u001b[1;32m    568\u001b[0m             \u001b[0margs\u001b[0m \u001b[0;34m=\u001b[0m \u001b[0;34m(\u001b[0m\u001b[0mdict\u001b[0m\u001b[0;34m,\u001b[0m \u001b[0;34m'default'\u001b[0m\u001b[0;34m,\u001b[0m \u001b[0;34m'http_error_default'\u001b[0m\u001b[0;34m)\u001b[0m \u001b[0;34m+\u001b[0m \u001b[0morig_args\u001b[0m\u001b[0;34m\u001b[0m\u001b[0;34m\u001b[0m\u001b[0m\n\u001b[0;32m--> 569\u001b[0;31m             \u001b[0;32mreturn\u001b[0m \u001b[0mself\u001b[0m\u001b[0;34m.\u001b[0m\u001b[0m_call_chain\u001b[0m\u001b[0;34m(\u001b[0m\u001b[0;34m*\u001b[0m\u001b[0margs\u001b[0m\u001b[0;34m)\u001b[0m\u001b[0;34m\u001b[0m\u001b[0;34m\u001b[0m\u001b[0m\n\u001b[0m\u001b[1;32m    570\u001b[0m \u001b[0;34m\u001b[0m\u001b[0m\n\u001b[1;32m    571\u001b[0m \u001b[0;31m# XXX probably also want an abstract factory that knows when it makes\u001b[0m\u001b[0;34m\u001b[0m\u001b[0;34m\u001b[0m\u001b[0;34m\u001b[0m\u001b[0m\n",
      "\u001b[0;32m~/anaconda3/envs/insight/lib/python3.8/urllib/request.py\u001b[0m in \u001b[0;36m_call_chain\u001b[0;34m(self, chain, kind, meth_name, *args)\u001b[0m\n\u001b[1;32m    500\u001b[0m         \u001b[0;32mfor\u001b[0m \u001b[0mhandler\u001b[0m \u001b[0;32min\u001b[0m \u001b[0mhandlers\u001b[0m\u001b[0;34m:\u001b[0m\u001b[0;34m\u001b[0m\u001b[0;34m\u001b[0m\u001b[0m\n\u001b[1;32m    501\u001b[0m             \u001b[0mfunc\u001b[0m \u001b[0;34m=\u001b[0m \u001b[0mgetattr\u001b[0m\u001b[0;34m(\u001b[0m\u001b[0mhandler\u001b[0m\u001b[0;34m,\u001b[0m \u001b[0mmeth_name\u001b[0m\u001b[0;34m)\u001b[0m\u001b[0;34m\u001b[0m\u001b[0;34m\u001b[0m\u001b[0m\n\u001b[0;32m--> 502\u001b[0;31m             \u001b[0mresult\u001b[0m \u001b[0;34m=\u001b[0m \u001b[0mfunc\u001b[0m\u001b[0;34m(\u001b[0m\u001b[0;34m*\u001b[0m\u001b[0margs\u001b[0m\u001b[0;34m)\u001b[0m\u001b[0;34m\u001b[0m\u001b[0;34m\u001b[0m\u001b[0m\n\u001b[0m\u001b[1;32m    503\u001b[0m             \u001b[0;32mif\u001b[0m \u001b[0mresult\u001b[0m \u001b[0;32mis\u001b[0m \u001b[0;32mnot\u001b[0m \u001b[0;32mNone\u001b[0m\u001b[0;34m:\u001b[0m\u001b[0;34m\u001b[0m\u001b[0;34m\u001b[0m\u001b[0m\n\u001b[1;32m    504\u001b[0m                 \u001b[0;32mreturn\u001b[0m \u001b[0mresult\u001b[0m\u001b[0;34m\u001b[0m\u001b[0;34m\u001b[0m\u001b[0m\n",
      "\u001b[0;32m~/anaconda3/envs/insight/lib/python3.8/urllib/request.py\u001b[0m in \u001b[0;36mhttp_error_default\u001b[0;34m(self, req, fp, code, msg, hdrs)\u001b[0m\n\u001b[1;32m    647\u001b[0m \u001b[0;32mclass\u001b[0m \u001b[0mHTTPDefaultErrorHandler\u001b[0m\u001b[0;34m(\u001b[0m\u001b[0mBaseHandler\u001b[0m\u001b[0;34m)\u001b[0m\u001b[0;34m:\u001b[0m\u001b[0;34m\u001b[0m\u001b[0;34m\u001b[0m\u001b[0m\n\u001b[1;32m    648\u001b[0m     \u001b[0;32mdef\u001b[0m \u001b[0mhttp_error_default\u001b[0m\u001b[0;34m(\u001b[0m\u001b[0mself\u001b[0m\u001b[0;34m,\u001b[0m \u001b[0mreq\u001b[0m\u001b[0;34m,\u001b[0m \u001b[0mfp\u001b[0m\u001b[0;34m,\u001b[0m \u001b[0mcode\u001b[0m\u001b[0;34m,\u001b[0m \u001b[0mmsg\u001b[0m\u001b[0;34m,\u001b[0m \u001b[0mhdrs\u001b[0m\u001b[0;34m)\u001b[0m\u001b[0;34m:\u001b[0m\u001b[0;34m\u001b[0m\u001b[0;34m\u001b[0m\u001b[0m\n\u001b[0;32m--> 649\u001b[0;31m         \u001b[0;32mraise\u001b[0m \u001b[0mHTTPError\u001b[0m\u001b[0;34m(\u001b[0m\u001b[0mreq\u001b[0m\u001b[0;34m.\u001b[0m\u001b[0mfull_url\u001b[0m\u001b[0;34m,\u001b[0m \u001b[0mcode\u001b[0m\u001b[0;34m,\u001b[0m \u001b[0mmsg\u001b[0m\u001b[0;34m,\u001b[0m \u001b[0mhdrs\u001b[0m\u001b[0;34m,\u001b[0m \u001b[0mfp\u001b[0m\u001b[0;34m)\u001b[0m\u001b[0;34m\u001b[0m\u001b[0;34m\u001b[0m\u001b[0m\n\u001b[0m\u001b[1;32m    650\u001b[0m \u001b[0;34m\u001b[0m\u001b[0m\n\u001b[1;32m    651\u001b[0m \u001b[0;32mclass\u001b[0m \u001b[0mHTTPRedirectHandler\u001b[0m\u001b[0;34m(\u001b[0m\u001b[0mBaseHandler\u001b[0m\u001b[0;34m)\u001b[0m\u001b[0;34m:\u001b[0m\u001b[0;34m\u001b[0m\u001b[0;34m\u001b[0m\u001b[0m\n",
      "\u001b[0;31mHTTPError\u001b[0m: HTTP Error 429: Too Many Requests"
     ]
    }
   ],
   "source": [
    "query_results = {}\n",
    "\n",
    "for ind, query in enumerate(queries):\n",
    "    current_results = []\n",
    "    \n",
    "    for j in search(query, tld='com', lang='en', num = 1, start=0, stop = 5, pause = 2.0):\n",
    "        current_results.append(j)\n",
    "        \n",
    "    query_results[all_sides_domains_test[ind]] = current_results\n",
    "    \n",
    "    "
   ]
  },
  {
   "cell_type": "code",
   "execution_count": 158,
   "metadata": {},
   "outputs": [
    {
     "name": "stdout",
     "output_type": "stream",
     "text": [
      "{'nytimes.com': ['https://www.nytimes.com/2020/03/11/business/economy/markets-plunge-coronavirus.html', 'https://www.nytimes.com/2020/03/07/business/coronavirus-stocks.html', 'https://www.nytimes.com/2020/03/09/business/stock-market-today.html', 'https://www.nytimes.com/live/2020/09/08/business/stock-market-today-coronavirus', 'https://www.nytimes.com/2020/04/08/business/live-stock-market-coronavirus.html'], 'apnews.com': [], 'reuters.com': ['https://uk.reuters.com/article/us-dowjones-newscorp-editors-1/wsj-editors-knew-of-murdoch-offer-in-advance-report-idUSN0841610820070508', 'https://in.reuters.com/article/usa-stocks/us-stocks-sp-wobbles-on-fresh-trade-uncertainty-disney-lifts-dow-idUKL2N27T1GE', 'https://www.reuters.com/article/us-ransquawk-dowjones-hotnews-lawsuit-idUSBREA4F0FE20140516', 'https://www.reuters.com/article/uk-dowjones/dow-jones-shares-surge-above-murdochs-bid-idUKN0128371520070601', 'https://www.reuters.com/article/usa-stocks/us-stocks-dow-futures-gain-on-caterpillar-earnings-idUSL4N1UQ41X'], 'wsj.com': ['https://www.wsj.com/articles/global-stock-markets-dow-update-05-18-2020-11589778000', 'https://www.wsj.com/articles/global-stock-markets-dow-update-7-15-2020-11594802644', 'https://www.wsj.com/articles/global-stock-markets-dow-update-7-20-2020-11595237456', 'https://www.wsj.com/articles/global-stock-markets-dow-update-7-22-2020-11595409287', 'https://www.wsj.com/articles/global-stock-markets-dow-update-5-19-2020-11589858790']}\n",
      "{\n",
      "    \"nytimes.com\": [\n",
      "        \"https://www.nytimes.com/2020/03/11/business/economy/markets-plunge-coronavirus.html\",\n",
      "        \"https://www.nytimes.com/2020/03/07/business/coronavirus-stocks.html\",\n",
      "        \"https://www.nytimes.com/2020/03/09/business/stock-market-today.html\",\n",
      "        \"https://www.nytimes.com/live/2020/09/08/business/stock-market-today-coronavirus\",\n",
      "        \"https://www.nytimes.com/2020/04/08/business/live-stock-market-coronavirus.html\"\n",
      "    ],\n",
      "    \"apnews.com\": [],\n",
      "    \"reuters.com\": [\n",
      "        \"https://uk.reuters.com/article/us-dowjones-newscorp-editors-1/wsj-editors-knew-of-murdoch-offer-in-advance-report-idUSN0841610820070508\",\n",
      "        \"https://in.reuters.com/article/usa-stocks/us-stocks-sp-wobbles-on-fresh-trade-uncertainty-disney-lifts-dow-idUKL2N27T1GE\",\n",
      "        \"https://www.reuters.com/article/us-ransquawk-dowjones-hotnews-lawsuit-idUSBREA4F0FE20140516\",\n",
      "        \"https://www.reuters.com/article/uk-dowjones/dow-jones-shares-surge-above-murdochs-bid-idUKN0128371520070601\",\n",
      "        \"https://www.reuters.com/article/usa-stocks/us-stocks-dow-futures-gain-on-caterpillar-earnings-idUSL4N1UQ41X\"\n",
      "    ],\n",
      "    \"wsj.com\": [\n",
      "        \"https://www.wsj.com/articles/global-stock-markets-dow-update-05-18-2020-11589778000\",\n",
      "        \"https://www.wsj.com/articles/global-stock-markets-dow-update-7-15-2020-11594802644\",\n",
      "        \"https://www.wsj.com/articles/global-stock-markets-dow-update-7-20-2020-11595237456\",\n",
      "        \"https://www.wsj.com/articles/global-stock-markets-dow-update-7-22-2020-11595409287\",\n",
      "        \"https://www.wsj.com/articles/global-stock-markets-dow-update-5-19-2020-11589858790\"\n",
      "    ]\n",
      "}\n"
     ]
    }
   ],
   "source": [
    "print(query_results)\n",
    "json_object = json.dumps(query_results, indent = 4) \n",
    "print(json_object)"
   ]
  },
  {
   "cell_type": "code",
   "execution_count": 153,
   "metadata": {},
   "outputs": [
    {
     "name": "stdout",
     "output_type": "stream",
     "text": [
      "{'nytimes.com': ['https://www.nytimes.com/2019/11/18/well/mind/when-mental-illness-is-severe.html', 'https://www.nytimes.com/2013/02/03/opinion/sunday/sunday-dialogue-treating-the-mentally-ill.html', 'https://www.nytimes.com/2003/03/04/health/behavior-revising-the-script-on-mental-illness-and-violence.html', 'https://www.nytimes.com/2015/08/29/opinion/how-to-halt-the-violence-treat-mental-illness.html', 'https://www.nytimes.com/2019/12/13/nyregion/Kirby-Forensic-Psychiatric-Center.html'], 'apnews.com': ['https://apnews.com/b0b1034de6d24fd4b0dd2f9367442449', 'https://apnews.com/a9fbf8f4f0e04b02b1431fa7d414b39c', 'https://apnews.com/a2271d537dce45b597d7db5ef230558a/US:-Care-lacking-at-troubled-Washington-psychiatric-hospital', 'https://apnews.com/befb2ad037624b94a13456ba02bf7fad', 'https://apnews.com/e60b31a60d4d453bab1ddd6e7af9f3a0'], 'reuters.com': ['https://www.reuters.com/article/us-usa-shooting-mentalyill/u-s-mentally-ill-and-their-families-face-barriers-to-care-idUSBRE8BS07O20121229?feedType=RSS&feedName=domesticNews', 'https://www.reuters.com/article/us-health-mentalillness-crime-victims-idUSKCN1IX5W2', 'https://www.reuters.com/article/us-usa-shooting-trump-guns-idUSKCN1V52H3', 'https://www.reuters.com/article/us-special-free/special-courts-help-mentally-ill-stay-crime-free-idUSHAR30209320071013', 'https://www.reuters.com/article/us-yelling-parents-teens-idUSBRE9B914020131210'], 'wsj.com': ['https://www.wsj.com/articles/mental-illness-and-mass-murder-11564955203', 'https://www.wsj.com/articles/SB121297144756555917', 'https://www.wsj.com/articles/SB10001424127887323463704578495154217291958', 'https://www.wsj.com/articles/SB902183542448858500', 'https://www.wsj.com/articles/SB117764101327484407']}\n"
     ]
    },
    {
     "data": {
      "text/html": [
       "<div>\n",
       "<style scoped>\n",
       "    .dataframe tbody tr th:only-of-type {\n",
       "        vertical-align: middle;\n",
       "    }\n",
       "\n",
       "    .dataframe tbody tr th {\n",
       "        vertical-align: top;\n",
       "    }\n",
       "\n",
       "    .dataframe thead th {\n",
       "        text-align: right;\n",
       "    }\n",
       "</style>\n",
       "<table border=\"1\" class=\"dataframe\">\n",
       "  <thead>\n",
       "    <tr style=\"text-align: right;\">\n",
       "      <th></th>\n",
       "      <th>nytimes.com</th>\n",
       "      <th>apnews.com</th>\n",
       "      <th>reuters.com</th>\n",
       "      <th>wsj.com</th>\n",
       "    </tr>\n",
       "  </thead>\n",
       "  <tbody>\n",
       "    <tr>\n",
       "      <th>0</th>\n",
       "      <td>https://www.nytimes.com/2019/11/18/well/mind/w...</td>\n",
       "      <td>https://apnews.com/b0b1034de6d24fd4b0dd2f93674...</td>\n",
       "      <td>https://www.reuters.com/article/us-usa-shootin...</td>\n",
       "      <td>https://www.wsj.com/articles/mental-illness-an...</td>\n",
       "    </tr>\n",
       "    <tr>\n",
       "      <th>1</th>\n",
       "      <td>https://www.nytimes.com/2013/02/03/opinion/sun...</td>\n",
       "      <td>https://apnews.com/a9fbf8f4f0e04b02b1431fa7d41...</td>\n",
       "      <td>https://www.reuters.com/article/us-health-ment...</td>\n",
       "      <td>https://www.wsj.com/articles/SB121297144756555917</td>\n",
       "    </tr>\n",
       "    <tr>\n",
       "      <th>2</th>\n",
       "      <td>https://www.nytimes.com/2003/03/04/health/beha...</td>\n",
       "      <td>https://apnews.com/a2271d537dce45b597d7db5ef23...</td>\n",
       "      <td>https://www.reuters.com/article/us-usa-shootin...</td>\n",
       "      <td>https://www.wsj.com/articles/SB100014241278873...</td>\n",
       "    </tr>\n",
       "    <tr>\n",
       "      <th>3</th>\n",
       "      <td>https://www.nytimes.com/2015/08/29/opinion/how...</td>\n",
       "      <td>https://apnews.com/befb2ad037624b94a13456ba02b...</td>\n",
       "      <td>https://www.reuters.com/article/us-special-fre...</td>\n",
       "      <td>https://www.wsj.com/articles/SB902183542448858500</td>\n",
       "    </tr>\n",
       "    <tr>\n",
       "      <th>4</th>\n",
       "      <td>https://www.nytimes.com/2019/12/13/nyregion/Ki...</td>\n",
       "      <td>https://apnews.com/e60b31a60d4d453bab1ddd6e7af...</td>\n",
       "      <td>https://www.reuters.com/article/us-yelling-par...</td>\n",
       "      <td>https://www.wsj.com/articles/SB117764101327484407</td>\n",
       "    </tr>\n",
       "  </tbody>\n",
       "</table>\n",
       "</div>"
      ],
      "text/plain": [
       "                                         nytimes.com  \\\n",
       "0  https://www.nytimes.com/2019/11/18/well/mind/w...   \n",
       "1  https://www.nytimes.com/2013/02/03/opinion/sun...   \n",
       "2  https://www.nytimes.com/2003/03/04/health/beha...   \n",
       "3  https://www.nytimes.com/2015/08/29/opinion/how...   \n",
       "4  https://www.nytimes.com/2019/12/13/nyregion/Ki...   \n",
       "\n",
       "                                          apnews.com  \\\n",
       "0  https://apnews.com/b0b1034de6d24fd4b0dd2f93674...   \n",
       "1  https://apnews.com/a9fbf8f4f0e04b02b1431fa7d41...   \n",
       "2  https://apnews.com/a2271d537dce45b597d7db5ef23...   \n",
       "3  https://apnews.com/befb2ad037624b94a13456ba02b...   \n",
       "4  https://apnews.com/e60b31a60d4d453bab1ddd6e7af...   \n",
       "\n",
       "                                         reuters.com  \\\n",
       "0  https://www.reuters.com/article/us-usa-shootin...   \n",
       "1  https://www.reuters.com/article/us-health-ment...   \n",
       "2  https://www.reuters.com/article/us-usa-shootin...   \n",
       "3  https://www.reuters.com/article/us-special-fre...   \n",
       "4  https://www.reuters.com/article/us-yelling-par...   \n",
       "\n",
       "                                             wsj.com  \n",
       "0  https://www.wsj.com/articles/mental-illness-an...  \n",
       "1  https://www.wsj.com/articles/SB121297144756555917  \n",
       "2  https://www.wsj.com/articles/SB100014241278873...  \n",
       "3  https://www.wsj.com/articles/SB902183542448858500  \n",
       "4  https://www.wsj.com/articles/SB117764101327484407  "
      ]
     },
     "execution_count": 153,
     "metadata": {},
     "output_type": "execute_result"
    }
   ],
   "source": [
    "query_results_df = pd.DataFrame.from_dict(query_results)\n",
    "query_results_df.head()"
   ]
  },
  {
   "cell_type": "code",
   "execution_count": 121,
   "metadata": {},
   "outputs": [
    {
     "name": "stdout",
     "output_type": "stream",
     "text": [
      "{\"0\":{\"nytimes.com\":\"https:\\/\\/www.nytimes.com\\/2019\\/11\\/18\\/well\\/mind\\/when-mental-illness-is-severe.html\",\"apnews.com\":\"https:\\/\\/apnews.com\\/b0b1034de6d24fd4b0dd2f9367442449\",\"reuters.com\":\"https:\\/\\/www.reuters.com\\/article\\/us-usa-shooting-mentalyill\\/u-s-mentally-ill-and-their-families-face-barriers-to-care-idUSBRE8BS07O20121229?feedType=RSS&feedName=domesticNews\",\"wsj.com\":\"https:\\/\\/www.wsj.com\\/articles\\/mental-illness-and-mass-murder-11564955203\"},\"1\":{\"nytimes.com\":\"https:\\/\\/www.nytimes.com\\/2013\\/02\\/03\\/opinion\\/sunday\\/sunday-dialogue-treating-the-mentally-ill.html\",\"apnews.com\":\"https:\\/\\/apnews.com\\/a9fbf8f4f0e04b02b1431fa7d414b39c\",\"reuters.com\":\"https:\\/\\/www.reuters.com\\/article\\/us-health-mentalillness-crime-victims-idUSKCN1IX5W2\",\"wsj.com\":\"https:\\/\\/www.wsj.com\\/articles\\/SB121297144756555917\"},\"2\":{\"nytimes.com\":\"https:\\/\\/www.nytimes.com\\/2003\\/03\\/04\\/health\\/behavior-revising-the-script-on-mental-illness-and-violence.html\",\"apnews.com\":\"https:\\/\\/apnews.com\\/e60b31a60d4d453bab1ddd6e7af9f3a0\",\"reuters.com\":\"https:\\/\\/www.reuters.com\\/article\\/us-usa-shooting-trump-guns-idUSKCN1V52H3\",\"wsj.com\":\"https:\\/\\/www.wsj.com\\/articles\\/SB10001424127887323463704578495154217291958\"},\"3\":{\"nytimes.com\":\"https:\\/\\/www.nytimes.com\\/2015\\/08\\/29\\/opinion\\/how-to-halt-the-violence-treat-mental-illness.html\",\"apnews.com\":\"https:\\/\\/apnews.com\\/a2271d537dce45b597d7db5ef230558a\\/US:-Care-lacking-at-troubled-Washington-psychiatric-hospital\",\"reuters.com\":\"https:\\/\\/www.reuters.com\\/article\\/us-special-free\\/special-courts-help-mentally-ill-stay-crime-free-idUSHAR30209320071013\",\"wsj.com\":\"https:\\/\\/www.wsj.com\\/articles\\/SB902183542448858500\"},\"4\":{\"nytimes.com\":\"https:\\/\\/www.nytimes.com\\/2019\\/12\\/13\\/nyregion\\/Kirby-Forensic-Psychiatric-Center.html\",\"apnews.com\":\"https:\\/\\/apnews.com\\/d45a482b771b4c0bb2fa5a16067763d5\",\"reuters.com\":\"https:\\/\\/www.reuters.com\\/article\\/us-yelling-parents-teens-idUSBRE9B914020131210\",\"wsj.com\":\"https:\\/\\/www.wsj.com\\/articles\\/SB117764101327484407\"}}\n"
     ]
    }
   ],
   "source": [
    "# Serializing json    \n",
    "json_object = json.dumps(query_results, indent = 4)   \n",
    "# json_object = json.dumps(topics_frequency_dict, indent = 4)\n",
    "# print(json_object)  \n",
    "\n",
    "json_object_df = query_results_df.to_json(orient='index')\n",
    "print(json_object_df)\n",
    "# print(all_sides_names_domains)\n",
    "# all_news_df.apply(lambda x: len(x['content'].split(' ')),axis=1)"
   ]
  },
  {
   "cell_type": "code",
   "execution_count": 125,
   "metadata": {},
   "outputs": [
    {
     "ename": "TypeError",
     "evalue": "string indices must be integers",
     "output_type": "error",
     "traceback": [
      "\u001b[0;31m---------------------------------------------------------------------------\u001b[0m",
      "\u001b[0;31mTypeError\u001b[0m                                 Traceback (most recent call last)",
      "\u001b[0;32m<ipython-input-125-3024c4532b68>\u001b[0m in \u001b[0;36m<module>\u001b[0;34m\u001b[0m\n\u001b[0;32m----> 1\u001b[0;31m \u001b[0mjson_object_df\u001b[0m\u001b[0;34m[\u001b[0m\u001b[0;34m\"0\"\u001b[0m\u001b[0;34m]\u001b[0m\u001b[0;34m\u001b[0m\u001b[0;34m\u001b[0m\u001b[0m\n\u001b[0m",
      "\u001b[0;31mTypeError\u001b[0m: string indices must be integers"
     ]
    }
   ],
   "source": [
    "json_object_df[\"0\"]"
   ]
  },
  {
   "cell_type": "code",
   "execution_count": 55,
   "metadata": {},
   "outputs": [
    {
     "name": "stdout",
     "output_type": "stream",
     "text": [
      "site:abcnews.go.com reverse driver vance calderazzo bikers\n",
      "ABC News (Online)\n",
      " \n",
      "site:aljazeera.com reverse driver vance calderazzo bikers\n",
      "Al Jazeera\n",
      " \n",
      "site:apnews.com reverse driver vance calderazzo bikers\n",
      "Associated Press\n",
      " \n",
      "site:bbc.com reverse driver vance calderazzo bikers\n",
      "BBC News\n",
      " \n",
      "site:bloomberg.com reverse driver vance calderazzo bikers\n",
      "Bloomberg\n",
      " \n",
      "site:breitbart.com reverse driver vance calderazzo bikers\n",
      "Breitbart News\n",
      " \n",
      "site:buzzfeednews.com reverse driver vance calderazzo bikers\n",
      "BuzzFeed News\n",
      " \n",
      "site:cbn.com reverse driver vance calderazzo bikers\n",
      "CBN\n",
      " \n",
      "site:cbsnews.com reverse driver vance calderazzo bikers\n",
      "CBS News\n",
      " \n",
      "site:csmonitor.com reverse driver vance calderazzo bikers\n",
      "Christian Science Monitor\n",
      " \n",
      "site:cnn.com reverse driver vance calderazzo bikers\n",
      "CNN (Web News)\n",
      " \n",
      "site:thedailybeast.com reverse driver vance calderazzo bikers\n",
      "Daily Beast\n",
      " \n",
      "site:democracynow.org reverse driver vance calderazzo bikers\n",
      "Democracy Now\n",
      " \n",
      "site:factcheck.org reverse driver vance calderazzo bikers\n",
      "FactCheck.org\n",
      " \n",
      "site:forbes.com reverse driver vance calderazzo bikers\n",
      "Forbes\n",
      " \n",
      "site:foxnews.com reverse driver vance calderazzo bikers\n",
      "Fox News (Online)\n",
      " \n",
      "site:huffpost.com reverse driver vance calderazzo bikers\n",
      "HuffPost\n",
      " \n",
      "site:motherjones.com reverse driver vance calderazzo bikers\n",
      "Mother Jones\n",
      " \n",
      "site:msnbc.com reverse driver vance calderazzo bikers\n",
      "MSNBC\n",
      " \n",
      "site:nationalreview.com reverse driver vance calderazzo bikers\n",
      "National Review\n",
      " \n",
      "site:nbcnews.com reverse driver vance calderazzo bikers\n",
      "NBC News (Online)\n",
      " \n",
      "site:nypost.com reverse driver vance calderazzo bikers\n",
      "New York Post\n",
      " \n",
      "site:nytimes.com reverse driver vance calderazzo bikers\n",
      "New York Times (Online News)\n",
      " \n",
      "site:newsmax.com reverse driver vance calderazzo bikers\n",
      "Newsmax - News\n",
      " \n",
      "site:npr.org reverse driver vance calderazzo bikers\n",
      "NPR Online News\n",
      " \n",
      "site:politico.com reverse driver vance calderazzo bikers\n",
      "Politico\n",
      " \n",
      "site:reason.com reverse driver vance calderazzo bikers\n",
      "Reason\n",
      " \n",
      "site:reuters.com reverse driver vance calderazzo bikers\n",
      "Reuters\n",
      " \n",
      "site:salon.com reverse driver vance calderazzo bikers\n",
      "Salon\n",
      " \n",
      "site:spectator.org reverse driver vance calderazzo bikers\n",
      "The American Spectator\n",
      " \n",
      "site:theatlantic.com reverse driver vance calderazzo bikers\n",
      "The Atlantic\n",
      " \n",
      "site:theguardian.com reverse driver vance calderazzo bikers\n",
      "The Guardian\n",
      " \n",
      "site:thehill.com reverse driver vance calderazzo bikers\n",
      "The Hill\n",
      " \n",
      "site:wsj.com reverse driver vance calderazzo bikers\n",
      "The Wall Street Journal\n",
      " \n"
     ]
    }
   ],
   "source": [
    "for ind, query in enumerate(queries):\n",
    "    print(query)\n",
    "    print(all_sides_names.iloc[ind])\n",
    "    print(' ')"
   ]
  },
  {
   "cell_type": "code",
   "execution_count": null,
   "metadata": {},
   "outputs": [],
   "source": [
    "str(lda_top_topic_words)"
   ]
  },
  {
   "cell_type": "code",
   "execution_count": null,
   "metadata": {},
   "outputs": [],
   "source": [
    "article_text[0]"
   ]
  },
  {
   "cell_type": "code",
   "execution_count": null,
   "metadata": {},
   "outputs": [],
   "source": []
  }
 ],
 "metadata": {
  "kernelspec": {
   "display_name": "Python 3",
   "language": "python",
   "name": "python3"
  },
  "language_info": {
   "codemirror_mode": {
    "name": "ipython",
    "version": 3
   },
   "file_extension": ".py",
   "mimetype": "text/x-python",
   "name": "python",
   "nbconvert_exporter": "python",
   "pygments_lexer": "ipython3",
   "version": "3.7.9"
  }
 },
 "nbformat": 4,
 "nbformat_minor": 4
}
