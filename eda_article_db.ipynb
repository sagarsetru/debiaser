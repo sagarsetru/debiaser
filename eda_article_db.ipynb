{
 "cells": [
  {
   "cell_type": "markdown",
   "metadata": {},
   "source": [
    "# EDA (downloaded document corpus) for 'debiaser' data product\n",
    "#### Sagar Setru, September 21th, 2020"
   ]
  },
  {
   "cell_type": "markdown",
   "metadata": {},
   "source": [
    "## Brief description using CoNVO framework"
   ]
  },
  {
   "cell_type": "markdown",
   "metadata": {},
   "source": [
    "### Context\n",
    "\n",
    "Some people are eager to get news from outside of their echo chamber. However, they do not know where to go outside of their echo chambers, and may also have some activation energy when it comes to seeking information from other sources. In the meantime, most newsfeeds only push you content that you agree with. You end up in an echo chamber, but may not have ever wanted to be in one in the first place."
   ]
  },
  {
   "cell_type": "markdown",
   "metadata": {},
   "source": [
    "### Need\n",
    "\n",
    "A way to find news articles from different yet reliable media sources."
   ]
  },
  {
   "cell_type": "markdown",
   "metadata": {},
   "source": [
    "### Vision\n",
    "\n",
    "Debiaser, a data product (maybe Chrome plug-in?) that will recommend news articles similar in topic to the one currently being read, but from several pre-curated and reliable news media organizations across the political spectrum, for example, following the \"media bias chart\" here https://www.adfontesmedia.com/ or the \"media bias ratings\" here: https://www.allsides.com/media-bias/media-bias-ratings. The app will determine the main topics of the text of a news article, and then show links to similar articles from other news organizations.\n",
    "\n",
    "The product will generate topics for a given document via latent Dirichlet allocation (LDA) and then search news websites for the topic words generated.\n",
    "\n",
    "Caveats: Many of these articles may be behind paywalls. News aggregators already basically do this. How different is this than just searching Google using the title of an article?"
   ]
  },
  {
   "cell_type": "markdown",
   "metadata": {},
   "source": [
    "### Outcome\n",
    "\n",
    "People who are motivated to engage in content outside of their echo chambers have a tool that enables them to quickly find news similar to what they are currently reading, but from a variety of news organizations."
   ]
  },
  {
   "cell_type": "markdown",
   "metadata": {},
   "source": [
    "### EDA of news articles database\n",
    "News articles taken from here: https://components.one/datasets/all-the-news-articles-dataset/"
   ]
  },
  {
   "cell_type": "code",
   "execution_count": 1,
   "metadata": {},
   "outputs": [],
   "source": [
    "import pandas as pd\n",
    "import seaborn as sns\n",
    "import matplotlib.pyplot as plt\n",
    "import numpy as np\n",
    "import os"
   ]
  },
  {
   "cell_type": "code",
   "execution_count": 2,
   "metadata": {},
   "outputs": [
    {
     "name": "stdout",
     "output_type": "stream",
     "text": [
      "Conda environment:\n",
      "insight\n"
     ]
    }
   ],
   "source": [
    "# make sure I'm in the right environment (should be 'insight')\n",
    "print('Conda environment:')\n",
    "print(os.environ['CONDA_DEFAULT_ENV'])"
   ]
  },
  {
   "cell_type": "code",
   "execution_count": 3,
   "metadata": {},
   "outputs": [
    {
     "name": "stderr",
     "output_type": "stream",
     "text": [
      "/Users/sagarsetru/anaconda3/envs/insight/lib/python3.8/site-packages/IPython/core/interactiveshell.py:3145: DtypeWarning: Columns (0,1,11,12) have mixed types.Specify dtype option on import or set low_memory=False.\n",
      "  has_raised = await self.run_ast_nodes(code_ast.body, cell_name,\n"
     ]
    }
   ],
   "source": [
    "# get the entire news csv into data frame\n",
    "\n",
    "# get file name\n",
    "fname = './all_the_news/all_the_news_db.csv'\n",
    "\n",
    "# load into data frame\n",
    "all_news_df = pd.read_csv(fname)"
   ]
  },
  {
   "cell_type": "code",
   "execution_count": 4,
   "metadata": {},
   "outputs": [
    {
     "data": {
      "text/html": [
       "<div>\n",
       "<style scoped>\n",
       "    .dataframe tbody tr th:only-of-type {\n",
       "        vertical-align: middle;\n",
       "    }\n",
       "\n",
       "    .dataframe tbody tr th {\n",
       "        vertical-align: top;\n",
       "    }\n",
       "\n",
       "    .dataframe thead th {\n",
       "        text-align: right;\n",
       "    }\n",
       "</style>\n",
       "<table border=\"1\" class=\"dataframe\">\n",
       "  <thead>\n",
       "    <tr style=\"text-align: right;\">\n",
       "      <th></th>\n",
       "      <th>index</th>\n",
       "      <th>id</th>\n",
       "      <th>title</th>\n",
       "      <th>author</th>\n",
       "      <th>date</th>\n",
       "      <th>content</th>\n",
       "      <th>year</th>\n",
       "      <th>month</th>\n",
       "      <th>publication</th>\n",
       "      <th>category</th>\n",
       "      <th>digital</th>\n",
       "      <th>section</th>\n",
       "      <th>url</th>\n",
       "    </tr>\n",
       "  </thead>\n",
       "  <tbody>\n",
       "    <tr>\n",
       "      <th>0</th>\n",
       "      <td>0</td>\n",
       "      <td>1</td>\n",
       "      <td>Agent Cooper in Twin Peaks is the audience: on...</td>\n",
       "      <td>\\nTasha Robinson\\n</td>\n",
       "      <td>2017-05-31</td>\n",
       "      <td>And never more so than in Showtime’s new...</td>\n",
       "      <td>2017.0</td>\n",
       "      <td>5.0</td>\n",
       "      <td>Verge</td>\n",
       "      <td>Longform</td>\n",
       "      <td>1.0</td>\n",
       "      <td>NaN</td>\n",
       "      <td>NaN</td>\n",
       "    </tr>\n",
       "    <tr>\n",
       "      <th>1</th>\n",
       "      <td>1</td>\n",
       "      <td>2</td>\n",
       "      <td>AI, the humanity!</td>\n",
       "      <td>\\nSam Byford\\n</td>\n",
       "      <td>2017-05-30</td>\n",
       "      <td>AlphaGo’s victory isn’t a defeat for hum...</td>\n",
       "      <td>2017.0</td>\n",
       "      <td>5.0</td>\n",
       "      <td>Verge</td>\n",
       "      <td>Longform</td>\n",
       "      <td>1.0</td>\n",
       "      <td>NaN</td>\n",
       "      <td>NaN</td>\n",
       "    </tr>\n",
       "    <tr>\n",
       "      <th>2</th>\n",
       "      <td>2</td>\n",
       "      <td>3</td>\n",
       "      <td>The Viral Machine</td>\n",
       "      <td>\\nKaitlyn Tiffany\\n</td>\n",
       "      <td>2017-05-25</td>\n",
       "      <td>Super Deluxe built a weird internet empi...</td>\n",
       "      <td>2017.0</td>\n",
       "      <td>5.0</td>\n",
       "      <td>Verge</td>\n",
       "      <td>Longform</td>\n",
       "      <td>1.0</td>\n",
       "      <td>NaN</td>\n",
       "      <td>NaN</td>\n",
       "    </tr>\n",
       "    <tr>\n",
       "      <th>3</th>\n",
       "      <td>3</td>\n",
       "      <td>4</td>\n",
       "      <td>How Anker is beating Apple and Samsung at thei...</td>\n",
       "      <td>\\nNick Statt\\n</td>\n",
       "      <td>2017-05-22</td>\n",
       "      <td>Steven Yang quit his job at Google in th...</td>\n",
       "      <td>2017.0</td>\n",
       "      <td>5.0</td>\n",
       "      <td>Verge</td>\n",
       "      <td>Longform</td>\n",
       "      <td>1.0</td>\n",
       "      <td>NaN</td>\n",
       "      <td>NaN</td>\n",
       "    </tr>\n",
       "    <tr>\n",
       "      <th>4</th>\n",
       "      <td>4</td>\n",
       "      <td>5</td>\n",
       "      <td>Tour Black Panther’s reimagined homeland with ...</td>\n",
       "      <td>\\nKwame Opam\\n</td>\n",
       "      <td>2017-05-15</td>\n",
       "      <td>Ahead of Black Panther’s 2018 theatrical...</td>\n",
       "      <td>2017.0</td>\n",
       "      <td>5.0</td>\n",
       "      <td>Verge</td>\n",
       "      <td>Longform</td>\n",
       "      <td>1.0</td>\n",
       "      <td>NaN</td>\n",
       "      <td>NaN</td>\n",
       "    </tr>\n",
       "  </tbody>\n",
       "</table>\n",
       "</div>"
      ],
      "text/plain": [
       "  index id                                              title  \\\n",
       "0     0  1  Agent Cooper in Twin Peaks is the audience: on...   \n",
       "1     1  2                                  AI, the humanity!   \n",
       "2     2  3                                  The Viral Machine   \n",
       "3     3  4  How Anker is beating Apple and Samsung at thei...   \n",
       "4     4  5  Tour Black Panther’s reimagined homeland with ...   \n",
       "\n",
       "                author        date  \\\n",
       "0   \\nTasha Robinson\\n  2017-05-31   \n",
       "1       \\nSam Byford\\n  2017-05-30   \n",
       "2  \\nKaitlyn Tiffany\\n  2017-05-25   \n",
       "3       \\nNick Statt\\n  2017-05-22   \n",
       "4       \\nKwame Opam\\n  2017-05-15   \n",
       "\n",
       "                                             content    year  month  \\\n",
       "0        And never more so than in Showtime’s new...  2017.0    5.0   \n",
       "1        AlphaGo’s victory isn’t a defeat for hum...  2017.0    5.0   \n",
       "2        Super Deluxe built a weird internet empi...  2017.0    5.0   \n",
       "3        Steven Yang quit his job at Google in th...  2017.0    5.0   \n",
       "4        Ahead of Black Panther’s 2018 theatrical...  2017.0    5.0   \n",
       "\n",
       "  publication  category  digital section  url  \n",
       "0       Verge  Longform      1.0     NaN  NaN  \n",
       "1       Verge  Longform      1.0     NaN  NaN  \n",
       "2       Verge  Longform      1.0     NaN  NaN  \n",
       "3       Verge  Longform      1.0     NaN  NaN  \n",
       "4       Verge  Longform      1.0     NaN  NaN  "
      ]
     },
     "execution_count": 4,
     "metadata": {},
     "output_type": "execute_result"
    }
   ],
   "source": [
    "all_news_df.head()"
   ]
  },
  {
   "cell_type": "code",
   "execution_count": 5,
   "metadata": {},
   "outputs": [
    {
     "name": "stdout",
     "output_type": "stream",
     "text": [
      "Index(['index', 'id', 'title', 'author', 'date', 'content', 'year', 'month',\n",
      "       'publication', 'category', 'digital', 'section', 'url'],\n",
      "      dtype='object')\n"
     ]
    }
   ],
   "source": [
    "# show columns\n",
    "print(all_news_df.columns)"
   ]
  },
  {
   "cell_type": "code",
   "execution_count": 6,
   "metadata": {},
   "outputs": [
    {
     "data": {
      "text/html": [
       "<div>\n",
       "<style scoped>\n",
       "    .dataframe tbody tr th:only-of-type {\n",
       "        vertical-align: middle;\n",
       "    }\n",
       "\n",
       "    .dataframe tbody tr th {\n",
       "        vertical-align: top;\n",
       "    }\n",
       "\n",
       "    .dataframe thead th {\n",
       "        text-align: right;\n",
       "    }\n",
       "</style>\n",
       "<table border=\"1\" class=\"dataframe\">\n",
       "  <thead>\n",
       "    <tr style=\"text-align: right;\">\n",
       "      <th></th>\n",
       "      <th>year</th>\n",
       "      <th>month</th>\n",
       "      <th>digital</th>\n",
       "    </tr>\n",
       "  </thead>\n",
       "  <tbody>\n",
       "    <tr>\n",
       "      <th>count</th>\n",
       "      <td>191530.000000</td>\n",
       "      <td>191530.000000</td>\n",
       "      <td>193115.000000</td>\n",
       "    </tr>\n",
       "    <tr>\n",
       "      <th>mean</th>\n",
       "      <td>2016.312374</td>\n",
       "      <td>5.723589</td>\n",
       "      <td>1.060435</td>\n",
       "    </tr>\n",
       "    <tr>\n",
       "      <th>std</th>\n",
       "      <td>0.833314</td>\n",
       "      <td>3.467818</td>\n",
       "      <td>1.200331</td>\n",
       "    </tr>\n",
       "    <tr>\n",
       "      <th>min</th>\n",
       "      <td>2000.000000</td>\n",
       "      <td>1.000000</td>\n",
       "      <td>0.000000</td>\n",
       "    </tr>\n",
       "    <tr>\n",
       "      <th>25%</th>\n",
       "      <td>2016.000000</td>\n",
       "      <td>3.000000</td>\n",
       "      <td>0.000000</td>\n",
       "    </tr>\n",
       "    <tr>\n",
       "      <th>50%</th>\n",
       "      <td>2016.000000</td>\n",
       "      <td>5.000000</td>\n",
       "      <td>1.000000</td>\n",
       "    </tr>\n",
       "    <tr>\n",
       "      <th>75%</th>\n",
       "      <td>2017.000000</td>\n",
       "      <td>9.000000</td>\n",
       "      <td>1.000000</td>\n",
       "    </tr>\n",
       "    <tr>\n",
       "      <th>max</th>\n",
       "      <td>2018.000000</td>\n",
       "      <td>12.000000</td>\n",
       "      <td>4.000000</td>\n",
       "    </tr>\n",
       "  </tbody>\n",
       "</table>\n",
       "</div>"
      ],
      "text/plain": [
       "                year          month        digital\n",
       "count  191530.000000  191530.000000  193115.000000\n",
       "mean     2016.312374       5.723589       1.060435\n",
       "std         0.833314       3.467818       1.200331\n",
       "min      2000.000000       1.000000       0.000000\n",
       "25%      2016.000000       3.000000       0.000000\n",
       "50%      2016.000000       5.000000       1.000000\n",
       "75%      2017.000000       9.000000       1.000000\n",
       "max      2018.000000      12.000000       4.000000"
      ]
     },
     "execution_count": 6,
     "metadata": {},
     "output_type": "execute_result"
    }
   ],
   "source": [
    "# show descriptions\n",
    "all_news_df.describe()"
   ]
  },
  {
   "cell_type": "code",
   "execution_count": 7,
   "metadata": {},
   "outputs": [
    {
     "data": {
      "text/plain": [
       "index               0\n",
       "id                  0\n",
       "title               5\n",
       "author          54071\n",
       "date            34274\n",
       "content         37072\n",
       "year            34274\n",
       "month           34274\n",
       "publication     29384\n",
       "category        57091\n",
       "digital         32689\n",
       "section        151232\n",
       "url            127008\n",
       "dtype: int64"
      ]
     },
     "execution_count": 7,
     "metadata": {},
     "output_type": "execute_result"
    }
   ],
   "source": [
    "# determine number of nan\n",
    "all_news_df.isnull().sum()"
   ]
  },
  {
   "cell_type": "code",
   "execution_count": 8,
   "metadata": {},
   "outputs": [],
   "source": [
    "# remove articles that are nan\n",
    "all_news_df = all_news_df[pd.notnull(all_news_df['content'])]"
   ]
  },
  {
   "cell_type": "code",
   "execution_count": 9,
   "metadata": {},
   "outputs": [
    {
     "data": {
      "text/plain": [
       "index               0\n",
       "id                  0\n",
       "title               3\n",
       "author          19967\n",
       "date             4422\n",
       "content             0\n",
       "year             4422\n",
       "month            4422\n",
       "publication         4\n",
       "category        26607\n",
       "digital          3268\n",
       "section        117336\n",
       "url             97449\n",
       "dtype: int64"
      ]
     },
     "execution_count": 9,
     "metadata": {},
     "output_type": "execute_result"
    }
   ],
   "source": [
    "all_news_df.isnull().sum()"
   ]
  },
  {
   "cell_type": "code",
   "execution_count": 10,
   "metadata": {},
   "outputs": [
    {
     "data": {
      "image/png": "[encoded data removed]",
      "text/plain": [
       "<Figure size 720x360 with 1 Axes>"
      ]
     },
     "metadata": {
      "needs_background": "light"
     },
     "output_type": "display_data"
    },
    {
     "data": {
      "text/plain": [
       "<Figure size 432x288 with 0 Axes>"
      ]
     },
     "metadata": {},
     "output_type": "display_data"
    }
   ],
   "source": [
    "# plot histograms of data across publications\n",
    "\n",
    "plt.figure(figsize=(10,5));\n",
    "sns.countplot(all_news_df['publication'])\n",
    "plt.ylabel('N');\n",
    "sns.set_context('talk', font_scale=1.5);\n",
    "plt.xticks(rotation=90);\n",
    "plt.show();\n",
    "plt.clf();"
   ]
  },
  {
   "cell_type": "markdown",
   "metadata": {},
   "source": [
    "We see a decent distribution of data across news media organizations and also across the political spectrum."
   ]
  },
  {
   "cell_type": "code",
   "execution_count": 11,
   "metadata": {},
   "outputs": [
    {
     "data": {
      "image/png": "[encoded data removed]",
      "text/plain": [
       "<Figure size 720x360 with 1 Axes>"
      ]
     },
     "metadata": {
      "needs_background": "light"
     },
     "output_type": "display_data"
    },
    {
     "data": {
      "text/plain": [
       "<Figure size 432x288 with 0 Axes>"
      ]
     },
     "metadata": {},
     "output_type": "display_data"
    }
   ],
   "source": [
    "# plot histograms across year published\n",
    "\n",
    "plt.figure(figsize=(10,5));\n",
    "sns.countplot(all_news_df['year'])\n",
    "plt.ylabel('N');\n",
    "sns.set_context('talk', font_scale=1.5);\n",
    "plt.xticks(rotation=90);\n",
    "plt.yscale('log')\n",
    "plt.show();\n",
    "plt.clf()"
   ]
  },
  {
   "cell_type": "markdown",
   "metadata": {},
   "source": [
    "Articles are mostly from 2015 to 2018. There are some older articles. This may make topic modeling of older news difficult."
   ]
  },
  {
   "cell_type": "code",
   "execution_count": 12,
   "metadata": {},
   "outputs": [
    {
     "data": {
      "image/png": "[encoded data removed]",
      "text/plain": [
       "<Figure size 720x360 with 1 Axes>"
      ]
     },
     "metadata": {
      "needs_background": "light"
     },
     "output_type": "display_data"
    },
    {
     "data": {
      "text/plain": [
       "<Figure size 432x288 with 0 Axes>"
      ]
     },
     "metadata": {},
     "output_type": "display_data"
    }
   ],
   "source": [
    "# plot histograms across type/category of article\n",
    "\n",
    "plt.figure(figsize=(10,5));\n",
    "sns.countplot(all_news_df['category'])\n",
    "plt.ylabel('N');\n",
    "sns.set_context('talk', font_scale=1.5);\n",
    "plt.xticks(rotation=90);\n",
    "plt.yscale('log')\n",
    "plt.show();\n",
    "plt.clf()"
   ]
  },
  {
   "cell_type": "markdown",
   "metadata": {},
   "source": [
    "There are pletny of news paper articles. The radio component is interesting. What is that?"
   ]
  },
  {
   "cell_type": "code",
   "execution_count": 13,
   "metadata": {},
   "outputs": [
    {
     "data": {
      "text/html": [
       "<div>\n",
       "<style scoped>\n",
       "    .dataframe tbody tr th:only-of-type {\n",
       "        vertical-align: middle;\n",
       "    }\n",
       "\n",
       "    .dataframe tbody tr th {\n",
       "        vertical-align: top;\n",
       "    }\n",
       "\n",
       "    .dataframe thead th {\n",
       "        text-align: right;\n",
       "    }\n",
       "</style>\n",
       "<table border=\"1\" class=\"dataframe\">\n",
       "  <thead>\n",
       "    <tr style=\"text-align: right;\">\n",
       "      <th></th>\n",
       "      <th>index</th>\n",
       "      <th>id</th>\n",
       "      <th>title</th>\n",
       "      <th>author</th>\n",
       "      <th>date</th>\n",
       "      <th>content</th>\n",
       "      <th>year</th>\n",
       "      <th>month</th>\n",
       "      <th>publication</th>\n",
       "      <th>category</th>\n",
       "      <th>digital</th>\n",
       "      <th>section</th>\n",
       "      <th>url</th>\n",
       "    </tr>\n",
       "  </thead>\n",
       "  <tbody>\n",
       "    <tr>\n",
       "      <th>126586</th>\n",
       "      <td>126586</td>\n",
       "      <td>160641</td>\n",
       "      <td>Thanks To Russia, 2016 Isn't Really Going To E...</td>\n",
       "      <td>Ron Elving</td>\n",
       "      <td>2016-12-31</td>\n",
       "      <td>[In the Washington of 2016, even when the poli...</td>\n",
       "      <td>2016.0</td>\n",
       "      <td>12.0</td>\n",
       "      <td>NPR</td>\n",
       "      <td>radio</td>\n",
       "      <td>3.0</td>\n",
       "      <td>NaN</td>\n",
       "      <td>http://www.npr.org/2016/12/31/507596704/for-tr...</td>\n",
       "    </tr>\n",
       "    <tr>\n",
       "      <th>126587</th>\n",
       "      <td>126587</td>\n",
       "      <td>160642</td>\n",
       "      <td>Trump Tweets Give A Glimpse Into Foreign Polic...</td>\n",
       "      <td>Jessica Taylor</td>\n",
       "      <td>2016-12-28</td>\n",
       "      <td>[President-elect Donald Trump has used Twitter...</td>\n",
       "      <td>2016.0</td>\n",
       "      <td>12.0</td>\n",
       "      <td>NPR</td>\n",
       "      <td>radio</td>\n",
       "      <td>3.0</td>\n",
       "      <td>NaN</td>\n",
       "      <td>http://www.npr.org/2016/12/28/507284226/trump-...</td>\n",
       "    </tr>\n",
       "    <tr>\n",
       "      <th>126588</th>\n",
       "      <td>126588</td>\n",
       "      <td>160643</td>\n",
       "      <td>As U.S. Confronts Russia, Trump's Admiration O...</td>\n",
       "      <td>Arnie Seipel</td>\n",
       "      <td>2016-12-30</td>\n",
       "      <td>[President-elect Donald Trump is unabashedly p...</td>\n",
       "      <td>2016.0</td>\n",
       "      <td>12.0</td>\n",
       "      <td>NPR</td>\n",
       "      <td>radio</td>\n",
       "      <td>3.0</td>\n",
       "      <td>NaN</td>\n",
       "      <td>http://www.npr.org/2016/12/30/507584595/as-u-s...</td>\n",
       "    </tr>\n",
       "    <tr>\n",
       "      <th>126589</th>\n",
       "      <td>126589</td>\n",
       "      <td>160644</td>\n",
       "      <td>Putin Says Russia Won't Expel Diplomats In Res...</td>\n",
       "      <td>Camila Domonoske</td>\n",
       "      <td>2016-12-30</td>\n",
       "      <td>[Updated at 2:50 p.m. ET, Russian President Vl...</td>\n",
       "      <td>2016.0</td>\n",
       "      <td>12.0</td>\n",
       "      <td>NPR</td>\n",
       "      <td>radio</td>\n",
       "      <td>3.0</td>\n",
       "      <td>thetwo-way</td>\n",
       "      <td>http://www.npr.org/sections/thetwo-way/2016/12...</td>\n",
       "    </tr>\n",
       "    <tr>\n",
       "      <th>126590</th>\n",
       "      <td>126590</td>\n",
       "      <td>160645</td>\n",
       "      <td>(Some Of) Our Favorite Visual Stories of 2016</td>\n",
       "      <td>Ariel Zambelich</td>\n",
       "      <td>2016-12-31</td>\n",
       "      <td>[From photography, illustration and video, to ...</td>\n",
       "      <td>2016.0</td>\n",
       "      <td>12.0</td>\n",
       "      <td>NPR</td>\n",
       "      <td>radio</td>\n",
       "      <td>3.0</td>\n",
       "      <td>NaN</td>\n",
       "      <td>http://www.npr.org/2016/12/31/507590770/-some-...</td>\n",
       "    </tr>\n",
       "  </tbody>\n",
       "</table>\n",
       "</div>"
      ],
      "text/plain": [
       "         index      id                                              title  \\\n",
       "126586  126586  160641  Thanks To Russia, 2016 Isn't Really Going To E...   \n",
       "126587  126587  160642  Trump Tweets Give A Glimpse Into Foreign Polic...   \n",
       "126588  126588  160643  As U.S. Confronts Russia, Trump's Admiration O...   \n",
       "126589  126589  160644  Putin Says Russia Won't Expel Diplomats In Res...   \n",
       "126590  126590  160645      (Some Of) Our Favorite Visual Stories of 2016   \n",
       "\n",
       "                  author        date  \\\n",
       "126586        Ron Elving  2016-12-31   \n",
       "126587    Jessica Taylor  2016-12-28   \n",
       "126588      Arnie Seipel  2016-12-30   \n",
       "126589  Camila Domonoske  2016-12-30   \n",
       "126590   Ariel Zambelich  2016-12-31   \n",
       "\n",
       "                                                  content    year  month  \\\n",
       "126586  [In the Washington of 2016, even when the poli...  2016.0   12.0   \n",
       "126587  [President-elect Donald Trump has used Twitter...  2016.0   12.0   \n",
       "126588  [President-elect Donald Trump is unabashedly p...  2016.0   12.0   \n",
       "126589  [Updated at 2:50 p.m. ET, Russian President Vl...  2016.0   12.0   \n",
       "126590  [From photography, illustration and video, to ...  2016.0   12.0   \n",
       "\n",
       "       publication category  digital     section  \\\n",
       "126586         NPR    radio      3.0         NaN   \n",
       "126587         NPR    radio      3.0         NaN   \n",
       "126588         NPR    radio      3.0         NaN   \n",
       "126589         NPR    radio      3.0  thetwo-way   \n",
       "126590         NPR    radio      3.0         NaN   \n",
       "\n",
       "                                                      url  \n",
       "126586  http://www.npr.org/2016/12/31/507596704/for-tr...  \n",
       "126587  http://www.npr.org/2016/12/28/507284226/trump-...  \n",
       "126588  http://www.npr.org/2016/12/30/507584595/as-u-s...  \n",
       "126589  http://www.npr.org/sections/thetwo-way/2016/12...  \n",
       "126590  http://www.npr.org/2016/12/31/507590770/-some-...  "
      ]
     },
     "execution_count": 13,
     "metadata": {},
     "output_type": "execute_result"
    }
   ],
   "source": [
    "radio_news = all_news_df.loc[all_news_df['category'] == 'radio']\n",
    "\n",
    "radio_news.head()\n"
   ]
  },
  {
   "cell_type": "code",
   "execution_count": 14,
   "metadata": {},
   "outputs": [
    {
     "data": {
      "image/png": "[encoded data removed]",
      "text/plain": [
       "<Figure size 720x360 with 1 Axes>"
      ]
     },
     "metadata": {
      "needs_background": "light"
     },
     "output_type": "display_data"
    },
    {
     "data": {
      "text/plain": [
       "<Figure size 432x288 with 0 Axes>"
      ]
     },
     "metadata": {},
     "output_type": "display_data"
    }
   ],
   "source": [
    "plt.figure(figsize=(10,5));\n",
    "sns.countplot(radio_news['publication'])\n",
    "plt.ylabel('N');\n",
    "sns.set_context('talk', font_scale=1.5);\n",
    "plt.xticks(rotation=90);\n",
    "plt.show();\n",
    "plt.clf();"
   ]
  },
  {
   "cell_type": "markdown",
   "metadata": {},
   "source": [
    "The radio news is entirely \"NPR\". Interesting. Let's look at an article to get a sense of whether it is transcribed from an interview or an NPR news article."
   ]
  },
  {
   "cell_type": "code",
   "execution_count": 15,
   "metadata": {},
   "outputs": [
    {
     "data": {
      "text/plain": [
       "'[President-elect Donald Trump has used Twitter — his preferred means of communication — to weigh in on a swath of foreign policy issues over the past few weeks., His comments give a glimpse into how his incoming administration will deal with pressing foreign matters — but also highlight how reactionary comments on social media can immediately spur international concern and attention. And his staff has indicated that taking to Twitter to air his concerns or, often, grievances, won\\'t end once he enters the Oval Office., On Wednesday, Trump blasted the U.S.\\'s abstention from the U.N. Security Council vote on Israeli settlements earlier this month., , The tweets came just hours before Secretary of State John Kerry gave a speech defending the decision and calling the continued building of settlements on Palestinian territory in the West Bank a threat to the two-state solution in the region., Trump\\'s support for Israel and Prime Minister Benjamin Netanyahu — who has had a fraught relationship with President Obama — may be the biggest forthcoming shift in immediate foreign policy between the outgoing and incoming administrations. Throughout the campaign, he pledged that his administration would be a steadfast ally of Israel., To underscore that, Netanyahu replied to one of Trump\\'s morning tweets, thanking him — and also his children Donald Jr. and Ivanka, who are close advisers — for their support. Ivanka converted to Judaism when she married her husband, Jared Kushner., An Israeli official told CNN the government will give the Trump administration \"detailed, sensitive information\" proving that the U.S. worked to push through the resolution. The Obama administration has denied those claims., Last week, after the U.S. decided not to veto the resolution, Trump also tweeted that \"things will be different\" come his inauguration, and then on Monday he again blasted the U.N. as ineffective., The Israeli settlement issue has been at the forefront in recent days, but last week Trump also weighed in on nuclear issues. In a tweet, Trump called for the U.S. to strengthen its nuclear arsenal. MSNBC\\'s Morning Joe reported that the president-elect told them he wanted an \"arms race. We will outmatch them at every pass.\", As the Washington Post\\'s Dan Zak told NPR\\'s Robert Siegel on All Things Considered last Friday, Trump was inconsistent in his statements about nuclear weapons during the campaign., \"Trump said, you know, he\\'d be the last to use nuclear weapons. Nuclear weapons are a horror. He seemed to understand what they\\'re capable of doing,\" Zak said. \"At the same time, he said it was only a matter of time until countries like South Korea and Japan get nuclear weapons. He seemed to tacitly or not so tacitly endorse proliferation, again going against decades of international policy.\", Trump also slammed China for its seizure of an unmanned U.S. Navy underwater drone, calling it \"unpresidented\" in a tweet before correcting the typo in a new tweet., After talks with the Pentagon, China agreed to return the drone, but then Trump later said the country should keep it., It\\'s not the first time Trump has stoked tensions with China. In a stark break with protocol, Trump spoke on the phone with Taiwanese President Tsai Ing-wen earlier this month. Beijing considers Taiwan to be a renegade province and doesn\\'t recognize it, and most other countries don\\'t either. The U.S. has operated under a \"one China\" policy for more than four decades., Throughout the campaign, Trump blasted China for taking away U.S. jobs and claimed it was intentionally devaluing its currency to boost exports. He has blasted U.S. companies that manufacture goods in China, but as a New York Times story noted Wednesday morning, many of his daughter Ivanka\\'s clothing and shoe lines are made in China much of Trump\\'s own apparel line is also made overseas, including in China.]'"
      ]
     },
     "execution_count": 15,
     "metadata": {},
     "output_type": "execute_result"
    }
   ],
   "source": [
    "radio_news.iloc[1,5]"
   ]
  },
  {
   "cell_type": "markdown",
   "metadata": {},
   "source": [
    "Is this transcribed from a radio recording or a news article from NPR? A quick Google search verifies it is a news article. I think it is certainly okay to include this."
   ]
  },
  {
   "cell_type": "code",
   "execution_count": 16,
   "metadata": {},
   "outputs": [
    {
     "data": {
      "text/html": [
       "<div>\n",
       "<style scoped>\n",
       "    .dataframe tbody tr th:only-of-type {\n",
       "        vertical-align: middle;\n",
       "    }\n",
       "\n",
       "    .dataframe tbody tr th {\n",
       "        vertical-align: top;\n",
       "    }\n",
       "\n",
       "    .dataframe thead th {\n",
       "        text-align: right;\n",
       "    }\n",
       "</style>\n",
       "<table border=\"1\" class=\"dataframe\">\n",
       "  <thead>\n",
       "    <tr style=\"text-align: right;\">\n",
       "      <th></th>\n",
       "      <th>index</th>\n",
       "      <th>id</th>\n",
       "      <th>title</th>\n",
       "      <th>author</th>\n",
       "      <th>date</th>\n",
       "      <th>content</th>\n",
       "      <th>year</th>\n",
       "      <th>month</th>\n",
       "      <th>publication</th>\n",
       "      <th>category</th>\n",
       "      <th>digital</th>\n",
       "      <th>section</th>\n",
       "      <th>url</th>\n",
       "      <th>article_length</th>\n",
       "    </tr>\n",
       "  </thead>\n",
       "  <tbody>\n",
       "    <tr>\n",
       "      <th>0</th>\n",
       "      <td>0</td>\n",
       "      <td>1</td>\n",
       "      <td>Agent Cooper in Twin Peaks is the audience: on...</td>\n",
       "      <td>\\nTasha Robinson\\n</td>\n",
       "      <td>2017-05-31</td>\n",
       "      <td>And never more so than in Showtime’s new...</td>\n",
       "      <td>2017.0</td>\n",
       "      <td>5.0</td>\n",
       "      <td>Verge</td>\n",
       "      <td>Longform</td>\n",
       "      <td>1.0</td>\n",
       "      <td>NaN</td>\n",
       "      <td>NaN</td>\n",
       "      <td>2121</td>\n",
       "    </tr>\n",
       "    <tr>\n",
       "      <th>1</th>\n",
       "      <td>1</td>\n",
       "      <td>2</td>\n",
       "      <td>AI, the humanity!</td>\n",
       "      <td>\\nSam Byford\\n</td>\n",
       "      <td>2017-05-30</td>\n",
       "      <td>AlphaGo’s victory isn’t a defeat for hum...</td>\n",
       "      <td>2017.0</td>\n",
       "      <td>5.0</td>\n",
       "      <td>Verge</td>\n",
       "      <td>Longform</td>\n",
       "      <td>1.0</td>\n",
       "      <td>NaN</td>\n",
       "      <td>NaN</td>\n",
       "      <td>1948</td>\n",
       "    </tr>\n",
       "    <tr>\n",
       "      <th>2</th>\n",
       "      <td>2</td>\n",
       "      <td>3</td>\n",
       "      <td>The Viral Machine</td>\n",
       "      <td>\\nKaitlyn Tiffany\\n</td>\n",
       "      <td>2017-05-25</td>\n",
       "      <td>Super Deluxe built a weird internet empi...</td>\n",
       "      <td>2017.0</td>\n",
       "      <td>5.0</td>\n",
       "      <td>Verge</td>\n",
       "      <td>Longform</td>\n",
       "      <td>1.0</td>\n",
       "      <td>NaN</td>\n",
       "      <td>NaN</td>\n",
       "      <td>3011</td>\n",
       "    </tr>\n",
       "    <tr>\n",
       "      <th>3</th>\n",
       "      <td>3</td>\n",
       "      <td>4</td>\n",
       "      <td>How Anker is beating Apple and Samsung at thei...</td>\n",
       "      <td>\\nNick Statt\\n</td>\n",
       "      <td>2017-05-22</td>\n",
       "      <td>Steven Yang quit his job at Google in th...</td>\n",
       "      <td>2017.0</td>\n",
       "      <td>5.0</td>\n",
       "      <td>Verge</td>\n",
       "      <td>Longform</td>\n",
       "      <td>1.0</td>\n",
       "      <td>NaN</td>\n",
       "      <td>NaN</td>\n",
       "      <td>3281</td>\n",
       "    </tr>\n",
       "    <tr>\n",
       "      <th>4</th>\n",
       "      <td>4</td>\n",
       "      <td>5</td>\n",
       "      <td>Tour Black Panther’s reimagined homeland with ...</td>\n",
       "      <td>\\nKwame Opam\\n</td>\n",
       "      <td>2017-05-15</td>\n",
       "      <td>Ahead of Black Panther’s 2018 theatrical...</td>\n",
       "      <td>2017.0</td>\n",
       "      <td>5.0</td>\n",
       "      <td>Verge</td>\n",
       "      <td>Longform</td>\n",
       "      <td>1.0</td>\n",
       "      <td>NaN</td>\n",
       "      <td>NaN</td>\n",
       "      <td>239</td>\n",
       "    </tr>\n",
       "  </tbody>\n",
       "</table>\n",
       "</div>"
      ],
      "text/plain": [
       "  index id                                              title  \\\n",
       "0     0  1  Agent Cooper in Twin Peaks is the audience: on...   \n",
       "1     1  2                                  AI, the humanity!   \n",
       "2     2  3                                  The Viral Machine   \n",
       "3     3  4  How Anker is beating Apple and Samsung at thei...   \n",
       "4     4  5  Tour Black Panther’s reimagined homeland with ...   \n",
       "\n",
       "                author        date  \\\n",
       "0   \\nTasha Robinson\\n  2017-05-31   \n",
       "1       \\nSam Byford\\n  2017-05-30   \n",
       "2  \\nKaitlyn Tiffany\\n  2017-05-25   \n",
       "3       \\nNick Statt\\n  2017-05-22   \n",
       "4       \\nKwame Opam\\n  2017-05-15   \n",
       "\n",
       "                                             content    year  month  \\\n",
       "0        And never more so than in Showtime’s new...  2017.0    5.0   \n",
       "1        AlphaGo’s victory isn’t a defeat for hum...  2017.0    5.0   \n",
       "2        Super Deluxe built a weird internet empi...  2017.0    5.0   \n",
       "3        Steven Yang quit his job at Google in th...  2017.0    5.0   \n",
       "4        Ahead of Black Panther’s 2018 theatrical...  2017.0    5.0   \n",
       "\n",
       "  publication  category  digital section  url  article_length  \n",
       "0       Verge  Longform      1.0     NaN  NaN            2121  \n",
       "1       Verge  Longform      1.0     NaN  NaN            1948  \n",
       "2       Verge  Longform      1.0     NaN  NaN            3011  \n",
       "3       Verge  Longform      1.0     NaN  NaN            3281  \n",
       "4       Verge  Longform      1.0     NaN  NaN             239  "
      ]
     },
     "execution_count": 16,
     "metadata": {},
     "output_type": "execute_result"
    }
   ],
   "source": [
    "# let's look at the lengths of the articles in words. first compute their lengths\n",
    "all_news_df['article_length'] = all_news_df.apply(lambda x: len(x['content'].split(' ')),axis=1)\n",
    "all_news_df.head()"
   ]
  },
  {
   "cell_type": "code",
   "execution_count": 17,
   "metadata": {},
   "outputs": [
    {
     "data": {
      "image/png": "[encoded data removed]",
      "text/plain": [
       "<Figure size 720x360 with 1 Axes>"
      ]
     },
     "metadata": {
      "needs_background": "light"
     },
     "output_type": "display_data"
    },
    {
     "data": {
      "text/plain": [
       "<Figure size 432x288 with 0 Axes>"
      ]
     },
     "metadata": {},
     "output_type": "display_data"
    }
   ],
   "source": [
    "plt.figure(figsize=(10,5));\n",
    "sns.distplot(all_news_df['article_length'],kde=False,bins=np.arange(0,10000,10))\n",
    "plt.ylabel('N');\n",
    "sns.set_context('talk', font_scale=1.5);\n",
    "plt.xticks(rotation=90);\n",
    "plt.xscale('log')\n",
    "plt.show();\n",
    "plt.clf()"
   ]
  },
  {
   "cell_type": "markdown",
   "metadata": {},
   "source": [
    "There are many short articles. I think it is fair to remove the shortest ones. We will choose a cut off of 50 words to\n",
    "keep some shorter articles."
   ]
  },
  {
   "cell_type": "code",
   "execution_count": 18,
   "metadata": {},
   "outputs": [],
   "source": [
    "all_news_df = all_news_df.loc[all_news_df['article_length'] > 50]"
   ]
  },
  {
   "cell_type": "code",
   "execution_count": 19,
   "metadata": {},
   "outputs": [
    {
     "data": {
      "image/png": "[encoded data removed]",
      "text/plain": [
       "<Figure size 720x360 with 1 Axes>"
      ]
     },
     "metadata": {
      "needs_background": "light"
     },
     "output_type": "display_data"
    },
    {
     "data": {
      "text/plain": [
       "<Figure size 432x288 with 0 Axes>"
      ]
     },
     "metadata": {},
     "output_type": "display_data"
    }
   ],
   "source": [
    "plt.figure(figsize=(10,5));\n",
    "sns.distplot(all_news_df['article_length'],kde=False,bins=np.arange(0,10000,10))\n",
    "plt.ylabel('N');\n",
    "sns.set_context('talk', font_scale=1.5);\n",
    "plt.xticks(rotation=90);\n",
    "plt.xscale('log')\n",
    "plt.show();\n",
    "plt.clf()"
   ]
  },
  {
   "cell_type": "markdown",
   "metadata": {},
   "source": [
    "This looks like a reasonable distribution of articles to work with as the corpus."
   ]
  },
  {
   "cell_type": "code",
   "execution_count": 20,
   "metadata": {},
   "outputs": [
    {
     "data": {
      "text/plain": [
       "(182636,)"
      ]
     },
     "execution_count": 20,
     "metadata": {},
     "output_type": "execute_result"
    }
   ],
   "source": [
    "all_news_df['content'].shape"
   ]
  },
  {
   "cell_type": "markdown",
   "metadata": {},
   "source": [
    "There are ~180,000 articles in this final article corpus. Save it to a csv."
   ]
  },
  {
   "cell_type": "code",
   "execution_count": 21,
   "metadata": {},
   "outputs": [],
   "source": [
    "all_news_df.to_csv('./all_the_news/all_news_df_processed.csv', index_label='index')"
   ]
  },
  {
   "cell_type": "markdown",
   "metadata": {},
   "source": [
    "### testing single document lda on these articles"
   ]
  },
  {
   "cell_type": "code",
   "execution_count": 22,
   "metadata": {},
   "outputs": [
    {
     "name": "stderr",
     "output_type": "stream",
     "text": [
      "/Users/sagarsetru/anaconda3/envs/insight/lib/python3.8/site-packages/IPython/core/interactiveshell.py:3145: DtypeWarning: Columns (12,13) have mixed types.Specify dtype option on import or set low_memory=False.\n",
      "  has_raised = await self.run_ast_nodes(code_ast.body, cell_name,\n"
     ]
    },
    {
     "data": {
      "text/html": [
       "<div>\n",
       "<style scoped>\n",
       "    .dataframe tbody tr th:only-of-type {\n",
       "        vertical-align: middle;\n",
       "    }\n",
       "\n",
       "    .dataframe tbody tr th {\n",
       "        vertical-align: top;\n",
       "    }\n",
       "\n",
       "    .dataframe thead th {\n",
       "        text-align: right;\n",
       "    }\n",
       "</style>\n",
       "<table border=\"1\" class=\"dataframe\">\n",
       "  <thead>\n",
       "    <tr style=\"text-align: right;\">\n",
       "      <th></th>\n",
       "      <th>index</th>\n",
       "      <th>index.1</th>\n",
       "      <th>id</th>\n",
       "      <th>title</th>\n",
       "      <th>author</th>\n",
       "      <th>date</th>\n",
       "      <th>content</th>\n",
       "      <th>year</th>\n",
       "      <th>month</th>\n",
       "      <th>publication</th>\n",
       "      <th>category</th>\n",
       "      <th>digital</th>\n",
       "      <th>section</th>\n",
       "      <th>url</th>\n",
       "      <th>article_length</th>\n",
       "    </tr>\n",
       "  </thead>\n",
       "  <tbody>\n",
       "    <tr>\n",
       "      <th>0</th>\n",
       "      <td>0</td>\n",
       "      <td>0</td>\n",
       "      <td>1</td>\n",
       "      <td>Agent Cooper in Twin Peaks is the audience: on...</td>\n",
       "      <td>\\nTasha Robinson\\n</td>\n",
       "      <td>2017-05-31</td>\n",
       "      <td>And never more so than in Showtime’s new...</td>\n",
       "      <td>2017.0</td>\n",
       "      <td>5.0</td>\n",
       "      <td>Verge</td>\n",
       "      <td>Longform</td>\n",
       "      <td>1.0</td>\n",
       "      <td>NaN</td>\n",
       "      <td>NaN</td>\n",
       "      <td>2121</td>\n",
       "    </tr>\n",
       "    <tr>\n",
       "      <th>1</th>\n",
       "      <td>1</td>\n",
       "      <td>1</td>\n",
       "      <td>2</td>\n",
       "      <td>AI, the humanity!</td>\n",
       "      <td>\\nSam Byford\\n</td>\n",
       "      <td>2017-05-30</td>\n",
       "      <td>AlphaGo’s victory isn’t a defeat for hum...</td>\n",
       "      <td>2017.0</td>\n",
       "      <td>5.0</td>\n",
       "      <td>Verge</td>\n",
       "      <td>Longform</td>\n",
       "      <td>1.0</td>\n",
       "      <td>NaN</td>\n",
       "      <td>NaN</td>\n",
       "      <td>1948</td>\n",
       "    </tr>\n",
       "    <tr>\n",
       "      <th>2</th>\n",
       "      <td>2</td>\n",
       "      <td>2</td>\n",
       "      <td>3</td>\n",
       "      <td>The Viral Machine</td>\n",
       "      <td>\\nKaitlyn Tiffany\\n</td>\n",
       "      <td>2017-05-25</td>\n",
       "      <td>Super Deluxe built a weird internet empi...</td>\n",
       "      <td>2017.0</td>\n",
       "      <td>5.0</td>\n",
       "      <td>Verge</td>\n",
       "      <td>Longform</td>\n",
       "      <td>1.0</td>\n",
       "      <td>NaN</td>\n",
       "      <td>NaN</td>\n",
       "      <td>3011</td>\n",
       "    </tr>\n",
       "    <tr>\n",
       "      <th>3</th>\n",
       "      <td>3</td>\n",
       "      <td>3</td>\n",
       "      <td>4</td>\n",
       "      <td>How Anker is beating Apple and Samsung at thei...</td>\n",
       "      <td>\\nNick Statt\\n</td>\n",
       "      <td>2017-05-22</td>\n",
       "      <td>Steven Yang quit his job at Google in th...</td>\n",
       "      <td>2017.0</td>\n",
       "      <td>5.0</td>\n",
       "      <td>Verge</td>\n",
       "      <td>Longform</td>\n",
       "      <td>1.0</td>\n",
       "      <td>NaN</td>\n",
       "      <td>NaN</td>\n",
       "      <td>3281</td>\n",
       "    </tr>\n",
       "    <tr>\n",
       "      <th>4</th>\n",
       "      <td>4</td>\n",
       "      <td>4</td>\n",
       "      <td>5</td>\n",
       "      <td>Tour Black Panther’s reimagined homeland with ...</td>\n",
       "      <td>\\nKwame Opam\\n</td>\n",
       "      <td>2017-05-15</td>\n",
       "      <td>Ahead of Black Panther’s 2018 theatrical...</td>\n",
       "      <td>2017.0</td>\n",
       "      <td>5.0</td>\n",
       "      <td>Verge</td>\n",
       "      <td>Longform</td>\n",
       "      <td>1.0</td>\n",
       "      <td>NaN</td>\n",
       "      <td>NaN</td>\n",
       "      <td>239</td>\n",
       "    </tr>\n",
       "  </tbody>\n",
       "</table>\n",
       "</div>"
      ],
      "text/plain": [
       "   index  index.1  id                                              title  \\\n",
       "0      0        0   1  Agent Cooper in Twin Peaks is the audience: on...   \n",
       "1      1        1   2                                  AI, the humanity!   \n",
       "2      2        2   3                                  The Viral Machine   \n",
       "3      3        3   4  How Anker is beating Apple and Samsung at thei...   \n",
       "4      4        4   5  Tour Black Panther’s reimagined homeland with ...   \n",
       "\n",
       "                author        date  \\\n",
       "0   \\nTasha Robinson\\n  2017-05-31   \n",
       "1       \\nSam Byford\\n  2017-05-30   \n",
       "2  \\nKaitlyn Tiffany\\n  2017-05-25   \n",
       "3       \\nNick Statt\\n  2017-05-22   \n",
       "4       \\nKwame Opam\\n  2017-05-15   \n",
       "\n",
       "                                             content    year  month  \\\n",
       "0        And never more so than in Showtime’s new...  2017.0    5.0   \n",
       "1        AlphaGo’s victory isn’t a defeat for hum...  2017.0    5.0   \n",
       "2        Super Deluxe built a weird internet empi...  2017.0    5.0   \n",
       "3        Steven Yang quit his job at Google in th...  2017.0    5.0   \n",
       "4        Ahead of Black Panther’s 2018 theatrical...  2017.0    5.0   \n",
       "\n",
       "  publication  category  digital section  url  article_length  \n",
       "0       Verge  Longform      1.0     NaN  NaN            2121  \n",
       "1       Verge  Longform      1.0     NaN  NaN            1948  \n",
       "2       Verge  Longform      1.0     NaN  NaN            3011  \n",
       "3       Verge  Longform      1.0     NaN  NaN            3281  \n",
       "4       Verge  Longform      1.0     NaN  NaN             239  "
      ]
     },
     "execution_count": 22,
     "metadata": {},
     "output_type": "execute_result"
    }
   ],
   "source": [
    "import pandas as pd\n",
    "import numpy as np\n",
    "import matplotlib.pyplot as plt\n",
    "import seaborn as sns\n",
    "import os\n",
    "\n",
    "all_news_df = pd.read_csv('./all_the_news/all_news_df_processed.csv')\n",
    "all_news_df.head()"
   ]
  },
  {
   "cell_type": "code",
   "execution_count": 23,
   "metadata": {},
   "outputs": [],
   "source": [
    "# NLP Packages\n",
    "import spacy\n",
    "nlp  = spacy.load('en_core_web_sm')\n",
    "\n",
    "from gensim.corpora import Dictionary\n",
    "from gensim.models import LdaModel\n",
    "from gensim.utils import simple_preprocess\n",
    "\n",
    "# to break articles up into sentences\n",
    "from nltk import tokenize\n",
    "\n",
    "import string\n",
    "\n",
    "# for counting frequency of words\n",
    "from collections import defaultdict\n",
    "\n",
    "import spacy\n",
    "nlp  = spacy.load('en_core_web_sm')\n",
    "\n",
    "import pyLDAvis\n",
    "import pyLDAvis.gensim\n",
    "\n",
    "from googlesearch import search"
   ]
  },
  {
   "cell_type": "code",
   "execution_count": 52,
   "metadata": {},
   "outputs": [],
   "source": [
    "import json"
   ]
  },
  {
   "cell_type": "code",
   "execution_count": 24,
   "metadata": {},
   "outputs": [
    {
     "name": "stderr",
     "output_type": "stream",
     "text": [
      "/Users/sagarsetru/anaconda3/envs/insight/lib/python3.8/site-packages/ipykernel/ipkernel.py:287: DeprecationWarning: `should_run_async` will not call `transform_cell` automatically in the future. Please pass the result to `transformed_cell` argument and any exception that happen during thetransform in `preprocessing_exc_tuple` in IPython 7.17 and above.\n",
      "  and should_run_async(code)\n"
     ]
    }
   ],
   "source": [
    "# del process_all_articles\n",
    "from text_processing_functions import process_all_articles, remove_stopwords"
   ]
  },
  {
   "cell_type": "code",
   "execution_count": 25,
   "metadata": {},
   "outputs": [],
   "source": [
    "# del process_all_articles\n",
    "# process_all_articles"
   ]
  },
  {
   "cell_type": "code",
   "execution_count": 26,
   "metadata": {},
   "outputs": [],
   "source": [
    "def load_stop_words_csv_to_list(full_file_name):\n",
    "    \"\"\"fxn that loads stop words list downloaded from git repo called 'news-stopwords'\"\"\"\n",
    "    \n",
    "    stop_words = pd.read_csv(full_file_name)\n",
    "\n",
    "    stop_words = stop_words['term']\n",
    "\n",
    "    stop_words = [word for word in stop_words]\n",
    "    \n",
    "    return stop_words"
   ]
  },
  {
   "cell_type": "code",
   "execution_count": 27,
   "metadata": {},
   "outputs": [],
   "source": [
    "def lemmatize(raw_texts,nlp):\n",
    "\n",
    "    'Function that lemmatizes text'\n",
    "\n",
    "    out_text = []\n",
    "    \n",
    "    for text in raw_texts:\n",
    "        doc = nlp(text)\n",
    "\n",
    "\n",
    "        #Remove stopwords and lemmatize\n",
    "        tokens = [token.lemma_ for token in doc]\n",
    "        \n",
    "        out_text.append(tokens)\n",
    "    \n",
    "    return out_text"
   ]
  },
  {
   "cell_type": "code",
   "execution_count": 28,
   "metadata": {},
   "outputs": [],
   "source": [
    "def get_simple_corpus_dictionary_bow(texts,word_frequency_threshold):\n",
    "    \"\"\"fxn returns corpus, proc. dict, bag of words\"\"\"\n",
    "    \n",
    "    # Count word frequencies\n",
    "    frequency = defaultdict(int)\n",
    "    for text in texts:\n",
    "        for token in text:\n",
    "            frequency[token] += 1\n",
    "\n",
    "    # Only keep words that appear more than set frequency, to produce the corpus\n",
    "    processed_corpus = [[token for token in text if frequency[token] > word_frequency_threshold] for text in texts]\n",
    "    \n",
    "    # generate a dictionary via gensim\n",
    "    processed_dictionary = Dictionary(processed_corpus)\n",
    "    \n",
    "    # generate bag of words of the corpus\n",
    "    bow_corpus = [processed_dictionary.doc2bow(text) for text in processed_corpus]\n",
    "    \n",
    "    return processed_corpus, processed_dictionary, bow_corpus"
   ]
  },
  {
   "cell_type": "code",
   "execution_count": 29,
   "metadata": {},
   "outputs": [],
   "source": [
    "def sort_topics_mean_frequency(topics,topics_mean_probs_dict,topics_std_probs_dict,topics_frequency_dict):\n",
    "    \"\"\"fxn returns topics sorted by their mean probability and frequency. also returns std dev of prob\"\"\"\n",
    "    \n",
    "    # empty dict for topics\n",
    "    x_topics = []\n",
    "    \n",
    "    # to store mean probs\n",
    "    y_means = np.zeros((len(topics_mean_probs_dict)))\n",
    "    \n",
    "    # to store std dev probs\n",
    "    y_std = np.zeros((len(topics_std_probs_dict)))\n",
    "    \n",
    "    # to store frequency of topic\n",
    "    y_frequencies = np.zeros((len(topics_frequency_dict)))\n",
    "\n",
    "    # measure mean probs\n",
    "    counter = -1\n",
    "    for topics, mean_prob in topics_mean_probs_dict.items():\n",
    "        counter += 1\n",
    "        x_topics.append(topics)\n",
    "        y_means[counter] = mean_prob\n",
    "\n",
    "    # measure std dev probs\n",
    "    counter2 = -1\n",
    "    for topics, frequency in topics_frequency_dict.items():\n",
    "        counter2 += 1\n",
    "        y_frequencies[counter2] = frequency\n",
    "\n",
    "    # measure frequency topic shows up\n",
    "    counter3 = -1\n",
    "    for topics, std in topics_std_probs_dict.items():\n",
    "        counter3 += 1\n",
    "        y_std[counter3] = std\n",
    "\n",
    "    # sort by mean and frequency\n",
    "\n",
    "    zipped_mean = zip(y_means, x_topics)\n",
    "    sorted_zipped_mean = sorted(zipped_mean)\n",
    "    y_means_sorted = [element1 for element1,element2 in sorted_zipped_mean]\n",
    "    y_means_sorted = y_means_sorted[::-1]\n",
    "    x_topics_means = [element2 for element1,element2 in sorted_zipped_mean]\n",
    "    x_topics_means = x_topics_means[::-1]\n",
    "\n",
    "    zipped_mean_std = zip(y_means,y_std)\n",
    "    sorted_zipped_mean_std = sorted(zipped_mean_std)\n",
    "    y_std_sorted = [element2 for element1,element2 in sorted_zipped_mean_std]\n",
    "    y_std_sorted = y_std_sorted[::-1]\n",
    "\n",
    "    zipped_freq = zip(y_frequencies,x_topics)\n",
    "    sorted_zipped_freq = sorted(zipped_freq)\n",
    "    y_freq_sorted = [element1 for (element1,element2) in sorted_zipped_freq]\n",
    "    y_freq_sorted = y_freq_sorted[::-1]\n",
    "    x_topics_freq = [element2 for element1,element2 in sorted_zipped_freq]\n",
    "    x_topics_freq = x_topics_freq[::-1]\n",
    "    \n",
    "    return x_topics_means, y_means_sorted, y_std_sorted, x_topics_freq, y_freq_sorted"
   ]
  },
  {
   "cell_type": "code",
   "execution_count": 30,
   "metadata": {},
   "outputs": [],
   "source": [
    "# choose list of stop words\n",
    "\n",
    "# choose whether 1k, 10k, 100k, or nltk\n",
    "which_stop_words = '1k'\n",
    "# which_stop_words = '10k'\n",
    "# which_stop_words = '100k'\n",
    "# which_stop_words = 'nltk'\n",
    "\n",
    "stop_words_path = '/Users/sagarsetru/Documents/post PhD positions search/insightDataScience/project/debiaser/stop_words_db/news-stopwords-master/'\n",
    "\n",
    "\n",
    "if which_stop_words == '1k':\n",
    "    \n",
    "    # doing 1k words list\n",
    "    stop_words_file_name = 'sw1k.csv'\n",
    "    \n",
    "    # make full file name\n",
    "    stop_words_full_file_name = stop_words_path+stop_words_file_name\n",
    "    \n",
    "    # get list of stop words\n",
    "    stop_words = load_stop_words_csv_to_list(stop_words_full_file_name)\n",
    "    \n",
    "elif which_stop_words == '10k':\n",
    "    \n",
    "    # doing 10k words list\n",
    "    stop_words_file_name = 'sw10k.csv'\n",
    "\n",
    "    # make full file name\n",
    "    stop_words_full_file_name = stop_words_path+stop_words_file_name\n",
    "    \n",
    "    # get list of stop words\n",
    "    stop_words = load_stop_words_csv_to_list(stop_words_full_file_name)\n",
    "\n",
    "elif which_stop_words == '100k':\n",
    "    \n",
    "    # doing 100k\n",
    "    stop_words_file_name = 'sw100k.csv'  \n",
    "    \n",
    "    # get full file name\n",
    "    stop_words_full_file_name = stop_words_path+stop_words_file_name\n",
    "    \n",
    "    # get list of stop words\n",
    "    stop_words = load_stop_words_csv_to_list(stop_words_full_file_name)\n",
    "\n",
    "\n",
    "elif which_stop_words == 'nltk':\n",
    "    # import from nltk\n",
    "    from nltk.corpus import stopwords\n",
    "    \n",
    "    stop_words = stopwords.words('english')\n",
    "    \n",
    "else:\n",
    "    print('Select proper variable name for \"which_stop_words\"')\n",
    "    \n",
    "# adding custom words\n",
    "stop_words.append('said')\n",
    "stop_words.append('youre')"
   ]
  },
  {
   "cell_type": "code",
   "execution_count": 31,
   "metadata": {},
   "outputs": [],
   "source": [
    "# get a random sampling of these articles for testing single document lda\n",
    "\n",
    "n_sample = 10\n",
    "\n",
    "articles_df_random_subset = all_news_df.sample(n=n_sample)"
   ]
  },
  {
   "cell_type": "code",
   "execution_count": 32,
   "metadata": {},
   "outputs": [],
   "source": [
    "# del preprocess_spacy"
   ]
  },
  {
   "cell_type": "code",
   "execution_count": 33,
   "metadata": {},
   "outputs": [],
   "source": [
    "def entity_recognizer(raw_text,nlp):\n",
    "    \"\"\"Function that recognizes specific entitites, returns dictionary of them\"\"\"\n",
    "\n",
    "    doc = nlp(raw_text)\n",
    "    \n",
    "    entity_dict = {}\n",
    "    \n",
    "    word_types = ['DATE', 'PERSON', 'ORG','MONEY','GPE']\n",
    "    \n",
    "    for word_type in word_types:\n",
    "        entity_dict[word_type] = [entity.text for entity in doc.ents if entity.label_ in {word_type}]\n",
    "#         entity_dict['PERSON'] = [entity.text for entity in doc.ents if entity.label_ in {'PERSON'}]\n",
    "    \n",
    "    #Remove organizations and people from documnet text\n",
    "#     tokens_ner = [entity.text for entity in doc.ents if entity.label_ in {'DATE', 'PERSON', 'ORG','MONEY','GPE'}]\n",
    "    \n",
    "    return entity_dict"
   ]
  },
  {
   "cell_type": "code",
   "execution_count": 80,
   "metadata": {},
   "outputs": [
    {
     "name": "stdout",
     "output_type": "stream",
     "text": [
      "[As part of his effort to reduce gun violence, President Obama issued an executive order today that makes it easier to prohibit a small group of the most seriously mentally ill from owning firearms and provides $500 million in additional mental-health funding. The order’s mental-illness–focused gun-control provisions are smart and narrowly tailored to affect only the most seriously ill individuals. But its additional funding won’t go where it could make a difference., The mental-health industry teaches the public­ that, as President Obama put it, ‘the mentally ill are not more violent than others.’ But that platitude does not apply to the most seriously ill when they are allowed to go untreated. Eighteen percent of the population has some form of “mental-health issue” and is not violent. But 4 percent of the population has serious mental illness, which, left untreated, causes them to be more violent than others. While gun violence is rare, and mass violence by the seriously ill is even rarer, no one outside the NRA and the politically correct mental-health industry believes the seriously mentally ill should have access to weapons., The executive order also attempts to clarify a clash between a patient-privacy law (HIPAA) that prevents the disclosure of medical information and health-care providers who need the ability to disclose the names of the seriously mentally ill to NICS. By fiat, it carves out a small exemption in HIPAA to allow health-care providers to send NICS information about people with serious mental illness who have been involuntarily committed, found incompetent to stand trial or not guilty by reason of insanity, or are otherwise prohibited from gun ownership., Some in the mental-health industry will argue that this provision may cause some future patient with serious mental illness to avoid care so they don’t lose their guns. Research does not support that conjecture. The overriding concern must be keeping the patient and public safe — not some hypothetical future patient. It is an appropriate use of the state’s police powers and parens patriae powers, since those weapons can also be used for self-harm. Some in the mental-health industry will also argue that the provision “stigmatizes” the mentally ill by inappropriately linking their conditions to violence, but that denies the real, empirical association between untreated serious mental illness and violent behavior., Instead, that $500 million should be narrowly targeted toward increasing access to evidence-based treatments that reduce violence, homelessness, arrest, incarceration, and suicide in adults known to have serious mental illness. That is exactly what the proposals put forth by Representatives Tim Murphy (R., Pa.) and Eddie Bernice Johnson (D., Texas) in the Helping Families in Mental Health Crisis Act (HR2646) are intended to do., I know no mother of someone with serious mental illness who wants her son or daughter to have a gun or to go without treatment. Obama is taking a small, positive step toward preventing the seriously mentally ill from owning guns, but must do more to ensure that they get the treatment they need., — D. J. Jaffe is executive director of Mental Illness Policy Org., a think-tank on serious mental illness., ]\n"
     ]
    }
   ],
   "source": [
    "article_text = articles_df_random_subset.iloc[5,6]\n",
    "print(article_text)"
   ]
  },
  {
   "cell_type": "code",
   "execution_count": 79,
   "metadata": {},
   "outputs": [],
   "source": [
    "article_text = article_text.replace(\"`\",\"'\")"
   ]
  },
  {
   "cell_type": "code",
   "execution_count": 85,
   "metadata": {},
   "outputs": [
    {
     "data": {
      "text/html": [
       "\n",
       "<link rel=\"stylesheet\" type=\"text/css\" href=\"https://cdn.rawgit.com/bmabey/pyLDAvis/files/ldavis.v1.0.0.css\">\n",
       "\n",
       "\n",
       "<div id=\"ldavis_el3012051294940809942880289\"></div>\n",
       "<script type=\"text/javascript\">\n",
       "\n",
       "var ldavis_el3012051294940809942880289_data = {\"mdsDat\": {\"x\": [0.04627850744824503, -0.12546204334152733, -0.056582426426924785, 0.13672896668575205, -0.0009630043655450361], \"y\": [-0.09443434837058928, -0.03838311259999922, 0.09583694534568275, 0.03640703395085603, 0.0005734816740496177], \"topics\": [1, 2, 3, 4, 5], \"cluster\": [1, 1, 1, 1, 1], \"Freq\": [48.54095551520617, 27.20967862460463, 13.730484640533708, 8.47161082664589, 2.047270393009595]}, \"tinfo\": {\"Term\": [\"illness\", \"violent\", \"mental\", \"population\", \"untreated\", \"patient\", \"powers\", \"ill\", \"seriously\", \"violence\", \"mentally\", \"funding\", \"additional\", \"weapons\", \"treatment\", \"narrowly\", \"guns\", \"toward\", \"argue\", \"provision\", \"gun\", \"owning\", \"hipaa\", \"nics\", \"providers\", \"reduce\", \"illness\", \"provision\", \"argue\", \"toward\", \"guns\", \"narrowly\", \"treatment\", \"mental\", \"gun\", \"reduce\", \"providers\", \"nics\", \"hipaa\", \"owning\", \"violence\", \"untreated\", \"ill\", \"mentally\", \"seriously\", \"violent\", \"patient\", \"population\", \"powers\", \"funding\", \"additional\", \"weapons\", \"violence\", \"seriously\", \"mentally\", \"weapons\", \"additional\", \"funding\", \"ill\", \"owning\", \"providers\", \"nics\", \"hipaa\", \"reduce\", \"gun\", \"patient\", \"mental\", \"population\", \"powers\", \"treatment\", \"narrowly\", \"guns\", \"toward\", \"argue\", \"provision\", \"untreated\", \"violent\", \"illness\", \"powers\", \"patient\", \"additional\", \"funding\", \"weapons\", \"untreated\", \"violent\", \"ill\", \"mentally\", \"seriously\", \"population\", \"mental\", \"owning\", \"reduce\", \"nics\", \"hipaa\", \"providers\", \"treatment\", \"narrowly\", \"guns\", \"toward\", \"provision\", \"argue\", \"violence\", \"gun\", \"illness\", \"population\", \"violent\", \"untreated\", \"mental\", \"illness\", \"powers\", \"funding\", \"additional\", \"weapons\", \"owning\", \"reduce\", \"hipaa\", \"providers\", \"nics\", \"treatment\", \"narrowly\", \"guns\", \"toward\", \"argue\", \"provision\", \"patient\", \"violence\", \"gun\", \"mentally\", \"seriously\", \"ill\", \"population\", \"powers\", \"weapons\", \"additional\", \"funding\", \"owning\", \"reduce\", \"hipaa\", \"providers\", \"nics\", \"treatment\", \"narrowly\", \"guns\", \"toward\", \"argue\", \"provision\", \"untreated\", \"violent\", \"patient\", \"violence\", \"gun\", \"mentally\", \"seriously\", \"ill\", \"illness\", \"mental\"], \"Freq\": [8.0, 3.0, 13.0, 1.0, 2.0, 3.0, 2.0, 8.0, 6.0, 4.0, 5.0, 2.0, 2.0, 2.0, 2.0, 2.0, 2.0, 2.0, 2.0, 2.0, 4.0, 2.0, 2.0, 2.0, 2.0, 2.0, 7.086998133107016, 1.9011450856008985, 1.9011450856008985, 1.9011409265304768, 1.9011373099475015, 1.9011174187411373, 1.901100601630302, 9.681424815478238, 2.7634174892548993, 1.036699025164157, 1.036452102961517, 1.036452102961517, 1.036452102961517, 1.0363924293424243, 1.8997946535179144, 1.0350517620334736, 2.759317730794078, 1.8988241434764876, 1.894859826048092, 1.0331902163615028, 1.0346487842754488, 0.17283750625262306, 0.1728388059621298, 0.172838851169417, 0.172838851169417, 0.1728403656135379, 2.7037214064874844, 3.553134081845731, 2.7049487212030856, 1.0138666640478324, 1.012908774713307, 1.012908774713307, 3.550916238603465, 1.0139161296557953, 1.0138800440893305, 1.0138800440893305, 1.0138800440893305, 1.0136317024100092, 1.8597150788060883, 1.0141130798120896, 1.856283706345522, 0.1689041448780862, 0.16890678034080553, 0.1689084908574743, 0.16890755324092996, 0.16890551329142123, 0.16890518385858133, 0.1689046770388276, 0.1689046770388276, 0.16890964387241403, 0.1689101126806862, 0.16890846551648664, 1.57320256905992, 1.574489197183414, 0.8585130244347104, 0.8585130244347104, 0.8576770281696875, 0.8585492386635183, 0.8577283316604987, 1.574808884937721, 0.8578871525368383, 0.858034311203901, 0.14302750845131706, 0.8556112826264167, 0.14303504029480854, 0.14303286641807925, 0.14303211195497909, 0.14303211195497909, 0.14303211195497909, 0.14303309659326235, 0.14303139585440944, 0.14302903016502755, 0.14302851866462066, 0.14302808388927482, 0.14302808388927482, 0.1430303472785753, 0.14303620395823421, 0.14303328840591492, 1.4110276484505586, 1.4142002326425147, 0.7706979192994104, 1.4125356737074863, 0.7690610062317241, 0.12828770450413965, 0.1282874835896746, 0.1282874835896746, 0.12829258040197566, 0.1282924304957315, 0.1282904896043599, 0.12828852504358132, 0.12828852504358132, 0.12828852504358132, 0.12829074207803426, 0.12828806743504653, 0.12828479316708225, 0.12828456436281485, 0.1282839489582336, 0.1282839489582336, 0.1283047228077517, 0.12828716799758166, 0.12829421359105664, 0.1282922648098827, 0.12829635172748635, 0.1282935902966731, 0.07872997510994302, 0.07873790685345473, 0.07874589961037808, 0.07873629762472303, 0.07873629762472303, 0.07874503016926236, 0.07874030162986115, 0.07873877629457043, 0.07873877629457043, 0.07873877629457043, 0.07874194899197512, 0.07873735010607362, 0.07873272834014275, 0.07873168348546862, 0.07873067676417675, 0.07873067676417675, 0.07874478611561585, 0.07874624281081849, 0.078765706089128, 0.07873519938331372, 0.07874769950602112, 0.07874339043382485, 0.07875071204322028, 0.07874589961037808, 0.0787418040851225, 0.07875600495667906], \"Total\": [8.0, 3.0, 13.0, 1.0, 2.0, 3.0, 2.0, 8.0, 6.0, 4.0, 5.0, 2.0, 2.0, 2.0, 2.0, 2.0, 2.0, 2.0, 2.0, 2.0, 4.0, 2.0, 2.0, 2.0, 2.0, 2.0, 8.246742697346265, 2.420092472251411, 2.420092472251411, 2.4200908769019627, 2.4200893749111754, 2.420081785377597, 2.420074880151048, 13.884611483114341, 4.973210685116299, 2.4003943852264666, 2.4003915603439783, 2.4003915603439783, 2.4003915603439783, 2.400381059958022, 4.953568774664869, 2.911953349984432, 8.092082344242316, 5.668695672460119, 6.51307528286843, 3.5527751361560207, 3.830321490167832, 1.974526783142528, 2.12197376672045, 2.2512844315318326, 2.2512844315318326, 2.251422537843412, 4.953568774664869, 6.51307528286843, 5.668695672460119, 2.251422537843412, 2.2512844315318326, 2.2512844315318326, 8.092082344242316, 2.400381059958022, 2.4003915603439783, 2.4003915603439783, 2.4003915603439783, 2.4003943852264666, 4.973210685116299, 3.830321490167832, 13.884611483114341, 1.974526783142528, 2.12197376672045, 2.420074880151048, 2.420081785377597, 2.4200893749111754, 2.4200908769019627, 2.420092472251411, 2.420092472251411, 2.911953349984432, 3.5527751361560207, 8.246742697346265, 2.12197376672045, 3.830321490167832, 2.2512844315318326, 2.2512844315318326, 2.251422537843412, 2.911953349984432, 3.5527751361560207, 8.092082344242316, 5.668695672460119, 6.51307528286843, 1.974526783142528, 13.884611483114341, 2.400381059958022, 2.4003943852264666, 2.4003915603439783, 2.4003915603439783, 2.4003915603439783, 2.420074880151048, 2.420081785377597, 2.4200893749111754, 2.4200908769019627, 2.420092472251411, 2.420092472251411, 4.953568774664869, 4.973210685116299, 8.246742697346265, 1.974526783142528, 3.5527751361560207, 2.911953349984432, 13.884611483114341, 8.246742697346265, 2.12197376672045, 2.2512844315318326, 2.2512844315318326, 2.251422537843412, 2.400381059958022, 2.4003943852264666, 2.4003915603439783, 2.4003915603439783, 2.4003915603439783, 2.420074880151048, 2.420081785377597, 2.4200893749111754, 2.4200908769019627, 2.420092472251411, 2.420092472251411, 3.830321490167832, 4.953568774664869, 4.973210685116299, 5.668695672460119, 6.51307528286843, 8.092082344242316, 1.974526783142528, 2.12197376672045, 2.251422537843412, 2.2512844315318326, 2.2512844315318326, 2.400381059958022, 2.4003943852264666, 2.4003915603439783, 2.4003915603439783, 2.4003915603439783, 2.420074880151048, 2.420081785377597, 2.4200893749111754, 2.4200908769019627, 2.420092472251411, 2.420092472251411, 2.911953349984432, 3.5527751361560207, 3.830321490167832, 4.953568774664869, 4.973210685116299, 5.668695672460119, 6.51307528286843, 8.092082344242316, 8.246742697346265, 13.884611483114341], \"Category\": [\"Default\", \"Default\", \"Default\", \"Default\", \"Default\", \"Default\", \"Default\", \"Default\", \"Default\", \"Default\", \"Default\", \"Default\", \"Default\", \"Default\", \"Default\", \"Default\", \"Default\", \"Default\", \"Default\", \"Default\", \"Default\", \"Default\", \"Default\", \"Default\", \"Default\", \"Default\", \"Topic1\", \"Topic1\", \"Topic1\", \"Topic1\", \"Topic1\", \"Topic1\", \"Topic1\", \"Topic1\", \"Topic1\", \"Topic1\", \"Topic1\", \"Topic1\", \"Topic1\", \"Topic1\", \"Topic1\", \"Topic1\", \"Topic1\", \"Topic1\", \"Topic1\", \"Topic1\", \"Topic1\", \"Topic1\", \"Topic1\", \"Topic1\", \"Topic1\", \"Topic1\", \"Topic2\", \"Topic2\", \"Topic2\", \"Topic2\", \"Topic2\", \"Topic2\", \"Topic2\", \"Topic2\", \"Topic2\", \"Topic2\", \"Topic2\", \"Topic2\", \"Topic2\", \"Topic2\", \"Topic2\", \"Topic2\", \"Topic2\", \"Topic2\", \"Topic2\", \"Topic2\", \"Topic2\", \"Topic2\", \"Topic2\", \"Topic2\", \"Topic2\", \"Topic2\", \"Topic3\", \"Topic3\", \"Topic3\", \"Topic3\", \"Topic3\", \"Topic3\", \"Topic3\", \"Topic3\", \"Topic3\", \"Topic3\", \"Topic3\", \"Topic3\", \"Topic3\", \"Topic3\", \"Topic3\", \"Topic3\", \"Topic3\", \"Topic3\", \"Topic3\", \"Topic3\", \"Topic3\", \"Topic3\", \"Topic3\", \"Topic3\", \"Topic3\", \"Topic3\", \"Topic4\", \"Topic4\", \"Topic4\", \"Topic4\", \"Topic4\", \"Topic4\", \"Topic4\", \"Topic4\", \"Topic4\", \"Topic4\", \"Topic4\", \"Topic4\", \"Topic4\", \"Topic4\", \"Topic4\", \"Topic4\", \"Topic4\", \"Topic4\", \"Topic4\", \"Topic4\", \"Topic4\", \"Topic4\", \"Topic4\", \"Topic4\", \"Topic4\", \"Topic4\", \"Topic5\", \"Topic5\", \"Topic5\", \"Topic5\", \"Topic5\", \"Topic5\", \"Topic5\", \"Topic5\", \"Topic5\", \"Topic5\", \"Topic5\", \"Topic5\", \"Topic5\", \"Topic5\", \"Topic5\", \"Topic5\", \"Topic5\", \"Topic5\", \"Topic5\", \"Topic5\", \"Topic5\", \"Topic5\", \"Topic5\", \"Topic5\", \"Topic5\", \"Topic5\"], \"logprob\": [26.0, 25.0, 24.0, 23.0, 22.0, 21.0, 20.0, 19.0, 18.0, 17.0, 16.0, 15.0, 14.0, 13.0, 12.0, 11.0, 10.0, 9.0, 8.0, 7.0, 6.0, 5.0, 4.0, 3.0, 2.0, 1.0, -1.9241000413894653, -3.240000009536743, -3.240000009536743, -3.240000009536743, -3.240000009536743, -3.240000009536743, -3.240000009536743, -1.6122000217437744, -2.8659000396728516, -3.846400022506714, -3.84660005569458, -3.84660005569458, -3.84660005569458, -3.8466999530792236, -3.2407000064849854, -3.8480000495910645, -2.8673999309539795, -3.2411999702453613, -3.243299961090088, -3.8498001098632812, -3.848299980163574, -5.637800216674805, -5.637800216674805, -5.637800216674805, -5.637800216674805, -5.637800216674805, -2.3089001178741455, -2.0357000827789307, -2.308500051498413, -3.289799928665161, -3.2906999588012695, -3.2906999588012695, -2.036400079727173, -3.289799928665161, -3.289799928665161, -3.289799928665161, -3.289799928665161, -3.2899999618530273, -2.6830999851226807, -3.289599895477295, -2.684999942779541, -5.081999778747559, -5.081999778747559, -5.081999778747559, -5.081999778747559, -5.081999778747559, -5.081999778747559, -5.081999778747559, -5.081999778747559, -5.081999778747559, -5.081999778747559, -5.081999778747559, -2.1665000915527344, -2.1656999588012695, -2.772200107574463, -2.772200107574463, -2.773099899291992, -2.7720999717712402, -2.773099899291992, -2.1654999256134033, -2.772900104522705, -2.772700071334839, -4.564300060272217, -2.775599956512451, -4.564300060272217, -4.564300060272217, -4.564300060272217, -4.564300060272217, -4.564300060272217, -4.564300060272217, -4.564300060272217, -4.564300060272217, -4.564300060272217, -4.564300060272217, -4.564300060272217, -4.564300060272217, -4.564300060272217, -4.564300060272217, -1.7924000024795532, -1.7901999950408936, -2.397200107574463, -1.7913000583648682, -2.3993000984191895, -4.190199851989746, -4.190199851989746, -4.190199851989746, -4.190199851989746, -4.190199851989746, -4.190199851989746, -4.190199851989746, -4.190199851989746, -4.190199851989746, -4.190199851989746, -4.190199851989746, -4.190199851989746, -4.190199851989746, -4.190199851989746, -4.190199851989746, -4.190100193023682, -4.190199851989746, -4.190100193023682, -4.190199851989746, -4.190100193023682, -4.190199851989746, -3.25819993019104, -3.2581000328063965, -3.257999897003174, -3.25819993019104, -3.25819993019104, -3.257999897003174, -3.2581000328063965, -3.2581000328063965, -3.2581000328063965, -3.2581000328063965, -3.2581000328063965, -3.2581000328063965, -3.25819993019104, -3.25819993019104, -3.25819993019104, -3.25819993019104, -3.2581000328063965, -3.257999897003174, -3.2578001022338867, -3.25819993019104, -3.257999897003174, -3.2581000328063965, -3.257999897003174, -3.257999897003174, -3.2581000328063965, -3.2578999996185303], \"loglift\": [26.0, 25.0, 24.0, 23.0, 22.0, 21.0, 20.0, 19.0, 18.0, 17.0, 16.0, 15.0, 14.0, 13.0, 12.0, 11.0, 10.0, 9.0, 8.0, 7.0, 6.0, 5.0, 4.0, 3.0, 2.0, 1.0, 0.5712, 0.4814, 0.4814, 0.4814, 0.4814, 0.4814, 0.4814, 0.3622, 0.1352, -0.1168, -0.1171, -0.1171, -0.1171, -0.1171, -0.2356, -0.3116, -0.3531, -0.371, -0.5119, -0.5123, -0.5861, -1.713, -1.785, -1.8441, -1.8441, -1.8442, 0.6961, 0.6956, 0.5617, 0.5038, 0.5029, 0.5029, 0.4779, 0.4398, 0.4398, 0.4398, 0.4398, 0.4395, 0.318, -0.0273, -0.7106, -1.1572, -1.2292, -1.3606, -1.3606, -1.3606, -1.3606, -1.3606, -1.3606, -1.5456, -1.7445, -2.5866, 1.6863, 1.0965, 1.0215, 1.0215, 1.0205, 0.7642, 0.5644, 0.3488, 0.0973, -0.0414, -0.6395, -0.8012, -0.8347, -0.8348, -0.8348, -0.8348, -0.8348, -0.8429, -0.8429, -0.843, -0.843, -0.843, -0.843, -1.5593, -1.5632, -2.0689, 2.1324, 1.5473, 1.1392, 0.1831, 0.096, -0.3374, -0.3965, -0.3965, -0.3966, -0.4606, -0.4606, -0.4607, -0.4607, -0.4607, -0.4688, -0.4688, -0.4689, -0.4689, -0.4689, -0.4689, -0.9278, -1.1851, -1.189, -1.32, -1.4588, -1.6759, 0.6666, 0.5947, 0.5356, 0.5355, 0.5355, 0.4715, 0.4714, 0.4714, 0.4714, 0.4714, 0.4633, 0.4632, 0.4632, 0.4631, 0.4631, 0.4631, 0.2783, 0.0794, 0.0044, -0.2531, -0.2569, -0.3879, -0.5266, -0.7438, -0.7627, -1.2835]}, \"token.table\": {\"Topic\": [2, 3, 1, 2, 3, 1, 2, 1, 1, 2, 1, 2, 3, 1, 4, 1, 2, 3, 4, 1, 2, 3, 1, 1, 2, 1, 2, 1, 2, 3, 4, 3, 1, 2, 1, 1, 2, 1, 2, 3, 1, 1, 1, 3, 4, 1, 2, 1, 3, 4, 2, 3], \"Freq\": [0.4441908743266056, 0.4441908743266056, 0.8264147023024292, 0.4441908743266056, 0.4441908743266056, 0.6032320345844839, 0.4021546897229893, 0.8264157599854782, 0.4165986985292929, 0.4165986985292929, 0.3707327573272363, 0.4943103431029817, 0.24715517155149086, 0.84881998346481, 0.12125999763783, 0.7202218090265917, 0.14404436180531835, 0.07202218090265917, 0.07202218090265917, 0.3528148476406096, 0.5292222714609144, 0.1764074238203048, 0.8264183516789483, 0.4165986985292929, 0.4165986985292929, 0.4166005209262433, 0.4166005209262433, 0.26107469113674403, 0.26107469113674403, 0.5221493822734881, 0.5064504612130231, 0.9425187207149301, 0.4165986985292929, 0.4165986985292929, 0.8264147023024292, 0.41659820825887095, 0.41659820825887095, 0.3070746019565704, 0.6141492039131408, 0.1535373009782852, 0.8264152470837233, 0.8264207097076148, 0.3434120948418855, 0.3434120948418855, 0.3434120948418855, 0.4037493150855282, 0.6056239726282923, 0.2814701076415338, 0.2814701076415338, 0.2814701076415338, 0.44416362685872285, 0.44416362685872285], \"Term\": [\"additional\", \"additional\", \"argue\", \"funding\", \"funding\", \"gun\", \"gun\", \"guns\", \"hipaa\", \"hipaa\", \"ill\", \"ill\", \"ill\", \"illness\", \"illness\", \"mental\", \"mental\", \"mental\", \"mental\", \"mentally\", \"mentally\", \"mentally\", \"narrowly\", \"nics\", \"nics\", \"owning\", \"owning\", \"patient\", \"patient\", \"patient\", \"population\", \"powers\", \"providers\", \"providers\", \"provision\", \"reduce\", \"reduce\", \"seriously\", \"seriously\", \"seriously\", \"toward\", \"treatment\", \"untreated\", \"untreated\", \"untreated\", \"violence\", \"violence\", \"violent\", \"violent\", \"violent\", \"weapons\", \"weapons\"]}, \"R\": 26, \"lambda.step\": 0.01, \"plot.opts\": {\"xlab\": \"PC1\", \"ylab\": \"PC2\"}, \"topic.order\": [1, 3, 4, 2, 5]};\n",
       "\n",
       "function LDAvis_load_lib(url, callback){\n",
       "  var s = document.createElement('script');\n",
       "  s.src = url;\n",
       "  s.async = true;\n",
       "  s.onreadystatechange = s.onload = callback;\n",
       "  s.onerror = function(){console.warn(\"failed to load library \" + url);};\n",
       "  document.getElementsByTagName(\"head\")[0].appendChild(s);\n",
       "}\n",
       "\n",
       "if(typeof(LDAvis) !== \"undefined\"){\n",
       "   // already loaded: just create the visualization\n",
       "   !function(LDAvis){\n",
       "       new LDAvis(\"#\" + \"ldavis_el3012051294940809942880289\", ldavis_el3012051294940809942880289_data);\n",
       "   }(LDAvis);\n",
       "}else if(typeof define === \"function\" && define.amd){\n",
       "   // require.js is available: use it to load d3/LDAvis\n",
       "   require.config({paths: {d3: \"https://cdnjs.cloudflare.com/ajax/libs/d3/3.5.5/d3.min\"}});\n",
       "   require([\"d3\"], function(d3){\n",
       "      window.d3 = d3;\n",
       "      LDAvis_load_lib(\"https://cdn.rawgit.com/bmabey/pyLDAvis/files/ldavis.v1.0.0.js\", function(){\n",
       "        new LDAvis(\"#\" + \"ldavis_el3012051294940809942880289\", ldavis_el3012051294940809942880289_data);\n",
       "      });\n",
       "    });\n",
       "}else{\n",
       "    // require.js not available: dynamically load d3 & LDAvis\n",
       "    LDAvis_load_lib(\"https://cdnjs.cloudflare.com/ajax/libs/d3/3.5.5/d3.min.js\", function(){\n",
       "         LDAvis_load_lib(\"https://cdn.rawgit.com/bmabey/pyLDAvis/files/ldavis.v1.0.0.js\", function(){\n",
       "                 new LDAvis(\"#\" + \"ldavis_el3012051294940809942880289\", ldavis_el3012051294940809942880289_data);\n",
       "            })\n",
       "         });\n",
       "}\n",
       "</script>"
      ],
      "text/plain": [
       "PreparedData(topic_coordinates=              x         y  topics  cluster       Freq\n",
       "topic                                                \n",
       "0      0.046279 -0.094434       1        1  48.540956\n",
       "2     -0.125462 -0.038383       2        1  27.209679\n",
       "3     -0.056582  0.095837       3        1  13.730485\n",
       "1      0.136729  0.036407       4        1   8.471611\n",
       "4     -0.000963  0.000573       5        1   2.047270, topic_info=          Term       Freq      Total Category  logprob  loglift\n",
       "10     illness   8.000000   8.000000  Default  26.0000  26.0000\n",
       "13     violent   3.000000   3.000000  Default  25.0000  25.0000\n",
       "4       mental  13.000000  13.000000  Default  24.0000  24.0000\n",
       "14  population   1.000000   1.000000  Default  23.0000  23.0000\n",
       "12   untreated   2.000000   2.000000  Default  22.0000  22.0000\n",
       "..         ...        ...        ...      ...      ...      ...\n",
       "5     mentally   0.078743   5.668696   Topic5  -3.2581  -0.3879\n",
       "8    seriously   0.078751   6.513075   Topic5  -3.2580  -0.5266\n",
       "3          ill   0.078746   8.092082   Topic5  -3.2580  -0.7438\n",
       "10     illness   0.078742   8.246743   Topic5  -3.2581  -0.7627\n",
       "4       mental   0.078756  13.884611   Topic5  -3.2579  -1.2835\n",
       "\n",
       "[156 rows x 6 columns], token_table=      Topic      Freq        Term\n",
       "term                             \n",
       "0         2  0.444191  additional\n",
       "0         3  0.444191  additional\n",
       "20        1  0.826415       argue\n",
       "1         2  0.444191     funding\n",
       "1         3  0.444191     funding\n",
       "2         1  0.603232         gun\n",
       "2         2  0.402155         gun\n",
       "21        1  0.826416        guns\n",
       "15        1  0.416599       hipaa\n",
       "15        2  0.416599       hipaa\n",
       "3         1  0.370733         ill\n",
       "3         2  0.494310         ill\n",
       "3         3  0.247155         ill\n",
       "10        1  0.848820     illness\n",
       "10        4  0.121260     illness\n",
       "4         1  0.720222      mental\n",
       "4         2  0.144044      mental\n",
       "4         3  0.072022      mental\n",
       "4         4  0.072022      mental\n",
       "5         1  0.352815    mentally\n",
       "5         2  0.529222    mentally\n",
       "5         3  0.176407    mentally\n",
       "11        1  0.826418    narrowly\n",
       "16        1  0.416599        nics\n",
       "16        2  0.416599        nics\n",
       "6         1  0.416601      owning\n",
       "6         2  0.416601      owning\n",
       "17        1  0.261075     patient\n",
       "17        2  0.261075     patient\n",
       "17        3  0.522149     patient\n",
       "14        4  0.506450  population\n",
       "23        3  0.942519      powers\n",
       "18        1  0.416599   providers\n",
       "18        2  0.416599   providers\n",
       "22        1  0.826415   provision\n",
       "7         1  0.416598      reduce\n",
       "7         2  0.416598      reduce\n",
       "8         1  0.307075   seriously\n",
       "8         2  0.614149   seriously\n",
       "8         3  0.153537   seriously\n",
       "24        1  0.826415      toward\n",
       "25        1  0.826421   treatment\n",
       "12        1  0.343412   untreated\n",
       "12        3  0.343412   untreated\n",
       "12        4  0.343412   untreated\n",
       "9         1  0.403749    violence\n",
       "9         2  0.605624    violence\n",
       "13        1  0.281470     violent\n",
       "13        3  0.281470     violent\n",
       "13        4  0.281470     violent\n",
       "19        2  0.444164     weapons\n",
       "19        3  0.444164     weapons, R=26, lambda_step=0.01, plot_opts={'xlab': 'PC1', 'ylab': 'PC2'}, topic_order=[1, 3, 4, 2, 5])"
      ]
     },
     "execution_count": 85,
     "metadata": {},
     "output_type": "execute_result"
    }
   ],
   "source": [
    "# Create a floor of the frequency of words to remove\n",
    "word_frequency_threshold = 1\n",
    "\n",
    "# choose the number of LDA topics\n",
    "num_lda_topics = 5\n",
    "\n",
    "# do by sentences\n",
    "do_sentences = 1\n",
    "\n",
    "do_plot = 0\n",
    "\n",
    "do_print = 0\n",
    "\n",
    "n_passes = 100\n",
    "\n",
    "perplexity_scores = np.zeros((100,1))\n",
    "\n",
    "for i in range(100):\n",
    "    # loop through articles\n",
    "    # for ind, full_file_name in enumerate(full_file_names):\n",
    "\n",
    "    # for ind, article_text in enumerate(articles_df_random_subset['content']):\n",
    "    for ind, article_text in enumerate([articles_df_random_subset.iloc[5,6]]):\n",
    "\n",
    "\n",
    "\n",
    "\n",
    "    #     if ind == 0:\n",
    "    #         continue\n",
    "\n",
    "        if do_print:\n",
    "            print(article_text)\n",
    "\n",
    "        # pull out dictionary of important entities\n",
    "    #     entity_dict = entity_recognizer(article_text,nlp)\n",
    "\n",
    "    #     if do_print:\n",
    "    #         print(' ')\n",
    "\n",
    "    #     for key in entity_dict:\n",
    "\n",
    "    #         if do_print:\n",
    "    #             print(key)\n",
    "    #             print(entity_dict[key])\n",
    "    #             print(' ')\n",
    "\n",
    "    #     # replace weird apostrophes\n",
    "    #     article_text = article_text.replace(\"`\",\"'\")\n",
    "    #     article_text = article_text.replace(\"’\",\"'\")\n",
    "    #     article_text = article_text.replace(\"'\",\"'\")\n",
    "\n",
    "    #     # replace long dashes with short dashes\n",
    "    #     article_text = article_text.replace(\"—\",\"-\")\n",
    "\n",
    "    #     # replace short dashes with spaces\n",
    "    #     article_text = article_text.replace(\"-\",\" \")\n",
    "\n",
    "        if do_sentences:\n",
    "            # break article into sentences\n",
    "            article_text = tokenize.sent_tokenize(article_text)\n",
    "\n",
    "    #         article_text = [sentence.translate(sentence.maketrans('', '', string.punctuation)) for sentence in article_text]\n",
    "\n",
    "            # process article\n",
    "            article_processed = process_all_articles(article_text,nlp)\n",
    "\n",
    "            # remove stopwords\n",
    "            article_processed = remove_stopwords(article_processed,stop_words)\n",
    "\n",
    "            # following https://radimrehurek.com/gensim/auto_examples/core/run_core_concepts.html#sphx-glr-auto-examples-core-run-core-concepts-py\n",
    "            # Lowercase each document, split it by white space and filter out stopwords\n",
    "    #         texts = [[word for word in document.lower().split() if word not in stop_words] \n",
    "    #                  for document in article_text]\n",
    "\n",
    "        else:\n",
    "            # get rid of punctuation\n",
    "            article_text = article_text.translate(article_text.maketrans('', '', string.punctuation))\n",
    "\n",
    "            # following https://radimrehurek.com/gensim/auto_examples/core/run_core_concepts.html#sphx-glr-auto-examples-core-run-core-concepts-py\n",
    "            # Lowercase each document, split it by white space and filter out stopwords\n",
    "            article_processed = [[word for word in document.lower().split() if word not in stop_words] for document in [article_text]]\n",
    "\n",
    "        # get corpus, dictionary, bag of words\n",
    "        processed_corpus, processed_dictionary, bow_corpus = get_simple_corpus_dictionary_bow(article_processed,\n",
    "                                                                                              word_frequency_threshold)\n",
    "\n",
    "        # generate the LDA model\n",
    "        lda = LdaModel(corpus = bow_corpus,\n",
    "                         num_topics = 5,\n",
    "                         id2word = processed_dictionary,\n",
    "                         passes = n_passes)\n",
    "\n",
    "        # get the topics from the lda model\n",
    "        lda_topics = lda.show_topics(formatted=False)\n",
    "\n",
    "        # dictionary for topics and the probabilities associated with them\n",
    "        topics_probs_dict = {}\n",
    "\n",
    "        # list of unique topic names\n",
    "        topics = []\n",
    "\n",
    "        # get top words per topic\n",
    "        lda_top_topic_words = ''\n",
    "\n",
    "        # loop through each list of generated topics\n",
    "        for topic in lda_topics:\n",
    "\n",
    "            # get the list of topics\n",
    "            topic_words = topic[1]\n",
    "\n",
    "            lda_top_topic_words += ' '+topic_words[0][0]\n",
    "\n",
    "            # loop through topic words and probabilities\n",
    "            for topic_word, prob in topic_words:\n",
    "\n",
    "                # if the word isn't already in the list of topics, add it to list of topics\n",
    "                if topic_word not in topics: \n",
    "                    topics.append(topic_word)\n",
    "\n",
    "                # if the word is not a key in the dictionary of topics to probabilities, add it to dictionary\n",
    "                if topic_word not in topics_probs_dict.keys():\n",
    "\n",
    "                    topics_probs_dict[topic_word] = np.array([prob])\n",
    "\n",
    "                # if the word is a key in the dictionary of topics to probabilities, append probability\n",
    "                else:\n",
    "                    topics_probs_dict[topic_word] = np.append(topics_probs_dict[topic_word],[prob])\n",
    "\n",
    "        # dictionary for topic probability means\n",
    "        topics_mean_probs_dict = {}\n",
    "\n",
    "        # dictionary for topic probability std devs\n",
    "        topics_std_probs_dict = {}\n",
    "\n",
    "        # dictionary for topic frequency\n",
    "        topics_frequency_dict = {}\n",
    "\n",
    "        # loop through topics and probabilities\n",
    "        for topic, prob in topics_probs_dict.items():\n",
    "\n",
    "            # update dictionary for mean probability\n",
    "            topics_mean_probs_dict[topic] = np.mean(prob)\n",
    "\n",
    "            # update dictionary for std dev probability\n",
    "            topics_std_probs_dict[topic] = np.std(prob)\n",
    "\n",
    "            # update dictionary for topic frequency\n",
    "            topics_frequency_dict[topic] =  prob.size\n",
    "\n",
    "\n",
    "\n",
    "        # get the topic mean probs and frequencies, sorted\n",
    "        topics_means, means_sorted, std_sorted, topics_freq, freq_sorted = sort_topics_mean_frequency(topics,\n",
    "                                                 topics_mean_probs_dict,\n",
    "                                                 topics_std_probs_dict,\n",
    "                                                 topics_frequency_dict)\n",
    "\n",
    "        if do_plot:\n",
    "            plt.figure(figsize=(15,5));\n",
    "            plt.bar(topics_means,means_sorted,yerr=std_sorted);\n",
    "            plt.ylabel('Mean probability');\n",
    "            sns.set_context('talk', font_scale=1.5);\n",
    "            plt.xticks(rotation=90);\n",
    "            plt.show();\n",
    "            plt.clf();\n",
    "        #     plt.savefig('./eda_figs/mean_prob_vs_topic_big_ten_resumes.png', dpi=300, bbox_inches='tight')\n",
    "\n",
    "            plt.figure(figsize=(15,5));\n",
    "            plt.bar(topics_freq,freq_sorted);\n",
    "            plt.ylabel('N');\n",
    "            # plt.xlabel('Topics')\n",
    "            sns.set_context('talk', font_scale=1.5);\n",
    "            plt.xticks(rotation=90);\n",
    "            plt.show();\n",
    "            plt.clf();\n",
    "            # plt.savefig('./edafigs/frequency_vs_topic_big_ten_resumes.pdf')\n",
    "\n",
    "        if do_print:\n",
    "            print(topics)\n",
    "            print(topics_probs_dict)\n",
    "            print(' ')\n",
    "\n",
    "            for lda_topic in lda_topics:\n",
    "                print(lda_topic)\n",
    "\n",
    "            print(lda_top_topic_words)\n",
    "\n",
    "    #     print(' ')\n",
    "    #     if ind == 0:\n",
    "    #         break\n",
    "        perplexity = lda.log_perplexity(bow_corpus)\n",
    "        perplexity_scores[i] = perplexity\n",
    "        \n",
    "        \n",
    "# print('\\nPerplexity: ', lda.log_perplexity(bow_corpus))\n",
    "\n",
    "# Visualize the topics\n",
    "pyLDAvis.enable_notebook()\n",
    "vis = pyLDAvis.gensim.prepare(lda, bow_corpus, processed_dictionary)\n",
    "vis\n"
   ]
  },
  {
   "cell_type": "code",
   "execution_count": 92,
   "metadata": {},
   "outputs": [
    {
     "name": "stdout",
     "output_type": "stream",
     "text": [
      "-3.7708036569356915\n",
      "0.04660732303095615\n"
     ]
    }
   ],
   "source": [
    "print(np.mean(perplexity_scores))\n",
    "print(np.std(perplexity_scores))"
   ]
  },
  {
   "cell_type": "code",
   "execution_count": 93,
   "metadata": {},
   "outputs": [
    {
     "data": {
      "image/png": "[encoded data removed]",
      "text/plain": [
       "<Figure size 1080x360 with 1 Axes>"
      ]
     },
     "metadata": {
      "needs_background": "light"
     },
     "output_type": "display_data"
    },
    {
     "data": {
      "text/plain": [
       "<Figure size 432x288 with 0 Axes>"
      ]
     },
     "metadata": {},
     "output_type": "display_data"
    }
   ],
   "source": [
    "plt.figure(figsize=(15,5));\n",
    "plt.hist(perplexity_scores);\n",
    "plt.ylabel('N');\n",
    "plt.xlabel('Perplexity')\n",
    "sns.set_context('talk', font_scale=1.5);\n",
    "plt.xticks(rotation=90);\n",
    "plt.show();\n",
    "plt.clf();"
   ]
  },
  {
   "cell_type": "code",
   "execution_count": 37,
   "metadata": {},
   "outputs": [
    {
     "name": "stdout",
     "output_type": "stream",
     "text": [
      "17\n"
     ]
    }
   ],
   "source": [
    "print(len(article_text))\n",
    "processed_corpus, processed_dictionary, bow_corpus = get_simple_corpus_dictionary_bow(article_processed,\n",
    "                                                                                          word_frequency_threshold)"
   ]
  },
  {
   "cell_type": "code",
   "execution_count": 38,
   "metadata": {},
   "outputs": [
    {
     "data": {
      "text/plain": [
       "' reverse driver vance calderazzo bikers'"
      ]
     },
     "execution_count": 38,
     "metadata": {},
     "output_type": "execute_result"
    }
   ],
   "source": [
    "lda_top_topic_words"
   ]
  },
  {
   "cell_type": "code",
   "execution_count": 39,
   "metadata": {},
   "outputs": [],
   "source": [
    "# load domain names from all sides media csv, write string for google search\n",
    "all_sides_with_domains = pd.read_csv('./all_sides_media_data/allsides_final_plus_others_with_domains.csv')\n",
    "\n",
    "all_sides_names = all_sides_with_domains['name']\n",
    "all_sides_domains = all_sides_with_domains['domain']\n",
    "\n",
    "all_sides_names_domains = pd.concat([all_sides_names,all_sides_domains],axis=1)"
   ]
  },
  {
   "cell_type": "code",
   "execution_count": 40,
   "metadata": {},
   "outputs": [],
   "source": [
    "queries = []\n",
    "\n",
    "for domain in all_sides_domains:\n",
    "    query = 'site:'+domain+lda_top_topic_words\n",
    "    queries.append(query)\n",
    "    \n",
    "\n",
    "all_sides_names_domains['google_query'] = pd.DataFrame(queries)"
   ]
  },
  {
   "cell_type": "code",
   "execution_count": 43,
   "metadata": {},
   "outputs": [
    {
     "data": {
      "text/plain": [
       "'site:abcnews.go.com reverse driver vance calderazzo bikers'"
      ]
     },
     "execution_count": 43,
     "metadata": {},
     "output_type": "execute_result"
    }
   ],
   "source": [
    "queries[0]"
   ]
  },
  {
   "cell_type": "code",
   "execution_count": 49,
   "metadata": {},
   "outputs": [
    {
     "ename": "HTTPError",
     "evalue": "HTTP Error 429: Too Many Requests",
     "output_type": "error",
     "traceback": [
      "\u001b[0;31m---------------------------------------------------------------------------\u001b[0m",
      "\u001b[0;31mHTTPError\u001b[0m                                 Traceback (most recent call last)",
      "\u001b[0;32m<ipython-input-49-aab0cc16db78>\u001b[0m in \u001b[0;36m<module>\u001b[0;34m\u001b[0m\n\u001b[0;32m----> 1\u001b[0;31m \u001b[0;32mfor\u001b[0m \u001b[0mj\u001b[0m \u001b[0;32min\u001b[0m \u001b[0msearch\u001b[0m\u001b[0;34m(\u001b[0m\u001b[0mquery\u001b[0m\u001b[0;34m,\u001b[0m \u001b[0mtld\u001b[0m\u001b[0;34m=\u001b[0m\u001b[0;34m'com'\u001b[0m\u001b[0;34m,\u001b[0m \u001b[0mlang\u001b[0m\u001b[0;34m=\u001b[0m\u001b[0;34m'en'\u001b[0m\u001b[0;34m,\u001b[0m \u001b[0mnum\u001b[0m \u001b[0;34m=\u001b[0m \u001b[0;36m1\u001b[0m\u001b[0;34m,\u001b[0m \u001b[0mstart\u001b[0m \u001b[0;34m=\u001b[0m \u001b[0;36m0\u001b[0m\u001b[0;34m,\u001b[0m \u001b[0mstop\u001b[0m \u001b[0;34m=\u001b[0m \u001b[0;36m1\u001b[0m\u001b[0;34m,\u001b[0m \u001b[0mpause\u001b[0m \u001b[0;34m=\u001b[0m \u001b[0;36m10\u001b[0m\u001b[0;34m)\u001b[0m\u001b[0;34m:\u001b[0m\u001b[0;34m\u001b[0m\u001b[0;34m\u001b[0m\u001b[0m\n\u001b[0m\u001b[1;32m      2\u001b[0m     \u001b[0mprint\u001b[0m\u001b[0;34m(\u001b[0m\u001b[0mj\u001b[0m\u001b[0;34m)\u001b[0m\u001b[0;34m\u001b[0m\u001b[0;34m\u001b[0m\u001b[0m\n",
      "\u001b[0;32m~/anaconda3/envs/insight/lib/python3.8/site-packages/googlesearch/__init__.py\u001b[0m in \u001b[0;36msearch\u001b[0;34m(query, tld, lang, tbs, safe, num, start, stop, pause, country, extra_params, user_agent, verify_ssl)\u001b[0m\n\u001b[1;32m    303\u001b[0m \u001b[0;34m\u001b[0m\u001b[0m\n\u001b[1;32m    304\u001b[0m         \u001b[0;31m# Request the Google Search results page.\u001b[0m\u001b[0;34m\u001b[0m\u001b[0;34m\u001b[0m\u001b[0;34m\u001b[0m\u001b[0m\n\u001b[0;32m--> 305\u001b[0;31m         \u001b[0mhtml\u001b[0m \u001b[0;34m=\u001b[0m \u001b[0mget_page\u001b[0m\u001b[0;34m(\u001b[0m\u001b[0murl\u001b[0m\u001b[0;34m,\u001b[0m \u001b[0muser_agent\u001b[0m\u001b[0;34m,\u001b[0m \u001b[0mverify_ssl\u001b[0m\u001b[0;34m)\u001b[0m\u001b[0;34m\u001b[0m\u001b[0;34m\u001b[0m\u001b[0m\n\u001b[0m\u001b[1;32m    306\u001b[0m \u001b[0;34m\u001b[0m\u001b[0m\n\u001b[1;32m    307\u001b[0m         \u001b[0;31m# Parse the response and get every anchored URL.\u001b[0m\u001b[0;34m\u001b[0m\u001b[0;34m\u001b[0m\u001b[0;34m\u001b[0m\u001b[0m\n",
      "\u001b[0;32m~/anaconda3/envs/insight/lib/python3.8/site-packages/googlesearch/__init__.py\u001b[0m in \u001b[0;36mget_page\u001b[0;34m(url, user_agent, verify_ssl)\u001b[0m\n\u001b[1;32m    172\u001b[0m     \u001b[0mcookie_jar\u001b[0m\u001b[0;34m.\u001b[0m\u001b[0madd_cookie_header\u001b[0m\u001b[0;34m(\u001b[0m\u001b[0mrequest\u001b[0m\u001b[0;34m)\u001b[0m\u001b[0;34m\u001b[0m\u001b[0;34m\u001b[0m\u001b[0m\n\u001b[1;32m    173\u001b[0m     \u001b[0;32mif\u001b[0m \u001b[0mverify_ssl\u001b[0m\u001b[0;34m:\u001b[0m\u001b[0;34m\u001b[0m\u001b[0;34m\u001b[0m\u001b[0m\n\u001b[0;32m--> 174\u001b[0;31m         \u001b[0mresponse\u001b[0m \u001b[0;34m=\u001b[0m \u001b[0murlopen\u001b[0m\u001b[0;34m(\u001b[0m\u001b[0mrequest\u001b[0m\u001b[0;34m)\u001b[0m\u001b[0;34m\u001b[0m\u001b[0;34m\u001b[0m\u001b[0m\n\u001b[0m\u001b[1;32m    175\u001b[0m     \u001b[0;32melse\u001b[0m\u001b[0;34m:\u001b[0m\u001b[0;34m\u001b[0m\u001b[0;34m\u001b[0m\u001b[0m\n\u001b[1;32m    176\u001b[0m         \u001b[0mcontext\u001b[0m \u001b[0;34m=\u001b[0m \u001b[0mssl\u001b[0m\u001b[0;34m.\u001b[0m\u001b[0m_create_unverified_context\u001b[0m\u001b[0;34m(\u001b[0m\u001b[0;34m)\u001b[0m\u001b[0;34m\u001b[0m\u001b[0;34m\u001b[0m\u001b[0m\n",
      "\u001b[0;32m~/anaconda3/envs/insight/lib/python3.8/urllib/request.py\u001b[0m in \u001b[0;36murlopen\u001b[0;34m(url, data, timeout, cafile, capath, cadefault, context)\u001b[0m\n\u001b[1;32m    220\u001b[0m     \u001b[0;32melse\u001b[0m\u001b[0;34m:\u001b[0m\u001b[0;34m\u001b[0m\u001b[0;34m\u001b[0m\u001b[0m\n\u001b[1;32m    221\u001b[0m         \u001b[0mopener\u001b[0m \u001b[0;34m=\u001b[0m \u001b[0m_opener\u001b[0m\u001b[0;34m\u001b[0m\u001b[0;34m\u001b[0m\u001b[0m\n\u001b[0;32m--> 222\u001b[0;31m     \u001b[0;32mreturn\u001b[0m \u001b[0mopener\u001b[0m\u001b[0;34m.\u001b[0m\u001b[0mopen\u001b[0m\u001b[0;34m(\u001b[0m\u001b[0murl\u001b[0m\u001b[0;34m,\u001b[0m \u001b[0mdata\u001b[0m\u001b[0;34m,\u001b[0m \u001b[0mtimeout\u001b[0m\u001b[0;34m)\u001b[0m\u001b[0;34m\u001b[0m\u001b[0;34m\u001b[0m\u001b[0m\n\u001b[0m\u001b[1;32m    223\u001b[0m \u001b[0;34m\u001b[0m\u001b[0m\n\u001b[1;32m    224\u001b[0m \u001b[0;32mdef\u001b[0m \u001b[0minstall_opener\u001b[0m\u001b[0;34m(\u001b[0m\u001b[0mopener\u001b[0m\u001b[0;34m)\u001b[0m\u001b[0;34m:\u001b[0m\u001b[0;34m\u001b[0m\u001b[0;34m\u001b[0m\u001b[0m\n",
      "\u001b[0;32m~/anaconda3/envs/insight/lib/python3.8/urllib/request.py\u001b[0m in \u001b[0;36mopen\u001b[0;34m(self, fullurl, data, timeout)\u001b[0m\n\u001b[1;32m    529\u001b[0m         \u001b[0;32mfor\u001b[0m \u001b[0mprocessor\u001b[0m \u001b[0;32min\u001b[0m \u001b[0mself\u001b[0m\u001b[0;34m.\u001b[0m\u001b[0mprocess_response\u001b[0m\u001b[0;34m.\u001b[0m\u001b[0mget\u001b[0m\u001b[0;34m(\u001b[0m\u001b[0mprotocol\u001b[0m\u001b[0;34m,\u001b[0m \u001b[0;34m[\u001b[0m\u001b[0;34m]\u001b[0m\u001b[0;34m)\u001b[0m\u001b[0;34m:\u001b[0m\u001b[0;34m\u001b[0m\u001b[0;34m\u001b[0m\u001b[0m\n\u001b[1;32m    530\u001b[0m             \u001b[0mmeth\u001b[0m \u001b[0;34m=\u001b[0m \u001b[0mgetattr\u001b[0m\u001b[0;34m(\u001b[0m\u001b[0mprocessor\u001b[0m\u001b[0;34m,\u001b[0m \u001b[0mmeth_name\u001b[0m\u001b[0;34m)\u001b[0m\u001b[0;34m\u001b[0m\u001b[0;34m\u001b[0m\u001b[0m\n\u001b[0;32m--> 531\u001b[0;31m             \u001b[0mresponse\u001b[0m \u001b[0;34m=\u001b[0m \u001b[0mmeth\u001b[0m\u001b[0;34m(\u001b[0m\u001b[0mreq\u001b[0m\u001b[0;34m,\u001b[0m \u001b[0mresponse\u001b[0m\u001b[0;34m)\u001b[0m\u001b[0;34m\u001b[0m\u001b[0;34m\u001b[0m\u001b[0m\n\u001b[0m\u001b[1;32m    532\u001b[0m \u001b[0;34m\u001b[0m\u001b[0m\n\u001b[1;32m    533\u001b[0m         \u001b[0;32mreturn\u001b[0m \u001b[0mresponse\u001b[0m\u001b[0;34m\u001b[0m\u001b[0;34m\u001b[0m\u001b[0m\n",
      "\u001b[0;32m~/anaconda3/envs/insight/lib/python3.8/urllib/request.py\u001b[0m in \u001b[0;36mhttp_response\u001b[0;34m(self, request, response)\u001b[0m\n\u001b[1;32m    638\u001b[0m         \u001b[0;31m# request was successfully received, understood, and accepted.\u001b[0m\u001b[0;34m\u001b[0m\u001b[0;34m\u001b[0m\u001b[0;34m\u001b[0m\u001b[0m\n\u001b[1;32m    639\u001b[0m         \u001b[0;32mif\u001b[0m \u001b[0;32mnot\u001b[0m \u001b[0;34m(\u001b[0m\u001b[0;36m200\u001b[0m \u001b[0;34m<=\u001b[0m \u001b[0mcode\u001b[0m \u001b[0;34m<\u001b[0m \u001b[0;36m300\u001b[0m\u001b[0;34m)\u001b[0m\u001b[0;34m:\u001b[0m\u001b[0;34m\u001b[0m\u001b[0;34m\u001b[0m\u001b[0m\n\u001b[0;32m--> 640\u001b[0;31m             response = self.parent.error(\n\u001b[0m\u001b[1;32m    641\u001b[0m                 'http', request, response, code, msg, hdrs)\n\u001b[1;32m    642\u001b[0m \u001b[0;34m\u001b[0m\u001b[0m\n",
      "\u001b[0;32m~/anaconda3/envs/insight/lib/python3.8/urllib/request.py\u001b[0m in \u001b[0;36merror\u001b[0;34m(self, proto, *args)\u001b[0m\n\u001b[1;32m    561\u001b[0m             \u001b[0mhttp_err\u001b[0m \u001b[0;34m=\u001b[0m \u001b[0;36m0\u001b[0m\u001b[0;34m\u001b[0m\u001b[0;34m\u001b[0m\u001b[0m\n\u001b[1;32m    562\u001b[0m         \u001b[0margs\u001b[0m \u001b[0;34m=\u001b[0m \u001b[0;34m(\u001b[0m\u001b[0mdict\u001b[0m\u001b[0;34m,\u001b[0m \u001b[0mproto\u001b[0m\u001b[0;34m,\u001b[0m \u001b[0mmeth_name\u001b[0m\u001b[0;34m)\u001b[0m \u001b[0;34m+\u001b[0m \u001b[0margs\u001b[0m\u001b[0;34m\u001b[0m\u001b[0;34m\u001b[0m\u001b[0m\n\u001b[0;32m--> 563\u001b[0;31m         \u001b[0mresult\u001b[0m \u001b[0;34m=\u001b[0m \u001b[0mself\u001b[0m\u001b[0;34m.\u001b[0m\u001b[0m_call_chain\u001b[0m\u001b[0;34m(\u001b[0m\u001b[0;34m*\u001b[0m\u001b[0margs\u001b[0m\u001b[0;34m)\u001b[0m\u001b[0;34m\u001b[0m\u001b[0;34m\u001b[0m\u001b[0m\n\u001b[0m\u001b[1;32m    564\u001b[0m         \u001b[0;32mif\u001b[0m \u001b[0mresult\u001b[0m\u001b[0;34m:\u001b[0m\u001b[0;34m\u001b[0m\u001b[0;34m\u001b[0m\u001b[0m\n\u001b[1;32m    565\u001b[0m             \u001b[0;32mreturn\u001b[0m \u001b[0mresult\u001b[0m\u001b[0;34m\u001b[0m\u001b[0;34m\u001b[0m\u001b[0m\n",
      "\u001b[0;32m~/anaconda3/envs/insight/lib/python3.8/urllib/request.py\u001b[0m in \u001b[0;36m_call_chain\u001b[0;34m(self, chain, kind, meth_name, *args)\u001b[0m\n\u001b[1;32m    500\u001b[0m         \u001b[0;32mfor\u001b[0m \u001b[0mhandler\u001b[0m \u001b[0;32min\u001b[0m \u001b[0mhandlers\u001b[0m\u001b[0;34m:\u001b[0m\u001b[0;34m\u001b[0m\u001b[0;34m\u001b[0m\u001b[0m\n\u001b[1;32m    501\u001b[0m             \u001b[0mfunc\u001b[0m \u001b[0;34m=\u001b[0m \u001b[0mgetattr\u001b[0m\u001b[0;34m(\u001b[0m\u001b[0mhandler\u001b[0m\u001b[0;34m,\u001b[0m \u001b[0mmeth_name\u001b[0m\u001b[0;34m)\u001b[0m\u001b[0;34m\u001b[0m\u001b[0;34m\u001b[0m\u001b[0m\n\u001b[0;32m--> 502\u001b[0;31m             \u001b[0mresult\u001b[0m \u001b[0;34m=\u001b[0m \u001b[0mfunc\u001b[0m\u001b[0;34m(\u001b[0m\u001b[0;34m*\u001b[0m\u001b[0margs\u001b[0m\u001b[0;34m)\u001b[0m\u001b[0;34m\u001b[0m\u001b[0;34m\u001b[0m\u001b[0m\n\u001b[0m\u001b[1;32m    503\u001b[0m             \u001b[0;32mif\u001b[0m \u001b[0mresult\u001b[0m \u001b[0;32mis\u001b[0m \u001b[0;32mnot\u001b[0m \u001b[0;32mNone\u001b[0m\u001b[0;34m:\u001b[0m\u001b[0;34m\u001b[0m\u001b[0;34m\u001b[0m\u001b[0m\n\u001b[1;32m    504\u001b[0m                 \u001b[0;32mreturn\u001b[0m \u001b[0mresult\u001b[0m\u001b[0;34m\u001b[0m\u001b[0;34m\u001b[0m\u001b[0m\n",
      "\u001b[0;32m~/anaconda3/envs/insight/lib/python3.8/urllib/request.py\u001b[0m in \u001b[0;36mhttp_error_302\u001b[0;34m(self, req, fp, code, msg, headers)\u001b[0m\n\u001b[1;32m    753\u001b[0m         \u001b[0mfp\u001b[0m\u001b[0;34m.\u001b[0m\u001b[0mclose\u001b[0m\u001b[0;34m(\u001b[0m\u001b[0;34m)\u001b[0m\u001b[0;34m\u001b[0m\u001b[0;34m\u001b[0m\u001b[0m\n\u001b[1;32m    754\u001b[0m \u001b[0;34m\u001b[0m\u001b[0m\n\u001b[0;32m--> 755\u001b[0;31m         \u001b[0;32mreturn\u001b[0m \u001b[0mself\u001b[0m\u001b[0;34m.\u001b[0m\u001b[0mparent\u001b[0m\u001b[0;34m.\u001b[0m\u001b[0mopen\u001b[0m\u001b[0;34m(\u001b[0m\u001b[0mnew\u001b[0m\u001b[0;34m,\u001b[0m \u001b[0mtimeout\u001b[0m\u001b[0;34m=\u001b[0m\u001b[0mreq\u001b[0m\u001b[0;34m.\u001b[0m\u001b[0mtimeout\u001b[0m\u001b[0;34m)\u001b[0m\u001b[0;34m\u001b[0m\u001b[0;34m\u001b[0m\u001b[0m\n\u001b[0m\u001b[1;32m    756\u001b[0m \u001b[0;34m\u001b[0m\u001b[0m\n\u001b[1;32m    757\u001b[0m     \u001b[0mhttp_error_301\u001b[0m \u001b[0;34m=\u001b[0m \u001b[0mhttp_error_303\u001b[0m \u001b[0;34m=\u001b[0m \u001b[0mhttp_error_307\u001b[0m \u001b[0;34m=\u001b[0m \u001b[0mhttp_error_302\u001b[0m\u001b[0;34m\u001b[0m\u001b[0;34m\u001b[0m\u001b[0m\n",
      "\u001b[0;32m~/anaconda3/envs/insight/lib/python3.8/urllib/request.py\u001b[0m in \u001b[0;36mopen\u001b[0;34m(self, fullurl, data, timeout)\u001b[0m\n\u001b[1;32m    529\u001b[0m         \u001b[0;32mfor\u001b[0m \u001b[0mprocessor\u001b[0m \u001b[0;32min\u001b[0m \u001b[0mself\u001b[0m\u001b[0;34m.\u001b[0m\u001b[0mprocess_response\u001b[0m\u001b[0;34m.\u001b[0m\u001b[0mget\u001b[0m\u001b[0;34m(\u001b[0m\u001b[0mprotocol\u001b[0m\u001b[0;34m,\u001b[0m \u001b[0;34m[\u001b[0m\u001b[0;34m]\u001b[0m\u001b[0;34m)\u001b[0m\u001b[0;34m:\u001b[0m\u001b[0;34m\u001b[0m\u001b[0;34m\u001b[0m\u001b[0m\n\u001b[1;32m    530\u001b[0m             \u001b[0mmeth\u001b[0m \u001b[0;34m=\u001b[0m \u001b[0mgetattr\u001b[0m\u001b[0;34m(\u001b[0m\u001b[0mprocessor\u001b[0m\u001b[0;34m,\u001b[0m \u001b[0mmeth_name\u001b[0m\u001b[0;34m)\u001b[0m\u001b[0;34m\u001b[0m\u001b[0;34m\u001b[0m\u001b[0m\n\u001b[0;32m--> 531\u001b[0;31m             \u001b[0mresponse\u001b[0m \u001b[0;34m=\u001b[0m \u001b[0mmeth\u001b[0m\u001b[0;34m(\u001b[0m\u001b[0mreq\u001b[0m\u001b[0;34m,\u001b[0m \u001b[0mresponse\u001b[0m\u001b[0;34m)\u001b[0m\u001b[0;34m\u001b[0m\u001b[0;34m\u001b[0m\u001b[0m\n\u001b[0m\u001b[1;32m    532\u001b[0m \u001b[0;34m\u001b[0m\u001b[0m\n\u001b[1;32m    533\u001b[0m         \u001b[0;32mreturn\u001b[0m \u001b[0mresponse\u001b[0m\u001b[0;34m\u001b[0m\u001b[0;34m\u001b[0m\u001b[0m\n",
      "\u001b[0;32m~/anaconda3/envs/insight/lib/python3.8/urllib/request.py\u001b[0m in \u001b[0;36mhttp_response\u001b[0;34m(self, request, response)\u001b[0m\n\u001b[1;32m    638\u001b[0m         \u001b[0;31m# request was successfully received, understood, and accepted.\u001b[0m\u001b[0;34m\u001b[0m\u001b[0;34m\u001b[0m\u001b[0;34m\u001b[0m\u001b[0m\n\u001b[1;32m    639\u001b[0m         \u001b[0;32mif\u001b[0m \u001b[0;32mnot\u001b[0m \u001b[0;34m(\u001b[0m\u001b[0;36m200\u001b[0m \u001b[0;34m<=\u001b[0m \u001b[0mcode\u001b[0m \u001b[0;34m<\u001b[0m \u001b[0;36m300\u001b[0m\u001b[0;34m)\u001b[0m\u001b[0;34m:\u001b[0m\u001b[0;34m\u001b[0m\u001b[0;34m\u001b[0m\u001b[0m\n\u001b[0;32m--> 640\u001b[0;31m             response = self.parent.error(\n\u001b[0m\u001b[1;32m    641\u001b[0m                 'http', request, response, code, msg, hdrs)\n\u001b[1;32m    642\u001b[0m \u001b[0;34m\u001b[0m\u001b[0m\n",
      "\u001b[0;32m~/anaconda3/envs/insight/lib/python3.8/urllib/request.py\u001b[0m in \u001b[0;36merror\u001b[0;34m(self, proto, *args)\u001b[0m\n\u001b[1;32m    567\u001b[0m         \u001b[0;32mif\u001b[0m \u001b[0mhttp_err\u001b[0m\u001b[0;34m:\u001b[0m\u001b[0;34m\u001b[0m\u001b[0;34m\u001b[0m\u001b[0m\n\u001b[1;32m    568\u001b[0m             \u001b[0margs\u001b[0m \u001b[0;34m=\u001b[0m \u001b[0;34m(\u001b[0m\u001b[0mdict\u001b[0m\u001b[0;34m,\u001b[0m \u001b[0;34m'default'\u001b[0m\u001b[0;34m,\u001b[0m \u001b[0;34m'http_error_default'\u001b[0m\u001b[0;34m)\u001b[0m \u001b[0;34m+\u001b[0m \u001b[0morig_args\u001b[0m\u001b[0;34m\u001b[0m\u001b[0;34m\u001b[0m\u001b[0m\n\u001b[0;32m--> 569\u001b[0;31m             \u001b[0;32mreturn\u001b[0m \u001b[0mself\u001b[0m\u001b[0;34m.\u001b[0m\u001b[0m_call_chain\u001b[0m\u001b[0;34m(\u001b[0m\u001b[0;34m*\u001b[0m\u001b[0margs\u001b[0m\u001b[0;34m)\u001b[0m\u001b[0;34m\u001b[0m\u001b[0;34m\u001b[0m\u001b[0m\n\u001b[0m\u001b[1;32m    570\u001b[0m \u001b[0;34m\u001b[0m\u001b[0m\n\u001b[1;32m    571\u001b[0m \u001b[0;31m# XXX probably also want an abstract factory that knows when it makes\u001b[0m\u001b[0;34m\u001b[0m\u001b[0;34m\u001b[0m\u001b[0;34m\u001b[0m\u001b[0m\n",
      "\u001b[0;32m~/anaconda3/envs/insight/lib/python3.8/urllib/request.py\u001b[0m in \u001b[0;36m_call_chain\u001b[0;34m(self, chain, kind, meth_name, *args)\u001b[0m\n\u001b[1;32m    500\u001b[0m         \u001b[0;32mfor\u001b[0m \u001b[0mhandler\u001b[0m \u001b[0;32min\u001b[0m \u001b[0mhandlers\u001b[0m\u001b[0;34m:\u001b[0m\u001b[0;34m\u001b[0m\u001b[0;34m\u001b[0m\u001b[0m\n\u001b[1;32m    501\u001b[0m             \u001b[0mfunc\u001b[0m \u001b[0;34m=\u001b[0m \u001b[0mgetattr\u001b[0m\u001b[0;34m(\u001b[0m\u001b[0mhandler\u001b[0m\u001b[0;34m,\u001b[0m \u001b[0mmeth_name\u001b[0m\u001b[0;34m)\u001b[0m\u001b[0;34m\u001b[0m\u001b[0;34m\u001b[0m\u001b[0m\n\u001b[0;32m--> 502\u001b[0;31m             \u001b[0mresult\u001b[0m \u001b[0;34m=\u001b[0m \u001b[0mfunc\u001b[0m\u001b[0;34m(\u001b[0m\u001b[0;34m*\u001b[0m\u001b[0margs\u001b[0m\u001b[0;34m)\u001b[0m\u001b[0;34m\u001b[0m\u001b[0;34m\u001b[0m\u001b[0m\n\u001b[0m\u001b[1;32m    503\u001b[0m             \u001b[0;32mif\u001b[0m \u001b[0mresult\u001b[0m \u001b[0;32mis\u001b[0m \u001b[0;32mnot\u001b[0m \u001b[0;32mNone\u001b[0m\u001b[0;34m:\u001b[0m\u001b[0;34m\u001b[0m\u001b[0;34m\u001b[0m\u001b[0m\n\u001b[1;32m    504\u001b[0m                 \u001b[0;32mreturn\u001b[0m \u001b[0mresult\u001b[0m\u001b[0;34m\u001b[0m\u001b[0;34m\u001b[0m\u001b[0m\n",
      "\u001b[0;32m~/anaconda3/envs/insight/lib/python3.8/urllib/request.py\u001b[0m in \u001b[0;36mhttp_error_default\u001b[0;34m(self, req, fp, code, msg, hdrs)\u001b[0m\n\u001b[1;32m    647\u001b[0m \u001b[0;32mclass\u001b[0m \u001b[0mHTTPDefaultErrorHandler\u001b[0m\u001b[0;34m(\u001b[0m\u001b[0mBaseHandler\u001b[0m\u001b[0;34m)\u001b[0m\u001b[0;34m:\u001b[0m\u001b[0;34m\u001b[0m\u001b[0;34m\u001b[0m\u001b[0m\n\u001b[1;32m    648\u001b[0m     \u001b[0;32mdef\u001b[0m \u001b[0mhttp_error_default\u001b[0m\u001b[0;34m(\u001b[0m\u001b[0mself\u001b[0m\u001b[0;34m,\u001b[0m \u001b[0mreq\u001b[0m\u001b[0;34m,\u001b[0m \u001b[0mfp\u001b[0m\u001b[0;34m,\u001b[0m \u001b[0mcode\u001b[0m\u001b[0;34m,\u001b[0m \u001b[0mmsg\u001b[0m\u001b[0;34m,\u001b[0m \u001b[0mhdrs\u001b[0m\u001b[0;34m)\u001b[0m\u001b[0;34m:\u001b[0m\u001b[0;34m\u001b[0m\u001b[0;34m\u001b[0m\u001b[0m\n\u001b[0;32m--> 649\u001b[0;31m         \u001b[0;32mraise\u001b[0m \u001b[0mHTTPError\u001b[0m\u001b[0;34m(\u001b[0m\u001b[0mreq\u001b[0m\u001b[0;34m.\u001b[0m\u001b[0mfull_url\u001b[0m\u001b[0;34m,\u001b[0m \u001b[0mcode\u001b[0m\u001b[0;34m,\u001b[0m \u001b[0mmsg\u001b[0m\u001b[0;34m,\u001b[0m \u001b[0mhdrs\u001b[0m\u001b[0;34m,\u001b[0m \u001b[0mfp\u001b[0m\u001b[0;34m)\u001b[0m\u001b[0;34m\u001b[0m\u001b[0;34m\u001b[0m\u001b[0m\n\u001b[0m\u001b[1;32m    650\u001b[0m \u001b[0;34m\u001b[0m\u001b[0m\n\u001b[1;32m    651\u001b[0m \u001b[0;32mclass\u001b[0m \u001b[0mHTTPRedirectHandler\u001b[0m\u001b[0;34m(\u001b[0m\u001b[0mBaseHandler\u001b[0m\u001b[0;34m)\u001b[0m\u001b[0;34m:\u001b[0m\u001b[0;34m\u001b[0m\u001b[0;34m\u001b[0m\u001b[0m\n",
      "\u001b[0;31mHTTPError\u001b[0m: HTTP Error 429: Too Many Requests"
     ]
    }
   ],
   "source": [
    "for j in search(query, tld='com', lang='en', num = 1, start = 0, stop = 1, pause = 10):\n",
    "    print(j)"
   ]
  },
  {
   "cell_type": "code",
   "execution_count": null,
   "metadata": {},
   "outputs": [],
   "source": [
    "query_results = {}\n",
    "\n",
    "for query in queries:\n",
    "    current_results = []\n",
    "    \n",
    "    for j in search(query, tld='com', lang='en', num = 1, start=0, stop = 5, pause = 10):\n",
    "        current_results.append(j)\n",
    "        \n",
    "    query_results[query] = current_results\n",
    "    \n",
    "    "
   ]
  },
  {
   "cell_type": "code",
   "execution_count": 57,
   "metadata": {},
   "outputs": [
    {
     "name": "stdout",
     "output_type": "stream",
     "text": [
      "{\n",
      "    \"reverse\": 5,\n",
      "    \"driver\": 5,\n",
      "    \"florida\": 5,\n",
      "    \"vance\": 5,\n",
      "    \"calderazzo\": 5,\n",
      "    \"bikers\": 5,\n",
      "    \"hospitalized\": 5,\n",
      "    \"driving\": 5\n",
      "}\n"
     ]
    }
   ],
   "source": [
    "# Serializing json    \n",
    "# json_object = json.dumps(query_results, indent = 4)   \n",
    "json_object = json.dumps(topics_frequency_dict, indent = 4)\n",
    "print(json_object)  \n",
    "\n",
    "\n",
    "# print(all_sides_names_domains)\n",
    "# all_news_df.apply(lambda x: len(x['content'].split(' ')),axis=1)"
   ]
  },
  {
   "cell_type": "code",
   "execution_count": 55,
   "metadata": {},
   "outputs": [
    {
     "name": "stdout",
     "output_type": "stream",
     "text": [
      "site:abcnews.go.com reverse driver vance calderazzo bikers\n",
      "ABC News (Online)\n",
      " \n",
      "site:aljazeera.com reverse driver vance calderazzo bikers\n",
      "Al Jazeera\n",
      " \n",
      "site:apnews.com reverse driver vance calderazzo bikers\n",
      "Associated Press\n",
      " \n",
      "site:bbc.com reverse driver vance calderazzo bikers\n",
      "BBC News\n",
      " \n",
      "site:bloomberg.com reverse driver vance calderazzo bikers\n",
      "Bloomberg\n",
      " \n",
      "site:breitbart.com reverse driver vance calderazzo bikers\n",
      "Breitbart News\n",
      " \n",
      "site:buzzfeednews.com reverse driver vance calderazzo bikers\n",
      "BuzzFeed News\n",
      " \n",
      "site:cbn.com reverse driver vance calderazzo bikers\n",
      "CBN\n",
      " \n",
      "site:cbsnews.com reverse driver vance calderazzo bikers\n",
      "CBS News\n",
      " \n",
      "site:csmonitor.com reverse driver vance calderazzo bikers\n",
      "Christian Science Monitor\n",
      " \n",
      "site:cnn.com reverse driver vance calderazzo bikers\n",
      "CNN (Web News)\n",
      " \n",
      "site:thedailybeast.com reverse driver vance calderazzo bikers\n",
      "Daily Beast\n",
      " \n",
      "site:democracynow.org reverse driver vance calderazzo bikers\n",
      "Democracy Now\n",
      " \n",
      "site:factcheck.org reverse driver vance calderazzo bikers\n",
      "FactCheck.org\n",
      " \n",
      "site:forbes.com reverse driver vance calderazzo bikers\n",
      "Forbes\n",
      " \n",
      "site:foxnews.com reverse driver vance calderazzo bikers\n",
      "Fox News (Online)\n",
      " \n",
      "site:huffpost.com reverse driver vance calderazzo bikers\n",
      "HuffPost\n",
      " \n",
      "site:motherjones.com reverse driver vance calderazzo bikers\n",
      "Mother Jones\n",
      " \n",
      "site:msnbc.com reverse driver vance calderazzo bikers\n",
      "MSNBC\n",
      " \n",
      "site:nationalreview.com reverse driver vance calderazzo bikers\n",
      "National Review\n",
      " \n",
      "site:nbcnews.com reverse driver vance calderazzo bikers\n",
      "NBC News (Online)\n",
      " \n",
      "site:nypost.com reverse driver vance calderazzo bikers\n",
      "New York Post\n",
      " \n",
      "site:nytimes.com reverse driver vance calderazzo bikers\n",
      "New York Times (Online News)\n",
      " \n",
      "site:newsmax.com reverse driver vance calderazzo bikers\n",
      "Newsmax - News\n",
      " \n",
      "site:npr.org reverse driver vance calderazzo bikers\n",
      "NPR Online News\n",
      " \n",
      "site:politico.com reverse driver vance calderazzo bikers\n",
      "Politico\n",
      " \n",
      "site:reason.com reverse driver vance calderazzo bikers\n",
      "Reason\n",
      " \n",
      "site:reuters.com reverse driver vance calderazzo bikers\n",
      "Reuters\n",
      " \n",
      "site:salon.com reverse driver vance calderazzo bikers\n",
      "Salon\n",
      " \n",
      "site:spectator.org reverse driver vance calderazzo bikers\n",
      "The American Spectator\n",
      " \n",
      "site:theatlantic.com reverse driver vance calderazzo bikers\n",
      "The Atlantic\n",
      " \n",
      "site:theguardian.com reverse driver vance calderazzo bikers\n",
      "The Guardian\n",
      " \n",
      "site:thehill.com reverse driver vance calderazzo bikers\n",
      "The Hill\n",
      " \n",
      "site:wsj.com reverse driver vance calderazzo bikers\n",
      "The Wall Street Journal\n",
      " \n"
     ]
    }
   ],
   "source": [
    "for ind, query in enumerate(queries):\n",
    "    print(query)\n",
    "    print(all_sides_names.iloc[ind])\n",
    "    print(' ')"
   ]
  },
  {
   "cell_type": "code",
   "execution_count": null,
   "metadata": {},
   "outputs": [],
   "source": [
    "str(lda_top_topic_words)"
   ]
  },
  {
   "cell_type": "code",
   "execution_count": null,
   "metadata": {},
   "outputs": [],
   "source": [
    "article_text[0]"
   ]
  },
  {
   "cell_type": "code",
   "execution_count": null,
   "metadata": {},
   "outputs": [],
   "source": []
  }
 ],
 "metadata": {
  "kernelspec": {
   "display_name": "Python 3",
   "language": "python",
   "name": "python3"
  },
  "language_info": {
   "codemirror_mode": {
    "name": "ipython",
    "version": 3
   },
   "file_extension": ".py",
   "mimetype": "text/x-python",
   "name": "python",
   "nbconvert_exporter": "python",
   "pygments_lexer": "ipython3",
   "version": "3.8.5"
  }
 },
 "nbformat": 4,
 "nbformat_minor": 4
}
