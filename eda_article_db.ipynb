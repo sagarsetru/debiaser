{
 "cells": [
  {
   "cell_type": "markdown",
   "metadata": {},
   "source": [
    "# EDA (downloaded document corpus) for 'debiaser' data product\n",
    "#### Sagar Setru, September 21th, 2020"
   ]
  },
  {
   "cell_type": "markdown",
   "metadata": {},
   "source": [
    "## Brief description using CoNVO framework"
   ]
  },
  {
   "cell_type": "markdown",
   "metadata": {},
   "source": [
    "### Context\n",
    "\n",
    "Some people are eager to get news from outside of their echo chamber. However, they do not know where to go outside of their echo chambers, and may also have some activation energy when it comes to seeking information from other sources. In the meantime, most newsfeeds only push you content that you agree with. You end up in an echo chamber, but may not have ever wanted to be in one in the first place."
   ]
  },
  {
   "cell_type": "markdown",
   "metadata": {},
   "source": [
    "### Need\n",
    "\n",
    "A way to find news articles from different yet reliable media sources."
   ]
  },
  {
   "cell_type": "markdown",
   "metadata": {},
   "source": [
    "### Vision\n",
    "\n",
    "Debiaser, a data product (maybe Chrome plug-in?) that will recommend news articles similar in topic to the one currently being read, but from several pre-curated and reliable news media organizations across the political spectrum, for example, following the \"media bias chart\" here https://www.adfontesmedia.com/ or the \"media bias ratings\" here: https://www.allsides.com/media-bias/media-bias-ratings. The app will determine the main topics of the text of a news article, and then show links to similar articles from other news organizations.\n",
    "\n",
    "The product will generate topics for a given document via latent Dirichlet allocation (LDA) and then search news websites for the topic words generated.\n",
    "\n",
    "Caveats: Many of these articles may be behind paywalls. News aggregators already basically do this. How different is this than just searching Google using the title of an article?"
   ]
  },
  {
   "cell_type": "markdown",
   "metadata": {},
   "source": [
    "### Outcome\n",
    "\n",
    "People who are motivated to engage in content outside of their echo chambers have a tool that enables them to quickly find news similar to what they are currently reading, but from a variety of news organizations."
   ]
  },
  {
   "cell_type": "markdown",
   "metadata": {},
   "source": [
    "### EDA of news articles database\n",
    "News articles taken from here: https://components.one/datasets/all-the-news-articles-dataset/"
   ]
  },
  {
   "cell_type": "code",
   "execution_count": 1,
   "metadata": {},
   "outputs": [],
   "source": [
    "import pandas as pd\n",
    "import seaborn as sns\n",
    "import matplotlib.pyplot as plt\n",
    "import numpy as np\n",
    "import os"
   ]
  },
  {
   "cell_type": "code",
   "execution_count": 2,
   "metadata": {},
   "outputs": [
    {
     "name": "stdout",
     "output_type": "stream",
     "text": [
      "Conda environment:\n",
      "insight\n"
     ]
    }
   ],
   "source": [
    "# make sure I'm in the right environment (should be 'insight')\n",
    "print('Conda environment:')\n",
    "print(os.environ['CONDA_DEFAULT_ENV'])"
   ]
  },
  {
   "cell_type": "code",
   "execution_count": 3,
   "metadata": {},
   "outputs": [
    {
     "name": "stderr",
     "output_type": "stream",
     "text": [
      "/Users/sagarsetru/anaconda3/envs/insight/lib/python3.8/site-packages/IPython/core/interactiveshell.py:3145: DtypeWarning: Columns (0,1,11,12) have mixed types.Specify dtype option on import or set low_memory=False.\n",
      "  has_raised = await self.run_ast_nodes(code_ast.body, cell_name,\n"
     ]
    }
   ],
   "source": [
    "# get the entire news csv into data frame\n",
    "\n",
    "# get file name\n",
    "fname = './all_the_news/all_the_news_db.csv'\n",
    "\n",
    "# load into data frame\n",
    "all_news_df = pd.read_csv(fname)"
   ]
  },
  {
   "cell_type": "code",
   "execution_count": 4,
   "metadata": {},
   "outputs": [
    {
     "data": {
      "text/html": [
       "<div>\n",
       "<style scoped>\n",
       "    .dataframe tbody tr th:only-of-type {\n",
       "        vertical-align: middle;\n",
       "    }\n",
       "\n",
       "    .dataframe tbody tr th {\n",
       "        vertical-align: top;\n",
       "    }\n",
       "\n",
       "    .dataframe thead th {\n",
       "        text-align: right;\n",
       "    }\n",
       "</style>\n",
       "<table border=\"1\" class=\"dataframe\">\n",
       "  <thead>\n",
       "    <tr style=\"text-align: right;\">\n",
       "      <th></th>\n",
       "      <th>index</th>\n",
       "      <th>id</th>\n",
       "      <th>title</th>\n",
       "      <th>author</th>\n",
       "      <th>date</th>\n",
       "      <th>content</th>\n",
       "      <th>year</th>\n",
       "      <th>month</th>\n",
       "      <th>publication</th>\n",
       "      <th>category</th>\n",
       "      <th>digital</th>\n",
       "      <th>section</th>\n",
       "      <th>url</th>\n",
       "    </tr>\n",
       "  </thead>\n",
       "  <tbody>\n",
       "    <tr>\n",
       "      <th>0</th>\n",
       "      <td>0</td>\n",
       "      <td>1</td>\n",
       "      <td>Agent Cooper in Twin Peaks is the audience: on...</td>\n",
       "      <td>\\nTasha Robinson\\n</td>\n",
       "      <td>2017-05-31</td>\n",
       "      <td>And never more so than in Showtime’s new...</td>\n",
       "      <td>2017.0</td>\n",
       "      <td>5.0</td>\n",
       "      <td>Verge</td>\n",
       "      <td>Longform</td>\n",
       "      <td>1.0</td>\n",
       "      <td>NaN</td>\n",
       "      <td>NaN</td>\n",
       "    </tr>\n",
       "    <tr>\n",
       "      <th>1</th>\n",
       "      <td>1</td>\n",
       "      <td>2</td>\n",
       "      <td>AI, the humanity!</td>\n",
       "      <td>\\nSam Byford\\n</td>\n",
       "      <td>2017-05-30</td>\n",
       "      <td>AlphaGo’s victory isn’t a defeat for hum...</td>\n",
       "      <td>2017.0</td>\n",
       "      <td>5.0</td>\n",
       "      <td>Verge</td>\n",
       "      <td>Longform</td>\n",
       "      <td>1.0</td>\n",
       "      <td>NaN</td>\n",
       "      <td>NaN</td>\n",
       "    </tr>\n",
       "    <tr>\n",
       "      <th>2</th>\n",
       "      <td>2</td>\n",
       "      <td>3</td>\n",
       "      <td>The Viral Machine</td>\n",
       "      <td>\\nKaitlyn Tiffany\\n</td>\n",
       "      <td>2017-05-25</td>\n",
       "      <td>Super Deluxe built a weird internet empi...</td>\n",
       "      <td>2017.0</td>\n",
       "      <td>5.0</td>\n",
       "      <td>Verge</td>\n",
       "      <td>Longform</td>\n",
       "      <td>1.0</td>\n",
       "      <td>NaN</td>\n",
       "      <td>NaN</td>\n",
       "    </tr>\n",
       "    <tr>\n",
       "      <th>3</th>\n",
       "      <td>3</td>\n",
       "      <td>4</td>\n",
       "      <td>How Anker is beating Apple and Samsung at thei...</td>\n",
       "      <td>\\nNick Statt\\n</td>\n",
       "      <td>2017-05-22</td>\n",
       "      <td>Steven Yang quit his job at Google in th...</td>\n",
       "      <td>2017.0</td>\n",
       "      <td>5.0</td>\n",
       "      <td>Verge</td>\n",
       "      <td>Longform</td>\n",
       "      <td>1.0</td>\n",
       "      <td>NaN</td>\n",
       "      <td>NaN</td>\n",
       "    </tr>\n",
       "    <tr>\n",
       "      <th>4</th>\n",
       "      <td>4</td>\n",
       "      <td>5</td>\n",
       "      <td>Tour Black Panther’s reimagined homeland with ...</td>\n",
       "      <td>\\nKwame Opam\\n</td>\n",
       "      <td>2017-05-15</td>\n",
       "      <td>Ahead of Black Panther’s 2018 theatrical...</td>\n",
       "      <td>2017.0</td>\n",
       "      <td>5.0</td>\n",
       "      <td>Verge</td>\n",
       "      <td>Longform</td>\n",
       "      <td>1.0</td>\n",
       "      <td>NaN</td>\n",
       "      <td>NaN</td>\n",
       "    </tr>\n",
       "  </tbody>\n",
       "</table>\n",
       "</div>"
      ],
      "text/plain": [
       "  index id                                              title  \\\n",
       "0     0  1  Agent Cooper in Twin Peaks is the audience: on...   \n",
       "1     1  2                                  AI, the humanity!   \n",
       "2     2  3                                  The Viral Machine   \n",
       "3     3  4  How Anker is beating Apple and Samsung at thei...   \n",
       "4     4  5  Tour Black Panther’s reimagined homeland with ...   \n",
       "\n",
       "                author        date  \\\n",
       "0   \\nTasha Robinson\\n  2017-05-31   \n",
       "1       \\nSam Byford\\n  2017-05-30   \n",
       "2  \\nKaitlyn Tiffany\\n  2017-05-25   \n",
       "3       \\nNick Statt\\n  2017-05-22   \n",
       "4       \\nKwame Opam\\n  2017-05-15   \n",
       "\n",
       "                                             content    year  month  \\\n",
       "0        And never more so than in Showtime’s new...  2017.0    5.0   \n",
       "1        AlphaGo’s victory isn’t a defeat for hum...  2017.0    5.0   \n",
       "2        Super Deluxe built a weird internet empi...  2017.0    5.0   \n",
       "3        Steven Yang quit his job at Google in th...  2017.0    5.0   \n",
       "4        Ahead of Black Panther’s 2018 theatrical...  2017.0    5.0   \n",
       "\n",
       "  publication  category  digital section  url  \n",
       "0       Verge  Longform      1.0     NaN  NaN  \n",
       "1       Verge  Longform      1.0     NaN  NaN  \n",
       "2       Verge  Longform      1.0     NaN  NaN  \n",
       "3       Verge  Longform      1.0     NaN  NaN  \n",
       "4       Verge  Longform      1.0     NaN  NaN  "
      ]
     },
     "execution_count": 4,
     "metadata": {},
     "output_type": "execute_result"
    }
   ],
   "source": [
    "all_news_df.head()"
   ]
  },
  {
   "cell_type": "code",
   "execution_count": 5,
   "metadata": {},
   "outputs": [
    {
     "name": "stdout",
     "output_type": "stream",
     "text": [
      "Index(['index', 'id', 'title', 'author', 'date', 'content', 'year', 'month',\n",
      "       'publication', 'category', 'digital', 'section', 'url'],\n",
      "      dtype='object')\n"
     ]
    }
   ],
   "source": [
    "# show columns\n",
    "print(all_news_df.columns)"
   ]
  },
  {
   "cell_type": "code",
   "execution_count": 6,
   "metadata": {},
   "outputs": [
    {
     "data": {
      "text/html": [
       "<div>\n",
       "<style scoped>\n",
       "    .dataframe tbody tr th:only-of-type {\n",
       "        vertical-align: middle;\n",
       "    }\n",
       "\n",
       "    .dataframe tbody tr th {\n",
       "        vertical-align: top;\n",
       "    }\n",
       "\n",
       "    .dataframe thead th {\n",
       "        text-align: right;\n",
       "    }\n",
       "</style>\n",
       "<table border=\"1\" class=\"dataframe\">\n",
       "  <thead>\n",
       "    <tr style=\"text-align: right;\">\n",
       "      <th></th>\n",
       "      <th>year</th>\n",
       "      <th>month</th>\n",
       "      <th>digital</th>\n",
       "    </tr>\n",
       "  </thead>\n",
       "  <tbody>\n",
       "    <tr>\n",
       "      <th>count</th>\n",
       "      <td>191530.000000</td>\n",
       "      <td>191530.000000</td>\n",
       "      <td>193115.000000</td>\n",
       "    </tr>\n",
       "    <tr>\n",
       "      <th>mean</th>\n",
       "      <td>2016.312374</td>\n",
       "      <td>5.723589</td>\n",
       "      <td>1.060435</td>\n",
       "    </tr>\n",
       "    <tr>\n",
       "      <th>std</th>\n",
       "      <td>0.833314</td>\n",
       "      <td>3.467818</td>\n",
       "      <td>1.200331</td>\n",
       "    </tr>\n",
       "    <tr>\n",
       "      <th>min</th>\n",
       "      <td>2000.000000</td>\n",
       "      <td>1.000000</td>\n",
       "      <td>0.000000</td>\n",
       "    </tr>\n",
       "    <tr>\n",
       "      <th>25%</th>\n",
       "      <td>2016.000000</td>\n",
       "      <td>3.000000</td>\n",
       "      <td>0.000000</td>\n",
       "    </tr>\n",
       "    <tr>\n",
       "      <th>50%</th>\n",
       "      <td>2016.000000</td>\n",
       "      <td>5.000000</td>\n",
       "      <td>1.000000</td>\n",
       "    </tr>\n",
       "    <tr>\n",
       "      <th>75%</th>\n",
       "      <td>2017.000000</td>\n",
       "      <td>9.000000</td>\n",
       "      <td>1.000000</td>\n",
       "    </tr>\n",
       "    <tr>\n",
       "      <th>max</th>\n",
       "      <td>2018.000000</td>\n",
       "      <td>12.000000</td>\n",
       "      <td>4.000000</td>\n",
       "    </tr>\n",
       "  </tbody>\n",
       "</table>\n",
       "</div>"
      ],
      "text/plain": [
       "                year          month        digital\n",
       "count  191530.000000  191530.000000  193115.000000\n",
       "mean     2016.312374       5.723589       1.060435\n",
       "std         0.833314       3.467818       1.200331\n",
       "min      2000.000000       1.000000       0.000000\n",
       "25%      2016.000000       3.000000       0.000000\n",
       "50%      2016.000000       5.000000       1.000000\n",
       "75%      2017.000000       9.000000       1.000000\n",
       "max      2018.000000      12.000000       4.000000"
      ]
     },
     "execution_count": 6,
     "metadata": {},
     "output_type": "execute_result"
    }
   ],
   "source": [
    "# show descriptions\n",
    "all_news_df.describe()"
   ]
  },
  {
   "cell_type": "code",
   "execution_count": 7,
   "metadata": {},
   "outputs": [
    {
     "data": {
      "text/plain": [
       "index               0\n",
       "id                  0\n",
       "title               5\n",
       "author          54071\n",
       "date            34274\n",
       "content         37072\n",
       "year            34274\n",
       "month           34274\n",
       "publication     29384\n",
       "category        57091\n",
       "digital         32689\n",
       "section        151232\n",
       "url            127008\n",
       "dtype: int64"
      ]
     },
     "execution_count": 7,
     "metadata": {},
     "output_type": "execute_result"
    }
   ],
   "source": [
    "# determine number of nan\n",
    "all_news_df.isnull().sum()"
   ]
  },
  {
   "cell_type": "code",
   "execution_count": 8,
   "metadata": {},
   "outputs": [],
   "source": [
    "# remove articles that are nan\n",
    "all_news_df = all_news_df[pd.notnull(all_news_df['content'])]"
   ]
  },
  {
   "cell_type": "code",
   "execution_count": 9,
   "metadata": {},
   "outputs": [
    {
     "data": {
      "text/plain": [
       "index               0\n",
       "id                  0\n",
       "title               3\n",
       "author          19967\n",
       "date             4422\n",
       "content             0\n",
       "year             4422\n",
       "month            4422\n",
       "publication         4\n",
       "category        26607\n",
       "digital          3268\n",
       "section        117336\n",
       "url             97449\n",
       "dtype: int64"
      ]
     },
     "execution_count": 9,
     "metadata": {},
     "output_type": "execute_result"
    }
   ],
   "source": [
    "all_news_df.isnull().sum()"
   ]
  },
  {
   "cell_type": "code",
   "execution_count": 10,
   "metadata": {},
   "outputs": [
    {
     "data": {
      "image/png": "[encoded data removed]",
      "text/plain": [
       "<Figure size 720x360 with 1 Axes>"
      ]
     },
     "metadata": {
      "needs_background": "light"
     },
     "output_type": "display_data"
    },
    {
     "data": {
      "text/plain": [
       "<Figure size 432x288 with 0 Axes>"
      ]
     },
     "metadata": {},
     "output_type": "display_data"
    }
   ],
   "source": [
    "# plot histograms of data across publications\n",
    "\n",
    "plt.figure(figsize=(10,5));\n",
    "sns.countplot(all_news_df['publication'])\n",
    "plt.ylabel('N');\n",
    "sns.set_context('talk', font_scale=1.5);\n",
    "plt.xticks(rotation=90);\n",
    "plt.show();\n",
    "plt.clf();"
   ]
  },
  {
   "cell_type": "markdown",
   "metadata": {},
   "source": [
    "We see a decent distribution of data across news media organizations and also across the political spectrum."
   ]
  },
  {
   "cell_type": "code",
   "execution_count": 11,
   "metadata": {},
   "outputs": [
    {
     "data": {
      "image/png": "[encoded data removed]",
      "text/plain": [
       "<Figure size 720x360 with 1 Axes>"
      ]
     },
     "metadata": {
      "needs_background": "light"
     },
     "output_type": "display_data"
    },
    {
     "data": {
      "text/plain": [
       "<Figure size 432x288 with 0 Axes>"
      ]
     },
     "metadata": {},
     "output_type": "display_data"
    }
   ],
   "source": [
    "# plot histograms across year published\n",
    "\n",
    "plt.figure(figsize=(10,5));\n",
    "sns.countplot(all_news_df['year'])\n",
    "plt.ylabel('N');\n",
    "sns.set_context('talk', font_scale=1.5);\n",
    "plt.xticks(rotation=90);\n",
    "plt.yscale('log')\n",
    "plt.show();\n",
    "plt.clf()"
   ]
  },
  {
   "cell_type": "markdown",
   "metadata": {},
   "source": [
    "Articles are mostly from 2015 to 2018. There are some older articles. This may make topic modeling of older news difficult."
   ]
  },
  {
   "cell_type": "code",
   "execution_count": 12,
   "metadata": {},
   "outputs": [
    {
     "data": {
      "image/png": "[encoded data removed]",
      "text/plain": [
       "<Figure size 720x360 with 1 Axes>"
      ]
     },
     "metadata": {
      "needs_background": "light"
     },
     "output_type": "display_data"
    },
    {
     "data": {
      "text/plain": [
       "<Figure size 432x288 with 0 Axes>"
      ]
     },
     "metadata": {},
     "output_type": "display_data"
    }
   ],
   "source": [
    "# plot histograms across type/category of article\n",
    "\n",
    "plt.figure(figsize=(10,5));\n",
    "sns.countplot(all_news_df['category'])\n",
    "plt.ylabel('N');\n",
    "sns.set_context('talk', font_scale=1.5);\n",
    "plt.xticks(rotation=90);\n",
    "plt.yscale('log')\n",
    "plt.show();\n",
    "plt.clf()"
   ]
  },
  {
   "cell_type": "markdown",
   "metadata": {},
   "source": [
    "There are pletny of news paper articles. The radio component is interesting. What is that?"
   ]
  },
  {
   "cell_type": "code",
   "execution_count": 13,
   "metadata": {},
   "outputs": [
    {
     "data": {
      "text/html": [
       "<div>\n",
       "<style scoped>\n",
       "    .dataframe tbody tr th:only-of-type {\n",
       "        vertical-align: middle;\n",
       "    }\n",
       "\n",
       "    .dataframe tbody tr th {\n",
       "        vertical-align: top;\n",
       "    }\n",
       "\n",
       "    .dataframe thead th {\n",
       "        text-align: right;\n",
       "    }\n",
       "</style>\n",
       "<table border=\"1\" class=\"dataframe\">\n",
       "  <thead>\n",
       "    <tr style=\"text-align: right;\">\n",
       "      <th></th>\n",
       "      <th>index</th>\n",
       "      <th>id</th>\n",
       "      <th>title</th>\n",
       "      <th>author</th>\n",
       "      <th>date</th>\n",
       "      <th>content</th>\n",
       "      <th>year</th>\n",
       "      <th>month</th>\n",
       "      <th>publication</th>\n",
       "      <th>category</th>\n",
       "      <th>digital</th>\n",
       "      <th>section</th>\n",
       "      <th>url</th>\n",
       "    </tr>\n",
       "  </thead>\n",
       "  <tbody>\n",
       "    <tr>\n",
       "      <th>126586</th>\n",
       "      <td>126586</td>\n",
       "      <td>160641</td>\n",
       "      <td>Thanks To Russia, 2016 Isn't Really Going To E...</td>\n",
       "      <td>Ron Elving</td>\n",
       "      <td>2016-12-31</td>\n",
       "      <td>[In the Washington of 2016, even when the poli...</td>\n",
       "      <td>2016.0</td>\n",
       "      <td>12.0</td>\n",
       "      <td>NPR</td>\n",
       "      <td>radio</td>\n",
       "      <td>3.0</td>\n",
       "      <td>NaN</td>\n",
       "      <td>http://www.npr.org/2016/12/31/507596704/for-tr...</td>\n",
       "    </tr>\n",
       "    <tr>\n",
       "      <th>126587</th>\n",
       "      <td>126587</td>\n",
       "      <td>160642</td>\n",
       "      <td>Trump Tweets Give A Glimpse Into Foreign Polic...</td>\n",
       "      <td>Jessica Taylor</td>\n",
       "      <td>2016-12-28</td>\n",
       "      <td>[President-elect Donald Trump has used Twitter...</td>\n",
       "      <td>2016.0</td>\n",
       "      <td>12.0</td>\n",
       "      <td>NPR</td>\n",
       "      <td>radio</td>\n",
       "      <td>3.0</td>\n",
       "      <td>NaN</td>\n",
       "      <td>http://www.npr.org/2016/12/28/507284226/trump-...</td>\n",
       "    </tr>\n",
       "    <tr>\n",
       "      <th>126588</th>\n",
       "      <td>126588</td>\n",
       "      <td>160643</td>\n",
       "      <td>As U.S. Confronts Russia, Trump's Admiration O...</td>\n",
       "      <td>Arnie Seipel</td>\n",
       "      <td>2016-12-30</td>\n",
       "      <td>[President-elect Donald Trump is unabashedly p...</td>\n",
       "      <td>2016.0</td>\n",
       "      <td>12.0</td>\n",
       "      <td>NPR</td>\n",
       "      <td>radio</td>\n",
       "      <td>3.0</td>\n",
       "      <td>NaN</td>\n",
       "      <td>http://www.npr.org/2016/12/30/507584595/as-u-s...</td>\n",
       "    </tr>\n",
       "    <tr>\n",
       "      <th>126589</th>\n",
       "      <td>126589</td>\n",
       "      <td>160644</td>\n",
       "      <td>Putin Says Russia Won't Expel Diplomats In Res...</td>\n",
       "      <td>Camila Domonoske</td>\n",
       "      <td>2016-12-30</td>\n",
       "      <td>[Updated at 2:50 p.m. ET, Russian President Vl...</td>\n",
       "      <td>2016.0</td>\n",
       "      <td>12.0</td>\n",
       "      <td>NPR</td>\n",
       "      <td>radio</td>\n",
       "      <td>3.0</td>\n",
       "      <td>thetwo-way</td>\n",
       "      <td>http://www.npr.org/sections/thetwo-way/2016/12...</td>\n",
       "    </tr>\n",
       "    <tr>\n",
       "      <th>126590</th>\n",
       "      <td>126590</td>\n",
       "      <td>160645</td>\n",
       "      <td>(Some Of) Our Favorite Visual Stories of 2016</td>\n",
       "      <td>Ariel Zambelich</td>\n",
       "      <td>2016-12-31</td>\n",
       "      <td>[From photography, illustration and video, to ...</td>\n",
       "      <td>2016.0</td>\n",
       "      <td>12.0</td>\n",
       "      <td>NPR</td>\n",
       "      <td>radio</td>\n",
       "      <td>3.0</td>\n",
       "      <td>NaN</td>\n",
       "      <td>http://www.npr.org/2016/12/31/507590770/-some-...</td>\n",
       "    </tr>\n",
       "  </tbody>\n",
       "</table>\n",
       "</div>"
      ],
      "text/plain": [
       "         index      id                                              title  \\\n",
       "126586  126586  160641  Thanks To Russia, 2016 Isn't Really Going To E...   \n",
       "126587  126587  160642  Trump Tweets Give A Glimpse Into Foreign Polic...   \n",
       "126588  126588  160643  As U.S. Confronts Russia, Trump's Admiration O...   \n",
       "126589  126589  160644  Putin Says Russia Won't Expel Diplomats In Res...   \n",
       "126590  126590  160645      (Some Of) Our Favorite Visual Stories of 2016   \n",
       "\n",
       "                  author        date  \\\n",
       "126586        Ron Elving  2016-12-31   \n",
       "126587    Jessica Taylor  2016-12-28   \n",
       "126588      Arnie Seipel  2016-12-30   \n",
       "126589  Camila Domonoske  2016-12-30   \n",
       "126590   Ariel Zambelich  2016-12-31   \n",
       "\n",
       "                                                  content    year  month  \\\n",
       "126586  [In the Washington of 2016, even when the poli...  2016.0   12.0   \n",
       "126587  [President-elect Donald Trump has used Twitter...  2016.0   12.0   \n",
       "126588  [President-elect Donald Trump is unabashedly p...  2016.0   12.0   \n",
       "126589  [Updated at 2:50 p.m. ET, Russian President Vl...  2016.0   12.0   \n",
       "126590  [From photography, illustration and video, to ...  2016.0   12.0   \n",
       "\n",
       "       publication category  digital     section  \\\n",
       "126586         NPR    radio      3.0         NaN   \n",
       "126587         NPR    radio      3.0         NaN   \n",
       "126588         NPR    radio      3.0         NaN   \n",
       "126589         NPR    radio      3.0  thetwo-way   \n",
       "126590         NPR    radio      3.0         NaN   \n",
       "\n",
       "                                                      url  \n",
       "126586  http://www.npr.org/2016/12/31/507596704/for-tr...  \n",
       "126587  http://www.npr.org/2016/12/28/507284226/trump-...  \n",
       "126588  http://www.npr.org/2016/12/30/507584595/as-u-s...  \n",
       "126589  http://www.npr.org/sections/thetwo-way/2016/12...  \n",
       "126590  http://www.npr.org/2016/12/31/507590770/-some-...  "
      ]
     },
     "execution_count": 13,
     "metadata": {},
     "output_type": "execute_result"
    }
   ],
   "source": [
    "radio_news = all_news_df.loc[all_news_df['category'] == 'radio']\n",
    "\n",
    "radio_news.head()\n"
   ]
  },
  {
   "cell_type": "code",
   "execution_count": 14,
   "metadata": {},
   "outputs": [
    {
     "data": {
      "image/png": "[encoded data removed]",
      "text/plain": [
       "<Figure size 720x360 with 1 Axes>"
      ]
     },
     "metadata": {
      "needs_background": "light"
     },
     "output_type": "display_data"
    },
    {
     "data": {
      "text/plain": [
       "<Figure size 432x288 with 0 Axes>"
      ]
     },
     "metadata": {},
     "output_type": "display_data"
    }
   ],
   "source": [
    "plt.figure(figsize=(10,5));\n",
    "sns.countplot(radio_news['publication'])\n",
    "plt.ylabel('N');\n",
    "sns.set_context('talk', font_scale=1.5);\n",
    "plt.xticks(rotation=90);\n",
    "plt.show();\n",
    "plt.clf();"
   ]
  },
  {
   "cell_type": "markdown",
   "metadata": {},
   "source": [
    "The radio news is entirely \"NPR\". Interesting. Let's look at an article to get a sense of whether it is transcribed from an interview or an NPR news article."
   ]
  },
  {
   "cell_type": "code",
   "execution_count": 15,
   "metadata": {},
   "outputs": [
    {
     "data": {
      "text/plain": [
       "'[President-elect Donald Trump has used Twitter — his preferred means of communication — to weigh in on a swath of foreign policy issues over the past few weeks., His comments give a glimpse into how his incoming administration will deal with pressing foreign matters — but also highlight how reactionary comments on social media can immediately spur international concern and attention. And his staff has indicated that taking to Twitter to air his concerns or, often, grievances, won\\'t end once he enters the Oval Office., On Wednesday, Trump blasted the U.S.\\'s abstention from the U.N. Security Council vote on Israeli settlements earlier this month., , The tweets came just hours before Secretary of State John Kerry gave a speech defending the decision and calling the continued building of settlements on Palestinian territory in the West Bank a threat to the two-state solution in the region., Trump\\'s support for Israel and Prime Minister Benjamin Netanyahu — who has had a fraught relationship with President Obama — may be the biggest forthcoming shift in immediate foreign policy between the outgoing and incoming administrations. Throughout the campaign, he pledged that his administration would be a steadfast ally of Israel., To underscore that, Netanyahu replied to one of Trump\\'s morning tweets, thanking him — and also his children Donald Jr. and Ivanka, who are close advisers — for their support. Ivanka converted to Judaism when she married her husband, Jared Kushner., An Israeli official told CNN the government will give the Trump administration \"detailed, sensitive information\" proving that the U.S. worked to push through the resolution. The Obama administration has denied those claims., Last week, after the U.S. decided not to veto the resolution, Trump also tweeted that \"things will be different\" come his inauguration, and then on Monday he again blasted the U.N. as ineffective., The Israeli settlement issue has been at the forefront in recent days, but last week Trump also weighed in on nuclear issues. In a tweet, Trump called for the U.S. to strengthen its nuclear arsenal. MSNBC\\'s Morning Joe reported that the president-elect told them he wanted an \"arms race. We will outmatch them at every pass.\", As the Washington Post\\'s Dan Zak told NPR\\'s Robert Siegel on All Things Considered last Friday, Trump was inconsistent in his statements about nuclear weapons during the campaign., \"Trump said, you know, he\\'d be the last to use nuclear weapons. Nuclear weapons are a horror. He seemed to understand what they\\'re capable of doing,\" Zak said. \"At the same time, he said it was only a matter of time until countries like South Korea and Japan get nuclear weapons. He seemed to tacitly or not so tacitly endorse proliferation, again going against decades of international policy.\", Trump also slammed China for its seizure of an unmanned U.S. Navy underwater drone, calling it \"unpresidented\" in a tweet before correcting the typo in a new tweet., After talks with the Pentagon, China agreed to return the drone, but then Trump later said the country should keep it., It\\'s not the first time Trump has stoked tensions with China. In a stark break with protocol, Trump spoke on the phone with Taiwanese President Tsai Ing-wen earlier this month. Beijing considers Taiwan to be a renegade province and doesn\\'t recognize it, and most other countries don\\'t either. The U.S. has operated under a \"one China\" policy for more than four decades., Throughout the campaign, Trump blasted China for taking away U.S. jobs and claimed it was intentionally devaluing its currency to boost exports. He has blasted U.S. companies that manufacture goods in China, but as a New York Times story noted Wednesday morning, many of his daughter Ivanka\\'s clothing and shoe lines are made in China much of Trump\\'s own apparel line is also made overseas, including in China.]'"
      ]
     },
     "execution_count": 15,
     "metadata": {},
     "output_type": "execute_result"
    }
   ],
   "source": [
    "radio_news.iloc[1,5]"
   ]
  },
  {
   "cell_type": "markdown",
   "metadata": {},
   "source": [
    "Is this transcribed from a radio recording or a news article from NPR? A quick Google search verifies it is a news article. I think it is certainly okay to include this."
   ]
  },
  {
   "cell_type": "code",
   "execution_count": 16,
   "metadata": {},
   "outputs": [
    {
     "data": {
      "text/html": [
       "<div>\n",
       "<style scoped>\n",
       "    .dataframe tbody tr th:only-of-type {\n",
       "        vertical-align: middle;\n",
       "    }\n",
       "\n",
       "    .dataframe tbody tr th {\n",
       "        vertical-align: top;\n",
       "    }\n",
       "\n",
       "    .dataframe thead th {\n",
       "        text-align: right;\n",
       "    }\n",
       "</style>\n",
       "<table border=\"1\" class=\"dataframe\">\n",
       "  <thead>\n",
       "    <tr style=\"text-align: right;\">\n",
       "      <th></th>\n",
       "      <th>index</th>\n",
       "      <th>id</th>\n",
       "      <th>title</th>\n",
       "      <th>author</th>\n",
       "      <th>date</th>\n",
       "      <th>content</th>\n",
       "      <th>year</th>\n",
       "      <th>month</th>\n",
       "      <th>publication</th>\n",
       "      <th>category</th>\n",
       "      <th>digital</th>\n",
       "      <th>section</th>\n",
       "      <th>url</th>\n",
       "      <th>article_length</th>\n",
       "    </tr>\n",
       "  </thead>\n",
       "  <tbody>\n",
       "    <tr>\n",
       "      <th>0</th>\n",
       "      <td>0</td>\n",
       "      <td>1</td>\n",
       "      <td>Agent Cooper in Twin Peaks is the audience: on...</td>\n",
       "      <td>\\nTasha Robinson\\n</td>\n",
       "      <td>2017-05-31</td>\n",
       "      <td>And never more so than in Showtime’s new...</td>\n",
       "      <td>2017.0</td>\n",
       "      <td>5.0</td>\n",
       "      <td>Verge</td>\n",
       "      <td>Longform</td>\n",
       "      <td>1.0</td>\n",
       "      <td>NaN</td>\n",
       "      <td>NaN</td>\n",
       "      <td>2121</td>\n",
       "    </tr>\n",
       "    <tr>\n",
       "      <th>1</th>\n",
       "      <td>1</td>\n",
       "      <td>2</td>\n",
       "      <td>AI, the humanity!</td>\n",
       "      <td>\\nSam Byford\\n</td>\n",
       "      <td>2017-05-30</td>\n",
       "      <td>AlphaGo’s victory isn’t a defeat for hum...</td>\n",
       "      <td>2017.0</td>\n",
       "      <td>5.0</td>\n",
       "      <td>Verge</td>\n",
       "      <td>Longform</td>\n",
       "      <td>1.0</td>\n",
       "      <td>NaN</td>\n",
       "      <td>NaN</td>\n",
       "      <td>1948</td>\n",
       "    </tr>\n",
       "    <tr>\n",
       "      <th>2</th>\n",
       "      <td>2</td>\n",
       "      <td>3</td>\n",
       "      <td>The Viral Machine</td>\n",
       "      <td>\\nKaitlyn Tiffany\\n</td>\n",
       "      <td>2017-05-25</td>\n",
       "      <td>Super Deluxe built a weird internet empi...</td>\n",
       "      <td>2017.0</td>\n",
       "      <td>5.0</td>\n",
       "      <td>Verge</td>\n",
       "      <td>Longform</td>\n",
       "      <td>1.0</td>\n",
       "      <td>NaN</td>\n",
       "      <td>NaN</td>\n",
       "      <td>3011</td>\n",
       "    </tr>\n",
       "    <tr>\n",
       "      <th>3</th>\n",
       "      <td>3</td>\n",
       "      <td>4</td>\n",
       "      <td>How Anker is beating Apple and Samsung at thei...</td>\n",
       "      <td>\\nNick Statt\\n</td>\n",
       "      <td>2017-05-22</td>\n",
       "      <td>Steven Yang quit his job at Google in th...</td>\n",
       "      <td>2017.0</td>\n",
       "      <td>5.0</td>\n",
       "      <td>Verge</td>\n",
       "      <td>Longform</td>\n",
       "      <td>1.0</td>\n",
       "      <td>NaN</td>\n",
       "      <td>NaN</td>\n",
       "      <td>3281</td>\n",
       "    </tr>\n",
       "    <tr>\n",
       "      <th>4</th>\n",
       "      <td>4</td>\n",
       "      <td>5</td>\n",
       "      <td>Tour Black Panther’s reimagined homeland with ...</td>\n",
       "      <td>\\nKwame Opam\\n</td>\n",
       "      <td>2017-05-15</td>\n",
       "      <td>Ahead of Black Panther’s 2018 theatrical...</td>\n",
       "      <td>2017.0</td>\n",
       "      <td>5.0</td>\n",
       "      <td>Verge</td>\n",
       "      <td>Longform</td>\n",
       "      <td>1.0</td>\n",
       "      <td>NaN</td>\n",
       "      <td>NaN</td>\n",
       "      <td>239</td>\n",
       "    </tr>\n",
       "  </tbody>\n",
       "</table>\n",
       "</div>"
      ],
      "text/plain": [
       "  index id                                              title  \\\n",
       "0     0  1  Agent Cooper in Twin Peaks is the audience: on...   \n",
       "1     1  2                                  AI, the humanity!   \n",
       "2     2  3                                  The Viral Machine   \n",
       "3     3  4  How Anker is beating Apple and Samsung at thei...   \n",
       "4     4  5  Tour Black Panther’s reimagined homeland with ...   \n",
       "\n",
       "                author        date  \\\n",
       "0   \\nTasha Robinson\\n  2017-05-31   \n",
       "1       \\nSam Byford\\n  2017-05-30   \n",
       "2  \\nKaitlyn Tiffany\\n  2017-05-25   \n",
       "3       \\nNick Statt\\n  2017-05-22   \n",
       "4       \\nKwame Opam\\n  2017-05-15   \n",
       "\n",
       "                                             content    year  month  \\\n",
       "0        And never more so than in Showtime’s new...  2017.0    5.0   \n",
       "1        AlphaGo’s victory isn’t a defeat for hum...  2017.0    5.0   \n",
       "2        Super Deluxe built a weird internet empi...  2017.0    5.0   \n",
       "3        Steven Yang quit his job at Google in th...  2017.0    5.0   \n",
       "4        Ahead of Black Panther’s 2018 theatrical...  2017.0    5.0   \n",
       "\n",
       "  publication  category  digital section  url  article_length  \n",
       "0       Verge  Longform      1.0     NaN  NaN            2121  \n",
       "1       Verge  Longform      1.0     NaN  NaN            1948  \n",
       "2       Verge  Longform      1.0     NaN  NaN            3011  \n",
       "3       Verge  Longform      1.0     NaN  NaN            3281  \n",
       "4       Verge  Longform      1.0     NaN  NaN             239  "
      ]
     },
     "execution_count": 16,
     "metadata": {},
     "output_type": "execute_result"
    }
   ],
   "source": [
    "# let's look at the lengths of the articles in words. first compute their lengths\n",
    "all_news_df['article_length'] = all_news_df.apply(lambda x: len(x['content'].split(' ')),axis=1)\n",
    "all_news_df.head()"
   ]
  },
  {
   "cell_type": "code",
   "execution_count": 17,
   "metadata": {},
   "outputs": [
    {
     "data": {
      "image/png": "[encoded data removed]",
      "text/plain": [
       "<Figure size 720x360 with 1 Axes>"
      ]
     },
     "metadata": {
      "needs_background": "light"
     },
     "output_type": "display_data"
    },
    {
     "data": {
      "text/plain": [
       "<Figure size 432x288 with 0 Axes>"
      ]
     },
     "metadata": {},
     "output_type": "display_data"
    }
   ],
   "source": [
    "plt.figure(figsize=(10,5));\n",
    "sns.distplot(all_news_df['article_length'],kde=False,bins=np.arange(0,10000,10))\n",
    "plt.ylabel('N');\n",
    "sns.set_context('talk', font_scale=1.5);\n",
    "plt.xticks(rotation=90);\n",
    "plt.xscale('log')\n",
    "plt.show();\n",
    "plt.clf()"
   ]
  },
  {
   "cell_type": "markdown",
   "metadata": {},
   "source": [
    "There are many short articles. I think it is fair to remove the shortest ones. We will choose a cut off of 50 words to\n",
    "keep some shorter articles."
   ]
  },
  {
   "cell_type": "code",
   "execution_count": 18,
   "metadata": {},
   "outputs": [],
   "source": [
    "all_news_df = all_news_df.loc[all_news_df['article_length'] > 50]"
   ]
  },
  {
   "cell_type": "code",
   "execution_count": 19,
   "metadata": {},
   "outputs": [
    {
     "data": {
      "image/png": "[encoded data removed]",
      "text/plain": [
       "<Figure size 720x360 with 1 Axes>"
      ]
     },
     "metadata": {
      "needs_background": "light"
     },
     "output_type": "display_data"
    },
    {
     "data": {
      "text/plain": [
       "<Figure size 432x288 with 0 Axes>"
      ]
     },
     "metadata": {},
     "output_type": "display_data"
    }
   ],
   "source": [
    "plt.figure(figsize=(10,5));\n",
    "sns.distplot(all_news_df['article_length'],kde=False,bins=np.arange(0,10000,10))\n",
    "plt.ylabel('N');\n",
    "sns.set_context('talk', font_scale=1.5);\n",
    "plt.xticks(rotation=90);\n",
    "plt.xscale('log')\n",
    "plt.show();\n",
    "plt.clf()"
   ]
  },
  {
   "cell_type": "markdown",
   "metadata": {},
   "source": [
    "This looks like a reasonable distribution of articles to work with as the corpus."
   ]
  },
  {
   "cell_type": "code",
   "execution_count": 20,
   "metadata": {},
   "outputs": [
    {
     "data": {
      "text/plain": [
       "(182636,)"
      ]
     },
     "execution_count": 20,
     "metadata": {},
     "output_type": "execute_result"
    }
   ],
   "source": [
    "all_news_df['content'].shape"
   ]
  },
  {
   "cell_type": "markdown",
   "metadata": {},
   "source": [
    "There are ~180,000 articles in this final article corpus. Save it to a csv."
   ]
  },
  {
   "cell_type": "code",
   "execution_count": 21,
   "metadata": {},
   "outputs": [],
   "source": [
    "all_news_df.to_csv('./all_the_news/all_news_df_processed.csv', index_label='index')"
   ]
  },
  {
   "cell_type": "markdown",
   "metadata": {},
   "source": [
    "### testing single document lda on these articles"
   ]
  },
  {
   "cell_type": "code",
   "execution_count": 22,
   "metadata": {},
   "outputs": [
    {
     "name": "stderr",
     "output_type": "stream",
     "text": [
      "/Users/sagarsetru/anaconda3/envs/insight/lib/python3.8/site-packages/IPython/core/interactiveshell.py:3145: DtypeWarning: Columns (12,13) have mixed types.Specify dtype option on import or set low_memory=False.\n",
      "  has_raised = await self.run_ast_nodes(code_ast.body, cell_name,\n"
     ]
    },
    {
     "data": {
      "text/html": [
       "<div>\n",
       "<style scoped>\n",
       "    .dataframe tbody tr th:only-of-type {\n",
       "        vertical-align: middle;\n",
       "    }\n",
       "\n",
       "    .dataframe tbody tr th {\n",
       "        vertical-align: top;\n",
       "    }\n",
       "\n",
       "    .dataframe thead th {\n",
       "        text-align: right;\n",
       "    }\n",
       "</style>\n",
       "<table border=\"1\" class=\"dataframe\">\n",
       "  <thead>\n",
       "    <tr style=\"text-align: right;\">\n",
       "      <th></th>\n",
       "      <th>index</th>\n",
       "      <th>index.1</th>\n",
       "      <th>id</th>\n",
       "      <th>title</th>\n",
       "      <th>author</th>\n",
       "      <th>date</th>\n",
       "      <th>content</th>\n",
       "      <th>year</th>\n",
       "      <th>month</th>\n",
       "      <th>publication</th>\n",
       "      <th>category</th>\n",
       "      <th>digital</th>\n",
       "      <th>section</th>\n",
       "      <th>url</th>\n",
       "      <th>article_length</th>\n",
       "    </tr>\n",
       "  </thead>\n",
       "  <tbody>\n",
       "    <tr>\n",
       "      <th>0</th>\n",
       "      <td>0</td>\n",
       "      <td>0</td>\n",
       "      <td>1</td>\n",
       "      <td>Agent Cooper in Twin Peaks is the audience: on...</td>\n",
       "      <td>\\nTasha Robinson\\n</td>\n",
       "      <td>2017-05-31</td>\n",
       "      <td>And never more so than in Showtime’s new...</td>\n",
       "      <td>2017.0</td>\n",
       "      <td>5.0</td>\n",
       "      <td>Verge</td>\n",
       "      <td>Longform</td>\n",
       "      <td>1.0</td>\n",
       "      <td>NaN</td>\n",
       "      <td>NaN</td>\n",
       "      <td>2121</td>\n",
       "    </tr>\n",
       "    <tr>\n",
       "      <th>1</th>\n",
       "      <td>1</td>\n",
       "      <td>1</td>\n",
       "      <td>2</td>\n",
       "      <td>AI, the humanity!</td>\n",
       "      <td>\\nSam Byford\\n</td>\n",
       "      <td>2017-05-30</td>\n",
       "      <td>AlphaGo’s victory isn’t a defeat for hum...</td>\n",
       "      <td>2017.0</td>\n",
       "      <td>5.0</td>\n",
       "      <td>Verge</td>\n",
       "      <td>Longform</td>\n",
       "      <td>1.0</td>\n",
       "      <td>NaN</td>\n",
       "      <td>NaN</td>\n",
       "      <td>1948</td>\n",
       "    </tr>\n",
       "    <tr>\n",
       "      <th>2</th>\n",
       "      <td>2</td>\n",
       "      <td>2</td>\n",
       "      <td>3</td>\n",
       "      <td>The Viral Machine</td>\n",
       "      <td>\\nKaitlyn Tiffany\\n</td>\n",
       "      <td>2017-05-25</td>\n",
       "      <td>Super Deluxe built a weird internet empi...</td>\n",
       "      <td>2017.0</td>\n",
       "      <td>5.0</td>\n",
       "      <td>Verge</td>\n",
       "      <td>Longform</td>\n",
       "      <td>1.0</td>\n",
       "      <td>NaN</td>\n",
       "      <td>NaN</td>\n",
       "      <td>3011</td>\n",
       "    </tr>\n",
       "    <tr>\n",
       "      <th>3</th>\n",
       "      <td>3</td>\n",
       "      <td>3</td>\n",
       "      <td>4</td>\n",
       "      <td>How Anker is beating Apple and Samsung at thei...</td>\n",
       "      <td>\\nNick Statt\\n</td>\n",
       "      <td>2017-05-22</td>\n",
       "      <td>Steven Yang quit his job at Google in th...</td>\n",
       "      <td>2017.0</td>\n",
       "      <td>5.0</td>\n",
       "      <td>Verge</td>\n",
       "      <td>Longform</td>\n",
       "      <td>1.0</td>\n",
       "      <td>NaN</td>\n",
       "      <td>NaN</td>\n",
       "      <td>3281</td>\n",
       "    </tr>\n",
       "    <tr>\n",
       "      <th>4</th>\n",
       "      <td>4</td>\n",
       "      <td>4</td>\n",
       "      <td>5</td>\n",
       "      <td>Tour Black Panther’s reimagined homeland with ...</td>\n",
       "      <td>\\nKwame Opam\\n</td>\n",
       "      <td>2017-05-15</td>\n",
       "      <td>Ahead of Black Panther’s 2018 theatrical...</td>\n",
       "      <td>2017.0</td>\n",
       "      <td>5.0</td>\n",
       "      <td>Verge</td>\n",
       "      <td>Longform</td>\n",
       "      <td>1.0</td>\n",
       "      <td>NaN</td>\n",
       "      <td>NaN</td>\n",
       "      <td>239</td>\n",
       "    </tr>\n",
       "  </tbody>\n",
       "</table>\n",
       "</div>"
      ],
      "text/plain": [
       "   index  index.1  id                                              title  \\\n",
       "0      0        0   1  Agent Cooper in Twin Peaks is the audience: on...   \n",
       "1      1        1   2                                  AI, the humanity!   \n",
       "2      2        2   3                                  The Viral Machine   \n",
       "3      3        3   4  How Anker is beating Apple and Samsung at thei...   \n",
       "4      4        4   5  Tour Black Panther’s reimagined homeland with ...   \n",
       "\n",
       "                author        date  \\\n",
       "0   \\nTasha Robinson\\n  2017-05-31   \n",
       "1       \\nSam Byford\\n  2017-05-30   \n",
       "2  \\nKaitlyn Tiffany\\n  2017-05-25   \n",
       "3       \\nNick Statt\\n  2017-05-22   \n",
       "4       \\nKwame Opam\\n  2017-05-15   \n",
       "\n",
       "                                             content    year  month  \\\n",
       "0        And never more so than in Showtime’s new...  2017.0    5.0   \n",
       "1        AlphaGo’s victory isn’t a defeat for hum...  2017.0    5.0   \n",
       "2        Super Deluxe built a weird internet empi...  2017.0    5.0   \n",
       "3        Steven Yang quit his job at Google in th...  2017.0    5.0   \n",
       "4        Ahead of Black Panther’s 2018 theatrical...  2017.0    5.0   \n",
       "\n",
       "  publication  category  digital section  url  article_length  \n",
       "0       Verge  Longform      1.0     NaN  NaN            2121  \n",
       "1       Verge  Longform      1.0     NaN  NaN            1948  \n",
       "2       Verge  Longform      1.0     NaN  NaN            3011  \n",
       "3       Verge  Longform      1.0     NaN  NaN            3281  \n",
       "4       Verge  Longform      1.0     NaN  NaN             239  "
      ]
     },
     "execution_count": 22,
     "metadata": {},
     "output_type": "execute_result"
    }
   ],
   "source": [
    "import pandas as pd\n",
    "import numpy as np\n",
    "import matplotlib.pyplot as plt\n",
    "import seaborn as sns\n",
    "import os\n",
    "\n",
    "all_news_df = pd.read_csv('./all_the_news/all_news_df_processed.csv')\n",
    "all_news_df.head()"
   ]
  },
  {
   "cell_type": "code",
   "execution_count": 23,
   "metadata": {},
   "outputs": [],
   "source": [
    "# NLP Packages\n",
    "import spacy\n",
    "nlp  = spacy.load('en_core_web_sm')\n",
    "\n",
    "from gensim.corpora import Dictionary\n",
    "from gensim.models import LdaModel\n",
    "from gensim.utils import simple_preprocess\n",
    "\n",
    "# to break articles up into sentences\n",
    "from nltk import tokenize\n",
    "\n",
    "import string\n",
    "\n",
    "# for counting frequency of words\n",
    "from collections import defaultdict\n",
    "\n",
    "import spacy\n",
    "nlp  = spacy.load('en_core_web_sm')\n",
    "\n",
    "import pyLDAvis\n",
    "import pyLDAvis.gensim\n",
    "\n",
    "from googlesearch import search"
   ]
  },
  {
   "cell_type": "code",
   "execution_count": 52,
   "metadata": {},
   "outputs": [],
   "source": [
    "import json"
   ]
  },
  {
   "cell_type": "code",
   "execution_count": 24,
   "metadata": {},
   "outputs": [
    {
     "name": "stderr",
     "output_type": "stream",
     "text": [
      "/Users/sagarsetru/anaconda3/envs/insight/lib/python3.8/site-packages/ipykernel/ipkernel.py:287: DeprecationWarning: `should_run_async` will not call `transform_cell` automatically in the future. Please pass the result to `transformed_cell` argument and any exception that happen during thetransform in `preprocessing_exc_tuple` in IPython 7.17 and above.\n",
      "  and should_run_async(code)\n"
     ]
    }
   ],
   "source": [
    "# del process_all_articles\n",
    "from text_processing_functions import process_all_articles, remove_stopwords"
   ]
  },
  {
   "cell_type": "code",
   "execution_count": 25,
   "metadata": {},
   "outputs": [],
   "source": [
    "# del process_all_articles\n",
    "# process_all_articles"
   ]
  },
  {
   "cell_type": "code",
   "execution_count": 26,
   "metadata": {},
   "outputs": [],
   "source": [
    "def load_stop_words_csv_to_list(full_file_name):\n",
    "    \"\"\"fxn that loads stop words list downloaded from git repo called 'news-stopwords'\"\"\"\n",
    "    \n",
    "    stop_words = pd.read_csv(full_file_name)\n",
    "\n",
    "    stop_words = stop_words['term']\n",
    "\n",
    "    stop_words = [word for word in stop_words]\n",
    "    \n",
    "    return stop_words"
   ]
  },
  {
   "cell_type": "code",
   "execution_count": 27,
   "metadata": {},
   "outputs": [],
   "source": [
    "def lemmatize(raw_texts,nlp):\n",
    "\n",
    "    'Function that lemmatizes text'\n",
    "\n",
    "    out_text = []\n",
    "    \n",
    "    for text in raw_texts:\n",
    "        doc = nlp(text)\n",
    "\n",
    "\n",
    "        #Remove stopwords and lemmatize\n",
    "        tokens = [token.lemma_ for token in doc]\n",
    "        \n",
    "        out_text.append(tokens)\n",
    "    \n",
    "    return out_text"
   ]
  },
  {
   "cell_type": "code",
   "execution_count": 28,
   "metadata": {},
   "outputs": [],
   "source": [
    "def get_simple_corpus_dictionary_bow(texts,word_frequency_threshold):\n",
    "    \"\"\"fxn returns corpus, proc. dict, bag of words\"\"\"\n",
    "    \n",
    "    # Count word frequencies\n",
    "    frequency = defaultdict(int)\n",
    "    for text in texts:\n",
    "        for token in text:\n",
    "            frequency[token] += 1\n",
    "\n",
    "    # Only keep words that appear more than set frequency, to produce the corpus\n",
    "    processed_corpus = [[token for token in text if frequency[token] > word_frequency_threshold] for text in texts]\n",
    "    \n",
    "    # generate a dictionary via gensim\n",
    "    processed_dictionary = Dictionary(processed_corpus)\n",
    "    \n",
    "    # generate bag of words of the corpus\n",
    "    bow_corpus = [processed_dictionary.doc2bow(text) for text in processed_corpus]\n",
    "    \n",
    "    return processed_corpus, processed_dictionary, bow_corpus"
   ]
  },
  {
   "cell_type": "code",
   "execution_count": 29,
   "metadata": {},
   "outputs": [],
   "source": [
    "def sort_topics_mean_frequency(topics,topics_mean_probs_dict,topics_std_probs_dict,topics_frequency_dict):\n",
    "    \"\"\"fxn returns topics sorted by their mean probability and frequency. also returns std dev of prob\"\"\"\n",
    "    \n",
    "    # empty dict for topics\n",
    "    x_topics = []\n",
    "    \n",
    "    # to store mean probs\n",
    "    y_means = np.zeros((len(topics_mean_probs_dict)))\n",
    "    \n",
    "    # to store std dev probs\n",
    "    y_std = np.zeros((len(topics_std_probs_dict)))\n",
    "    \n",
    "    # to store frequency of topic\n",
    "    y_frequencies = np.zeros((len(topics_frequency_dict)))\n",
    "\n",
    "    # measure mean probs\n",
    "    counter = -1\n",
    "    for topics, mean_prob in topics_mean_probs_dict.items():\n",
    "        counter += 1\n",
    "        x_topics.append(topics)\n",
    "        y_means[counter] = mean_prob\n",
    "\n",
    "    # measure std dev probs\n",
    "    counter2 = -1\n",
    "    for topics, frequency in topics_frequency_dict.items():\n",
    "        counter2 += 1\n",
    "        y_frequencies[counter2] = frequency\n",
    "\n",
    "    # measure frequency topic shows up\n",
    "    counter3 = -1\n",
    "    for topics, std in topics_std_probs_dict.items():\n",
    "        counter3 += 1\n",
    "        y_std[counter3] = std\n",
    "\n",
    "    # sort by mean and frequency\n",
    "\n",
    "    zipped_mean = zip(y_means, x_topics)\n",
    "    sorted_zipped_mean = sorted(zipped_mean)\n",
    "    y_means_sorted = [element1 for element1,element2 in sorted_zipped_mean]\n",
    "    y_means_sorted = y_means_sorted[::-1]\n",
    "    x_topics_means = [element2 for element1,element2 in sorted_zipped_mean]\n",
    "    x_topics_means = x_topics_means[::-1]\n",
    "\n",
    "    zipped_mean_std = zip(y_means,y_std)\n",
    "    sorted_zipped_mean_std = sorted(zipped_mean_std)\n",
    "    y_std_sorted = [element2 for element1,element2 in sorted_zipped_mean_std]\n",
    "    y_std_sorted = y_std_sorted[::-1]\n",
    "\n",
    "    zipped_freq = zip(y_frequencies,x_topics)\n",
    "    sorted_zipped_freq = sorted(zipped_freq)\n",
    "    y_freq_sorted = [element1 for (element1,element2) in sorted_zipped_freq]\n",
    "    y_freq_sorted = y_freq_sorted[::-1]\n",
    "    x_topics_freq = [element2 for element1,element2 in sorted_zipped_freq]\n",
    "    x_topics_freq = x_topics_freq[::-1]\n",
    "    \n",
    "    return x_topics_means, y_means_sorted, y_std_sorted, x_topics_freq, y_freq_sorted"
   ]
  },
  {
   "cell_type": "code",
   "execution_count": 30,
   "metadata": {},
   "outputs": [],
   "source": [
    "# choose list of stop words\n",
    "\n",
    "# choose whether 1k, 10k, 100k, or nltk\n",
    "which_stop_words = '1k'\n",
    "# which_stop_words = '10k'\n",
    "# which_stop_words = '100k'\n",
    "# which_stop_words = 'nltk'\n",
    "\n",
    "stop_words_path = '/Users/sagarsetru/Documents/post PhD positions search/insightDataScience/project/debiaser/stop_words_db/news-stopwords-master/'\n",
    "\n",
    "\n",
    "if which_stop_words == '1k':\n",
    "    \n",
    "    # doing 1k words list\n",
    "    stop_words_file_name = 'sw1k.csv'\n",
    "    \n",
    "    # make full file name\n",
    "    stop_words_full_file_name = stop_words_path+stop_words_file_name\n",
    "    \n",
    "    # get list of stop words\n",
    "    stop_words = load_stop_words_csv_to_list(stop_words_full_file_name)\n",
    "    \n",
    "elif which_stop_words == '10k':\n",
    "    \n",
    "    # doing 10k words list\n",
    "    stop_words_file_name = 'sw10k.csv'\n",
    "\n",
    "    # make full file name\n",
    "    stop_words_full_file_name = stop_words_path+stop_words_file_name\n",
    "    \n",
    "    # get list of stop words\n",
    "    stop_words = load_stop_words_csv_to_list(stop_words_full_file_name)\n",
    "\n",
    "elif which_stop_words == '100k':\n",
    "    \n",
    "    # doing 100k\n",
    "    stop_words_file_name = 'sw100k.csv'  \n",
    "    \n",
    "    # get full file name\n",
    "    stop_words_full_file_name = stop_words_path+stop_words_file_name\n",
    "    \n",
    "    # get list of stop words\n",
    "    stop_words = load_stop_words_csv_to_list(stop_words_full_file_name)\n",
    "\n",
    "\n",
    "elif which_stop_words == 'nltk':\n",
    "    # import from nltk\n",
    "    from nltk.corpus import stopwords\n",
    "    \n",
    "    stop_words = stopwords.words('english')\n",
    "    \n",
    "else:\n",
    "    print('Select proper variable name for \"which_stop_words\"')\n",
    "    \n",
    "# adding custom words\n",
    "stop_words.append('said')\n",
    "stop_words.append('youre')"
   ]
  },
  {
   "cell_type": "code",
   "execution_count": 31,
   "metadata": {},
   "outputs": [],
   "source": [
    "# get a random sampling of these articles for testing single document lda\n",
    "\n",
    "n_sample = 10\n",
    "\n",
    "articles_df_random_subset = all_news_df.sample(n=n_sample)"
   ]
  },
  {
   "cell_type": "code",
   "execution_count": 32,
   "metadata": {},
   "outputs": [],
   "source": [
    "# del preprocess_spacy"
   ]
  },
  {
   "cell_type": "code",
   "execution_count": 33,
   "metadata": {},
   "outputs": [],
   "source": [
    "def entity_recognizer(raw_text,nlp):\n",
    "    \"\"\"Function that recognizes specific entitites, returns dictionary of them\"\"\"\n",
    "\n",
    "    doc = nlp(raw_text)\n",
    "    \n",
    "    entity_dict = {}\n",
    "    \n",
    "    word_types = ['DATE', 'PERSON', 'ORG','MONEY','GPE']\n",
    "    \n",
    "    for word_type in word_types:\n",
    "        entity_dict[word_type] = [entity.text for entity in doc.ents if entity.label_ in {word_type}]\n",
    "#         entity_dict['PERSON'] = [entity.text for entity in doc.ents if entity.label_ in {'PERSON'}]\n",
    "    \n",
    "    #Remove organizations and people from documnet text\n",
    "#     tokens_ner = [entity.text for entity in doc.ents if entity.label_ in {'DATE', 'PERSON', 'ORG','MONEY','GPE'}]\n",
    "    \n",
    "    return entity_dict"
   ]
  },
  {
   "cell_type": "code",
   "execution_count": 132,
   "metadata": {},
   "outputs": [
    {
     "name": "stdout",
     "output_type": "stream",
     "text": [
      "Ireland’s better-known exports include stout and summer workers for American resort communities. They have not included television shows. There are “The Fall” and the wonderful but little-watched “Moone Boy.” A few of us were fans of the dour cop in “Single-Handed.” That’s about it. So the concurrent streaming availability of two new Irish series constitutes a virtual renaissance. “Striking Out,” on Acorn TV, and “Corp + Anam,” on MHz Choice, also have the virtue of offering a stark and educational contrast. “Striking Out,” from the establishment Irish broadcaster RTE, is a glossy legal dramedy with high production values whose dialogue is in easily intelligible English. “Corp + Anam,” from the Irish-language channel TG4, is a bare-bones, lurid drama about a ruthless TV reporter whose Gaelic dialogue has to be subtitled in its own country. The four-episode “Striking Out,” already renewed, is by far the easier export, and it’s arrived here just a few months after its premiere in Ireland. What’s most noticeable about it is how American it feels, like a more restrained version of the USA series “Fairly Legal,” for those whose memory stretches back to 2012. In “Fairly Legal,” Sarah Shahi played a lawyer who was divorced from another lawyer and who sustained a career setback as the show opened (and then acquired a quirky, unlikely male assistant). In “Striking Out,” the popular Irish actress Amy Huberman plays a lawyer who discovers on the night of her bachelorette party that her lawyer fiancé is cheating on her. She leaves the firm they work for to — yes — strike out on her own, and quickly acquires an unlikely male assistant. Ms. Huberman’s Tara takes on a case per episode — a tricky inheritance, a thorny child custody arrangement — while dealing with the fallout from her broken engagement, which progresses from irritating parental meddling to something more sinister. The theme is starting over, and Tara builds a new team of friends outside of the Dublin A-list, including her street-smart gay assistant and the hunky owner of the Brooklyn-style cafe where she sets up her new office. It’s all very predictable, and predictably well acted. It’s also fairly appealing, if you like the idea of a legal soap opera done like a restrained British rom-com. Or if you like the travelogue style of drama that includes lots of slow-motion nighttime helicopter shots of dramatic riverside skylines and daytime scenes set in front of public- art installations. It’s as if Dublin were auditioning for a best-places-to-visit-in-2017 feature. That’s decidedly not the vibe of “Corp + Anam,” whose two four-episode seasons ran in 2011 and 2014. The plots here involve drag-racing deaths and rape trials, and the look is dingy. Diarmuid de Faoite plays Cathal, a professed crusading journalist who hacks telephones and isn’t overly concerned with the safety of others, including that of his family, if it means getting the story. “Corp + Anam” is pulpy and pretty rough around the edges, with variable performances, but its energy is undeniable. If your taste, in this age of easy international sampling, already encompasses British dramas, it’s a short and invigorating step to their Irish cousins.\n"
     ]
    }
   ],
   "source": [
    "article_text = articles_df_random_subset.iloc[1,6]\n",
    "print(article_text)"
   ]
  },
  {
   "cell_type": "code",
   "execution_count": 145,
   "metadata": {},
   "outputs": [
    {
     "name": "stdout",
     "output_type": "stream",
     "text": [
      "The Wall Street Journal\n",
      " \n"
     ]
    }
   ],
   "source": [
    "full_path = '/Users/sagarsetru/Documents/post PhD positions search/insightDataScience/project/debiaser/article_text_files/'\n",
    "\n",
    "full_file_names = [\n",
    "full_path+'ap_hurricane_sally_unleashes_20200916.txt',\n",
    "full_path+'cnn_big_ten_backtracks_20200916.txt',\n",
    "full_path+'nyt_on_the_fire_line_20200915.txt',\n",
    "full_path+'foxnews_snake_face_mask_20200916_v2.txt',\n",
    "'/Users/sagarsetru/Documents/post PhD positions search/insightDataScience/project/debiaser/article_html_files/U.S. Stocks Lower as Fed Outlook Rattles Investors - WSJ.html'\n",
    "]\n",
    "\n",
    "from bs4 import BeautifulSoup\n",
    "\n",
    "full_file_name = full_file_names[4]\n",
    "\n",
    "# with open(full_file_name, 'r') as file:\n",
    "#     main_article = file.read().replace('\\n', ' ')\n",
    "    \n",
    "    \n",
    "# get the html as one string\n",
    "with open(full_file_name, 'r') as file:\n",
    "    coverpage = file.read()\n",
    "\n",
    "# create soup object\n",
    "soup = BeautifulSoup(coverpage, 'html.parser')\n",
    "\n",
    "# get title\n",
    "headline = soup.find('h1').get_text()\n",
    "print(headline)\n",
    "print(' ')\n",
    "\n",
    "# get text from all <p> tags\n",
    "p_tags = soup.find_all('p')\n",
    "\n",
    "# get text from each p tag and strip whitespace\n",
    "p_tags_text = [tag.get_text().strip() for tag in p_tags]\n",
    "\n",
    "# filter out sentences without periods\n",
    "p_tags_text = [sentence for sentence in p_tags_text if '.' in sentence]\n",
    "\n",
    "# convert all p_tags_text to single article text string\n",
    "\n",
    "p_tags_text_1string = ''\n",
    "\n",
    "for p_tag_text in p_tags_text:\n",
    "    p_tags_text_1string += p_tag_text\n",
    "\n",
    "main_article = p_tags_text_1string"
   ]
  },
  {
   "cell_type": "code",
   "execution_count": 146,
   "metadata": {},
   "outputs": [
    {
     "data": {
      "text/plain": [
       "\"https://www.wsj.com/articles/global-stock-markets-dow-update-9-17-2020-11600334220U.S. stocks fell Thursday, hurt by weakness in the labor market as uncertainty over the coronavirus pandemic continues to weigh on hiring.The S&P 500 dropped 0.8% to 3357. The Nasdaq Composite declined 1.3% to 10910, pushing the tech-heavy index further into negative territory for the month. The Dow Jones Industrial Average snapped a four-day winning streak, closing down 0.5%, or 130 points, to 27902.The declines on Thursday included big technology companies but were broad-based, after stocks had rallied over the past several months. Investors have attributed part of those gains to action from the Federal Reserve in the early days of the pandemic.Now, they are waiting for clues on what will come next, either on the economy or action from the government.“We’ve had so many risk-on moves over the past three or four months that I think it’s a little bit of an indictment on where we stand,” said R.J. Grant,  director of equity trading at KBW Inc. He said the Federal Reserve had acted swiftly and decisively to aid the economy during the pandemic, but “people are kind of pivoting toward looking to see if Congress can step to the plate here and get something done.”In data released before the opening bell, filings for jobless benefits held nearly steady at 860,000 last week, according to the Labor Department. The measure has shown stabilization at just below 900,000 in recent weeks. Layoffs remain elevated despite some signs of a broader labor-market recovery.Stocks opened broadly lower at the open, rebounded slightly in late-morning trading and then resumed their downward slide in the afternoon. The energy and health care sectors were the worst performers for the S&P 500, with materials and industrials the strongest.Further weighing on trading were comments on Wednesday from Federal Reserve Chairman Jerome Powell,  who said that the economic outlook is “highly uncertain.” Policy makers indicated concern that easy gains from reopening the economy could mask deeper scars among the most vulnerable businesses, with people likely to face longer spells of joblessness. The central bank also signaled that interest rates would stay near zero until 2023.“The Fed said it would keep rates low for ages. But that’s not enough,” said James Athey,  senior investment manager at Aberdeen Standard Investments. “Not taking away is no longer sufficient for this market. You need to do more, more, more.”Vivian Lau,  founder of New York hedge fund One Tusk Investment Partners, said while the Fed’s accommodative stance boded positively for assets to gain value in the long term, the stock market in the near-term was likely to move in fits and starts.“You need fiscal policy to come through, you need economic results to come through and we need to come through the pandemic. And on all three fronts it’s improved from where we were in the spring and we’re in a better place than where we were in May, but it’s still not where we were before March. The fundamental economics are still not there yet.”Investors who had been counting on a vaccine to curtail the coronavirus outbreak and allow the economic recovery to pick up pace were also troubled by conflicting comments about the availability of a vaccine.A top Trump administration health official predicted that a Covid-19 vaccine may not be available to the general public until next summer, but his comments were quickly disputed by President Trump. The director of the U.S. Centers for Disease Control and Prevention, Robert Redfield,  said a vaccine would be in “very limited supply” at the end of the year. Mr. Trump said a vaccine would be distributed to the general public immediately.Hope for vaccines or therapeutics has lifted stocks in recent months, with data from even small trials moving stock prices significantly. Mr. Grant, of KBW, described Mr. Redfield’s comments as something of a “reality check” underscoring that the virus and its economic impacts were likely to linger well into 2021.Separately, Mr. Trump urged congressional Republicans to seek a bigger and more expensive package of coronavirus relief aid.“There’s fatigue on the fiscal and policy front. The Fed didn’t take any new steps and no deal has passed Congress,” said James McCormick,  a strategist at NatWest Markets.In the bond market, the yield on the benchmark 10-year U.S. Treasury edged down to 0.682%, from 0.686% Wednesday.Overseas, the Stoxx Europe 600 fell 0.5%, with losses led by the technology, banking and mining sectors.The British pound fell 0.6% against the U.S. dollar and 0.5% against the euro after the Bank of England left interest rates unchanged.In Asia, major equity benchmarks fell by the close of trading. Japan’s Nikkei 225 ticked down 0.7%, while Hong Kong’s Hang Seng Index dropped 1.6%.In commodities, gold fell 1% to $1,940.00 a troy ounce.Write to Anna Isaac at anna.isaac@wsj.com and Juliet Chung at juliet.chung@wsj.comCopyright ©2020 Dow Jones & Company, Inc. All Rights Reserved. 87990cbe856818d5eddac44c7b1cdeb8Appeared in the September 18, 2020, print edition as 'Stocks Falter After Weak Jobless Data.'Copyright © 2020 Dow Jones & Company, Inc. All Rights Reserved\""
      ]
     },
     "execution_count": 146,
     "metadata": {},
     "output_type": "execute_result"
    }
   ],
   "source": [
    "main_article"
   ]
  },
  {
   "cell_type": "code",
   "execution_count": 151,
   "metadata": {},
   "outputs": [
    {
     "data": {
      "text/html": [
       "\n",
       "<link rel=\"stylesheet\" type=\"text/css\" href=\"https://cdn.rawgit.com/bmabey/pyLDAvis/files/ldavis.v1.0.0.css\">\n",
       "\n",
       "\n",
       "<div id=\"ldavis_el3012054182538884450476961\"></div>\n",
       "<script type=\"text/javascript\">\n",
       "\n",
       "var ldavis_el3012054182538884450476961_data = {\"mdsDat\": {\"x\": [-0.14551583853430491, 0.07071476827645211, 0.1841260284749915, -0.05877605681940209, -0.05054890139773671], \"y\": [0.12712972602459174, 0.016935558502347233, 0.04050336797547934, -0.06251585900281473, -0.12205279349960368], \"topics\": [1, 2, 3, 4, 5], \"cluster\": [1, 1, 1, 1, 1], \"Freq\": [25.58392008156374, 23.719514256648967, 21.149004028269943, 16.260589045116998, 13.286972588400351]}, \"tinfo\": {\"Term\": [\"rates\", \"vaccine\", \"fed\", \"gains\", \"trading\", \"reserve\", \"stock\", \"stocks\", \"labor\", \"dow\", \"anna\", \"chung\", \"isaac\", \"juliet\", \"index\", \"sectors\", \"equity\", \"wsj\", \"markets\", \"redfield\", \"fiscal\", \"jones\", \"kbw\", \"grant\", \"recovery\", \"jobless\", \"investors\", \"inc\", \"pandemic\", \"coronavirus\", \"labor\", \"recovery\", \"jobless\", \"vaccine\", \"stocks\", \"coronavirus\", \"pandemic\", \"aid\", \"investors\", \"dropped\", \"reserve\", \"trading\", \"markets\", \"redfield\", \"sectors\", \"equity\", \"fiscal\", \"kbw\", \"grant\", \"gains\", \"reserved\", \"index\", \"juliet\", \"anna\", \"chung\", \"isaac\", \"rates\", \"fed\", \"stock\", \"jones\", \"inc\", \"dow\", \"wsj\", \"stock\", \"fiscal\", \"dow\", \"jones\", \"redfield\", \"markets\", \"grant\", \"kbw\", \"aid\", \"reserved\", \"fed\", \"coronavirus\", \"inc\", \"wsj\", \"pandemic\", \"stocks\", \"sectors\", \"equity\", \"gains\", \"investors\", \"jobless\", \"recovery\", \"dropped\", \"index\", \"juliet\", \"anna\", \"chung\", \"isaac\", \"rates\", \"reserve\", \"vaccine\", \"trading\", \"labor\", \"juliet\", \"isaac\", \"chung\", \"anna\", \"index\", \"wsj\", \"reserved\", \"dropped\", \"jones\", \"inc\", \"dow\", \"markets\", \"redfield\", \"sectors\", \"equity\", \"fiscal\", \"kbw\", \"grant\", \"gains\", \"aid\", \"investors\", \"jobless\", \"recovery\", \"rates\", \"fed\", \"stock\", \"reserve\", \"coronavirus\", \"labor\", \"trading\", \"stocks\", \"vaccine\", \"pandemic\", \"gains\", \"reserve\", \"trading\", \"equity\", \"sectors\", \"kbw\", \"grant\", \"investors\", \"inc\", \"pandemic\", \"markets\", \"redfield\", \"fiscal\", \"aid\", \"jobless\", \"recovery\", \"reserved\", \"dropped\", \"index\", \"juliet\", \"anna\", \"chung\", \"isaac\", \"rates\", \"fed\", \"stock\", \"coronavirus\", \"labor\", \"jones\", \"wsj\", \"stocks\", \"vaccine\", \"dow\", \"rates\", \"fed\", \"markets\", \"sectors\", \"redfield\", \"equity\", \"trading\", \"vaccine\", \"fiscal\", \"kbw\", \"grant\", \"gains\", \"aid\", \"investors\", \"jobless\", \"recovery\", \"reserved\", \"dropped\", \"index\", \"juliet\", \"anna\", \"chung\", \"isaac\", \"stock\", \"reserve\", \"coronavirus\", \"labor\", \"jones\", \"inc\", \"wsj\", \"stocks\", \"pandemic\", \"dow\"], \"Freq\": [2.0, 4.0, 2.0, 2.0, 3.0, 2.0, 2.0, 4.0, 2.0, 3.0, 2.0, 2.0, 2.0, 2.0, 2.0, 2.0, 2.0, 2.0, 2.0, 2.0, 2.0, 2.0, 2.0, 2.0, 2.0, 2.0, 2.0, 2.0, 3.0, 2.0, 2.336060216051864, 1.6060308783713482, 1.606009651478241, 3.0721291023266977, 2.984901496815157, 1.606877466569102, 1.6071237316961664, 0.8757892717597597, 0.875238865054893, 0.8751307405681281, 0.8731435385360651, 0.8707166247299877, 0.14601456351428535, 0.14602118655368745, 0.14601261495183215, 0.14601016888407173, 0.14601065602468505, 0.14601206562305544, 0.14601206562305544, 0.14600846907427215, 0.14601327829224175, 0.14601739307572004, 0.14600681072324814, 0.14600681072324814, 0.14600681072324814, 0.14600681072324814, 0.14600931897917194, 0.14601596274796186, 0.14861673392951816, 0.14601449096142805, 0.14601517503122544, 0.14601348558611973, 0.14601312282183324, 2.2995849960204096, 1.5827426211000244, 2.3016930624650014, 1.5818640935189292, 0.8635718559647102, 0.8619695501918043, 0.8625912383741912, 0.8625912383741912, 0.8635198884599131, 0.8621286814564935, 0.8594402855833326, 0.8624824602391501, 0.8608996807180467, 0.8603388006662729, 0.8604941650556143, 0.943291238323458, 0.1438955800014831, 0.14389309117312835, 0.14389125578233392, 0.14389505148580928, 0.14389766523605055, 0.14389354281379502, 0.14389555117335542, 0.14390069218945498, 0.1438896414071849, 0.1438896414071849, 0.1438896414071849, 0.1438896414071849, 0.14389224554805027, 0.14389705023599378, 0.1444673282573851, 0.14390099968948336, 0.14389358125129859, 1.7144345596399302, 1.7144345596399302, 1.7144345596399302, 1.7144345596399302, 1.7143724587969558, 1.717642691929753, 0.9364105230235106, 0.936077467840273, 0.9360915878994924, 0.9364861270299133, 0.9356764170320568, 0.15587183066647783, 0.15587561772119565, 0.15586783797982964, 0.15586447932496678, 0.15586477063686816, 0.15586672414020677, 0.15586672414020677, 0.1558621831017442, 0.15587147081059968, 0.15586708399608493, 0.1558703569709768, 0.15586516476473472, 0.1558634340293207, 0.15587186493846625, 0.15587398980174683, 0.15586950017126688, 0.15587008279506961, 0.15586516476473472, 0.15587489800943932, 0.15588094701539132, 0.15587793108041242, 0.155876251752981, 1.5865085796885863, 1.5893413429407641, 1.5910034148161767, 0.8655193178177005, 0.8648221414323929, 0.8660876412086718, 0.8660876412086718, 0.8661310665122846, 0.8665435541959949, 0.8671222069067576, 0.1442435227238262, 0.14424916168922253, 0.14423697467288701, 0.1442457493246486, 0.14424331192138148, 0.14423780470751313, 0.14424174407819887, 0.14423975463012678, 0.1442475543205815, 0.14423116443050438, 0.14423116443050438, 0.14423116443050438, 0.14423116443050438, 0.1442351301514957, 0.14424519596823118, 0.14424664523503866, 0.1442430088928672, 0.14423773883174915, 0.14424171772789326, 0.14424094039387836, 0.14425441857518778, 0.1442514146403505, 0.14424065054051688, 2.101788913242525, 1.4485035816331526, 0.7893824231374875, 0.7886577570795283, 0.7879050999984127, 0.7880303275297026, 0.7888496463090426, 0.7822002711004917, 0.13137091492596176, 0.131372583621573, 0.131372583621573, 0.13136730839028585, 0.13137797727641964, 0.13137289582913897, 0.13137643777014604, 0.1313708933944055, 0.13137479060609109, 0.13137317573937052, 0.13138129313608585, 0.13136459541419532, 0.13136459541419532, 0.13136459541419532, 0.13136459541419532, 0.13138121777563888, 0.13137565186834205, 0.13137631934658656, 0.1313706350157302, 0.1313750812821008, 0.13137774042930062, 0.13137517817410402, 0.13138818323409354, 0.1313847704824241, 0.13137426308296238], \"Total\": [2.0, 4.0, 2.0, 2.0, 3.0, 2.0, 2.0, 4.0, 2.0, 3.0, 2.0, 2.0, 2.0, 2.0, 2.0, 2.0, 2.0, 2.0, 2.0, 2.0, 2.0, 2.0, 2.0, 2.0, 2.0, 2.0, 2.0, 2.0, 3.0, 2.0, 2.9114273359153766, 2.1813982840517965, 2.1813974233767954, 4.298926047405337, 4.359716283963288, 2.9008493378427755, 3.6220011258939433, 2.170804357631341, 2.172504962878211, 2.230716689951254, 2.893627083752432, 3.5503455835541295, 2.0974818902338814, 2.0976229219272287, 2.0992559314450663, 2.09931738472957, 2.1602259373604262, 2.1619302529676983, 2.1619302529676983, 2.1636377960372224, 2.2201690174565356, 2.279919391518798, 2.2799267716150626, 2.2799267716150626, 2.2799267716150626, 2.2799267716150626, 2.691789041950564, 2.7540768908711444, 2.8797035827623523, 2.939586971389844, 2.941322277404481, 3.658997878706657, 2.9996107339858415, 2.8797035827623523, 2.1602259373604262, 3.658997878706657, 2.939586971389844, 2.0976229219272287, 2.0974818902338814, 2.1619302529676983, 2.1619302529676983, 2.170804357631341, 2.2201690174565356, 2.7540768908711444, 2.9008493378427755, 2.941322277404481, 2.9996107339858415, 3.6220011258939433, 4.359716283963288, 2.0992559314450663, 2.09931738472957, 2.1636377960372224, 2.172504962878211, 2.1813974233767954, 2.1813982840517965, 2.230716689951254, 2.279919391518798, 2.2799267716150626, 2.2799267716150626, 2.2799267716150626, 2.2799267716150626, 2.691789041950564, 2.893627083752432, 4.298926047405337, 3.5503455835541295, 2.9114273359153766, 2.2799267716150626, 2.2799267716150626, 2.2799267716150626, 2.2799267716150626, 2.279919391518798, 2.9996107339858415, 2.2201690174565356, 2.230716689951254, 2.939586971389844, 2.941322277404481, 3.658997878706657, 2.0974818902338814, 2.0976229219272287, 2.0992559314450663, 2.09931738472957, 2.1602259373604262, 2.1619302529676983, 2.1619302529676983, 2.1636377960372224, 2.170804357631341, 2.172504962878211, 2.1813974233767954, 2.1813982840517965, 2.691789041950564, 2.7540768908711444, 2.8797035827623523, 2.893627083752432, 2.9008493378427755, 2.9114273359153766, 3.5503455835541295, 4.359716283963288, 4.298926047405337, 3.6220011258939433, 2.1636377960372224, 2.893627083752432, 3.5503455835541295, 2.09931738472957, 2.0992559314450663, 2.1619302529676983, 2.1619302529676983, 2.172504962878211, 2.941322277404481, 3.6220011258939433, 2.0974818902338814, 2.0976229219272287, 2.1602259373604262, 2.170804357631341, 2.1813974233767954, 2.1813982840517965, 2.2201690174565356, 2.230716689951254, 2.279919391518798, 2.2799267716150626, 2.2799267716150626, 2.2799267716150626, 2.2799267716150626, 2.691789041950564, 2.7540768908711444, 2.8797035827623523, 2.9008493378427755, 2.9114273359153766, 2.939586971389844, 2.9996107339858415, 4.359716283963288, 4.298926047405337, 3.658997878706657, 2.691789041950564, 2.7540768908711444, 2.0974818902338814, 2.0992559314450663, 2.0976229219272287, 2.09931738472957, 3.5503455835541295, 4.298926047405337, 2.1602259373604262, 2.1619302529676983, 2.1619302529676983, 2.1636377960372224, 2.170804357631341, 2.172504962878211, 2.1813974233767954, 2.1813982840517965, 2.2201690174565356, 2.230716689951254, 2.279919391518798, 2.2799267716150626, 2.2799267716150626, 2.2799267716150626, 2.2799267716150626, 2.8797035827623523, 2.893627083752432, 2.9008493378427755, 2.9114273359153766, 2.939586971389844, 2.941322277404481, 2.9996107339858415, 4.359716283963288, 3.6220011258939433, 3.658997878706657], \"Category\": [\"Default\", \"Default\", \"Default\", \"Default\", \"Default\", \"Default\", \"Default\", \"Default\", \"Default\", \"Default\", \"Default\", \"Default\", \"Default\", \"Default\", \"Default\", \"Default\", \"Default\", \"Default\", \"Default\", \"Default\", \"Default\", \"Default\", \"Default\", \"Default\", \"Default\", \"Default\", \"Default\", \"Default\", \"Default\", \"Default\", \"Topic1\", \"Topic1\", \"Topic1\", \"Topic1\", \"Topic1\", \"Topic1\", \"Topic1\", \"Topic1\", \"Topic1\", \"Topic1\", \"Topic1\", \"Topic1\", \"Topic1\", \"Topic1\", \"Topic1\", \"Topic1\", \"Topic1\", \"Topic1\", \"Topic1\", \"Topic1\", \"Topic1\", \"Topic1\", \"Topic1\", \"Topic1\", \"Topic1\", \"Topic1\", \"Topic1\", \"Topic1\", \"Topic1\", \"Topic1\", \"Topic1\", \"Topic1\", \"Topic1\", \"Topic2\", \"Topic2\", \"Topic2\", \"Topic2\", \"Topic2\", \"Topic2\", \"Topic2\", \"Topic2\", \"Topic2\", \"Topic2\", \"Topic2\", \"Topic2\", \"Topic2\", \"Topic2\", \"Topic2\", \"Topic2\", \"Topic2\", \"Topic2\", \"Topic2\", \"Topic2\", \"Topic2\", \"Topic2\", \"Topic2\", \"Topic2\", \"Topic2\", \"Topic2\", \"Topic2\", \"Topic2\", \"Topic2\", \"Topic2\", \"Topic2\", \"Topic2\", \"Topic2\", \"Topic3\", \"Topic3\", \"Topic3\", \"Topic3\", \"Topic3\", \"Topic3\", \"Topic3\", \"Topic3\", \"Topic3\", \"Topic3\", \"Topic3\", \"Topic3\", \"Topic3\", \"Topic3\", \"Topic3\", \"Topic3\", \"Topic3\", \"Topic3\", \"Topic3\", \"Topic3\", \"Topic3\", \"Topic3\", \"Topic3\", \"Topic3\", \"Topic3\", \"Topic3\", \"Topic3\", \"Topic3\", \"Topic3\", \"Topic3\", \"Topic3\", \"Topic3\", \"Topic3\", \"Topic4\", \"Topic4\", \"Topic4\", \"Topic4\", \"Topic4\", \"Topic4\", \"Topic4\", \"Topic4\", \"Topic4\", \"Topic4\", \"Topic4\", \"Topic4\", \"Topic4\", \"Topic4\", \"Topic4\", \"Topic4\", \"Topic4\", \"Topic4\", \"Topic4\", \"Topic4\", \"Topic4\", \"Topic4\", \"Topic4\", \"Topic4\", \"Topic4\", \"Topic4\", \"Topic4\", \"Topic4\", \"Topic4\", \"Topic4\", \"Topic4\", \"Topic4\", \"Topic4\", \"Topic5\", \"Topic5\", \"Topic5\", \"Topic5\", \"Topic5\", \"Topic5\", \"Topic5\", \"Topic5\", \"Topic5\", \"Topic5\", \"Topic5\", \"Topic5\", \"Topic5\", \"Topic5\", \"Topic5\", \"Topic5\", \"Topic5\", \"Topic5\", \"Topic5\", \"Topic5\", \"Topic5\", \"Topic5\", \"Topic5\", \"Topic5\", \"Topic5\", \"Topic5\", \"Topic5\", \"Topic5\", \"Topic5\", \"Topic5\", \"Topic5\", \"Topic5\", \"Topic5\"], \"logprob\": [30.0, 29.0, 28.0, 27.0, 26.0, 25.0, 24.0, 23.0, 22.0, 21.0, 20.0, 19.0, 18.0, 17.0, 16.0, 15.0, 14.0, 13.0, 12.0, 11.0, 10.0, 9.0, 8.0, 7.0, 6.0, 5.0, 4.0, 3.0, 2.0, 1.0, -2.254199981689453, -2.6289000511169434, -2.6289000511169434, -1.980299949645996, -2.0090999603271484, -2.6284000873565674, -2.6282999515533447, -3.235300064086914, -3.2360000610351562, -3.2360999584198, -3.2383999824523926, -3.2411000728607178, -5.026800155639648, -5.026700019836426, -5.026800155639648, -5.026800155639648, -5.026800155639648, -5.026800155639648, -5.026800155639648, -5.026800155639648, -5.026800155639648, -5.026700019836426, -5.026800155639648, -5.026800155639648, -5.026800155639648, -5.026800155639648, -5.026800155639648, -5.026700019836426, -5.009099960327148, -5.026800155639648, -5.026700019836426, -5.026800155639648, -5.026800155639648, -2.1942999362945557, -2.5678999423980713, -2.1933999061584473, -2.5683999061584473, -3.1737000942230225, -3.175600051879883, -3.1749000549316406, -3.1749000549316406, -3.173799991607666, -3.1754000186920166, -3.178499937057495, -3.174999952316284, -3.176800012588501, -3.177500009536743, -3.177299976348877, -3.085400104522705, -4.965700149536133, -4.965700149536133, -4.965700149536133, -4.965700149536133, -4.965700149536133, -4.965700149536133, -4.965700149536133, -4.965700149536133, -4.965700149536133, -4.965700149536133, -4.965700149536133, -4.965700149536133, -4.965700149536133, -4.965700149536133, -4.961699962615967, -4.965700149536133, -4.965700149536133, -2.373199939727783, -2.373199939727783, -2.373199939727783, -2.373199939727783, -2.373300075531006, -2.3714001178741455, -2.9779999256134033, -2.9783999919891357, -2.9783999919891357, -2.9779999256134033, -2.978800058364868, -4.771100044250488, -4.770999908447266, -4.771100044250488, -4.771100044250488, -4.771100044250488, -4.771100044250488, -4.771100044250488, -4.771100044250488, -4.771100044250488, -4.771100044250488, -4.771100044250488, -4.771100044250488, -4.771100044250488, -4.771100044250488, -4.770999908447266, -4.771100044250488, -4.771100044250488, -4.771100044250488, -4.770999908447266, -4.770999908447266, -4.770999908447266, -4.770999908447266, -2.1879000663757324, -2.186199903488159, -2.1851000785827637, -2.7939000129699707, -2.7946999073028564, -2.793299913406372, -2.793299913406372, -2.7932000160217285, -2.7927000522613525, -2.792099952697754, -4.585700035095215, -4.585700035095215, -4.5858001708984375, -4.585700035095215, -4.585700035095215, -4.5858001708984375, -4.585700035095215, -4.5858001708984375, -4.585700035095215, -4.5858001708984375, -4.5858001708984375, -4.5858001708984375, -4.5858001708984375, -4.5858001708984375, -4.585700035095215, -4.585700035095215, -4.585700035095215, -4.5858001708984375, -4.585700035095215, -4.5858001708984375, -4.585700035095215, -4.585700035095215, -4.5858001708984375, -1.704699993133545, -2.0769999027252197, -2.684000015258789, -2.6849000453948975, -2.6858999729156494, -2.685699939727783, -2.6847000122070312, -2.69320011138916, -4.47730016708374, -4.477200031280518, -4.477200031280518, -4.47730016708374, -4.477200031280518, -4.477200031280518, -4.477200031280518, -4.47730016708374, -4.477200031280518, -4.477200031280518, -4.477200031280518, -4.47730016708374, -4.47730016708374, -4.47730016708374, -4.47730016708374, -4.477200031280518, -4.477200031280518, -4.477200031280518, -4.47730016708374, -4.477200031280518, -4.477200031280518, -4.477200031280518, -4.477099895477295, -4.477099895477295, -4.477200031280518], \"loglift\": [30.0, 29.0, 28.0, 27.0, 26.0, 25.0, 24.0, 23.0, 22.0, 21.0, 20.0, 19.0, 18.0, 17.0, 16.0, 15.0, 14.0, 13.0, 12.0, 11.0, 10.0, 9.0, 8.0, 7.0, 6.0, 5.0, 4.0, 3.0, 2.0, 1.0, 1.143, 1.057, 1.057, 1.0272, 0.9844, 0.7725, 0.5506, 0.4555, 0.4541, 0.4275, 0.165, -0.0423, -1.3016, -1.3016, -1.3024, -1.3025, -1.3311, -1.3319, -1.3319, -1.3327, -1.3584, -1.385, -1.385, -1.385, -1.385, -1.385, -1.5511, -1.5739, -1.6009, -1.6391, -1.6397, -1.858, -1.6593, 1.2139, 1.1278, 0.9753, 0.8192, 0.5514, 0.5496, 0.5201, 0.5201, 0.517, 0.4929, 0.2743, 0.2259, 0.2102, 0.19, 0.0016, -0.0919, -1.2414, -1.2414, -1.2716, -1.2757, -1.2797, -1.2798, -1.3021, -1.3239, -1.324, -1.324, -1.324, -1.324, -1.49, -1.5623, -1.9542, -1.7668, -1.5685, 1.2685, 1.2685, 1.2685, 1.2685, 1.2685, 0.996, 0.6903, 0.6852, 0.4093, 0.4091, 0.1899, -1.0459, -1.0459, -1.0468, -1.0468, -1.0754, -1.0762, -1.0762, -1.077, -1.0802, -1.0811, -1.0851, -1.0852, -1.2954, -1.3182, -1.3628, -1.3677, -1.3702, -1.3738, -1.5722, -1.7775, -1.7635, -1.5921, 1.5062, 1.2172, 1.0137, 0.9304, 0.9296, 0.9017, 0.9017, 0.8968, 0.5943, 0.3868, -0.8606, -0.8606, -0.8901, -0.8949, -0.8998, -0.8998, -0.9174, -0.9222, -0.9439, -0.9441, -0.9441, -0.9441, -0.9441, -1.1101, -1.1329, -1.1775, -1.1848, -1.1885, -1.1981, -1.2183, -1.5922, -1.5781, -1.417, 1.771, 1.3758, 1.0411, 1.0394, 1.0392, 1.0386, 0.5142, 0.3144, -0.7816, -0.7823, -0.7823, -0.7832, -0.7864, -0.7872, -0.7913, -0.7913, -0.8089, -0.8137, -0.8354, -0.8355, -0.8355, -0.8355, -0.8355, -1.069, -1.0738, -1.0763, -1.08, -1.0896, -1.0902, -1.1098, -1.4836, -1.2983, -1.3085]}, \"token.table\": {\"Topic\": [1, 2, 3, 3, 1, 2, 2, 3, 1, 3, 4, 5, 2, 5, 2, 4, 2, 4, 2, 3, 4, 3, 1, 4, 3, 1, 2, 3, 3, 2, 4, 1, 2, 5, 1, 2, 4, 5, 1, 2, 5, 1, 4, 2, 3, 4, 5, 2, 1, 2, 1, 4, 5, 1, 5, 2, 3], \"Freq\": [0.46065873992032313, 0.46065873992032313, 0.8772211567932214, 0.8772211567932214, 0.6894532487120842, 0.3447266243560421, 0.54659774788034, 0.27329887394017, 0.44828642046061534, 0.44828642046061534, 0.47634531456462836, 0.47634531456462836, 0.363098068654027, 0.363098068654027, 0.9258290836206671, 0.9243691359353535, 0.4625496121474281, 0.4625496121474281, 0.33998314556758896, 0.33998314556758896, 0.33998314556758896, 0.8772239963570265, 0.46029814296726157, 0.46029814296726157, 0.8772211567932214, 0.9168434777483174, 0.6803676909257749, 0.34018384546288744, 0.8772211567932214, 0.4625496121474281, 0.4625496121474281, 0.6869482797416903, 0.4767621616454072, 0.4767621616454072, 0.5521809437611319, 0.27609047188056596, 0.27609047188056596, 0.7430002755902188, 0.9168431160059126, 0.4767301069923626, 0.4767301069923626, 0.34558703352444714, 0.6911740670488943, 0.4504161584714021, 0.4504161584714021, 0.4763592590216617, 0.4763592590216617, 0.6945159258653637, 0.6881181720551754, 0.22937272401839182, 0.2816627216888938, 0.5633254433777876, 0.2816627216888938, 0.6978487107985218, 0.23261623693284064, 0.3333765907255618, 0.6667531814511236], \"Term\": [\"aid\", \"aid\", \"anna\", \"chung\", \"coronavirus\", \"coronavirus\", \"dow\", \"dow\", \"dropped\", \"dropped\", \"equity\", \"equity\", \"fed\", \"fed\", \"fiscal\", \"gains\", \"grant\", \"grant\", \"inc\", \"inc\", \"inc\", \"index\", \"investors\", \"investors\", \"isaac\", \"jobless\", \"jones\", \"jones\", \"juliet\", \"kbw\", \"kbw\", \"labor\", \"markets\", \"markets\", \"pandemic\", \"pandemic\", \"pandemic\", \"rates\", \"recovery\", \"redfield\", \"redfield\", \"reserve\", \"reserve\", \"reserved\", \"reserved\", \"sectors\", \"sectors\", \"stock\", \"stocks\", \"stocks\", \"trading\", \"trading\", \"trading\", \"vaccine\", \"vaccine\", \"wsj\", \"wsj\"]}, \"R\": 30, \"lambda.step\": 0.01, \"plot.opts\": {\"xlab\": \"PC1\", \"ylab\": \"PC2\"}, \"topic.order\": [4, 1, 5, 2, 3]};\n",
       "\n",
       "function LDAvis_load_lib(url, callback){\n",
       "  var s = document.createElement('script');\n",
       "  s.src = url;\n",
       "  s.async = true;\n",
       "  s.onreadystatechange = s.onload = callback;\n",
       "  s.onerror = function(){console.warn(\"failed to load library \" + url);};\n",
       "  document.getElementsByTagName(\"head\")[0].appendChild(s);\n",
       "}\n",
       "\n",
       "if(typeof(LDAvis) !== \"undefined\"){\n",
       "   // already loaded: just create the visualization\n",
       "   !function(LDAvis){\n",
       "       new LDAvis(\"#\" + \"ldavis_el3012054182538884450476961\", ldavis_el3012054182538884450476961_data);\n",
       "   }(LDAvis);\n",
       "}else if(typeof define === \"function\" && define.amd){\n",
       "   // require.js is available: use it to load d3/LDAvis\n",
       "   require.config({paths: {d3: \"https://cdnjs.cloudflare.com/ajax/libs/d3/3.5.5/d3.min\"}});\n",
       "   require([\"d3\"], function(d3){\n",
       "      window.d3 = d3;\n",
       "      LDAvis_load_lib(\"https://cdn.rawgit.com/bmabey/pyLDAvis/files/ldavis.v1.0.0.js\", function(){\n",
       "        new LDAvis(\"#\" + \"ldavis_el3012054182538884450476961\", ldavis_el3012054182538884450476961_data);\n",
       "      });\n",
       "    });\n",
       "}else{\n",
       "    // require.js not available: dynamically load d3 & LDAvis\n",
       "    LDAvis_load_lib(\"https://cdnjs.cloudflare.com/ajax/libs/d3/3.5.5/d3.min.js\", function(){\n",
       "         LDAvis_load_lib(\"https://cdn.rawgit.com/bmabey/pyLDAvis/files/ldavis.v1.0.0.js\", function(){\n",
       "                 new LDAvis(\"#\" + \"ldavis_el3012054182538884450476961\", ldavis_el3012054182538884450476961_data);\n",
       "            })\n",
       "         });\n",
       "}\n",
       "</script>"
      ],
      "text/plain": [
       "PreparedData(topic_coordinates=              x         y  topics  cluster       Freq\n",
       "topic                                                \n",
       "3     -0.145516  0.127130       1        1  25.583920\n",
       "0      0.070715  0.016936       2        1  23.719514\n",
       "4      0.184126  0.040503       3        1  21.149004\n",
       "1     -0.058776 -0.062516       4        1  16.260589\n",
       "2     -0.050549 -0.122053       5        1  13.286973, topic_info=        Term      Freq     Total Category  logprob  loglift\n",
       "24     rates  2.000000  2.000000  Default  30.0000  30.0000\n",
       "26   vaccine  4.000000  4.000000  Default  29.0000  29.0000\n",
       "23       fed  2.000000  2.000000  Default  28.0000  28.0000\n",
       "12     gains  2.000000  2.000000  Default  27.0000  27.0000\n",
       "18   trading  3.000000  3.000000  Default  26.0000  26.0000\n",
       "..       ...       ...       ...      ...      ...      ...\n",
       "14       inc  0.131378  2.941322   Topic5  -4.4772  -1.0902\n",
       "3        wsj  0.131375  2.999611   Topic5  -4.4772  -1.1098\n",
       "8     stocks  0.131388  4.359716   Topic5  -4.4771  -1.4836\n",
       "7   pandemic  0.131385  3.622001   Topic5  -4.4771  -1.2983\n",
       "0        dow  0.131374  3.658998   Topic5  -4.4772  -1.3085\n",
       "\n",
       "[195 rows x 6 columns], token_table=      Topic      Freq         Term\n",
       "term                              \n",
       "19        1  0.460659          aid\n",
       "19        2  0.460659          aid\n",
       "28        3  0.877221         anna\n",
       "29        3  0.877221        chung\n",
       "4         1  0.689453  coronavirus\n",
       "4         2  0.344727  coronavirus\n",
       "0         2  0.546598          dow\n",
       "0         3  0.273299          dow\n",
       "5         1  0.448286      dropped\n",
       "5         3  0.448286      dropped\n",
       "11        4  0.476345       equity\n",
       "11        5  0.476345       equity\n",
       "23        2  0.363098          fed\n",
       "23        5  0.363098          fed\n",
       "25        2  0.925829       fiscal\n",
       "12        4  0.924369        gains\n",
       "13        2  0.462550        grant\n",
       "13        4  0.462550        grant\n",
       "14        2  0.339983          inc\n",
       "14        3  0.339983          inc\n",
       "14        4  0.339983          inc\n",
       "9         3  0.877224        index\n",
       "15        1  0.460298    investors\n",
       "15        4  0.460298    investors\n",
       "30        3  0.877221        isaac\n",
       "20        1  0.916843      jobless\n",
       "10        2  0.680368        jones\n",
       "10        3  0.340184        jones\n",
       "31        3  0.877221       juliet\n",
       "16        2  0.462550          kbw\n",
       "16        4  0.462550          kbw\n",
       "6         1  0.686948        labor\n",
       "1         2  0.476762      markets\n",
       "1         5  0.476762      markets\n",
       "7         1  0.552181     pandemic\n",
       "7         2  0.276090     pandemic\n",
       "7         4  0.276090     pandemic\n",
       "24        5  0.743000        rates\n",
       "21        1  0.916843     recovery\n",
       "27        2  0.476730     redfield\n",
       "27        5  0.476730     redfield\n",
       "17        1  0.345587      reserve\n",
       "17        4  0.691174      reserve\n",
       "32        2  0.450416     reserved\n",
       "32        3  0.450416     reserved\n",
       "22        4  0.476359      sectors\n",
       "22        5  0.476359      sectors\n",
       "2         2  0.694516        stock\n",
       "8         1  0.688118       stocks\n",
       "8         2  0.229373       stocks\n",
       "18        1  0.281663      trading\n",
       "18        4  0.563325      trading\n",
       "18        5  0.281663      trading\n",
       "26        1  0.697849      vaccine\n",
       "26        5  0.232616      vaccine\n",
       "3         2  0.333377          wsj\n",
       "3         3  0.666753          wsj, R=30, lambda_step=0.01, plot_opts={'xlab': 'PC1', 'ylab': 'PC2'}, topic_order=[4, 1, 5, 2, 3])"
      ]
     },
     "execution_count": 151,
     "metadata": {},
     "output_type": "execute_result"
    }
   ],
   "source": [
    "# Create a floor of the frequency of words to remove\n",
    "word_frequency_threshold = 1\n",
    "\n",
    "# choose the number of LDA topics\n",
    "num_lda_topics = 5\n",
    "\n",
    "# do by sentences\n",
    "do_sentences = 1\n",
    "\n",
    "do_plot = 0\n",
    "\n",
    "do_print = 0\n",
    "\n",
    "n_passes = 100\n",
    "\n",
    "perplexity_scores = np.zeros((100,1))\n",
    "\n",
    "for i in range(100):\n",
    "    # loop through articles\n",
    "    # for ind, full_file_name in enumerate(full_file_names):\n",
    "\n",
    "    # for ind, article_text in enumerate(articles_df_random_subset['content']):\n",
    "#     for ind, article_text in enumerate([articles_df_random_subset.iloc[1,6]]):\n",
    "    for ind, article_text in enumerate([main_article]):\n",
    "\n",
    "\n",
    "\n",
    "\n",
    "    #     if ind == 0:\n",
    "    #         continue\n",
    "\n",
    "        if do_print:\n",
    "            print(article_text)\n",
    "\n",
    "        # pull out dictionary of important entities\n",
    "    #     entity_dict = entity_recognizer(article_text,nlp)\n",
    "\n",
    "    #     if do_print:\n",
    "    #         print(' ')\n",
    "\n",
    "    #     for key in entity_dict:\n",
    "\n",
    "    #         if do_print:\n",
    "    #             print(key)\n",
    "    #             print(entity_dict[key])\n",
    "    #             print(' ')\n",
    "\n",
    "    #     # replace weird apostrophes\n",
    "    #     article_text = article_text.replace(\"`\",\"'\")\n",
    "    #     article_text = article_text.replace(\"’\",\"'\")\n",
    "    #     article_text = article_text.replace(\"'\",\"'\")\n",
    "\n",
    "    #     # replace long dashes with short dashes\n",
    "    #     article_text = article_text.replace(\"—\",\"-\")\n",
    "\n",
    "    #     # replace short dashes with spaces\n",
    "    #     article_text = article_text.replace(\"-\",\" \")\n",
    "\n",
    "        if do_sentences:\n",
    "            # break article into sentences\n",
    "            article_text = tokenize.sent_tokenize(article_text)\n",
    "\n",
    "    #         article_text = [sentence.translate(sentence.maketrans('', '', string.punctuation)) for sentence in article_text]\n",
    "\n",
    "            # process article\n",
    "            article_processed = process_all_articles(article_text,nlp)\n",
    "\n",
    "            # remove stopwords\n",
    "            article_processed = remove_stopwords(article_processed,stop_words)\n",
    "\n",
    "            # following https://radimrehurek.com/gensim/auto_examples/core/run_core_concepts.html#sphx-glr-auto-examples-core-run-core-concepts-py\n",
    "            # Lowercase each document, split it by white space and filter out stopwords\n",
    "    #         texts = [[word for word in document.lower().split() if word not in stop_words] \n",
    "    #                  for document in article_text]\n",
    "\n",
    "        else:\n",
    "            # get rid of punctuation\n",
    "            article_text = article_text.translate(article_text.maketrans('', '', string.punctuation))\n",
    "\n",
    "            # following https://radimrehurek.com/gensim/auto_examples/core/run_core_concepts.html#sphx-glr-auto-examples-core-run-core-concepts-py\n",
    "            # Lowercase each document, split it by white space and filter out stopwords\n",
    "            article_processed = [[word for word in document.lower().split() if word not in stop_words] for document in [article_text]]\n",
    "\n",
    "        # get corpus, dictionary, bag of words\n",
    "        processed_corpus, processed_dictionary, bow_corpus = get_simple_corpus_dictionary_bow(article_processed,\n",
    "                                                                                              word_frequency_threshold)\n",
    "\n",
    "        # generate the LDA model\n",
    "        lda = LdaModel(corpus = bow_corpus,\n",
    "                         num_topics = 5,\n",
    "                         id2word = processed_dictionary,\n",
    "                         passes = n_passes)\n",
    "\n",
    "        # get the topics from the lda model\n",
    "        lda_topics = lda.show_topics(formatted=False)\n",
    "\n",
    "        # dictionary for topics and the probabilities associated with them\n",
    "        topics_probs_dict = {}\n",
    "\n",
    "        # list of unique topic names\n",
    "        topics = []\n",
    "\n",
    "        # get top words per topic\n",
    "        lda_top_topic_words = ''\n",
    "\n",
    "        # loop through each list of generated topics\n",
    "        for topic in lda_topics:\n",
    "\n",
    "            # get the list of topics\n",
    "            topic_words = topic[1]\n",
    "\n",
    "            lda_top_topic_words += ' '+topic_words[0][0]\n",
    "\n",
    "            # loop through topic words and probabilities\n",
    "            for topic_word, prob in topic_words:\n",
    "\n",
    "                # if the word isn't already in the list of topics, add it to list of topics\n",
    "                if topic_word not in topics: \n",
    "                    topics.append(topic_word)\n",
    "\n",
    "                # if the word is not a key in the dictionary of topics to probabilities, add it to dictionary\n",
    "                if topic_word not in topics_probs_dict.keys():\n",
    "\n",
    "                    topics_probs_dict[topic_word] = np.array([prob])\n",
    "\n",
    "                # if the word is a key in the dictionary of topics to probabilities, append probability\n",
    "                else:\n",
    "                    topics_probs_dict[topic_word] = np.append(topics_probs_dict[topic_word],[prob])\n",
    "\n",
    "        # dictionary for topic probability means\n",
    "        topics_mean_probs_dict = {}\n",
    "\n",
    "        # dictionary for topic probability std devs\n",
    "        topics_std_probs_dict = {}\n",
    "\n",
    "        # dictionary for topic frequency\n",
    "        topics_frequency_dict = {}\n",
    "\n",
    "        # loop through topics and probabilities\n",
    "        for topic, prob in topics_probs_dict.items():\n",
    "\n",
    "            # update dictionary for mean probability\n",
    "            topics_mean_probs_dict[topic] = np.mean(prob)\n",
    "\n",
    "            # update dictionary for std dev probability\n",
    "            topics_std_probs_dict[topic] = np.std(prob)\n",
    "\n",
    "            # update dictionary for topic frequency\n",
    "            topics_frequency_dict[topic] =  prob.size\n",
    "\n",
    "\n",
    "\n",
    "        # get the topic mean probs and frequencies, sorted\n",
    "        topics_means, means_sorted, std_sorted, topics_freq, freq_sorted = sort_topics_mean_frequency(topics,\n",
    "                                                 topics_mean_probs_dict,\n",
    "                                                 topics_std_probs_dict,\n",
    "                                                 topics_frequency_dict)\n",
    "\n",
    "        if do_plot:\n",
    "            plt.figure(figsize=(15,5));\n",
    "            plt.bar(topics_means,means_sorted,yerr=std_sorted);\n",
    "            plt.ylabel('Mean probability');\n",
    "            sns.set_context('talk', font_scale=1.5);\n",
    "            plt.xticks(rotation=90);\n",
    "            plt.show();\n",
    "            plt.clf();\n",
    "        #     plt.savefig('./eda_figs/mean_prob_vs_topic_big_ten_resumes.png', dpi=300, bbox_inches='tight')\n",
    "\n",
    "            plt.figure(figsize=(15,5));\n",
    "            plt.bar(topics_freq,freq_sorted);\n",
    "            plt.ylabel('N');\n",
    "            # plt.xlabel('Topics')\n",
    "            sns.set_context('talk', font_scale=1.5);\n",
    "            plt.xticks(rotation=90);\n",
    "            plt.show();\n",
    "            plt.clf();\n",
    "            # plt.savefig('./edafigs/frequency_vs_topic_big_ten_resumes.pdf')\n",
    "\n",
    "        if do_print:\n",
    "            print(topics)\n",
    "            print(topics_probs_dict)\n",
    "            print(' ')\n",
    "\n",
    "            for lda_topic in lda_topics:\n",
    "                print(lda_topic)\n",
    "\n",
    "            print(lda_top_topic_words)\n",
    "\n",
    "    #     print(' ')\n",
    "    #     if ind == 0:\n",
    "    #         break\n",
    "        perplexity = lda.log_perplexity(bow_corpus)\n",
    "        perplexity_scores[i] = perplexity\n",
    "        \n",
    "        \n",
    "# print('\\nPerplexity: ', lda.log_perplexity(bow_corpus))\n",
    "\n",
    "# Visualize the topics\n",
    "pyLDAvis.enable_notebook()\n",
    "vis = pyLDAvis.gensim.prepare(lda, bow_corpus, processed_dictionary)\n",
    "vis\n"
   ]
  },
  {
   "cell_type": "code",
   "execution_count": 148,
   "metadata": {},
   "outputs": [
    {
     "data": {
      "text/plain": [
       "' vaccine stock wsj stocks rates'"
      ]
     },
     "execution_count": 148,
     "metadata": {},
     "output_type": "execute_result"
    }
   ],
   "source": [
    "lda_top_topic_words"
   ]
  },
  {
   "cell_type": "code",
   "execution_count": 149,
   "metadata": {},
   "outputs": [
    {
     "name": "stdout",
     "output_type": "stream",
     "text": [
      "-4.278541365851847\n",
      "0.0821454847903026\n"
     ]
    }
   ],
   "source": [
    "print(np.mean(perplexity_scores))\n",
    "print(np.std(perplexity_scores))"
   ]
  },
  {
   "cell_type": "code",
   "execution_count": 150,
   "metadata": {},
   "outputs": [
    {
     "data": {
      "image/png": "[encoded data removed]",
      "text/plain": [
       "<Figure size 1080x360 with 1 Axes>"
      ]
     },
     "metadata": {
      "needs_background": "light"
     },
     "output_type": "display_data"
    },
    {
     "data": {
      "text/plain": [
       "<Figure size 432x288 with 0 Axes>"
      ]
     },
     "metadata": {},
     "output_type": "display_data"
    }
   ],
   "source": [
    "plt.figure(figsize=(15,5));\n",
    "plt.hist(perplexity_scores);\n",
    "plt.ylabel('N');\n",
    "plt.xlabel('Perplexity')\n",
    "sns.set_context('talk', font_scale=1.5);\n",
    "plt.xticks(rotation=90);\n",
    "plt.show();\n",
    "plt.clf();"
   ]
  },
  {
   "cell_type": "code",
   "execution_count": 37,
   "metadata": {},
   "outputs": [
    {
     "name": "stdout",
     "output_type": "stream",
     "text": [
      "17\n"
     ]
    }
   ],
   "source": [
    "print(len(article_text))\n",
    "processed_corpus, processed_dictionary, bow_corpus = get_simple_corpus_dictionary_bow(article_processed,\n",
    "                                                                                          word_frequency_threshold)"
   ]
  },
  {
   "cell_type": "code",
   "execution_count": 94,
   "metadata": {},
   "outputs": [
    {
     "data": {
      "text/plain": [
       "0         abcnews.go.com\n",
       "1          aljazeera.com\n",
       "2             apnews.com\n",
       "3                bbc.com\n",
       "4          bloomberg.com\n",
       "5          breitbart.com\n",
       "6       buzzfeednews.com\n",
       "7                cbn.com\n",
       "8            cbsnews.com\n",
       "9          csmonitor.com\n",
       "10               cnn.com\n",
       "11     thedailybeast.com\n",
       "12      democracynow.org\n",
       "13         factcheck.org\n",
       "14            forbes.com\n",
       "15           foxnews.com\n",
       "16          huffpost.com\n",
       "17       motherjones.com\n",
       "18             msnbc.com\n",
       "19    nationalreview.com\n",
       "20           nbcnews.com\n",
       "21            nypost.com\n",
       "22           nytimes.com\n",
       "23           newsmax.com\n",
       "24               npr.org\n",
       "25          politico.com\n",
       "26            reason.com\n",
       "27           reuters.com\n",
       "28             salon.com\n",
       "29         spectator.org\n",
       "30       theatlantic.com\n",
       "31       theguardian.com\n",
       "32           thehill.com\n",
       "33               wsj.com\n",
       "Name: domain, dtype: object"
      ]
     },
     "execution_count": 94,
     "metadata": {},
     "output_type": "execute_result"
    }
   ],
   "source": [
    "# lda_top_topic_words\n",
    "all_sides_domains"
   ]
  },
  {
   "cell_type": "code",
   "execution_count": 39,
   "metadata": {},
   "outputs": [],
   "source": [
    "# load domain names from all sides media csv, write string for google search\n",
    "all_sides_with_domains = pd.read_csv('./all_sides_media_data/allsides_final_plus_others_with_domains.csv')\n",
    "\n",
    "all_sides_names = all_sides_with_domains['name']\n",
    "all_sides_domains = all_sides_with_domains['domain']\n",
    "\n",
    "all_sides_names_domains = pd.concat([all_sides_names,all_sides_domains],axis=1)"
   ]
  },
  {
   "cell_type": "code",
   "execution_count": 161,
   "metadata": {},
   "outputs": [
    {
     "data": {
      "text/html": [
       "<div>\n",
       "<style scoped>\n",
       "    .dataframe tbody tr th:only-of-type {\n",
       "        vertical-align: middle;\n",
       "    }\n",
       "\n",
       "    .dataframe tbody tr th {\n",
       "        vertical-align: top;\n",
       "    }\n",
       "\n",
       "    .dataframe thead th {\n",
       "        text-align: right;\n",
       "    }\n",
       "</style>\n",
       "<table border=\"1\" class=\"dataframe\">\n",
       "  <thead>\n",
       "    <tr style=\"text-align: right;\">\n",
       "      <th></th>\n",
       "      <th>name</th>\n",
       "      <th>domain</th>\n",
       "      <th>google_query</th>\n",
       "    </tr>\n",
       "  </thead>\n",
       "  <tbody>\n",
       "    <tr>\n",
       "      <th>0</th>\n",
       "      <td>ABC News (Online)</td>\n",
       "      <td>abcnews.go.com</td>\n",
       "      <td>site:nytimes.com dow trading rates vaccine wsj</td>\n",
       "    </tr>\n",
       "    <tr>\n",
       "      <th>1</th>\n",
       "      <td>Al Jazeera</td>\n",
       "      <td>aljazeera.com</td>\n",
       "      <td>site:bloomberg.com dow trading rates vaccine wsj</td>\n",
       "    </tr>\n",
       "    <tr>\n",
       "      <th>2</th>\n",
       "      <td>Associated Press</td>\n",
       "      <td>apnews.com</td>\n",
       "      <td>site:reuters.com dow trading rates vaccine wsj</td>\n",
       "    </tr>\n",
       "    <tr>\n",
       "      <th>3</th>\n",
       "      <td>BBC News</td>\n",
       "      <td>bbc.com</td>\n",
       "      <td>site:wsj.com dow trading rates vaccine wsj</td>\n",
       "    </tr>\n",
       "    <tr>\n",
       "      <th>4</th>\n",
       "      <td>Bloomberg</td>\n",
       "      <td>bloomberg.com</td>\n",
       "      <td>NaN</td>\n",
       "    </tr>\n",
       "    <tr>\n",
       "      <th>5</th>\n",
       "      <td>Breitbart News</td>\n",
       "      <td>breitbart.com</td>\n",
       "      <td>NaN</td>\n",
       "    </tr>\n",
       "    <tr>\n",
       "      <th>6</th>\n",
       "      <td>BuzzFeed News</td>\n",
       "      <td>buzzfeednews.com</td>\n",
       "      <td>NaN</td>\n",
       "    </tr>\n",
       "    <tr>\n",
       "      <th>7</th>\n",
       "      <td>CBN</td>\n",
       "      <td>cbn.com</td>\n",
       "      <td>NaN</td>\n",
       "    </tr>\n",
       "    <tr>\n",
       "      <th>8</th>\n",
       "      <td>CBS News</td>\n",
       "      <td>cbsnews.com</td>\n",
       "      <td>NaN</td>\n",
       "    </tr>\n",
       "    <tr>\n",
       "      <th>9</th>\n",
       "      <td>Christian Science Monitor</td>\n",
       "      <td>csmonitor.com</td>\n",
       "      <td>NaN</td>\n",
       "    </tr>\n",
       "    <tr>\n",
       "      <th>10</th>\n",
       "      <td>CNN (Web News)</td>\n",
       "      <td>cnn.com</td>\n",
       "      <td>NaN</td>\n",
       "    </tr>\n",
       "    <tr>\n",
       "      <th>11</th>\n",
       "      <td>Daily Beast</td>\n",
       "      <td>thedailybeast.com</td>\n",
       "      <td>NaN</td>\n",
       "    </tr>\n",
       "    <tr>\n",
       "      <th>12</th>\n",
       "      <td>Democracy Now</td>\n",
       "      <td>democracynow.org</td>\n",
       "      <td>NaN</td>\n",
       "    </tr>\n",
       "    <tr>\n",
       "      <th>13</th>\n",
       "      <td>FactCheck.org</td>\n",
       "      <td>factcheck.org</td>\n",
       "      <td>NaN</td>\n",
       "    </tr>\n",
       "    <tr>\n",
       "      <th>14</th>\n",
       "      <td>Forbes</td>\n",
       "      <td>forbes.com</td>\n",
       "      <td>NaN</td>\n",
       "    </tr>\n",
       "    <tr>\n",
       "      <th>15</th>\n",
       "      <td>Fox News (Online)</td>\n",
       "      <td>foxnews.com</td>\n",
       "      <td>NaN</td>\n",
       "    </tr>\n",
       "    <tr>\n",
       "      <th>16</th>\n",
       "      <td>HuffPost</td>\n",
       "      <td>huffpost.com</td>\n",
       "      <td>NaN</td>\n",
       "    </tr>\n",
       "    <tr>\n",
       "      <th>17</th>\n",
       "      <td>Mother Jones</td>\n",
       "      <td>motherjones.com</td>\n",
       "      <td>NaN</td>\n",
       "    </tr>\n",
       "    <tr>\n",
       "      <th>18</th>\n",
       "      <td>MSNBC</td>\n",
       "      <td>msnbc.com</td>\n",
       "      <td>NaN</td>\n",
       "    </tr>\n",
       "    <tr>\n",
       "      <th>19</th>\n",
       "      <td>National Review</td>\n",
       "      <td>nationalreview.com</td>\n",
       "      <td>NaN</td>\n",
       "    </tr>\n",
       "    <tr>\n",
       "      <th>20</th>\n",
       "      <td>NBC News (Online)</td>\n",
       "      <td>nbcnews.com</td>\n",
       "      <td>NaN</td>\n",
       "    </tr>\n",
       "    <tr>\n",
       "      <th>21</th>\n",
       "      <td>New York Post</td>\n",
       "      <td>nypost.com</td>\n",
       "      <td>NaN</td>\n",
       "    </tr>\n",
       "    <tr>\n",
       "      <th>22</th>\n",
       "      <td>New York Times (Online News)</td>\n",
       "      <td>nytimes.com</td>\n",
       "      <td>NaN</td>\n",
       "    </tr>\n",
       "    <tr>\n",
       "      <th>23</th>\n",
       "      <td>Newsmax - News</td>\n",
       "      <td>newsmax.com</td>\n",
       "      <td>NaN</td>\n",
       "    </tr>\n",
       "    <tr>\n",
       "      <th>24</th>\n",
       "      <td>NPR Online News</td>\n",
       "      <td>npr.org</td>\n",
       "      <td>NaN</td>\n",
       "    </tr>\n",
       "    <tr>\n",
       "      <th>25</th>\n",
       "      <td>Politico</td>\n",
       "      <td>politico.com</td>\n",
       "      <td>NaN</td>\n",
       "    </tr>\n",
       "    <tr>\n",
       "      <th>26</th>\n",
       "      <td>Reason</td>\n",
       "      <td>reason.com</td>\n",
       "      <td>NaN</td>\n",
       "    </tr>\n",
       "    <tr>\n",
       "      <th>27</th>\n",
       "      <td>Reuters</td>\n",
       "      <td>reuters.com</td>\n",
       "      <td>NaN</td>\n",
       "    </tr>\n",
       "    <tr>\n",
       "      <th>28</th>\n",
       "      <td>Salon</td>\n",
       "      <td>salon.com</td>\n",
       "      <td>NaN</td>\n",
       "    </tr>\n",
       "    <tr>\n",
       "      <th>29</th>\n",
       "      <td>The American Spectator</td>\n",
       "      <td>spectator.org</td>\n",
       "      <td>NaN</td>\n",
       "    </tr>\n",
       "    <tr>\n",
       "      <th>30</th>\n",
       "      <td>The Atlantic</td>\n",
       "      <td>theatlantic.com</td>\n",
       "      <td>NaN</td>\n",
       "    </tr>\n",
       "    <tr>\n",
       "      <th>31</th>\n",
       "      <td>The Guardian</td>\n",
       "      <td>theguardian.com</td>\n",
       "      <td>NaN</td>\n",
       "    </tr>\n",
       "    <tr>\n",
       "      <th>32</th>\n",
       "      <td>The Hill</td>\n",
       "      <td>thehill.com</td>\n",
       "      <td>NaN</td>\n",
       "    </tr>\n",
       "    <tr>\n",
       "      <th>33</th>\n",
       "      <td>The Wall Street Journal</td>\n",
       "      <td>wsj.com</td>\n",
       "      <td>NaN</td>\n",
       "    </tr>\n",
       "  </tbody>\n",
       "</table>\n",
       "</div>"
      ],
      "text/plain": [
       "                            name              domain  \\\n",
       "0              ABC News (Online)      abcnews.go.com   \n",
       "1                     Al Jazeera       aljazeera.com   \n",
       "2               Associated Press          apnews.com   \n",
       "3                       BBC News             bbc.com   \n",
       "4                      Bloomberg       bloomberg.com   \n",
       "5                 Breitbart News       breitbart.com   \n",
       "6                  BuzzFeed News    buzzfeednews.com   \n",
       "7                            CBN             cbn.com   \n",
       "8                       CBS News         cbsnews.com   \n",
       "9      Christian Science Monitor       csmonitor.com   \n",
       "10                CNN (Web News)             cnn.com   \n",
       "11                   Daily Beast   thedailybeast.com   \n",
       "12                 Democracy Now    democracynow.org   \n",
       "13                 FactCheck.org       factcheck.org   \n",
       "14                        Forbes          forbes.com   \n",
       "15             Fox News (Online)         foxnews.com   \n",
       "16                      HuffPost        huffpost.com   \n",
       "17                  Mother Jones     motherjones.com   \n",
       "18                         MSNBC           msnbc.com   \n",
       "19               National Review  nationalreview.com   \n",
       "20             NBC News (Online)         nbcnews.com   \n",
       "21                 New York Post          nypost.com   \n",
       "22  New York Times (Online News)         nytimes.com   \n",
       "23                Newsmax - News         newsmax.com   \n",
       "24               NPR Online News             npr.org   \n",
       "25                      Politico        politico.com   \n",
       "26                        Reason          reason.com   \n",
       "27                       Reuters         reuters.com   \n",
       "28                         Salon           salon.com   \n",
       "29        The American Spectator       spectator.org   \n",
       "30                  The Atlantic     theatlantic.com   \n",
       "31                  The Guardian     theguardian.com   \n",
       "32                      The Hill         thehill.com   \n",
       "33       The Wall Street Journal             wsj.com   \n",
       "\n",
       "                                        google_query  \n",
       "0     site:nytimes.com dow trading rates vaccine wsj  \n",
       "1   site:bloomberg.com dow trading rates vaccine wsj  \n",
       "2     site:reuters.com dow trading rates vaccine wsj  \n",
       "3         site:wsj.com dow trading rates vaccine wsj  \n",
       "4                                                NaN  \n",
       "5                                                NaN  \n",
       "6                                                NaN  \n",
       "7                                                NaN  \n",
       "8                                                NaN  \n",
       "9                                                NaN  \n",
       "10                                               NaN  \n",
       "11                                               NaN  \n",
       "12                                               NaN  \n",
       "13                                               NaN  \n",
       "14                                               NaN  \n",
       "15                                               NaN  \n",
       "16                                               NaN  \n",
       "17                                               NaN  \n",
       "18                                               NaN  \n",
       "19                                               NaN  \n",
       "20                                               NaN  \n",
       "21                                               NaN  \n",
       "22                                               NaN  \n",
       "23                                               NaN  \n",
       "24                                               NaN  \n",
       "25                                               NaN  \n",
       "26                                               NaN  \n",
       "27                                               NaN  \n",
       "28                                               NaN  \n",
       "29                                               NaN  \n",
       "30                                               NaN  \n",
       "31                                               NaN  \n",
       "32                                               NaN  \n",
       "33                                               NaN  "
      ]
     },
     "execution_count": 161,
     "metadata": {},
     "output_type": "execute_result"
    }
   ],
   "source": [
    "all_sides_names_domains"
   ]
  },
  {
   "cell_type": "code",
   "execution_count": 162,
   "metadata": {},
   "outputs": [],
   "source": [
    "queries = []\n",
    "\n",
    "all_sides_domains_test = ['nytimes.com','bloomberg.com','reuters.com','wsj.com']\n",
    "all_sides_names_test = ['New York Times','Bloomberg','Reuters','The Wall Street Journal']\n",
    "# for domain in all_sides_domains:\n",
    "for domain in all_sides_domains_test:\n",
    "\n",
    "    query = 'site:'+domain+lda_top_topic_words\n",
    "    queries.append(query)\n",
    "    \n",
    "\n",
    "all_sides_names_domains['google_query'] = pd.DataFrame(queries)"
   ]
  },
  {
   "cell_type": "code",
   "execution_count": 163,
   "metadata": {},
   "outputs": [
    {
     "name": "stdout",
     "output_type": "stream",
     "text": [
      "['site:nytimes.com dow trading rates vaccine wsj', 'site:bloomberg.com dow trading rates vaccine wsj', 'site:reuters.com dow trading rates vaccine wsj', 'site:wsj.com dow trading rates vaccine wsj']\n",
      "['New York Times', 'Bloomberg', 'Reuters', 'The Wall Street Journal']\n"
     ]
    }
   ],
   "source": [
    "print(queries)\n",
    "print(all_sides_names_test)"
   ]
  },
  {
   "cell_type": "code",
   "execution_count": 164,
   "metadata": {},
   "outputs": [],
   "source": [
    "# for j in search(query, tld='com', lang='en', num = 1, start = 0, stop = 1, pause = 10):\n",
    "#     print(j)"
   ]
  },
  {
   "cell_type": "code",
   "execution_count": 165,
   "metadata": {},
   "outputs": [
    {
     "ename": "HTTPError",
     "evalue": "HTTP Error 429: Too Many Requests",
     "output_type": "error",
     "traceback": [
      "\u001b[0;31m---------------------------------------------------------------------------\u001b[0m",
      "\u001b[0;31mHTTPError\u001b[0m                                 Traceback (most recent call last)",
      "\u001b[0;32m<ipython-input-165-35df7a6d3352>\u001b[0m in \u001b[0;36m<module>\u001b[0;34m\u001b[0m\n\u001b[1;32m      4\u001b[0m     \u001b[0mcurrent_results\u001b[0m \u001b[0;34m=\u001b[0m \u001b[0;34m[\u001b[0m\u001b[0;34m]\u001b[0m\u001b[0;34m\u001b[0m\u001b[0;34m\u001b[0m\u001b[0m\n\u001b[1;32m      5\u001b[0m \u001b[0;34m\u001b[0m\u001b[0m\n\u001b[0;32m----> 6\u001b[0;31m     \u001b[0;32mfor\u001b[0m \u001b[0mj\u001b[0m \u001b[0;32min\u001b[0m \u001b[0msearch\u001b[0m\u001b[0;34m(\u001b[0m\u001b[0mquery\u001b[0m\u001b[0;34m,\u001b[0m \u001b[0mtld\u001b[0m\u001b[0;34m=\u001b[0m\u001b[0;34m'com'\u001b[0m\u001b[0;34m,\u001b[0m \u001b[0mlang\u001b[0m\u001b[0;34m=\u001b[0m\u001b[0;34m'en'\u001b[0m\u001b[0;34m,\u001b[0m \u001b[0mnum\u001b[0m \u001b[0;34m=\u001b[0m \u001b[0;36m1\u001b[0m\u001b[0;34m,\u001b[0m \u001b[0mstart\u001b[0m\u001b[0;34m=\u001b[0m\u001b[0;36m0\u001b[0m\u001b[0;34m,\u001b[0m \u001b[0mstop\u001b[0m \u001b[0;34m=\u001b[0m \u001b[0;36m5\u001b[0m\u001b[0;34m,\u001b[0m \u001b[0mpause\u001b[0m \u001b[0;34m=\u001b[0m \u001b[0;36m2.0\u001b[0m\u001b[0;34m)\u001b[0m\u001b[0;34m:\u001b[0m\u001b[0;34m\u001b[0m\u001b[0;34m\u001b[0m\u001b[0m\n\u001b[0m\u001b[1;32m      7\u001b[0m         \u001b[0mcurrent_results\u001b[0m\u001b[0;34m.\u001b[0m\u001b[0mappend\u001b[0m\u001b[0;34m(\u001b[0m\u001b[0mj\u001b[0m\u001b[0;34m)\u001b[0m\u001b[0;34m\u001b[0m\u001b[0;34m\u001b[0m\u001b[0m\n\u001b[1;32m      8\u001b[0m \u001b[0;34m\u001b[0m\u001b[0m\n",
      "\u001b[0;32m~/anaconda3/envs/insight/lib/python3.8/site-packages/googlesearch/__init__.py\u001b[0m in \u001b[0;36msearch\u001b[0;34m(query, tld, lang, tbs, safe, num, start, stop, pause, country, extra_params, user_agent, verify_ssl)\u001b[0m\n\u001b[1;32m    303\u001b[0m \u001b[0;34m\u001b[0m\u001b[0m\n\u001b[1;32m    304\u001b[0m         \u001b[0;31m# Request the Google Search results page.\u001b[0m\u001b[0;34m\u001b[0m\u001b[0;34m\u001b[0m\u001b[0;34m\u001b[0m\u001b[0m\n\u001b[0;32m--> 305\u001b[0;31m         \u001b[0mhtml\u001b[0m \u001b[0;34m=\u001b[0m \u001b[0mget_page\u001b[0m\u001b[0;34m(\u001b[0m\u001b[0murl\u001b[0m\u001b[0;34m,\u001b[0m \u001b[0muser_agent\u001b[0m\u001b[0;34m,\u001b[0m \u001b[0mverify_ssl\u001b[0m\u001b[0;34m)\u001b[0m\u001b[0;34m\u001b[0m\u001b[0;34m\u001b[0m\u001b[0m\n\u001b[0m\u001b[1;32m    306\u001b[0m \u001b[0;34m\u001b[0m\u001b[0m\n\u001b[1;32m    307\u001b[0m         \u001b[0;31m# Parse the response and get every anchored URL.\u001b[0m\u001b[0;34m\u001b[0m\u001b[0;34m\u001b[0m\u001b[0;34m\u001b[0m\u001b[0m\n",
      "\u001b[0;32m~/anaconda3/envs/insight/lib/python3.8/site-packages/googlesearch/__init__.py\u001b[0m in \u001b[0;36mget_page\u001b[0;34m(url, user_agent, verify_ssl)\u001b[0m\n\u001b[1;32m    172\u001b[0m     \u001b[0mcookie_jar\u001b[0m\u001b[0;34m.\u001b[0m\u001b[0madd_cookie_header\u001b[0m\u001b[0;34m(\u001b[0m\u001b[0mrequest\u001b[0m\u001b[0;34m)\u001b[0m\u001b[0;34m\u001b[0m\u001b[0;34m\u001b[0m\u001b[0m\n\u001b[1;32m    173\u001b[0m     \u001b[0;32mif\u001b[0m \u001b[0mverify_ssl\u001b[0m\u001b[0;34m:\u001b[0m\u001b[0;34m\u001b[0m\u001b[0;34m\u001b[0m\u001b[0m\n\u001b[0;32m--> 174\u001b[0;31m         \u001b[0mresponse\u001b[0m \u001b[0;34m=\u001b[0m \u001b[0murlopen\u001b[0m\u001b[0;34m(\u001b[0m\u001b[0mrequest\u001b[0m\u001b[0;34m)\u001b[0m\u001b[0;34m\u001b[0m\u001b[0;34m\u001b[0m\u001b[0m\n\u001b[0m\u001b[1;32m    175\u001b[0m     \u001b[0;32melse\u001b[0m\u001b[0;34m:\u001b[0m\u001b[0;34m\u001b[0m\u001b[0;34m\u001b[0m\u001b[0m\n\u001b[1;32m    176\u001b[0m         \u001b[0mcontext\u001b[0m \u001b[0;34m=\u001b[0m \u001b[0mssl\u001b[0m\u001b[0;34m.\u001b[0m\u001b[0m_create_unverified_context\u001b[0m\u001b[0;34m(\u001b[0m\u001b[0;34m)\u001b[0m\u001b[0;34m\u001b[0m\u001b[0;34m\u001b[0m\u001b[0m\n",
      "\u001b[0;32m~/anaconda3/envs/insight/lib/python3.8/urllib/request.py\u001b[0m in \u001b[0;36murlopen\u001b[0;34m(url, data, timeout, cafile, capath, cadefault, context)\u001b[0m\n\u001b[1;32m    220\u001b[0m     \u001b[0;32melse\u001b[0m\u001b[0;34m:\u001b[0m\u001b[0;34m\u001b[0m\u001b[0;34m\u001b[0m\u001b[0m\n\u001b[1;32m    221\u001b[0m         \u001b[0mopener\u001b[0m \u001b[0;34m=\u001b[0m \u001b[0m_opener\u001b[0m\u001b[0;34m\u001b[0m\u001b[0;34m\u001b[0m\u001b[0m\n\u001b[0;32m--> 222\u001b[0;31m     \u001b[0;32mreturn\u001b[0m \u001b[0mopener\u001b[0m\u001b[0;34m.\u001b[0m\u001b[0mopen\u001b[0m\u001b[0;34m(\u001b[0m\u001b[0murl\u001b[0m\u001b[0;34m,\u001b[0m \u001b[0mdata\u001b[0m\u001b[0;34m,\u001b[0m \u001b[0mtimeout\u001b[0m\u001b[0;34m)\u001b[0m\u001b[0;34m\u001b[0m\u001b[0;34m\u001b[0m\u001b[0m\n\u001b[0m\u001b[1;32m    223\u001b[0m \u001b[0;34m\u001b[0m\u001b[0m\n\u001b[1;32m    224\u001b[0m \u001b[0;32mdef\u001b[0m \u001b[0minstall_opener\u001b[0m\u001b[0;34m(\u001b[0m\u001b[0mopener\u001b[0m\u001b[0;34m)\u001b[0m\u001b[0;34m:\u001b[0m\u001b[0;34m\u001b[0m\u001b[0;34m\u001b[0m\u001b[0m\n",
      "\u001b[0;32m~/anaconda3/envs/insight/lib/python3.8/urllib/request.py\u001b[0m in \u001b[0;36mopen\u001b[0;34m(self, fullurl, data, timeout)\u001b[0m\n\u001b[1;32m    529\u001b[0m         \u001b[0;32mfor\u001b[0m \u001b[0mprocessor\u001b[0m \u001b[0;32min\u001b[0m \u001b[0mself\u001b[0m\u001b[0;34m.\u001b[0m\u001b[0mprocess_response\u001b[0m\u001b[0;34m.\u001b[0m\u001b[0mget\u001b[0m\u001b[0;34m(\u001b[0m\u001b[0mprotocol\u001b[0m\u001b[0;34m,\u001b[0m \u001b[0;34m[\u001b[0m\u001b[0;34m]\u001b[0m\u001b[0;34m)\u001b[0m\u001b[0;34m:\u001b[0m\u001b[0;34m\u001b[0m\u001b[0;34m\u001b[0m\u001b[0m\n\u001b[1;32m    530\u001b[0m             \u001b[0mmeth\u001b[0m \u001b[0;34m=\u001b[0m \u001b[0mgetattr\u001b[0m\u001b[0;34m(\u001b[0m\u001b[0mprocessor\u001b[0m\u001b[0;34m,\u001b[0m \u001b[0mmeth_name\u001b[0m\u001b[0;34m)\u001b[0m\u001b[0;34m\u001b[0m\u001b[0;34m\u001b[0m\u001b[0m\n\u001b[0;32m--> 531\u001b[0;31m             \u001b[0mresponse\u001b[0m \u001b[0;34m=\u001b[0m \u001b[0mmeth\u001b[0m\u001b[0;34m(\u001b[0m\u001b[0mreq\u001b[0m\u001b[0;34m,\u001b[0m \u001b[0mresponse\u001b[0m\u001b[0;34m)\u001b[0m\u001b[0;34m\u001b[0m\u001b[0;34m\u001b[0m\u001b[0m\n\u001b[0m\u001b[1;32m    532\u001b[0m \u001b[0;34m\u001b[0m\u001b[0m\n\u001b[1;32m    533\u001b[0m         \u001b[0;32mreturn\u001b[0m \u001b[0mresponse\u001b[0m\u001b[0;34m\u001b[0m\u001b[0;34m\u001b[0m\u001b[0m\n",
      "\u001b[0;32m~/anaconda3/envs/insight/lib/python3.8/urllib/request.py\u001b[0m in \u001b[0;36mhttp_response\u001b[0;34m(self, request, response)\u001b[0m\n\u001b[1;32m    638\u001b[0m         \u001b[0;31m# request was successfully received, understood, and accepted.\u001b[0m\u001b[0;34m\u001b[0m\u001b[0;34m\u001b[0m\u001b[0;34m\u001b[0m\u001b[0m\n\u001b[1;32m    639\u001b[0m         \u001b[0;32mif\u001b[0m \u001b[0;32mnot\u001b[0m \u001b[0;34m(\u001b[0m\u001b[0;36m200\u001b[0m \u001b[0;34m<=\u001b[0m \u001b[0mcode\u001b[0m \u001b[0;34m<\u001b[0m \u001b[0;36m300\u001b[0m\u001b[0;34m)\u001b[0m\u001b[0;34m:\u001b[0m\u001b[0;34m\u001b[0m\u001b[0;34m\u001b[0m\u001b[0m\n\u001b[0;32m--> 640\u001b[0;31m             response = self.parent.error(\n\u001b[0m\u001b[1;32m    641\u001b[0m                 'http', request, response, code, msg, hdrs)\n\u001b[1;32m    642\u001b[0m \u001b[0;34m\u001b[0m\u001b[0m\n",
      "\u001b[0;32m~/anaconda3/envs/insight/lib/python3.8/urllib/request.py\u001b[0m in \u001b[0;36merror\u001b[0;34m(self, proto, *args)\u001b[0m\n\u001b[1;32m    561\u001b[0m             \u001b[0mhttp_err\u001b[0m \u001b[0;34m=\u001b[0m \u001b[0;36m0\u001b[0m\u001b[0;34m\u001b[0m\u001b[0;34m\u001b[0m\u001b[0m\n\u001b[1;32m    562\u001b[0m         \u001b[0margs\u001b[0m \u001b[0;34m=\u001b[0m \u001b[0;34m(\u001b[0m\u001b[0mdict\u001b[0m\u001b[0;34m,\u001b[0m \u001b[0mproto\u001b[0m\u001b[0;34m,\u001b[0m \u001b[0mmeth_name\u001b[0m\u001b[0;34m)\u001b[0m \u001b[0;34m+\u001b[0m \u001b[0margs\u001b[0m\u001b[0;34m\u001b[0m\u001b[0;34m\u001b[0m\u001b[0m\n\u001b[0;32m--> 563\u001b[0;31m         \u001b[0mresult\u001b[0m \u001b[0;34m=\u001b[0m \u001b[0mself\u001b[0m\u001b[0;34m.\u001b[0m\u001b[0m_call_chain\u001b[0m\u001b[0;34m(\u001b[0m\u001b[0;34m*\u001b[0m\u001b[0margs\u001b[0m\u001b[0;34m)\u001b[0m\u001b[0;34m\u001b[0m\u001b[0;34m\u001b[0m\u001b[0m\n\u001b[0m\u001b[1;32m    564\u001b[0m         \u001b[0;32mif\u001b[0m \u001b[0mresult\u001b[0m\u001b[0;34m:\u001b[0m\u001b[0;34m\u001b[0m\u001b[0;34m\u001b[0m\u001b[0m\n\u001b[1;32m    565\u001b[0m             \u001b[0;32mreturn\u001b[0m \u001b[0mresult\u001b[0m\u001b[0;34m\u001b[0m\u001b[0;34m\u001b[0m\u001b[0m\n",
      "\u001b[0;32m~/anaconda3/envs/insight/lib/python3.8/urllib/request.py\u001b[0m in \u001b[0;36m_call_chain\u001b[0;34m(self, chain, kind, meth_name, *args)\u001b[0m\n\u001b[1;32m    500\u001b[0m         \u001b[0;32mfor\u001b[0m \u001b[0mhandler\u001b[0m \u001b[0;32min\u001b[0m \u001b[0mhandlers\u001b[0m\u001b[0;34m:\u001b[0m\u001b[0;34m\u001b[0m\u001b[0;34m\u001b[0m\u001b[0m\n\u001b[1;32m    501\u001b[0m             \u001b[0mfunc\u001b[0m \u001b[0;34m=\u001b[0m \u001b[0mgetattr\u001b[0m\u001b[0;34m(\u001b[0m\u001b[0mhandler\u001b[0m\u001b[0;34m,\u001b[0m \u001b[0mmeth_name\u001b[0m\u001b[0;34m)\u001b[0m\u001b[0;34m\u001b[0m\u001b[0;34m\u001b[0m\u001b[0m\n\u001b[0;32m--> 502\u001b[0;31m             \u001b[0mresult\u001b[0m \u001b[0;34m=\u001b[0m \u001b[0mfunc\u001b[0m\u001b[0;34m(\u001b[0m\u001b[0;34m*\u001b[0m\u001b[0margs\u001b[0m\u001b[0;34m)\u001b[0m\u001b[0;34m\u001b[0m\u001b[0;34m\u001b[0m\u001b[0m\n\u001b[0m\u001b[1;32m    503\u001b[0m             \u001b[0;32mif\u001b[0m \u001b[0mresult\u001b[0m \u001b[0;32mis\u001b[0m \u001b[0;32mnot\u001b[0m \u001b[0;32mNone\u001b[0m\u001b[0;34m:\u001b[0m\u001b[0;34m\u001b[0m\u001b[0;34m\u001b[0m\u001b[0m\n\u001b[1;32m    504\u001b[0m                 \u001b[0;32mreturn\u001b[0m \u001b[0mresult\u001b[0m\u001b[0;34m\u001b[0m\u001b[0;34m\u001b[0m\u001b[0m\n",
      "\u001b[0;32m~/anaconda3/envs/insight/lib/python3.8/urllib/request.py\u001b[0m in \u001b[0;36mhttp_error_302\u001b[0;34m(self, req, fp, code, msg, headers)\u001b[0m\n\u001b[1;32m    753\u001b[0m         \u001b[0mfp\u001b[0m\u001b[0;34m.\u001b[0m\u001b[0mclose\u001b[0m\u001b[0;34m(\u001b[0m\u001b[0;34m)\u001b[0m\u001b[0;34m\u001b[0m\u001b[0;34m\u001b[0m\u001b[0m\n\u001b[1;32m    754\u001b[0m \u001b[0;34m\u001b[0m\u001b[0m\n\u001b[0;32m--> 755\u001b[0;31m         \u001b[0;32mreturn\u001b[0m \u001b[0mself\u001b[0m\u001b[0;34m.\u001b[0m\u001b[0mparent\u001b[0m\u001b[0;34m.\u001b[0m\u001b[0mopen\u001b[0m\u001b[0;34m(\u001b[0m\u001b[0mnew\u001b[0m\u001b[0;34m,\u001b[0m \u001b[0mtimeout\u001b[0m\u001b[0;34m=\u001b[0m\u001b[0mreq\u001b[0m\u001b[0;34m.\u001b[0m\u001b[0mtimeout\u001b[0m\u001b[0;34m)\u001b[0m\u001b[0;34m\u001b[0m\u001b[0;34m\u001b[0m\u001b[0m\n\u001b[0m\u001b[1;32m    756\u001b[0m \u001b[0;34m\u001b[0m\u001b[0m\n\u001b[1;32m    757\u001b[0m     \u001b[0mhttp_error_301\u001b[0m \u001b[0;34m=\u001b[0m \u001b[0mhttp_error_303\u001b[0m \u001b[0;34m=\u001b[0m \u001b[0mhttp_error_307\u001b[0m \u001b[0;34m=\u001b[0m \u001b[0mhttp_error_302\u001b[0m\u001b[0;34m\u001b[0m\u001b[0;34m\u001b[0m\u001b[0m\n",
      "\u001b[0;32m~/anaconda3/envs/insight/lib/python3.8/urllib/request.py\u001b[0m in \u001b[0;36mopen\u001b[0;34m(self, fullurl, data, timeout)\u001b[0m\n\u001b[1;32m    529\u001b[0m         \u001b[0;32mfor\u001b[0m \u001b[0mprocessor\u001b[0m \u001b[0;32min\u001b[0m \u001b[0mself\u001b[0m\u001b[0;34m.\u001b[0m\u001b[0mprocess_response\u001b[0m\u001b[0;34m.\u001b[0m\u001b[0mget\u001b[0m\u001b[0;34m(\u001b[0m\u001b[0mprotocol\u001b[0m\u001b[0;34m,\u001b[0m \u001b[0;34m[\u001b[0m\u001b[0;34m]\u001b[0m\u001b[0;34m)\u001b[0m\u001b[0;34m:\u001b[0m\u001b[0;34m\u001b[0m\u001b[0;34m\u001b[0m\u001b[0m\n\u001b[1;32m    530\u001b[0m             \u001b[0mmeth\u001b[0m \u001b[0;34m=\u001b[0m \u001b[0mgetattr\u001b[0m\u001b[0;34m(\u001b[0m\u001b[0mprocessor\u001b[0m\u001b[0;34m,\u001b[0m \u001b[0mmeth_name\u001b[0m\u001b[0;34m)\u001b[0m\u001b[0;34m\u001b[0m\u001b[0;34m\u001b[0m\u001b[0m\n\u001b[0;32m--> 531\u001b[0;31m             \u001b[0mresponse\u001b[0m \u001b[0;34m=\u001b[0m \u001b[0mmeth\u001b[0m\u001b[0;34m(\u001b[0m\u001b[0mreq\u001b[0m\u001b[0;34m,\u001b[0m \u001b[0mresponse\u001b[0m\u001b[0;34m)\u001b[0m\u001b[0;34m\u001b[0m\u001b[0;34m\u001b[0m\u001b[0m\n\u001b[0m\u001b[1;32m    532\u001b[0m \u001b[0;34m\u001b[0m\u001b[0m\n\u001b[1;32m    533\u001b[0m         \u001b[0;32mreturn\u001b[0m \u001b[0mresponse\u001b[0m\u001b[0;34m\u001b[0m\u001b[0;34m\u001b[0m\u001b[0m\n",
      "\u001b[0;32m~/anaconda3/envs/insight/lib/python3.8/urllib/request.py\u001b[0m in \u001b[0;36mhttp_response\u001b[0;34m(self, request, response)\u001b[0m\n\u001b[1;32m    638\u001b[0m         \u001b[0;31m# request was successfully received, understood, and accepted.\u001b[0m\u001b[0;34m\u001b[0m\u001b[0;34m\u001b[0m\u001b[0;34m\u001b[0m\u001b[0m\n\u001b[1;32m    639\u001b[0m         \u001b[0;32mif\u001b[0m \u001b[0;32mnot\u001b[0m \u001b[0;34m(\u001b[0m\u001b[0;36m200\u001b[0m \u001b[0;34m<=\u001b[0m \u001b[0mcode\u001b[0m \u001b[0;34m<\u001b[0m \u001b[0;36m300\u001b[0m\u001b[0;34m)\u001b[0m\u001b[0;34m:\u001b[0m\u001b[0;34m\u001b[0m\u001b[0;34m\u001b[0m\u001b[0m\n\u001b[0;32m--> 640\u001b[0;31m             response = self.parent.error(\n\u001b[0m\u001b[1;32m    641\u001b[0m                 'http', request, response, code, msg, hdrs)\n\u001b[1;32m    642\u001b[0m \u001b[0;34m\u001b[0m\u001b[0m\n",
      "\u001b[0;32m~/anaconda3/envs/insight/lib/python3.8/urllib/request.py\u001b[0m in \u001b[0;36merror\u001b[0;34m(self, proto, *args)\u001b[0m\n\u001b[1;32m    567\u001b[0m         \u001b[0;32mif\u001b[0m \u001b[0mhttp_err\u001b[0m\u001b[0;34m:\u001b[0m\u001b[0;34m\u001b[0m\u001b[0;34m\u001b[0m\u001b[0m\n\u001b[1;32m    568\u001b[0m             \u001b[0margs\u001b[0m \u001b[0;34m=\u001b[0m \u001b[0;34m(\u001b[0m\u001b[0mdict\u001b[0m\u001b[0;34m,\u001b[0m \u001b[0;34m'default'\u001b[0m\u001b[0;34m,\u001b[0m \u001b[0;34m'http_error_default'\u001b[0m\u001b[0;34m)\u001b[0m \u001b[0;34m+\u001b[0m \u001b[0morig_args\u001b[0m\u001b[0;34m\u001b[0m\u001b[0;34m\u001b[0m\u001b[0m\n\u001b[0;32m--> 569\u001b[0;31m             \u001b[0;32mreturn\u001b[0m \u001b[0mself\u001b[0m\u001b[0;34m.\u001b[0m\u001b[0m_call_chain\u001b[0m\u001b[0;34m(\u001b[0m\u001b[0;34m*\u001b[0m\u001b[0margs\u001b[0m\u001b[0;34m)\u001b[0m\u001b[0;34m\u001b[0m\u001b[0;34m\u001b[0m\u001b[0m\n\u001b[0m\u001b[1;32m    570\u001b[0m \u001b[0;34m\u001b[0m\u001b[0m\n\u001b[1;32m    571\u001b[0m \u001b[0;31m# XXX probably also want an abstract factory that knows when it makes\u001b[0m\u001b[0;34m\u001b[0m\u001b[0;34m\u001b[0m\u001b[0;34m\u001b[0m\u001b[0m\n",
      "\u001b[0;32m~/anaconda3/envs/insight/lib/python3.8/urllib/request.py\u001b[0m in \u001b[0;36m_call_chain\u001b[0;34m(self, chain, kind, meth_name, *args)\u001b[0m\n\u001b[1;32m    500\u001b[0m         \u001b[0;32mfor\u001b[0m \u001b[0mhandler\u001b[0m \u001b[0;32min\u001b[0m \u001b[0mhandlers\u001b[0m\u001b[0;34m:\u001b[0m\u001b[0;34m\u001b[0m\u001b[0;34m\u001b[0m\u001b[0m\n\u001b[1;32m    501\u001b[0m             \u001b[0mfunc\u001b[0m \u001b[0;34m=\u001b[0m \u001b[0mgetattr\u001b[0m\u001b[0;34m(\u001b[0m\u001b[0mhandler\u001b[0m\u001b[0;34m,\u001b[0m \u001b[0mmeth_name\u001b[0m\u001b[0;34m)\u001b[0m\u001b[0;34m\u001b[0m\u001b[0;34m\u001b[0m\u001b[0m\n\u001b[0;32m--> 502\u001b[0;31m             \u001b[0mresult\u001b[0m \u001b[0;34m=\u001b[0m \u001b[0mfunc\u001b[0m\u001b[0;34m(\u001b[0m\u001b[0;34m*\u001b[0m\u001b[0margs\u001b[0m\u001b[0;34m)\u001b[0m\u001b[0;34m\u001b[0m\u001b[0;34m\u001b[0m\u001b[0m\n\u001b[0m\u001b[1;32m    503\u001b[0m             \u001b[0;32mif\u001b[0m \u001b[0mresult\u001b[0m \u001b[0;32mis\u001b[0m \u001b[0;32mnot\u001b[0m \u001b[0;32mNone\u001b[0m\u001b[0;34m:\u001b[0m\u001b[0;34m\u001b[0m\u001b[0;34m\u001b[0m\u001b[0m\n\u001b[1;32m    504\u001b[0m                 \u001b[0;32mreturn\u001b[0m \u001b[0mresult\u001b[0m\u001b[0;34m\u001b[0m\u001b[0;34m\u001b[0m\u001b[0m\n",
      "\u001b[0;32m~/anaconda3/envs/insight/lib/python3.8/urllib/request.py\u001b[0m in \u001b[0;36mhttp_error_default\u001b[0;34m(self, req, fp, code, msg, hdrs)\u001b[0m\n\u001b[1;32m    647\u001b[0m \u001b[0;32mclass\u001b[0m \u001b[0mHTTPDefaultErrorHandler\u001b[0m\u001b[0;34m(\u001b[0m\u001b[0mBaseHandler\u001b[0m\u001b[0;34m)\u001b[0m\u001b[0;34m:\u001b[0m\u001b[0;34m\u001b[0m\u001b[0;34m\u001b[0m\u001b[0m\n\u001b[1;32m    648\u001b[0m     \u001b[0;32mdef\u001b[0m \u001b[0mhttp_error_default\u001b[0m\u001b[0;34m(\u001b[0m\u001b[0mself\u001b[0m\u001b[0;34m,\u001b[0m \u001b[0mreq\u001b[0m\u001b[0;34m,\u001b[0m \u001b[0mfp\u001b[0m\u001b[0;34m,\u001b[0m \u001b[0mcode\u001b[0m\u001b[0;34m,\u001b[0m \u001b[0mmsg\u001b[0m\u001b[0;34m,\u001b[0m \u001b[0mhdrs\u001b[0m\u001b[0;34m)\u001b[0m\u001b[0;34m:\u001b[0m\u001b[0;34m\u001b[0m\u001b[0;34m\u001b[0m\u001b[0m\n\u001b[0;32m--> 649\u001b[0;31m         \u001b[0;32mraise\u001b[0m \u001b[0mHTTPError\u001b[0m\u001b[0;34m(\u001b[0m\u001b[0mreq\u001b[0m\u001b[0;34m.\u001b[0m\u001b[0mfull_url\u001b[0m\u001b[0;34m,\u001b[0m \u001b[0mcode\u001b[0m\u001b[0;34m,\u001b[0m \u001b[0mmsg\u001b[0m\u001b[0;34m,\u001b[0m \u001b[0mhdrs\u001b[0m\u001b[0;34m,\u001b[0m \u001b[0mfp\u001b[0m\u001b[0;34m)\u001b[0m\u001b[0;34m\u001b[0m\u001b[0;34m\u001b[0m\u001b[0m\n\u001b[0m\u001b[1;32m    650\u001b[0m \u001b[0;34m\u001b[0m\u001b[0m\n\u001b[1;32m    651\u001b[0m \u001b[0;32mclass\u001b[0m \u001b[0mHTTPRedirectHandler\u001b[0m\u001b[0;34m(\u001b[0m\u001b[0mBaseHandler\u001b[0m\u001b[0;34m)\u001b[0m\u001b[0;34m:\u001b[0m\u001b[0;34m\u001b[0m\u001b[0;34m\u001b[0m\u001b[0m\n",
      "\u001b[0;31mHTTPError\u001b[0m: HTTP Error 429: Too Many Requests"
     ]
    }
   ],
   "source": [
    "query_results = {}\n",
    "\n",
    "for ind, query in enumerate(queries):\n",
    "    current_results = []\n",
    "    \n",
    "    for j in search(query, tld='com', lang='en', num = 1, start=0, stop = 5, pause = 2.0):\n",
    "        current_results.append(j)\n",
    "        \n",
    "    query_results[all_sides_domains_test[ind]] = current_results\n",
    "    \n",
    "    "
   ]
  },
  {
   "cell_type": "code",
   "execution_count": 158,
   "metadata": {},
   "outputs": [
    {
     "name": "stdout",
     "output_type": "stream",
     "text": [
      "{'nytimes.com': ['https://www.nytimes.com/2020/03/11/business/economy/markets-plunge-coronavirus.html', 'https://www.nytimes.com/2020/03/07/business/coronavirus-stocks.html', 'https://www.nytimes.com/2020/03/09/business/stock-market-today.html', 'https://www.nytimes.com/live/2020/09/08/business/stock-market-today-coronavirus', 'https://www.nytimes.com/2020/04/08/business/live-stock-market-coronavirus.html'], 'apnews.com': [], 'reuters.com': ['https://uk.reuters.com/article/us-dowjones-newscorp-editors-1/wsj-editors-knew-of-murdoch-offer-in-advance-report-idUSN0841610820070508', 'https://in.reuters.com/article/usa-stocks/us-stocks-sp-wobbles-on-fresh-trade-uncertainty-disney-lifts-dow-idUKL2N27T1GE', 'https://www.reuters.com/article/us-ransquawk-dowjones-hotnews-lawsuit-idUSBREA4F0FE20140516', 'https://www.reuters.com/article/uk-dowjones/dow-jones-shares-surge-above-murdochs-bid-idUKN0128371520070601', 'https://www.reuters.com/article/usa-stocks/us-stocks-dow-futures-gain-on-caterpillar-earnings-idUSL4N1UQ41X'], 'wsj.com': ['https://www.wsj.com/articles/global-stock-markets-dow-update-05-18-2020-11589778000', 'https://www.wsj.com/articles/global-stock-markets-dow-update-7-15-2020-11594802644', 'https://www.wsj.com/articles/global-stock-markets-dow-update-7-20-2020-11595237456', 'https://www.wsj.com/articles/global-stock-markets-dow-update-7-22-2020-11595409287', 'https://www.wsj.com/articles/global-stock-markets-dow-update-5-19-2020-11589858790']}\n",
      "{\n",
      "    \"nytimes.com\": [\n",
      "        \"https://www.nytimes.com/2020/03/11/business/economy/markets-plunge-coronavirus.html\",\n",
      "        \"https://www.nytimes.com/2020/03/07/business/coronavirus-stocks.html\",\n",
      "        \"https://www.nytimes.com/2020/03/09/business/stock-market-today.html\",\n",
      "        \"https://www.nytimes.com/live/2020/09/08/business/stock-market-today-coronavirus\",\n",
      "        \"https://www.nytimes.com/2020/04/08/business/live-stock-market-coronavirus.html\"\n",
      "    ],\n",
      "    \"apnews.com\": [],\n",
      "    \"reuters.com\": [\n",
      "        \"https://uk.reuters.com/article/us-dowjones-newscorp-editors-1/wsj-editors-knew-of-murdoch-offer-in-advance-report-idUSN0841610820070508\",\n",
      "        \"https://in.reuters.com/article/usa-stocks/us-stocks-sp-wobbles-on-fresh-trade-uncertainty-disney-lifts-dow-idUKL2N27T1GE\",\n",
      "        \"https://www.reuters.com/article/us-ransquawk-dowjones-hotnews-lawsuit-idUSBREA4F0FE20140516\",\n",
      "        \"https://www.reuters.com/article/uk-dowjones/dow-jones-shares-surge-above-murdochs-bid-idUKN0128371520070601\",\n",
      "        \"https://www.reuters.com/article/usa-stocks/us-stocks-dow-futures-gain-on-caterpillar-earnings-idUSL4N1UQ41X\"\n",
      "    ],\n",
      "    \"wsj.com\": [\n",
      "        \"https://www.wsj.com/articles/global-stock-markets-dow-update-05-18-2020-11589778000\",\n",
      "        \"https://www.wsj.com/articles/global-stock-markets-dow-update-7-15-2020-11594802644\",\n",
      "        \"https://www.wsj.com/articles/global-stock-markets-dow-update-7-20-2020-11595237456\",\n",
      "        \"https://www.wsj.com/articles/global-stock-markets-dow-update-7-22-2020-11595409287\",\n",
      "        \"https://www.wsj.com/articles/global-stock-markets-dow-update-5-19-2020-11589858790\"\n",
      "    ]\n",
      "}\n"
     ]
    }
   ],
   "source": [
    "print(query_results)\n",
    "json_object = json.dumps(query_results, indent = 4) \n",
    "print(json_object)"
   ]
  },
  {
   "cell_type": "code",
   "execution_count": 153,
   "metadata": {},
   "outputs": [
    {
     "name": "stdout",
     "output_type": "stream",
     "text": [
      "{'nytimes.com': ['https://www.nytimes.com/2019/11/18/well/mind/when-mental-illness-is-severe.html', 'https://www.nytimes.com/2013/02/03/opinion/sunday/sunday-dialogue-treating-the-mentally-ill.html', 'https://www.nytimes.com/2003/03/04/health/behavior-revising-the-script-on-mental-illness-and-violence.html', 'https://www.nytimes.com/2015/08/29/opinion/how-to-halt-the-violence-treat-mental-illness.html', 'https://www.nytimes.com/2019/12/13/nyregion/Kirby-Forensic-Psychiatric-Center.html'], 'apnews.com': ['https://apnews.com/b0b1034de6d24fd4b0dd2f9367442449', 'https://apnews.com/a9fbf8f4f0e04b02b1431fa7d414b39c', 'https://apnews.com/a2271d537dce45b597d7db5ef230558a/US:-Care-lacking-at-troubled-Washington-psychiatric-hospital', 'https://apnews.com/befb2ad037624b94a13456ba02bf7fad', 'https://apnews.com/e60b31a60d4d453bab1ddd6e7af9f3a0'], 'reuters.com': ['https://www.reuters.com/article/us-usa-shooting-mentalyill/u-s-mentally-ill-and-their-families-face-barriers-to-care-idUSBRE8BS07O20121229?feedType=RSS&feedName=domesticNews', 'https://www.reuters.com/article/us-health-mentalillness-crime-victims-idUSKCN1IX5W2', 'https://www.reuters.com/article/us-usa-shooting-trump-guns-idUSKCN1V52H3', 'https://www.reuters.com/article/us-special-free/special-courts-help-mentally-ill-stay-crime-free-idUSHAR30209320071013', 'https://www.reuters.com/article/us-yelling-parents-teens-idUSBRE9B914020131210'], 'wsj.com': ['https://www.wsj.com/articles/mental-illness-and-mass-murder-11564955203', 'https://www.wsj.com/articles/SB121297144756555917', 'https://www.wsj.com/articles/SB10001424127887323463704578495154217291958', 'https://www.wsj.com/articles/SB902183542448858500', 'https://www.wsj.com/articles/SB117764101327484407']}\n"
     ]
    },
    {
     "data": {
      "text/html": [
       "<div>\n",
       "<style scoped>\n",
       "    .dataframe tbody tr th:only-of-type {\n",
       "        vertical-align: middle;\n",
       "    }\n",
       "\n",
       "    .dataframe tbody tr th {\n",
       "        vertical-align: top;\n",
       "    }\n",
       "\n",
       "    .dataframe thead th {\n",
       "        text-align: right;\n",
       "    }\n",
       "</style>\n",
       "<table border=\"1\" class=\"dataframe\">\n",
       "  <thead>\n",
       "    <tr style=\"text-align: right;\">\n",
       "      <th></th>\n",
       "      <th>nytimes.com</th>\n",
       "      <th>apnews.com</th>\n",
       "      <th>reuters.com</th>\n",
       "      <th>wsj.com</th>\n",
       "    </tr>\n",
       "  </thead>\n",
       "  <tbody>\n",
       "    <tr>\n",
       "      <th>0</th>\n",
       "      <td>https://www.nytimes.com/2019/11/18/well/mind/w...</td>\n",
       "      <td>https://apnews.com/b0b1034de6d24fd4b0dd2f93674...</td>\n",
       "      <td>https://www.reuters.com/article/us-usa-shootin...</td>\n",
       "      <td>https://www.wsj.com/articles/mental-illness-an...</td>\n",
       "    </tr>\n",
       "    <tr>\n",
       "      <th>1</th>\n",
       "      <td>https://www.nytimes.com/2013/02/03/opinion/sun...</td>\n",
       "      <td>https://apnews.com/a9fbf8f4f0e04b02b1431fa7d41...</td>\n",
       "      <td>https://www.reuters.com/article/us-health-ment...</td>\n",
       "      <td>https://www.wsj.com/articles/SB121297144756555917</td>\n",
       "    </tr>\n",
       "    <tr>\n",
       "      <th>2</th>\n",
       "      <td>https://www.nytimes.com/2003/03/04/health/beha...</td>\n",
       "      <td>https://apnews.com/a2271d537dce45b597d7db5ef23...</td>\n",
       "      <td>https://www.reuters.com/article/us-usa-shootin...</td>\n",
       "      <td>https://www.wsj.com/articles/SB100014241278873...</td>\n",
       "    </tr>\n",
       "    <tr>\n",
       "      <th>3</th>\n",
       "      <td>https://www.nytimes.com/2015/08/29/opinion/how...</td>\n",
       "      <td>https://apnews.com/befb2ad037624b94a13456ba02b...</td>\n",
       "      <td>https://www.reuters.com/article/us-special-fre...</td>\n",
       "      <td>https://www.wsj.com/articles/SB902183542448858500</td>\n",
       "    </tr>\n",
       "    <tr>\n",
       "      <th>4</th>\n",
       "      <td>https://www.nytimes.com/2019/12/13/nyregion/Ki...</td>\n",
       "      <td>https://apnews.com/e60b31a60d4d453bab1ddd6e7af...</td>\n",
       "      <td>https://www.reuters.com/article/us-yelling-par...</td>\n",
       "      <td>https://www.wsj.com/articles/SB117764101327484407</td>\n",
       "    </tr>\n",
       "  </tbody>\n",
       "</table>\n",
       "</div>"
      ],
      "text/plain": [
       "                                         nytimes.com  \\\n",
       "0  https://www.nytimes.com/2019/11/18/well/mind/w...   \n",
       "1  https://www.nytimes.com/2013/02/03/opinion/sun...   \n",
       "2  https://www.nytimes.com/2003/03/04/health/beha...   \n",
       "3  https://www.nytimes.com/2015/08/29/opinion/how...   \n",
       "4  https://www.nytimes.com/2019/12/13/nyregion/Ki...   \n",
       "\n",
       "                                          apnews.com  \\\n",
       "0  https://apnews.com/b0b1034de6d24fd4b0dd2f93674...   \n",
       "1  https://apnews.com/a9fbf8f4f0e04b02b1431fa7d41...   \n",
       "2  https://apnews.com/a2271d537dce45b597d7db5ef23...   \n",
       "3  https://apnews.com/befb2ad037624b94a13456ba02b...   \n",
       "4  https://apnews.com/e60b31a60d4d453bab1ddd6e7af...   \n",
       "\n",
       "                                         reuters.com  \\\n",
       "0  https://www.reuters.com/article/us-usa-shootin...   \n",
       "1  https://www.reuters.com/article/us-health-ment...   \n",
       "2  https://www.reuters.com/article/us-usa-shootin...   \n",
       "3  https://www.reuters.com/article/us-special-fre...   \n",
       "4  https://www.reuters.com/article/us-yelling-par...   \n",
       "\n",
       "                                             wsj.com  \n",
       "0  https://www.wsj.com/articles/mental-illness-an...  \n",
       "1  https://www.wsj.com/articles/SB121297144756555917  \n",
       "2  https://www.wsj.com/articles/SB100014241278873...  \n",
       "3  https://www.wsj.com/articles/SB902183542448858500  \n",
       "4  https://www.wsj.com/articles/SB117764101327484407  "
      ]
     },
     "execution_count": 153,
     "metadata": {},
     "output_type": "execute_result"
    }
   ],
   "source": [
    "query_results_df = pd.DataFrame.from_dict(query_results)\n",
    "query_results_df.head()"
   ]
  },
  {
   "cell_type": "code",
   "execution_count": 121,
   "metadata": {},
   "outputs": [
    {
     "name": "stdout",
     "output_type": "stream",
     "text": [
      "{\"0\":{\"nytimes.com\":\"https:\\/\\/www.nytimes.com\\/2019\\/11\\/18\\/well\\/mind\\/when-mental-illness-is-severe.html\",\"apnews.com\":\"https:\\/\\/apnews.com\\/b0b1034de6d24fd4b0dd2f9367442449\",\"reuters.com\":\"https:\\/\\/www.reuters.com\\/article\\/us-usa-shooting-mentalyill\\/u-s-mentally-ill-and-their-families-face-barriers-to-care-idUSBRE8BS07O20121229?feedType=RSS&feedName=domesticNews\",\"wsj.com\":\"https:\\/\\/www.wsj.com\\/articles\\/mental-illness-and-mass-murder-11564955203\"},\"1\":{\"nytimes.com\":\"https:\\/\\/www.nytimes.com\\/2013\\/02\\/03\\/opinion\\/sunday\\/sunday-dialogue-treating-the-mentally-ill.html\",\"apnews.com\":\"https:\\/\\/apnews.com\\/a9fbf8f4f0e04b02b1431fa7d414b39c\",\"reuters.com\":\"https:\\/\\/www.reuters.com\\/article\\/us-health-mentalillness-crime-victims-idUSKCN1IX5W2\",\"wsj.com\":\"https:\\/\\/www.wsj.com\\/articles\\/SB121297144756555917\"},\"2\":{\"nytimes.com\":\"https:\\/\\/www.nytimes.com\\/2003\\/03\\/04\\/health\\/behavior-revising-the-script-on-mental-illness-and-violence.html\",\"apnews.com\":\"https:\\/\\/apnews.com\\/e60b31a60d4d453bab1ddd6e7af9f3a0\",\"reuters.com\":\"https:\\/\\/www.reuters.com\\/article\\/us-usa-shooting-trump-guns-idUSKCN1V52H3\",\"wsj.com\":\"https:\\/\\/www.wsj.com\\/articles\\/SB10001424127887323463704578495154217291958\"},\"3\":{\"nytimes.com\":\"https:\\/\\/www.nytimes.com\\/2015\\/08\\/29\\/opinion\\/how-to-halt-the-violence-treat-mental-illness.html\",\"apnews.com\":\"https:\\/\\/apnews.com\\/a2271d537dce45b597d7db5ef230558a\\/US:-Care-lacking-at-troubled-Washington-psychiatric-hospital\",\"reuters.com\":\"https:\\/\\/www.reuters.com\\/article\\/us-special-free\\/special-courts-help-mentally-ill-stay-crime-free-idUSHAR30209320071013\",\"wsj.com\":\"https:\\/\\/www.wsj.com\\/articles\\/SB902183542448858500\"},\"4\":{\"nytimes.com\":\"https:\\/\\/www.nytimes.com\\/2019\\/12\\/13\\/nyregion\\/Kirby-Forensic-Psychiatric-Center.html\",\"apnews.com\":\"https:\\/\\/apnews.com\\/d45a482b771b4c0bb2fa5a16067763d5\",\"reuters.com\":\"https:\\/\\/www.reuters.com\\/article\\/us-yelling-parents-teens-idUSBRE9B914020131210\",\"wsj.com\":\"https:\\/\\/www.wsj.com\\/articles\\/SB117764101327484407\"}}\n"
     ]
    }
   ],
   "source": [
    "# Serializing json    \n",
    "json_object = json.dumps(query_results, indent = 4)   \n",
    "# json_object = json.dumps(topics_frequency_dict, indent = 4)\n",
    "# print(json_object)  \n",
    "\n",
    "json_object_df = query_results_df.to_json(orient='index')\n",
    "print(json_object_df)\n",
    "# print(all_sides_names_domains)\n",
    "# all_news_df.apply(lambda x: len(x['content'].split(' ')),axis=1)"
   ]
  },
  {
   "cell_type": "code",
   "execution_count": 125,
   "metadata": {},
   "outputs": [
    {
     "ename": "TypeError",
     "evalue": "string indices must be integers",
     "output_type": "error",
     "traceback": [
      "\u001b[0;31m---------------------------------------------------------------------------\u001b[0m",
      "\u001b[0;31mTypeError\u001b[0m                                 Traceback (most recent call last)",
      "\u001b[0;32m<ipython-input-125-3024c4532b68>\u001b[0m in \u001b[0;36m<module>\u001b[0;34m\u001b[0m\n\u001b[0;32m----> 1\u001b[0;31m \u001b[0mjson_object_df\u001b[0m\u001b[0;34m[\u001b[0m\u001b[0;34m\"0\"\u001b[0m\u001b[0;34m]\u001b[0m\u001b[0;34m\u001b[0m\u001b[0;34m\u001b[0m\u001b[0m\n\u001b[0m",
      "\u001b[0;31mTypeError\u001b[0m: string indices must be integers"
     ]
    }
   ],
   "source": [
    "json_object_df[\"0\"]"
   ]
  },
  {
   "cell_type": "code",
   "execution_count": 55,
   "metadata": {},
   "outputs": [
    {
     "name": "stdout",
     "output_type": "stream",
     "text": [
      "site:abcnews.go.com reverse driver vance calderazzo bikers\n",
      "ABC News (Online)\n",
      " \n",
      "site:aljazeera.com reverse driver vance calderazzo bikers\n",
      "Al Jazeera\n",
      " \n",
      "site:apnews.com reverse driver vance calderazzo bikers\n",
      "Associated Press\n",
      " \n",
      "site:bbc.com reverse driver vance calderazzo bikers\n",
      "BBC News\n",
      " \n",
      "site:bloomberg.com reverse driver vance calderazzo bikers\n",
      "Bloomberg\n",
      " \n",
      "site:breitbart.com reverse driver vance calderazzo bikers\n",
      "Breitbart News\n",
      " \n",
      "site:buzzfeednews.com reverse driver vance calderazzo bikers\n",
      "BuzzFeed News\n",
      " \n",
      "site:cbn.com reverse driver vance calderazzo bikers\n",
      "CBN\n",
      " \n",
      "site:cbsnews.com reverse driver vance calderazzo bikers\n",
      "CBS News\n",
      " \n",
      "site:csmonitor.com reverse driver vance calderazzo bikers\n",
      "Christian Science Monitor\n",
      " \n",
      "site:cnn.com reverse driver vance calderazzo bikers\n",
      "CNN (Web News)\n",
      " \n",
      "site:thedailybeast.com reverse driver vance calderazzo bikers\n",
      "Daily Beast\n",
      " \n",
      "site:democracynow.org reverse driver vance calderazzo bikers\n",
      "Democracy Now\n",
      " \n",
      "site:factcheck.org reverse driver vance calderazzo bikers\n",
      "FactCheck.org\n",
      " \n",
      "site:forbes.com reverse driver vance calderazzo bikers\n",
      "Forbes\n",
      " \n",
      "site:foxnews.com reverse driver vance calderazzo bikers\n",
      "Fox News (Online)\n",
      " \n",
      "site:huffpost.com reverse driver vance calderazzo bikers\n",
      "HuffPost\n",
      " \n",
      "site:motherjones.com reverse driver vance calderazzo bikers\n",
      "Mother Jones\n",
      " \n",
      "site:msnbc.com reverse driver vance calderazzo bikers\n",
      "MSNBC\n",
      " \n",
      "site:nationalreview.com reverse driver vance calderazzo bikers\n",
      "National Review\n",
      " \n",
      "site:nbcnews.com reverse driver vance calderazzo bikers\n",
      "NBC News (Online)\n",
      " \n",
      "site:nypost.com reverse driver vance calderazzo bikers\n",
      "New York Post\n",
      " \n",
      "site:nytimes.com reverse driver vance calderazzo bikers\n",
      "New York Times (Online News)\n",
      " \n",
      "site:newsmax.com reverse driver vance calderazzo bikers\n",
      "Newsmax - News\n",
      " \n",
      "site:npr.org reverse driver vance calderazzo bikers\n",
      "NPR Online News\n",
      " \n",
      "site:politico.com reverse driver vance calderazzo bikers\n",
      "Politico\n",
      " \n",
      "site:reason.com reverse driver vance calderazzo bikers\n",
      "Reason\n",
      " \n",
      "site:reuters.com reverse driver vance calderazzo bikers\n",
      "Reuters\n",
      " \n",
      "site:salon.com reverse driver vance calderazzo bikers\n",
      "Salon\n",
      " \n",
      "site:spectator.org reverse driver vance calderazzo bikers\n",
      "The American Spectator\n",
      " \n",
      "site:theatlantic.com reverse driver vance calderazzo bikers\n",
      "The Atlantic\n",
      " \n",
      "site:theguardian.com reverse driver vance calderazzo bikers\n",
      "The Guardian\n",
      " \n",
      "site:thehill.com reverse driver vance calderazzo bikers\n",
      "The Hill\n",
      " \n",
      "site:wsj.com reverse driver vance calderazzo bikers\n",
      "The Wall Street Journal\n",
      " \n"
     ]
    }
   ],
   "source": [
    "for ind, query in enumerate(queries):\n",
    "    print(query)\n",
    "    print(all_sides_names.iloc[ind])\n",
    "    print(' ')"
   ]
  },
  {
   "cell_type": "code",
   "execution_count": null,
   "metadata": {},
   "outputs": [],
   "source": [
    "str(lda_top_topic_words)"
   ]
  },
  {
   "cell_type": "code",
   "execution_count": null,
   "metadata": {},
   "outputs": [],
   "source": [
    "article_text[0]"
   ]
  },
  {
   "cell_type": "code",
   "execution_count": null,
   "metadata": {},
   "outputs": [],
   "source": []
  }
 ],
 "metadata": {
  "kernelspec": {
   "display_name": "Python 3",
   "language": "python",
   "name": "python3"
  },
  "language_info": {
   "codemirror_mode": {
    "name": "ipython",
    "version": 3
   },
   "file_extension": ".py",
   "mimetype": "text/x-python",
   "name": "python",
   "nbconvert_exporter": "python",
   "pygments_lexer": "ipython3",
   "version": "3.8.5"
  }
 },
 "nbformat": 4,
 "nbformat_minor": 4
}
