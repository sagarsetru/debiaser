{
 "cells": [
  {
   "cell_type": "markdown",
   "metadata": {},
   "source": [
    "# EDA of All Sides Media rating for 'debiaser' data product\n",
    "#### Sagar Setru, September 21th, 2020"
   ]
  },
  {
   "cell_type": "markdown",
   "metadata": {},
   "source": [
    "## Brief description using CoNVO framework"
   ]
  },
  {
   "cell_type": "markdown",
   "metadata": {},
   "source": [
    "### Context\n",
    "\n",
    "Some people are eager to get news from outside of their echo chamber. However, they do not know where to go outside of their echo chambers, and may also have some activation energy when it comes to seeking information from other sources. In the meantime, most newsfeeds only push you content that you agree with. You end up in an echo chamber, but may not have ever wanted to be in one in the first place."
   ]
  },
  {
   "cell_type": "markdown",
   "metadata": {},
   "source": [
    "### Need\n",
    "\n",
    "A way to find news articles from different yet reliable media sources."
   ]
  },
  {
   "cell_type": "markdown",
   "metadata": {},
   "source": [
    "### Vision\n",
    "\n",
    "Debiaser, a data product (maybe Chrome plug-in?) that will recommend news articles similar in topic to the one currently being read, but from several pre-curated and reliable news media organizations across the political spectrum, for example, following the \"media bias chart\" here https://www.adfontesmedia.com/ or the \"media bias ratings\" here: https://www.allsides.com/media-bias/media-bias-ratings. The app will determine the main topics of the text of a news article, and then show links to similar articles from other news organizations.\n",
    "\n",
    "The product will generate topics for a given document via latent Dirichlet allocation (LDA) and then search news websites for the topic words generated.\n",
    "\n",
    "Caveats: Many of these articles may be behind paywalls. News aggregators already basically do this. How different is this than just searching Google using the title of an article?"
   ]
  },
  {
   "cell_type": "markdown",
   "metadata": {},
   "source": [
    "### Outcome\n",
    "\n",
    "People who are motivated to engage in content outside of their echo chambers have a tool that enables them to quickly find news similar to what they are currently reading, but from a variety of news organizations."
   ]
  },
  {
   "cell_type": "code",
   "execution_count": 86,
   "metadata": {},
   "outputs": [],
   "source": [
    "import pandas as pd\n",
    "import seaborn as sns\n",
    "import matplotlib.pyplot as plt\n",
    "import numpy as np\n",
    "import os"
   ]
  },
  {
   "cell_type": "code",
   "execution_count": 87,
   "metadata": {},
   "outputs": [
    {
     "name": "stdout",
     "output_type": "stream",
     "text": [
      "Conda environment:\n",
      "insight\n"
     ]
    }
   ],
   "source": [
    "# make sure I'm in the right environment (should be 'insight')\n",
    "print('Conda environment:')\n",
    "print(os.environ['CONDA_DEFAULT_ENV'])"
   ]
  },
  {
   "cell_type": "code",
   "execution_count": 4,
   "metadata": {},
   "outputs": [],
   "source": [
    "# get the entire news csv into data frame\n",
    "\n",
    "# get file name\n",
    "fname = './all_sides_media_data/allsides.csv'\n",
    "\n",
    "# load into data frame\n",
    "all_sides_df = pd.read_csv(fname)"
   ]
  },
  {
   "cell_type": "code",
   "execution_count": 5,
   "metadata": {},
   "outputs": [
    {
     "data": {
      "text/html": [
       "<div>\n",
       "<style scoped>\n",
       "    .dataframe tbody tr th:only-of-type {\n",
       "        vertical-align: middle;\n",
       "    }\n",
       "\n",
       "    .dataframe tbody tr th {\n",
       "        vertical-align: top;\n",
       "    }\n",
       "\n",
       "    .dataframe thead th {\n",
       "        text-align: right;\n",
       "    }\n",
       "</style>\n",
       "<table border=\"1\" class=\"dataframe\">\n",
       "  <thead>\n",
       "    <tr style=\"text-align: right;\">\n",
       "      <th></th>\n",
       "      <th>agree</th>\n",
       "      <th>agree_ratio</th>\n",
       "      <th>agreeance_text</th>\n",
       "      <th>allsides_page</th>\n",
       "      <th>bias</th>\n",
       "      <th>disagree</th>\n",
       "      <th>name</th>\n",
       "      <th>total_votes</th>\n",
       "    </tr>\n",
       "  </thead>\n",
       "  <tbody>\n",
       "    <tr>\n",
       "      <th>0</th>\n",
       "      <td>21052</td>\n",
       "      <td>1.680530</td>\n",
       "      <td>Agrees</td>\n",
       "      <td>https://www.allsides.com/news-source/abc-news-...</td>\n",
       "      <td>left-center</td>\n",
       "      <td>12527</td>\n",
       "      <td>ABC News (Online)</td>\n",
       "      <td>33579</td>\n",
       "    </tr>\n",
       "    <tr>\n",
       "      <th>1</th>\n",
       "      <td>80</td>\n",
       "      <td>2.857143</td>\n",
       "      <td>Strongly Agrees</td>\n",
       "      <td>https://www.allsides.com/news-source/above-law...</td>\n",
       "      <td>left-center</td>\n",
       "      <td>28</td>\n",
       "      <td>Above The Law</td>\n",
       "      <td>108</td>\n",
       "    </tr>\n",
       "    <tr>\n",
       "      <th>2</th>\n",
       "      <td>223</td>\n",
       "      <td>1.581560</td>\n",
       "      <td>Agrees</td>\n",
       "      <td>https://www.allsides.com/news-source/abridge-n...</td>\n",
       "      <td>allsides</td>\n",
       "      <td>141</td>\n",
       "      <td>Abridge News</td>\n",
       "      <td>364</td>\n",
       "    </tr>\n",
       "    <tr>\n",
       "      <th>3</th>\n",
       "      <td>263</td>\n",
       "      <td>2.481132</td>\n",
       "      <td>Strongly Agrees</td>\n",
       "      <td>https://www.allsides.com/news-source/aj-media-...</td>\n",
       "      <td>left</td>\n",
       "      <td>106</td>\n",
       "      <td>AJ+</td>\n",
       "      <td>369</td>\n",
       "    </tr>\n",
       "    <tr>\n",
       "      <th>4</th>\n",
       "      <td>4217</td>\n",
       "      <td>0.631382</td>\n",
       "      <td>Disagrees</td>\n",
       "      <td>https://www.allsides.com/news-source/al-jazeer...</td>\n",
       "      <td>left-center</td>\n",
       "      <td>6679</td>\n",
       "      <td>Al Jazeera</td>\n",
       "      <td>10896</td>\n",
       "    </tr>\n",
       "  </tbody>\n",
       "</table>\n",
       "</div>"
      ],
      "text/plain": [
       "   agree  agree_ratio   agreeance_text  \\\n",
       "0  21052     1.680530           Agrees   \n",
       "1     80     2.857143  Strongly Agrees   \n",
       "2    223     1.581560           Agrees   \n",
       "3    263     2.481132  Strongly Agrees   \n",
       "4   4217     0.631382        Disagrees   \n",
       "\n",
       "                                       allsides_page         bias  disagree  \\\n",
       "0  https://www.allsides.com/news-source/abc-news-...  left-center     12527   \n",
       "1  https://www.allsides.com/news-source/above-law...  left-center        28   \n",
       "2  https://www.allsides.com/news-source/abridge-n...     allsides       141   \n",
       "3  https://www.allsides.com/news-source/aj-media-...         left       106   \n",
       "4  https://www.allsides.com/news-source/al-jazeer...  left-center      6679   \n",
       "\n",
       "                name  total_votes  \n",
       "0  ABC News (Online)        33579  \n",
       "1      Above The Law          108  \n",
       "2       Abridge News          364  \n",
       "3                AJ+          369  \n",
       "4         Al Jazeera        10896  "
      ]
     },
     "execution_count": 5,
     "metadata": {},
     "output_type": "execute_result"
    }
   ],
   "source": [
    "all_sides_df.head()"
   ]
  },
  {
   "cell_type": "code",
   "execution_count": 6,
   "metadata": {},
   "outputs": [
    {
     "data": {
      "text/plain": [
       "agree             0\n",
       "agree_ratio       0\n",
       "agreeance_text    0\n",
       "allsides_page     0\n",
       "bias              0\n",
       "disagree          0\n",
       "name              0\n",
       "total_votes       0\n",
       "dtype: int64"
      ]
     },
     "execution_count": 6,
     "metadata": {},
     "output_type": "execute_result"
    }
   ],
   "source": [
    "# get number of nan\n",
    "all_sides_df.isnull().sum()"
   ]
  },
  {
   "cell_type": "code",
   "execution_count": 10,
   "metadata": {},
   "outputs": [
    {
     "data": {
      "text/plain": [
       "(300, 8)"
      ]
     },
     "execution_count": 10,
     "metadata": {},
     "output_type": "execute_result"
    }
   ],
   "source": [
    "all_sides_df.shape"
   ]
  },
  {
   "cell_type": "markdown",
   "metadata": {},
   "source": [
    "There are 300 news media organizations represented. That's a lot to choose from."
   ]
  },
  {
   "cell_type": "code",
   "execution_count": 11,
   "metadata": {},
   "outputs": [
    {
     "data": {
      "text/plain": [
       "True"
      ]
     },
     "execution_count": 11,
     "metadata": {},
     "output_type": "execute_result"
    }
   ],
   "source": [
    "# confirm all media organizations are only shown once\n",
    "all_sides_df['name'].is_unique"
   ]
  },
  {
   "cell_type": "code",
   "execution_count": 15,
   "metadata": {},
   "outputs": [
    {
     "data": {
      "image/png": "[encoded data removed]",
      "text/plain": [
       "<Figure size 720x360 with 1 Axes>"
      ]
     },
     "metadata": {
      "needs_background": "light"
     },
     "output_type": "display_data"
    },
    {
     "data": {
      "text/plain": [
       "<Figure size 432x288 with 0 Axes>"
      ]
     },
     "metadata": {},
     "output_type": "display_data"
    }
   ],
   "source": [
    "# plot histograms of bias across publications\n",
    "\n",
    "plt.figure(figsize=(10,5));\n",
    "sns.countplot(all_sides_df['bias'],order=['left','left-center','center','right-center','right','allsides'])\n",
    "plt.ylabel('N');\n",
    "sns.set_context('talk', font_scale=1.5);\n",
    "plt.xticks(rotation=90);\n",
    "plt.show();\n",
    "plt.clf();"
   ]
  },
  {
   "cell_type": "code",
   "execution_count": 64,
   "metadata": {},
   "outputs": [
    {
     "data": {
      "image/png": "[encoded data removed]",
      "text/plain": [
       "<Figure size 720x360 with 1 Axes>"
      ]
     },
     "metadata": {
      "needs_background": "light"
     },
     "output_type": "display_data"
    },
    {
     "data": {
      "text/plain": [
       "<Figure size 432x288 with 0 Axes>"
      ]
     },
     "metadata": {},
     "output_type": "display_data"
    }
   ],
   "source": [
    "plt.figure(figsize=(10,5));\n",
    "sns.countplot(all_sides_df['agreeance_text'],order=['Absolutely Disagrees','Strongly Disagrees','Disagrees','Somewhat Disagrees','Neutral','Somehwat Agrees','Agrees','Strongly Agrees','Absolutely Agrees'])\n",
    "plt.ylabel('N');\n",
    "sns.set_context('talk', font_scale=1.5);\n",
    "plt.xticks(rotation=90);\n",
    "plt.show();\n",
    "plt.clf();"
   ]
  },
  {
   "cell_type": "markdown",
   "metadata": {},
   "source": [
    "We see that most vote tallies somewhat disagree with the given rating."
   ]
  },
  {
   "cell_type": "code",
   "execution_count": 16,
   "metadata": {},
   "outputs": [],
   "source": [
    "# what are the 'allsides ratings?'\n",
    "\n",
    "all_sides_df_all_sides_rating = all_sides_df.loc[all_sides_df['bias']=='allsides']"
   ]
  },
  {
   "cell_type": "code",
   "execution_count": 17,
   "metadata": {},
   "outputs": [
    {
     "data": {
      "text/html": [
       "<div>\n",
       "<style scoped>\n",
       "    .dataframe tbody tr th:only-of-type {\n",
       "        vertical-align: middle;\n",
       "    }\n",
       "\n",
       "    .dataframe tbody tr th {\n",
       "        vertical-align: top;\n",
       "    }\n",
       "\n",
       "    .dataframe thead th {\n",
       "        text-align: right;\n",
       "    }\n",
       "</style>\n",
       "<table border=\"1\" class=\"dataframe\">\n",
       "  <thead>\n",
       "    <tr style=\"text-align: right;\">\n",
       "      <th></th>\n",
       "      <th>agree</th>\n",
       "      <th>agree_ratio</th>\n",
       "      <th>agreeance_text</th>\n",
       "      <th>allsides_page</th>\n",
       "      <th>bias</th>\n",
       "      <th>disagree</th>\n",
       "      <th>name</th>\n",
       "      <th>total_votes</th>\n",
       "    </tr>\n",
       "  </thead>\n",
       "  <tbody>\n",
       "    <tr>\n",
       "      <th>2</th>\n",
       "      <td>223</td>\n",
       "      <td>1.581560</td>\n",
       "      <td>Agrees</td>\n",
       "      <td>https://www.allsides.com/news-source/abridge-n...</td>\n",
       "      <td>allsides</td>\n",
       "      <td>141</td>\n",
       "      <td>Abridge News</td>\n",
       "      <td>364</td>\n",
       "    </tr>\n",
       "    <tr>\n",
       "      <th>5</th>\n",
       "      <td>3686</td>\n",
       "      <td>2.482155</td>\n",
       "      <td>Strongly Agrees</td>\n",
       "      <td>https://www.allsides.com/news-source/allsides</td>\n",
       "      <td>allsides</td>\n",
       "      <td>1485</td>\n",
       "      <td>AllSides</td>\n",
       "      <td>5171</td>\n",
       "    </tr>\n",
       "    <tr>\n",
       "      <th>6</th>\n",
       "      <td>2368</td>\n",
       "      <td>1.684211</td>\n",
       "      <td>Agrees</td>\n",
       "      <td>https://www.allsides.com/news-source/allsides-...</td>\n",
       "      <td>allsides</td>\n",
       "      <td>1406</td>\n",
       "      <td>AllSides Community</td>\n",
       "      <td>3774</td>\n",
       "    </tr>\n",
       "    <tr>\n",
       "      <th>33</th>\n",
       "      <td>86</td>\n",
       "      <td>1.264706</td>\n",
       "      <td>Somewhat Agrees</td>\n",
       "      <td>https://www.allsides.com/news-source/braver-an...</td>\n",
       "      <td>allsides</td>\n",
       "      <td>68</td>\n",
       "      <td>Braver Angels</td>\n",
       "      <td>154</td>\n",
       "    </tr>\n",
       "    <tr>\n",
       "      <th>68</th>\n",
       "      <td>387</td>\n",
       "      <td>1.090141</td>\n",
       "      <td>Somewhat Agrees</td>\n",
       "      <td>https://www.allsides.com/news-source/counterpo...</td>\n",
       "      <td>allsides</td>\n",
       "      <td>355</td>\n",
       "      <td>Counterpointing</td>\n",
       "      <td>742</td>\n",
       "    </tr>\n",
       "  </tbody>\n",
       "</table>\n",
       "</div>"
      ],
      "text/plain": [
       "    agree  agree_ratio   agreeance_text  \\\n",
       "2     223     1.581560           Agrees   \n",
       "5    3686     2.482155  Strongly Agrees   \n",
       "6    2368     1.684211           Agrees   \n",
       "33     86     1.264706  Somewhat Agrees   \n",
       "68    387     1.090141  Somewhat Agrees   \n",
       "\n",
       "                                        allsides_page      bias  disagree  \\\n",
       "2   https://www.allsides.com/news-source/abridge-n...  allsides       141   \n",
       "5       https://www.allsides.com/news-source/allsides  allsides      1485   \n",
       "6   https://www.allsides.com/news-source/allsides-...  allsides      1406   \n",
       "33  https://www.allsides.com/news-source/braver-an...  allsides        68   \n",
       "68  https://www.allsides.com/news-source/counterpo...  allsides       355   \n",
       "\n",
       "                  name  total_votes  \n",
       "2         Abridge News          364  \n",
       "5             AllSides         5171  \n",
       "6   AllSides Community         3774  \n",
       "33       Braver Angels          154  \n",
       "68     Counterpointing          742  "
      ]
     },
     "execution_count": 17,
     "metadata": {},
     "output_type": "execute_result"
    }
   ],
   "source": [
    "all_sides_df_all_sides_rating.head()"
   ]
  },
  {
   "cell_type": "code",
   "execution_count": 18,
   "metadata": {},
   "outputs": [
    {
     "data": {
      "text/plain": [
       "(10, 8)"
      ]
     },
     "execution_count": 18,
     "metadata": {},
     "output_type": "execute_result"
    }
   ],
   "source": [
    "all_sides_df_all_sides_rating.shape"
   ]
  },
  {
   "cell_type": "code",
   "execution_count": 20,
   "metadata": {},
   "outputs": [
    {
     "data": {
      "text/html": [
       "<div>\n",
       "<style scoped>\n",
       "    .dataframe tbody tr th:only-of-type {\n",
       "        vertical-align: middle;\n",
       "    }\n",
       "\n",
       "    .dataframe tbody tr th {\n",
       "        vertical-align: top;\n",
       "    }\n",
       "\n",
       "    .dataframe thead th {\n",
       "        text-align: right;\n",
       "    }\n",
       "</style>\n",
       "<table border=\"1\" class=\"dataframe\">\n",
       "  <thead>\n",
       "    <tr style=\"text-align: right;\">\n",
       "      <th></th>\n",
       "      <th>agree</th>\n",
       "      <th>agree_ratio</th>\n",
       "      <th>agreeance_text</th>\n",
       "      <th>allsides_page</th>\n",
       "      <th>bias</th>\n",
       "      <th>disagree</th>\n",
       "      <th>name</th>\n",
       "      <th>total_votes</th>\n",
       "    </tr>\n",
       "  </thead>\n",
       "  <tbody>\n",
       "    <tr>\n",
       "      <th>2</th>\n",
       "      <td>223</td>\n",
       "      <td>1.581560</td>\n",
       "      <td>Agrees</td>\n",
       "      <td>https://www.allsides.com/news-source/abridge-n...</td>\n",
       "      <td>allsides</td>\n",
       "      <td>141</td>\n",
       "      <td>Abridge News</td>\n",
       "      <td>364</td>\n",
       "    </tr>\n",
       "    <tr>\n",
       "      <th>5</th>\n",
       "      <td>3686</td>\n",
       "      <td>2.482155</td>\n",
       "      <td>Strongly Agrees</td>\n",
       "      <td>https://www.allsides.com/news-source/allsides</td>\n",
       "      <td>allsides</td>\n",
       "      <td>1485</td>\n",
       "      <td>AllSides</td>\n",
       "      <td>5171</td>\n",
       "    </tr>\n",
       "    <tr>\n",
       "      <th>6</th>\n",
       "      <td>2368</td>\n",
       "      <td>1.684211</td>\n",
       "      <td>Agrees</td>\n",
       "      <td>https://www.allsides.com/news-source/allsides-...</td>\n",
       "      <td>allsides</td>\n",
       "      <td>1406</td>\n",
       "      <td>AllSides Community</td>\n",
       "      <td>3774</td>\n",
       "    </tr>\n",
       "    <tr>\n",
       "      <th>33</th>\n",
       "      <td>86</td>\n",
       "      <td>1.264706</td>\n",
       "      <td>Somewhat Agrees</td>\n",
       "      <td>https://www.allsides.com/news-source/braver-an...</td>\n",
       "      <td>allsides</td>\n",
       "      <td>68</td>\n",
       "      <td>Braver Angels</td>\n",
       "      <td>154</td>\n",
       "    </tr>\n",
       "    <tr>\n",
       "      <th>68</th>\n",
       "      <td>387</td>\n",
       "      <td>1.090141</td>\n",
       "      <td>Somewhat Agrees</td>\n",
       "      <td>https://www.allsides.com/news-source/counterpo...</td>\n",
       "      <td>allsides</td>\n",
       "      <td>355</td>\n",
       "      <td>Counterpointing</td>\n",
       "      <td>742</td>\n",
       "    </tr>\n",
       "    <tr>\n",
       "      <th>152</th>\n",
       "      <td>146</td>\n",
       "      <td>1.206612</td>\n",
       "      <td>Somewhat Agrees</td>\n",
       "      <td>https://www.allsides.com/news-source/listen-fi...</td>\n",
       "      <td>allsides</td>\n",
       "      <td>121</td>\n",
       "      <td>Listen First Project</td>\n",
       "      <td>267</td>\n",
       "    </tr>\n",
       "    <tr>\n",
       "      <th>169</th>\n",
       "      <td>99</td>\n",
       "      <td>0.883929</td>\n",
       "      <td>Somewhat Disagrees</td>\n",
       "      <td>https://www.allsides.com/news-source/mismatcho...</td>\n",
       "      <td>allsides</td>\n",
       "      <td>112</td>\n",
       "      <td>Mismatch.org</td>\n",
       "      <td>211</td>\n",
       "    </tr>\n",
       "    <tr>\n",
       "      <th>257</th>\n",
       "      <td>84</td>\n",
       "      <td>1.166667</td>\n",
       "      <td>Somewhat Agrees</td>\n",
       "      <td>https://www.allsides.com/news-source/storycorp...</td>\n",
       "      <td>allsides</td>\n",
       "      <td>72</td>\n",
       "      <td>StoryCorps</td>\n",
       "      <td>156</td>\n",
       "    </tr>\n",
       "    <tr>\n",
       "      <th>259</th>\n",
       "      <td>161</td>\n",
       "      <td>0.847368</td>\n",
       "      <td>Somewhat Disagrees</td>\n",
       "      <td>https://www.allsides.com/news-source/suspend-b...</td>\n",
       "      <td>allsides</td>\n",
       "      <td>190</td>\n",
       "      <td>Suspend Belief Podcast</td>\n",
       "      <td>351</td>\n",
       "    </tr>\n",
       "    <tr>\n",
       "      <th>288</th>\n",
       "      <td>343</td>\n",
       "      <td>1.299242</td>\n",
       "      <td>Somewhat Agrees</td>\n",
       "      <td>https://www.allsides.com/news-source/flip-side...</td>\n",
       "      <td>allsides</td>\n",
       "      <td>264</td>\n",
       "      <td>The Flip Side</td>\n",
       "      <td>607</td>\n",
       "    </tr>\n",
       "  </tbody>\n",
       "</table>\n",
       "</div>"
      ],
      "text/plain": [
       "     agree  agree_ratio      agreeance_text  \\\n",
       "2      223     1.581560              Agrees   \n",
       "5     3686     2.482155     Strongly Agrees   \n",
       "6     2368     1.684211              Agrees   \n",
       "33      86     1.264706     Somewhat Agrees   \n",
       "68     387     1.090141     Somewhat Agrees   \n",
       "152    146     1.206612     Somewhat Agrees   \n",
       "169     99     0.883929  Somewhat Disagrees   \n",
       "257     84     1.166667     Somewhat Agrees   \n",
       "259    161     0.847368  Somewhat Disagrees   \n",
       "288    343     1.299242     Somewhat Agrees   \n",
       "\n",
       "                                         allsides_page      bias  disagree  \\\n",
       "2    https://www.allsides.com/news-source/abridge-n...  allsides       141   \n",
       "5        https://www.allsides.com/news-source/allsides  allsides      1485   \n",
       "6    https://www.allsides.com/news-source/allsides-...  allsides      1406   \n",
       "33   https://www.allsides.com/news-source/braver-an...  allsides        68   \n",
       "68   https://www.allsides.com/news-source/counterpo...  allsides       355   \n",
       "152  https://www.allsides.com/news-source/listen-fi...  allsides       121   \n",
       "169  https://www.allsides.com/news-source/mismatcho...  allsides       112   \n",
       "257  https://www.allsides.com/news-source/storycorp...  allsides        72   \n",
       "259  https://www.allsides.com/news-source/suspend-b...  allsides       190   \n",
       "288  https://www.allsides.com/news-source/flip-side...  allsides       264   \n",
       "\n",
       "                       name  total_votes  \n",
       "2              Abridge News          364  \n",
       "5                  AllSides         5171  \n",
       "6        AllSides Community         3774  \n",
       "33            Braver Angels          154  \n",
       "68          Counterpointing          742  \n",
       "152    Listen First Project          267  \n",
       "169            Mismatch.org          211  \n",
       "257              StoryCorps          156  \n",
       "259  Suspend Belief Podcast          351  \n",
       "288           The Flip Side          607  "
      ]
     },
     "execution_count": 20,
     "metadata": {},
     "output_type": "execute_result"
    }
   ],
   "source": [
    "# it's not so big, so let's just look at it all\n",
    "all_sides_df_all_sides_rating"
   ]
  },
  {
   "cell_type": "markdown",
   "metadata": {},
   "source": [
    "These look like news/media organizations that try to show all sides of an issue. It may be worth looking at what these websites do, for inspiration. These could also be generically recommended to the user."
   ]
  },
  {
   "cell_type": "code",
   "execution_count": 24,
   "metadata": {},
   "outputs": [
    {
     "data": {
      "image/png": "[encoded data removed]",
      "text/plain": [
       "<Figure size 720x360 with 1 Axes>"
      ]
     },
     "metadata": {
      "needs_background": "light"
     },
     "output_type": "display_data"
    },
    {
     "data": {
      "text/plain": [
       "<Figure size 432x288 with 0 Axes>"
      ]
     },
     "metadata": {},
     "output_type": "display_data"
    }
   ],
   "source": [
    "# let's see what the distribution of total votes is\n",
    "\n",
    "plt.figure(figsize=(10,5));\n",
    "sns.distplot(all_sides_df['total_votes'],kde=False)\n",
    "plt.ylabel('N');\n",
    "sns.set_context('talk', font_scale=1.5);\n",
    "plt.xticks(rotation=90);\n",
    "plt.xscale('log')\n",
    "plt.show();\n",
    "plt.clf()"
   ]
  },
  {
   "cell_type": "markdown",
   "metadata": {},
   "source": [
    "There are lots of websites with very few votes, and a few with thousands. My guess is that the websites with thousands of votes are the most popular news media organizations. Let's take a look at those."
   ]
  },
  {
   "cell_type": "code",
   "execution_count": 52,
   "metadata": {},
   "outputs": [],
   "source": [
    "total_votes_threshold = 10000\n",
    "\n",
    "all_sides_df_high_votes = all_sides_df.loc[all_sides_df['total_votes']>=total_votes_threshold]"
   ]
  },
  {
   "cell_type": "code",
   "execution_count": 53,
   "metadata": {},
   "outputs": [
    {
     "data": {
      "text/plain": [
       "(35, 8)"
      ]
     },
     "execution_count": 53,
     "metadata": {},
     "output_type": "execute_result"
    }
   ],
   "source": [
    "all_sides_df_high_votes.shape"
   ]
  },
  {
   "cell_type": "markdown",
   "metadata": {},
   "source": [
    "There are 35 news organizations with more than the above threshold number of votes votes. What are they? What are their biases?"
   ]
  },
  {
   "cell_type": "code",
   "execution_count": 54,
   "metadata": {},
   "outputs": [
    {
     "data": {
      "text/plain": [
       "0                 ABC News (Online)\n",
       "4                        Al Jazeera\n",
       "13                 Associated Press\n",
       "21                         BBC News\n",
       "25                        Bloomberg\n",
       "34                   Breitbart News\n",
       "39                    BuzzFeed News\n",
       "44                              CBN\n",
       "45                         CBS News\n",
       "54        Christian Science Monitor\n",
       "59                   CNN (Web News)\n",
       "60                  CNN - Editorial\n",
       "72                      Daily Beast\n",
       "82                    Democracy Now\n",
       "95                    FactCheck.org\n",
       "101                          Forbes\n",
       "104               Fox News (Online)\n",
       "106                Fox News Opinion\n",
       "123                        HuffPost\n",
       "172                    Mother Jones\n",
       "173                           MSNBC\n",
       "176                 National Review\n",
       "178               NBC News (Online)\n",
       "185                   New York Post\n",
       "186    New York Times (Online News)\n",
       "189                  Newsmax - News\n",
       "198                 NPR Online News\n",
       "209                        Politico\n",
       "225                          Reason\n",
       "229                         Reuters\n",
       "236                           Salon\n",
       "267          The American Spectator\n",
       "269                    The Atlantic\n",
       "292                    The Guardian\n",
       "293                        The Hill\n",
       "Name: name, dtype: object"
      ]
     },
     "execution_count": 54,
     "metadata": {},
     "output_type": "execute_result"
    }
   ],
   "source": [
    "all_sides_df_high_votes['name']"
   ]
  },
  {
   "cell_type": "code",
   "execution_count": 51,
   "metadata": {},
   "outputs": [
    {
     "data": {
      "image/png": "[encoded data removed]",
      "text/plain": [
       "<Figure size 720x360 with 1 Axes>"
      ]
     },
     "metadata": {
      "needs_background": "light"
     },
     "output_type": "display_data"
    },
    {
     "data": {
      "text/plain": [
       "<Figure size 432x288 with 0 Axes>"
      ]
     },
     "metadata": {},
     "output_type": "display_data"
    }
   ],
   "source": [
    "plt.figure(figsize=(10,5));\n",
    "sns.countplot(all_sides_df_high_votes['bias'],order=['left','left-center','center','right-center','right','allsides'])\n",
    "plt.ylabel('N');\n",
    "sns.set_context('talk', font_scale=1.5);\n",
    "plt.xticks(rotation=90);\n",
    "plt.show();\n",
    "plt.clf();"
   ]
  },
  {
   "cell_type": "markdown",
   "metadata": {},
   "source": [
    "These look like larger news organizations that will more likely cover lots of topics. There are more left and center-left news organizations than right and center-right. This is a good list of news organizations to include in the MVP."
   ]
  },
  {
   "cell_type": "code",
   "execution_count": 65,
   "metadata": {},
   "outputs": [
    {
     "data": {
      "image/png": "[encoded data removed]",
      "text/plain": [
       "<Figure size 720x360 with 1 Axes>"
      ]
     },
     "metadata": {
      "needs_background": "light"
     },
     "output_type": "display_data"
    },
    {
     "data": {
      "text/plain": [
       "<Figure size 432x288 with 0 Axes>"
      ]
     },
     "metadata": {},
     "output_type": "display_data"
    }
   ],
   "source": [
    "# how often does the 'public' agree with these ratings?\n",
    "plt.figure(figsize=(10,5));\n",
    "sns.countplot(all_sides_df_high_votes['agreeance_text'],order=['Absolutely Disagrees','Strongly Disagrees','Disagrees','Somewhat Disagrees','Neutral','Somehwat Agrees','Agrees','Strongly Agrees','Absolutely Agrees'])\n",
    "plt.ylabel('N');\n",
    "sns.set_context('talk', font_scale=1.5);\n",
    "plt.xticks(rotation=90);\n",
    "plt.show();\n",
    "plt.clf();"
   ]
  },
  {
   "cell_type": "code",
   "execution_count": 74,
   "metadata": {},
   "outputs": [],
   "source": [
    "# look at those with agree votes and above\n",
    "\n",
    "all_sides_df_high_votes_agree = all_sides_df_high_votes.loc[all_sides_df_high_votes['agreeance_text']=='Agrees']\n",
    "all_sides_df_high_votes_strongly_agree = all_sides_df_high_votes.loc[all_sides_df_high_votes['agreeance_text']=='Strongly Agrees']\n",
    "all_sides_df_high_votes_absolutely_agree = all_sides_df_high_votes.loc[all_sides_df_high_votes['agreeance_text']=='Absolutely Agrees']\n",
    "\n",
    "\n",
    "all_sides_df_high_votes_agree_cat = pd.concat([all_sides_df_high_votes_agree,all_sides_df_high_votes_strongly_agree,all_sides_df_high_votes_absolutely_agree])"
   ]
  },
  {
   "cell_type": "code",
   "execution_count": 75,
   "metadata": {},
   "outputs": [
    {
     "data": {
      "text/html": [
       "<div>\n",
       "<style scoped>\n",
       "    .dataframe tbody tr th:only-of-type {\n",
       "        vertical-align: middle;\n",
       "    }\n",
       "\n",
       "    .dataframe tbody tr th {\n",
       "        vertical-align: top;\n",
       "    }\n",
       "\n",
       "    .dataframe thead th {\n",
       "        text-align: right;\n",
       "    }\n",
       "</style>\n",
       "<table border=\"1\" class=\"dataframe\">\n",
       "  <thead>\n",
       "    <tr style=\"text-align: right;\">\n",
       "      <th></th>\n",
       "      <th>agree</th>\n",
       "      <th>agree_ratio</th>\n",
       "      <th>agreeance_text</th>\n",
       "      <th>allsides_page</th>\n",
       "      <th>bias</th>\n",
       "      <th>disagree</th>\n",
       "      <th>name</th>\n",
       "      <th>total_votes</th>\n",
       "    </tr>\n",
       "  </thead>\n",
       "  <tbody>\n",
       "    <tr>\n",
       "      <th>0</th>\n",
       "      <td>21052</td>\n",
       "      <td>1.680530</td>\n",
       "      <td>Agrees</td>\n",
       "      <td>https://www.allsides.com/news-source/abc-news-...</td>\n",
       "      <td>left-center</td>\n",
       "      <td>12527</td>\n",
       "      <td>ABC News (Online)</td>\n",
       "      <td>33579</td>\n",
       "    </tr>\n",
       "    <tr>\n",
       "      <th>39</th>\n",
       "      <td>12672</td>\n",
       "      <td>1.656038</td>\n",
       "      <td>Agrees</td>\n",
       "      <td>https://www.allsides.com/news-source/buzzfeed-...</td>\n",
       "      <td>left</td>\n",
       "      <td>7652</td>\n",
       "      <td>BuzzFeed News</td>\n",
       "      <td>20324</td>\n",
       "    </tr>\n",
       "    <tr>\n",
       "      <th>44</th>\n",
       "      <td>6584</td>\n",
       "      <td>1.915067</td>\n",
       "      <td>Agrees</td>\n",
       "      <td>https://www.allsides.com/news-source/cbn</td>\n",
       "      <td>right</td>\n",
       "      <td>3438</td>\n",
       "      <td>CBN</td>\n",
       "      <td>10022</td>\n",
       "    </tr>\n",
       "    <tr>\n",
       "      <th>101</th>\n",
       "      <td>7487</td>\n",
       "      <td>1.804096</td>\n",
       "      <td>Agrees</td>\n",
       "      <td>https://www.allsides.com/news-source/forbes</td>\n",
       "      <td>center</td>\n",
       "      <td>4150</td>\n",
       "      <td>Forbes</td>\n",
       "      <td>11637</td>\n",
       "    </tr>\n",
       "    <tr>\n",
       "      <th>185</th>\n",
       "      <td>6809</td>\n",
       "      <td>1.566728</td>\n",
       "      <td>Agrees</td>\n",
       "      <td>https://www.allsides.com/news-source/new-york-...</td>\n",
       "      <td>right</td>\n",
       "      <td>4346</td>\n",
       "      <td>New York Post</td>\n",
       "      <td>11155</td>\n",
       "    </tr>\n",
       "    <tr>\n",
       "      <th>225</th>\n",
       "      <td>6707</td>\n",
       "      <td>1.556510</td>\n",
       "      <td>Agrees</td>\n",
       "      <td>https://www.allsides.com/news-source/reason</td>\n",
       "      <td>right-center</td>\n",
       "      <td>4309</td>\n",
       "      <td>Reason</td>\n",
       "      <td>11016</td>\n",
       "    </tr>\n",
       "    <tr>\n",
       "      <th>229</th>\n",
       "      <td>10520</td>\n",
       "      <td>1.762735</td>\n",
       "      <td>Agrees</td>\n",
       "      <td>https://www.allsides.com/news-source/reuters</td>\n",
       "      <td>center</td>\n",
       "      <td>5968</td>\n",
       "      <td>Reuters</td>\n",
       "      <td>16488</td>\n",
       "    </tr>\n",
       "    <tr>\n",
       "      <th>269</th>\n",
       "      <td>8369</td>\n",
       "      <td>1.947638</td>\n",
       "      <td>Agrees</td>\n",
       "      <td>https://www.allsides.com/news-source/atlantic</td>\n",
       "      <td>left-center</td>\n",
       "      <td>4297</td>\n",
       "      <td>The Atlantic</td>\n",
       "      <td>12666</td>\n",
       "    </tr>\n",
       "    <tr>\n",
       "      <th>292</th>\n",
       "      <td>8768</td>\n",
       "      <td>1.633687</td>\n",
       "      <td>Agrees</td>\n",
       "      <td>https://www.allsides.com/news-source/guardian</td>\n",
       "      <td>left-center</td>\n",
       "      <td>5367</td>\n",
       "      <td>The Guardian</td>\n",
       "      <td>14135</td>\n",
       "    </tr>\n",
       "    <tr>\n",
       "      <th>34</th>\n",
       "      <td>24980</td>\n",
       "      <td>2.733042</td>\n",
       "      <td>Strongly Agrees</td>\n",
       "      <td>https://www.allsides.com/news-source/breitbart</td>\n",
       "      <td>right</td>\n",
       "      <td>9140</td>\n",
       "      <td>Breitbart News</td>\n",
       "      <td>34120</td>\n",
       "    </tr>\n",
       "    <tr>\n",
       "      <th>72</th>\n",
       "      <td>11878</td>\n",
       "      <td>2.400566</td>\n",
       "      <td>Strongly Agrees</td>\n",
       "      <td>https://www.allsides.com/news-source/daily-bea...</td>\n",
       "      <td>left</td>\n",
       "      <td>4948</td>\n",
       "      <td>Daily Beast</td>\n",
       "      <td>16826</td>\n",
       "    </tr>\n",
       "    <tr>\n",
       "      <th>176</th>\n",
       "      <td>12971</td>\n",
       "      <td>2.305546</td>\n",
       "      <td>Strongly Agrees</td>\n",
       "      <td>https://www.allsides.com/news-source/national-...</td>\n",
       "      <td>right</td>\n",
       "      <td>5626</td>\n",
       "      <td>National Review</td>\n",
       "      <td>18597</td>\n",
       "    </tr>\n",
       "    <tr>\n",
       "      <th>236</th>\n",
       "      <td>11234</td>\n",
       "      <td>2.208808</td>\n",
       "      <td>Strongly Agrees</td>\n",
       "      <td>https://www.allsides.com/news-source/salon</td>\n",
       "      <td>left</td>\n",
       "      <td>5086</td>\n",
       "      <td>Salon</td>\n",
       "      <td>16320</td>\n",
       "    </tr>\n",
       "    <tr>\n",
       "      <th>267</th>\n",
       "      <td>9600</td>\n",
       "      <td>2.719547</td>\n",
       "      <td>Strongly Agrees</td>\n",
       "      <td>https://www.allsides.com/news-source/american-...</td>\n",
       "      <td>right</td>\n",
       "      <td>3530</td>\n",
       "      <td>The American Spectator</td>\n",
       "      <td>13130</td>\n",
       "    </tr>\n",
       "    <tr>\n",
       "      <th>60</th>\n",
       "      <td>16391</td>\n",
       "      <td>3.924108</td>\n",
       "      <td>Absolutely Agrees</td>\n",
       "      <td>https://www.allsides.com/news-source/cnn-edito...</td>\n",
       "      <td>left</td>\n",
       "      <td>4177</td>\n",
       "      <td>CNN - Editorial</td>\n",
       "      <td>20568</td>\n",
       "    </tr>\n",
       "    <tr>\n",
       "      <th>82</th>\n",
       "      <td>8291</td>\n",
       "      <td>3.662102</td>\n",
       "      <td>Absolutely Agrees</td>\n",
       "      <td>https://www.allsides.com/news-source/democracy...</td>\n",
       "      <td>left</td>\n",
       "      <td>2264</td>\n",
       "      <td>Democracy Now</td>\n",
       "      <td>10555</td>\n",
       "    </tr>\n",
       "    <tr>\n",
       "      <th>106</th>\n",
       "      <td>13906</td>\n",
       "      <td>4.420216</td>\n",
       "      <td>Absolutely Agrees</td>\n",
       "      <td>https://www.allsides.com/news-source/fox-news-...</td>\n",
       "      <td>right</td>\n",
       "      <td>3146</td>\n",
       "      <td>Fox News Opinion</td>\n",
       "      <td>17052</td>\n",
       "    </tr>\n",
       "    <tr>\n",
       "      <th>172</th>\n",
       "      <td>9159</td>\n",
       "      <td>6.053536</td>\n",
       "      <td>Absolutely Agrees</td>\n",
       "      <td>https://www.allsides.com/news-source/mother-jo...</td>\n",
       "      <td>left</td>\n",
       "      <td>1513</td>\n",
       "      <td>Mother Jones</td>\n",
       "      <td>10672</td>\n",
       "    </tr>\n",
       "    <tr>\n",
       "      <th>173</th>\n",
       "      <td>10945</td>\n",
       "      <td>3.290740</td>\n",
       "      <td>Absolutely Agrees</td>\n",
       "      <td>https://www.allsides.com/news-source/msnbc</td>\n",
       "      <td>left</td>\n",
       "      <td>3326</td>\n",
       "      <td>MSNBC</td>\n",
       "      <td>14271</td>\n",
       "    </tr>\n",
       "  </tbody>\n",
       "</table>\n",
       "</div>"
      ],
      "text/plain": [
       "     agree  agree_ratio     agreeance_text  \\\n",
       "0    21052     1.680530             Agrees   \n",
       "39   12672     1.656038             Agrees   \n",
       "44    6584     1.915067             Agrees   \n",
       "101   7487     1.804096             Agrees   \n",
       "185   6809     1.566728             Agrees   \n",
       "225   6707     1.556510             Agrees   \n",
       "229  10520     1.762735             Agrees   \n",
       "269   8369     1.947638             Agrees   \n",
       "292   8768     1.633687             Agrees   \n",
       "34   24980     2.733042    Strongly Agrees   \n",
       "72   11878     2.400566    Strongly Agrees   \n",
       "176  12971     2.305546    Strongly Agrees   \n",
       "236  11234     2.208808    Strongly Agrees   \n",
       "267   9600     2.719547    Strongly Agrees   \n",
       "60   16391     3.924108  Absolutely Agrees   \n",
       "82    8291     3.662102  Absolutely Agrees   \n",
       "106  13906     4.420216  Absolutely Agrees   \n",
       "172   9159     6.053536  Absolutely Agrees   \n",
       "173  10945     3.290740  Absolutely Agrees   \n",
       "\n",
       "                                         allsides_page          bias  \\\n",
       "0    https://www.allsides.com/news-source/abc-news-...   left-center   \n",
       "39   https://www.allsides.com/news-source/buzzfeed-...          left   \n",
       "44            https://www.allsides.com/news-source/cbn         right   \n",
       "101        https://www.allsides.com/news-source/forbes        center   \n",
       "185  https://www.allsides.com/news-source/new-york-...         right   \n",
       "225        https://www.allsides.com/news-source/reason  right-center   \n",
       "229       https://www.allsides.com/news-source/reuters        center   \n",
       "269      https://www.allsides.com/news-source/atlantic   left-center   \n",
       "292      https://www.allsides.com/news-source/guardian   left-center   \n",
       "34      https://www.allsides.com/news-source/breitbart         right   \n",
       "72   https://www.allsides.com/news-source/daily-bea...          left   \n",
       "176  https://www.allsides.com/news-source/national-...         right   \n",
       "236         https://www.allsides.com/news-source/salon          left   \n",
       "267  https://www.allsides.com/news-source/american-...         right   \n",
       "60   https://www.allsides.com/news-source/cnn-edito...          left   \n",
       "82   https://www.allsides.com/news-source/democracy...          left   \n",
       "106  https://www.allsides.com/news-source/fox-news-...         right   \n",
       "172  https://www.allsides.com/news-source/mother-jo...          left   \n",
       "173         https://www.allsides.com/news-source/msnbc          left   \n",
       "\n",
       "     disagree                    name  total_votes  \n",
       "0       12527       ABC News (Online)        33579  \n",
       "39       7652           BuzzFeed News        20324  \n",
       "44       3438                     CBN        10022  \n",
       "101      4150                  Forbes        11637  \n",
       "185      4346           New York Post        11155  \n",
       "225      4309                  Reason        11016  \n",
       "229      5968                 Reuters        16488  \n",
       "269      4297            The Atlantic        12666  \n",
       "292      5367            The Guardian        14135  \n",
       "34       9140          Breitbart News        34120  \n",
       "72       4948             Daily Beast        16826  \n",
       "176      5626         National Review        18597  \n",
       "236      5086                   Salon        16320  \n",
       "267      3530  The American Spectator        13130  \n",
       "60       4177         CNN - Editorial        20568  \n",
       "82       2264           Democracy Now        10555  \n",
       "106      3146        Fox News Opinion        17052  \n",
       "172      1513            Mother Jones        10672  \n",
       "173      3326                   MSNBC        14271  "
      ]
     },
     "execution_count": 75,
     "metadata": {},
     "output_type": "execute_result"
    }
   ],
   "source": [
    "all_sides_df_high_votes_agree_cat"
   ]
  },
  {
   "cell_type": "code",
   "execution_count": 80,
   "metadata": {},
   "outputs": [
    {
     "data": {
      "image/png": "[encoded data removed]",
      "text/plain": [
       "<Figure size 720x360 with 1 Axes>"
      ]
     },
     "metadata": {
      "needs_background": "light"
     },
     "output_type": "display_data"
    },
    {
     "data": {
      "text/plain": [
       "<Figure size 432x288 with 0 Axes>"
      ]
     },
     "metadata": {},
     "output_type": "display_data"
    }
   ],
   "source": [
    "plt.figure(figsize=(10,5));\n",
    "sns.countplot(all_sides_df_high_votes_agree_cat['bias'],order=['left','left-center','center','right-center','right','allsides'])\n",
    "plt.ylabel('N');\n",
    "sns.set_context('talk', font_scale=1.5);\n",
    "plt.xticks(rotation=90);\n",
    "plt.show();\n",
    "plt.clf();"
   ]
  },
  {
   "cell_type": "code",
   "execution_count": 82,
   "metadata": {},
   "outputs": [],
   "source": [
    "# now let's look at those with somewhat disagrees and disagrees votes\n",
    "\n",
    "all_sides_df_high_votes_disagree = all_sides_df_high_votes.loc[all_sides_df_high_votes['agreeance_text']=='Disagrees']\n",
    "all_sides_df_high_votes_somewhat_disagree = all_sides_df_high_votes.loc[all_sides_df_high_votes['agreeance_text']=='Somewhat Disagrees']\n",
    "all_sides_df_high_votes_disagree_cat = pd.concat([all_sides_df_high_votes_disagree,all_sides_df_high_votes_somewhat_disagree])"
   ]
  },
  {
   "cell_type": "code",
   "execution_count": 83,
   "metadata": {},
   "outputs": [
    {
     "data": {
      "text/html": [
       "<div>\n",
       "<style scoped>\n",
       "    .dataframe tbody tr th:only-of-type {\n",
       "        vertical-align: middle;\n",
       "    }\n",
       "\n",
       "    .dataframe tbody tr th {\n",
       "        vertical-align: top;\n",
       "    }\n",
       "\n",
       "    .dataframe thead th {\n",
       "        text-align: right;\n",
       "    }\n",
       "</style>\n",
       "<table border=\"1\" class=\"dataframe\">\n",
       "  <thead>\n",
       "    <tr style=\"text-align: right;\">\n",
       "      <th></th>\n",
       "      <th>agree</th>\n",
       "      <th>agree_ratio</th>\n",
       "      <th>agreeance_text</th>\n",
       "      <th>allsides_page</th>\n",
       "      <th>bias</th>\n",
       "      <th>disagree</th>\n",
       "      <th>name</th>\n",
       "      <th>total_votes</th>\n",
       "    </tr>\n",
       "  </thead>\n",
       "  <tbody>\n",
       "    <tr>\n",
       "      <th>4</th>\n",
       "      <td>4217</td>\n",
       "      <td>0.631382</td>\n",
       "      <td>Disagrees</td>\n",
       "      <td>https://www.allsides.com/news-source/al-jazeer...</td>\n",
       "      <td>left-center</td>\n",
       "      <td>6679</td>\n",
       "      <td>Al Jazeera</td>\n",
       "      <td>10896</td>\n",
       "    </tr>\n",
       "    <tr>\n",
       "      <th>25</th>\n",
       "      <td>9542</td>\n",
       "      <td>0.659844</td>\n",
       "      <td>Disagrees</td>\n",
       "      <td>https://www.allsides.com/news-source/bloomberg...</td>\n",
       "      <td>center</td>\n",
       "      <td>14461</td>\n",
       "      <td>Bloomberg</td>\n",
       "      <td>24003</td>\n",
       "    </tr>\n",
       "    <tr>\n",
       "      <th>54</th>\n",
       "      <td>11532</td>\n",
       "      <td>0.786684</td>\n",
       "      <td>Somewhat Disagrees</td>\n",
       "      <td>https://www.allsides.com/news-source/christian...</td>\n",
       "      <td>center</td>\n",
       "      <td>14659</td>\n",
       "      <td>Christian Science Monitor</td>\n",
       "      <td>26191</td>\n",
       "    </tr>\n",
       "    <tr>\n",
       "      <th>59</th>\n",
       "      <td>34299</td>\n",
       "      <td>0.937336</td>\n",
       "      <td>Somewhat Disagrees</td>\n",
       "      <td>https://www.allsides.com/news-source/cnn-media...</td>\n",
       "      <td>left-center</td>\n",
       "      <td>36592</td>\n",
       "      <td>CNN (Web News)</td>\n",
       "      <td>70891</td>\n",
       "    </tr>\n",
       "    <tr>\n",
       "      <th>104</th>\n",
       "      <td>28971</td>\n",
       "      <td>0.777620</td>\n",
       "      <td>Somewhat Disagrees</td>\n",
       "      <td>https://www.allsides.com/news-source/fox-news-...</td>\n",
       "      <td>right-center</td>\n",
       "      <td>37256</td>\n",
       "      <td>Fox News (Online)</td>\n",
       "      <td>66227</td>\n",
       "    </tr>\n",
       "    <tr>\n",
       "      <th>178</th>\n",
       "      <td>6635</td>\n",
       "      <td>0.865284</td>\n",
       "      <td>Somewhat Disagrees</td>\n",
       "      <td>https://www.allsides.com/news-source/nbc-news-...</td>\n",
       "      <td>left-center</td>\n",
       "      <td>7668</td>\n",
       "      <td>NBC News (Online)</td>\n",
       "      <td>14303</td>\n",
       "    </tr>\n",
       "    <tr>\n",
       "      <th>186</th>\n",
       "      <td>20301</td>\n",
       "      <td>0.676362</td>\n",
       "      <td>Somewhat Disagrees</td>\n",
       "      <td>https://www.allsides.com/news-source/new-york-...</td>\n",
       "      <td>left-center</td>\n",
       "      <td>30015</td>\n",
       "      <td>New York Times (Online News)</td>\n",
       "      <td>50316</td>\n",
       "    </tr>\n",
       "    <tr>\n",
       "      <th>189</th>\n",
       "      <td>7272</td>\n",
       "      <td>0.789662</td>\n",
       "      <td>Somewhat Disagrees</td>\n",
       "      <td>https://www.allsides.com/news-source/newsmax</td>\n",
       "      <td>right-center</td>\n",
       "      <td>9209</td>\n",
       "      <td>Newsmax - News</td>\n",
       "      <td>16481</td>\n",
       "    </tr>\n",
       "    <tr>\n",
       "      <th>209</th>\n",
       "      <td>17380</td>\n",
       "      <td>0.705443</td>\n",
       "      <td>Somewhat Disagrees</td>\n",
       "      <td>https://www.allsides.com/news-source/politico-...</td>\n",
       "      <td>left-center</td>\n",
       "      <td>24637</td>\n",
       "      <td>Politico</td>\n",
       "      <td>42017</td>\n",
       "    </tr>\n",
       "    <tr>\n",
       "      <th>293</th>\n",
       "      <td>10563</td>\n",
       "      <td>0.794509</td>\n",
       "      <td>Somewhat Disagrees</td>\n",
       "      <td>https://www.allsides.com/news-source/hill-medi...</td>\n",
       "      <td>center</td>\n",
       "      <td>13295</td>\n",
       "      <td>The Hill</td>\n",
       "      <td>23858</td>\n",
       "    </tr>\n",
       "  </tbody>\n",
       "</table>\n",
       "</div>"
      ],
      "text/plain": [
       "     agree  agree_ratio      agreeance_text  \\\n",
       "4     4217     0.631382           Disagrees   \n",
       "25    9542     0.659844           Disagrees   \n",
       "54   11532     0.786684  Somewhat Disagrees   \n",
       "59   34299     0.937336  Somewhat Disagrees   \n",
       "104  28971     0.777620  Somewhat Disagrees   \n",
       "178   6635     0.865284  Somewhat Disagrees   \n",
       "186  20301     0.676362  Somewhat Disagrees   \n",
       "189   7272     0.789662  Somewhat Disagrees   \n",
       "209  17380     0.705443  Somewhat Disagrees   \n",
       "293  10563     0.794509  Somewhat Disagrees   \n",
       "\n",
       "                                         allsides_page          bias  \\\n",
       "4    https://www.allsides.com/news-source/al-jazeer...   left-center   \n",
       "25   https://www.allsides.com/news-source/bloomberg...        center   \n",
       "54   https://www.allsides.com/news-source/christian...        center   \n",
       "59   https://www.allsides.com/news-source/cnn-media...   left-center   \n",
       "104  https://www.allsides.com/news-source/fox-news-...  right-center   \n",
       "178  https://www.allsides.com/news-source/nbc-news-...   left-center   \n",
       "186  https://www.allsides.com/news-source/new-york-...   left-center   \n",
       "189       https://www.allsides.com/news-source/newsmax  right-center   \n",
       "209  https://www.allsides.com/news-source/politico-...   left-center   \n",
       "293  https://www.allsides.com/news-source/hill-medi...        center   \n",
       "\n",
       "     disagree                          name  total_votes  \n",
       "4        6679                    Al Jazeera        10896  \n",
       "25      14461                     Bloomberg        24003  \n",
       "54      14659     Christian Science Monitor        26191  \n",
       "59      36592                CNN (Web News)        70891  \n",
       "104     37256             Fox News (Online)        66227  \n",
       "178      7668             NBC News (Online)        14303  \n",
       "186     30015  New York Times (Online News)        50316  \n",
       "189      9209                Newsmax - News        16481  \n",
       "209     24637                      Politico        42017  \n",
       "293     13295                      The Hill        23858  "
      ]
     },
     "execution_count": 83,
     "metadata": {},
     "output_type": "execute_result"
    }
   ],
   "source": [
    "all_sides_df_high_votes_disagree_cat"
   ]
  },
  {
   "cell_type": "code",
   "execution_count": 84,
   "metadata": {},
   "outputs": [
    {
     "data": {
      "image/png": "[encoded data removed]",
      "text/plain": [
       "<Figure size 720x360 with 1 Axes>"
      ]
     },
     "metadata": {
      "needs_background": "light"
     },
     "output_type": "display_data"
    },
    {
     "data": {
      "text/plain": [
       "<Figure size 432x288 with 0 Axes>"
      ]
     },
     "metadata": {},
     "output_type": "display_data"
    }
   ],
   "source": [
    "plt.figure(figsize=(10,5));\n",
    "sns.countplot(all_sides_df_high_votes_disagree_cat['bias'],order=['left','left-center','center','right-center','right','allsides'])\n",
    "plt.ylabel('N');\n",
    "sns.set_context('talk', font_scale=1.5);\n",
    "plt.xticks(rotation=90);\n",
    "plt.show();\n",
    "plt.clf();"
   ]
  },
  {
   "cell_type": "markdown",
   "metadata": {},
   "source": [
    "The disagreement is exclusively amongst those news organizations with left-center, center, and right-center ratings. Users tend to agree about those news organizations that are further left or right as rated by AllSides. \n",
    "\n",
    "Among those news organizations where there is disagreement between users and AllSides, we see some big name media organizations like Fox News and NYT, which I would not want to exclude from this product. \n",
    "\n",
    "I'll make a judgement call here and, for the MVP, utilize the bias score given by AllSides, even as there may be some disagreement between the scores they give and what many users think. This is not an easy call to make, but I will put my trust in AllSides's ratings for now, acknowledging that not all users will agree with AllSides.\n",
    "\n",
    "To quote Steve Job, \"People don't know what they want until you show it to them.\" For an MVP for open-minded consumers interested in diverse perspectives, I'm betting that the ratings by AllSidesMedia won't be crucial; the idea is to show diverse content across the spectrum, not to quantify where media organizations are on the spectrum per se."
   ]
  },
  {
   "cell_type": "code",
   "execution_count": 85,
   "metadata": {},
   "outputs": [],
   "source": [
    "all_sides_df_high_votes.to_csv('./all_sides_media_data/allsides_final.csv', index_label='index')"
   ]
  },
  {
   "cell_type": "code",
   "execution_count": 89,
   "metadata": {},
   "outputs": [],
   "source": [
    "all_sides_with_domains = pd.read_csv('./all_sides_media_data/allsides_final_plus_others_with_domains.csv')"
   ]
  },
  {
   "cell_type": "code",
   "execution_count": 90,
   "metadata": {},
   "outputs": [
    {
     "data": {
      "text/html": [
       "<div>\n",
       "<style scoped>\n",
       "    .dataframe tbody tr th:only-of-type {\n",
       "        vertical-align: middle;\n",
       "    }\n",
       "\n",
       "    .dataframe tbody tr th {\n",
       "        vertical-align: top;\n",
       "    }\n",
       "\n",
       "    .dataframe thead th {\n",
       "        text-align: right;\n",
       "    }\n",
       "</style>\n",
       "<table border=\"1\" class=\"dataframe\">\n",
       "  <thead>\n",
       "    <tr style=\"text-align: right;\">\n",
       "      <th></th>\n",
       "      <th>index</th>\n",
       "      <th>agree</th>\n",
       "      <th>agree_ratio</th>\n",
       "      <th>agreeance_text</th>\n",
       "      <th>allsides_page</th>\n",
       "      <th>bias</th>\n",
       "      <th>disagree</th>\n",
       "      <th>name</th>\n",
       "      <th>total_votes</th>\n",
       "      <th>domain</th>\n",
       "    </tr>\n",
       "  </thead>\n",
       "  <tbody>\n",
       "    <tr>\n",
       "      <th>0</th>\n",
       "      <td>0.0</td>\n",
       "      <td>21052.0</td>\n",
       "      <td>1.680530</td>\n",
       "      <td>Agrees</td>\n",
       "      <td>https://www.allsides.com/news-source/abc-news-...</td>\n",
       "      <td>left-center</td>\n",
       "      <td>12527.0</td>\n",
       "      <td>ABC News (Online)</td>\n",
       "      <td>33579.0</td>\n",
       "      <td>abcnews.go.com</td>\n",
       "    </tr>\n",
       "    <tr>\n",
       "      <th>1</th>\n",
       "      <td>4.0</td>\n",
       "      <td>4217.0</td>\n",
       "      <td>0.631382</td>\n",
       "      <td>Disagrees</td>\n",
       "      <td>https://www.allsides.com/news-source/al-jazeer...</td>\n",
       "      <td>left-center</td>\n",
       "      <td>6679.0</td>\n",
       "      <td>Al Jazeera</td>\n",
       "      <td>10896.0</td>\n",
       "      <td>aljazeera.com</td>\n",
       "    </tr>\n",
       "    <tr>\n",
       "      <th>2</th>\n",
       "      <td>13.0</td>\n",
       "      <td>13940.0</td>\n",
       "      <td>1.383898</td>\n",
       "      <td>Somewhat Agrees</td>\n",
       "      <td>https://www.allsides.com/news-source/associate...</td>\n",
       "      <td>center</td>\n",
       "      <td>10073.0</td>\n",
       "      <td>Associated Press</td>\n",
       "      <td>24013.0</td>\n",
       "      <td>apnews.com</td>\n",
       "    </tr>\n",
       "    <tr>\n",
       "      <th>3</th>\n",
       "      <td>21.0</td>\n",
       "      <td>17356.0</td>\n",
       "      <td>1.081303</td>\n",
       "      <td>Somewhat Agrees</td>\n",
       "      <td>https://www.allsides.com/news-source/bbc-news-...</td>\n",
       "      <td>center</td>\n",
       "      <td>16051.0</td>\n",
       "      <td>BBC News</td>\n",
       "      <td>33407.0</td>\n",
       "      <td>bbc.com</td>\n",
       "    </tr>\n",
       "    <tr>\n",
       "      <th>4</th>\n",
       "      <td>25.0</td>\n",
       "      <td>9542.0</td>\n",
       "      <td>0.659844</td>\n",
       "      <td>Disagrees</td>\n",
       "      <td>https://www.allsides.com/news-source/bloomberg...</td>\n",
       "      <td>center</td>\n",
       "      <td>14461.0</td>\n",
       "      <td>Bloomberg</td>\n",
       "      <td>24003.0</td>\n",
       "      <td>bloomberg.com</td>\n",
       "    </tr>\n",
       "  </tbody>\n",
       "</table>\n",
       "</div>"
      ],
      "text/plain": [
       "   index    agree  agree_ratio   agreeance_text  \\\n",
       "0    0.0  21052.0     1.680530           Agrees   \n",
       "1    4.0   4217.0     0.631382        Disagrees   \n",
       "2   13.0  13940.0     1.383898  Somewhat Agrees   \n",
       "3   21.0  17356.0     1.081303  Somewhat Agrees   \n",
       "4   25.0   9542.0     0.659844        Disagrees   \n",
       "\n",
       "                                       allsides_page         bias  disagree  \\\n",
       "0  https://www.allsides.com/news-source/abc-news-...  left-center   12527.0   \n",
       "1  https://www.allsides.com/news-source/al-jazeer...  left-center    6679.0   \n",
       "2  https://www.allsides.com/news-source/associate...       center   10073.0   \n",
       "3  https://www.allsides.com/news-source/bbc-news-...       center   16051.0   \n",
       "4  https://www.allsides.com/news-source/bloomberg...       center   14461.0   \n",
       "\n",
       "                name  total_votes          domain  \n",
       "0  ABC News (Online)      33579.0  abcnews.go.com  \n",
       "1         Al Jazeera      10896.0   aljazeera.com  \n",
       "2   Associated Press      24013.0      apnews.com  \n",
       "3           BBC News      33407.0         bbc.com  \n",
       "4          Bloomberg      24003.0   bloomberg.com  "
      ]
     },
     "execution_count": 90,
     "metadata": {},
     "output_type": "execute_result"
    }
   ],
   "source": [
    "all_sides_with_domains.head()"
   ]
  },
  {
   "cell_type": "code",
   "execution_count": 97,
   "metadata": {},
   "outputs": [
    {
     "name": "stdout",
     "output_type": "stream",
     "text": [
      "0                ABC News (Online)\n",
      "1                       Al Jazeera\n",
      "2                 Associated Press\n",
      "3                         BBC News\n",
      "4                        Bloomberg\n",
      "5                   Breitbart News\n",
      "6                    BuzzFeed News\n",
      "7                              CBN\n",
      "8                         CBS News\n",
      "9        Christian Science Monitor\n",
      "10                  CNN (Web News)\n",
      "11                     Daily Beast\n",
      "12                   Democracy Now\n",
      "13                   FactCheck.org\n",
      "14                          Forbes\n",
      "15               Fox News (Online)\n",
      "16                        HuffPost\n",
      "17                    Mother Jones\n",
      "18                           MSNBC\n",
      "19                 National Review\n",
      "20               NBC News (Online)\n",
      "21                   New York Post\n",
      "22    New York Times (Online News)\n",
      "23                  Newsmax - News\n",
      "24                 NPR Online News\n",
      "25                        Politico\n",
      "26                          Reason\n",
      "27                         Reuters\n",
      "28                           Salon\n",
      "29          The American Spectator\n",
      "30                    The Atlantic\n",
      "31                    The Guardian\n",
      "32                        The Hill\n",
      "33         The Wall Street Journal\n",
      "Name: name, dtype: object\n",
      "0         abcnews.go.com\n",
      "1          aljazeera.com\n",
      "2             apnews.com\n",
      "3                bbc.com\n",
      "4          bloomberg.com\n",
      "5          breitbart.com\n",
      "6       buzzfeednews.com\n",
      "7                cbn.com\n",
      "8            cbsnews.com\n",
      "9          csmonitor.com\n",
      "10               cnn.com\n",
      "11     thedailybeast.com\n",
      "12      democracynow.org\n",
      "13         factcheck.org\n",
      "14            forbes.com\n",
      "15           foxnews.com\n",
      "16          huffpost.com\n",
      "17       motherjones.com\n",
      "18             msnbc.com\n",
      "19    nationalreview.com\n",
      "20           nbcnews.com\n",
      "21            nypost.com\n",
      "22           nytimes.com\n",
      "23           newsmax.com\n",
      "24               npr.org\n",
      "25          politico.com\n",
      "26            reason.com\n",
      "27           reuters.com\n",
      "28             salon.com\n",
      "29         spectator.org\n",
      "30       theatlantic.com\n",
      "31       theguardian.com\n",
      "32           thehill.com\n",
      "33               wsj.com\n",
      "Name: domain, dtype: object\n",
      "                            name              domain\n",
      "0              ABC News (Online)      abcnews.go.com\n",
      "1                     Al Jazeera       aljazeera.com\n",
      "2               Associated Press          apnews.com\n",
      "3                       BBC News             bbc.com\n",
      "4                      Bloomberg       bloomberg.com\n",
      "5                 Breitbart News       breitbart.com\n",
      "6                  BuzzFeed News    buzzfeednews.com\n",
      "7                            CBN             cbn.com\n",
      "8                       CBS News         cbsnews.com\n",
      "9      Christian Science Monitor       csmonitor.com\n",
      "10                CNN (Web News)             cnn.com\n",
      "11                   Daily Beast   thedailybeast.com\n",
      "12                 Democracy Now    democracynow.org\n",
      "13                 FactCheck.org       factcheck.org\n",
      "14                        Forbes          forbes.com\n",
      "15             Fox News (Online)         foxnews.com\n",
      "16                      HuffPost        huffpost.com\n",
      "17                  Mother Jones     motherjones.com\n",
      "18                         MSNBC           msnbc.com\n",
      "19               National Review  nationalreview.com\n",
      "20             NBC News (Online)         nbcnews.com\n",
      "21                 New York Post          nypost.com\n",
      "22  New York Times (Online News)         nytimes.com\n",
      "23                Newsmax - News         newsmax.com\n",
      "24               NPR Online News             npr.org\n",
      "25                      Politico        politico.com\n",
      "26                        Reason          reason.com\n",
      "27                       Reuters         reuters.com\n",
      "28                         Salon           salon.com\n",
      "29        The American Spectator       spectator.org\n",
      "30                  The Atlantic     theatlantic.com\n",
      "31                  The Guardian     theguardian.com\n",
      "32                      The Hill         thehill.com\n",
      "33       The Wall Street Journal             wsj.com\n"
     ]
    }
   ],
   "source": [
    "all_sides_names = all_sides_with_domains['name']\n",
    "all_sides_domains = all_sides_with_domains['domain']\n",
    "\n",
    "all_sides_names_domains = pd.concat([all_sides_names,all_sides_domains],axis=1)\n",
    "print(all_sides_names)\n",
    "print(all_sides_domains)\n",
    "print(all_sides_names_domains)"
   ]
  },
  {
   "cell_type": "code",
   "execution_count": null,
   "metadata": {},
   "outputs": [],
   "source": [
    "all_sides_names_domains"
   ]
  }
 ],
 "metadata": {
  "kernelspec": {
   "display_name": "Python 3",
   "language": "python",
   "name": "python3"
  },
  "language_info": {
   "codemirror_mode": {
    "name": "ipython",
    "version": 3
   },
   "file_extension": ".py",
   "mimetype": "text/x-python",
   "name": "python",
   "nbconvert_exporter": "python",
   "pygments_lexer": "ipython3",
   "version": "3.8.5"
  }
 },
 "nbformat": 4,
 "nbformat_minor": 4
}
