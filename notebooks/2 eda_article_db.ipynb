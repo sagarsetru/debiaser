{
 "cells": [
  {
   "cell_type": "markdown",
   "metadata": {},
   "source": [
    "# EDA (downloaded document corpus) for 'debiaser' data product\n",
    "#### Sagar Setru, September 21th, 2020"
   ]
  },
  {
   "cell_type": "markdown",
   "metadata": {},
   "source": [
    "## Brief description using CoNVO framework"
   ]
  },
  {
   "cell_type": "markdown",
   "metadata": {},
   "source": [
    "### Context\n",
    "\n",
    "Some people are eager to get news from outside of their echo chamber. However, they do not know where to go outside of their echo chambers, and may also have some activation energy when it comes to seeking information from other sources. In the meantime, most newsfeeds only push you content that you agree with. You end up in an echo chamber, but may not have ever wanted to be in one in the first place."
   ]
  },
  {
   "cell_type": "markdown",
   "metadata": {},
   "source": [
    "### Need\n",
    "\n",
    "A way to find news articles from different yet reliable media sources."
   ]
  },
  {
   "cell_type": "markdown",
   "metadata": {},
   "source": [
    "### Vision\n",
    "\n",
    "Debiaser, a chrome extension that will recommend news articles similar in topic to the one currently being read, but from several pre-curated and reliable news media organizations across the political spectrum, for example, following the \"media bias chart\" here https://www.adfontesmedia.com/ or the \"media bias ratings\" here: https://www.allsides.com/media-bias/media-bias-ratings. The app will determine the main topics of the text of a news article, and then show links to similar articles from other news organizations.\n",
    "\n",
    "The product will generate topics for a given document via latent Dirichlet allocation (LDA) and then search news websites for the topic words generated.\n",
    "\n",
    "Caveats: Many of these articles may be behind paywalls. News aggregators already basically do this. How different is this than just searching Google using the title of an article?"
   ]
  },
  {
   "cell_type": "markdown",
   "metadata": {},
   "source": [
    "### Outcome\n",
    "\n",
    "People who are motivated to engage in content outside of their echo chambers have a tool that enables them to quickly find news similar to what they are currently reading, but from a variety of news organizations."
   ]
  },
  {
   "cell_type": "markdown",
   "metadata": {},
   "source": [
    "### EDA of news articles database\n",
    "News articles taken from here: https://components.one/datasets/all-the-news-articles-dataset/"
   ]
  },
  {
   "cell_type": "code",
   "execution_count": 1,
   "metadata": {},
   "outputs": [],
   "source": [
    "import pandas as pd\n",
    "import seaborn as sns\n",
    "import matplotlib.pyplot as plt\n",
    "import numpy as np\n",
    "import os"
   ]
  },
  {
   "cell_type": "code",
   "execution_count": 2,
   "metadata": {},
   "outputs": [
    {
     "name": "stdout",
     "output_type": "stream",
     "text": [
      "Conda environment:\n",
      "insight\n"
     ]
    }
   ],
   "source": [
    "# make sure I'm in the right environment (should be 'debiaser')\n",
    "print('Conda environment:')\n",
    "print(os.environ['CONDA_DEFAULT_ENV'])"
   ]
  },
  {
   "cell_type": "code",
   "execution_count": 3,
   "metadata": {},
   "outputs": [
    {
     "name": "stderr",
     "output_type": "stream",
     "text": [
      "/Users/sagarsetru/anaconda3/envs/insight/lib/python3.8/site-packages/IPython/core/interactiveshell.py:3145: DtypeWarning: Columns (0,1,11,12) have mixed types.Specify dtype option on import or set low_memory=False.\n",
      "  has_raised = await self.run_ast_nodes(code_ast.body, cell_name,\n"
     ]
    }
   ],
   "source": [
    "# get the entire news csv into data frame\n",
    "\n",
    "# get file name\n",
    "fname = './all_the_news/all_the_news_db.csv'\n",
    "\n",
    "# load into data frame\n",
    "all_news_df = pd.read_csv(fname)"
   ]
  },
  {
   "cell_type": "code",
   "execution_count": 4,
   "metadata": {},
   "outputs": [
    {
     "data": {
      "text/html": [
       "<div>\n",
       "<style scoped>\n",
       "    .dataframe tbody tr th:only-of-type {\n",
       "        vertical-align: middle;\n",
       "    }\n",
       "\n",
       "    .dataframe tbody tr th {\n",
       "        vertical-align: top;\n",
       "    }\n",
       "\n",
       "    .dataframe thead th {\n",
       "        text-align: right;\n",
       "    }\n",
       "</style>\n",
       "<table border=\"1\" class=\"dataframe\">\n",
       "  <thead>\n",
       "    <tr style=\"text-align: right;\">\n",
       "      <th></th>\n",
       "      <th>index</th>\n",
       "      <th>id</th>\n",
       "      <th>title</th>\n",
       "      <th>author</th>\n",
       "      <th>date</th>\n",
       "      <th>content</th>\n",
       "      <th>year</th>\n",
       "      <th>month</th>\n",
       "      <th>publication</th>\n",
       "      <th>category</th>\n",
       "      <th>digital</th>\n",
       "      <th>section</th>\n",
       "      <th>url</th>\n",
       "    </tr>\n",
       "  </thead>\n",
       "  <tbody>\n",
       "    <tr>\n",
       "      <th>0</th>\n",
       "      <td>0</td>\n",
       "      <td>1</td>\n",
       "      <td>Agent Cooper in Twin Peaks is the audience: on...</td>\n",
       "      <td>\\nTasha Robinson\\n</td>\n",
       "      <td>2017-05-31</td>\n",
       "      <td>And never more so than in Showtime’s new...</td>\n",
       "      <td>2017.0</td>\n",
       "      <td>5.0</td>\n",
       "      <td>Verge</td>\n",
       "      <td>Longform</td>\n",
       "      <td>1.0</td>\n",
       "      <td>NaN</td>\n",
       "      <td>NaN</td>\n",
       "    </tr>\n",
       "    <tr>\n",
       "      <th>1</th>\n",
       "      <td>1</td>\n",
       "      <td>2</td>\n",
       "      <td>AI, the humanity!</td>\n",
       "      <td>\\nSam Byford\\n</td>\n",
       "      <td>2017-05-30</td>\n",
       "      <td>AlphaGo’s victory isn’t a defeat for hum...</td>\n",
       "      <td>2017.0</td>\n",
       "      <td>5.0</td>\n",
       "      <td>Verge</td>\n",
       "      <td>Longform</td>\n",
       "      <td>1.0</td>\n",
       "      <td>NaN</td>\n",
       "      <td>NaN</td>\n",
       "    </tr>\n",
       "    <tr>\n",
       "      <th>2</th>\n",
       "      <td>2</td>\n",
       "      <td>3</td>\n",
       "      <td>The Viral Machine</td>\n",
       "      <td>\\nKaitlyn Tiffany\\n</td>\n",
       "      <td>2017-05-25</td>\n",
       "      <td>Super Deluxe built a weird internet empi...</td>\n",
       "      <td>2017.0</td>\n",
       "      <td>5.0</td>\n",
       "      <td>Verge</td>\n",
       "      <td>Longform</td>\n",
       "      <td>1.0</td>\n",
       "      <td>NaN</td>\n",
       "      <td>NaN</td>\n",
       "    </tr>\n",
       "    <tr>\n",
       "      <th>3</th>\n",
       "      <td>3</td>\n",
       "      <td>4</td>\n",
       "      <td>How Anker is beating Apple and Samsung at thei...</td>\n",
       "      <td>\\nNick Statt\\n</td>\n",
       "      <td>2017-05-22</td>\n",
       "      <td>Steven Yang quit his job at Google in th...</td>\n",
       "      <td>2017.0</td>\n",
       "      <td>5.0</td>\n",
       "      <td>Verge</td>\n",
       "      <td>Longform</td>\n",
       "      <td>1.0</td>\n",
       "      <td>NaN</td>\n",
       "      <td>NaN</td>\n",
       "    </tr>\n",
       "    <tr>\n",
       "      <th>4</th>\n",
       "      <td>4</td>\n",
       "      <td>5</td>\n",
       "      <td>Tour Black Panther’s reimagined homeland with ...</td>\n",
       "      <td>\\nKwame Opam\\n</td>\n",
       "      <td>2017-05-15</td>\n",
       "      <td>Ahead of Black Panther’s 2018 theatrical...</td>\n",
       "      <td>2017.0</td>\n",
       "      <td>5.0</td>\n",
       "      <td>Verge</td>\n",
       "      <td>Longform</td>\n",
       "      <td>1.0</td>\n",
       "      <td>NaN</td>\n",
       "      <td>NaN</td>\n",
       "    </tr>\n",
       "  </tbody>\n",
       "</table>\n",
       "</div>"
      ],
      "text/plain": [
       "  index id                                              title  \\\n",
       "0     0  1  Agent Cooper in Twin Peaks is the audience: on...   \n",
       "1     1  2                                  AI, the humanity!   \n",
       "2     2  3                                  The Viral Machine   \n",
       "3     3  4  How Anker is beating Apple and Samsung at thei...   \n",
       "4     4  5  Tour Black Panther’s reimagined homeland with ...   \n",
       "\n",
       "                author        date  \\\n",
       "0   \\nTasha Robinson\\n  2017-05-31   \n",
       "1       \\nSam Byford\\n  2017-05-30   \n",
       "2  \\nKaitlyn Tiffany\\n  2017-05-25   \n",
       "3       \\nNick Statt\\n  2017-05-22   \n",
       "4       \\nKwame Opam\\n  2017-05-15   \n",
       "\n",
       "                                             content    year  month  \\\n",
       "0        And never more so than in Showtime’s new...  2017.0    5.0   \n",
       "1        AlphaGo’s victory isn’t a defeat for hum...  2017.0    5.0   \n",
       "2        Super Deluxe built a weird internet empi...  2017.0    5.0   \n",
       "3        Steven Yang quit his job at Google in th...  2017.0    5.0   \n",
       "4        Ahead of Black Panther’s 2018 theatrical...  2017.0    5.0   \n",
       "\n",
       "  publication  category  digital section  url  \n",
       "0       Verge  Longform      1.0     NaN  NaN  \n",
       "1       Verge  Longform      1.0     NaN  NaN  \n",
       "2       Verge  Longform      1.0     NaN  NaN  \n",
       "3       Verge  Longform      1.0     NaN  NaN  \n",
       "4       Verge  Longform      1.0     NaN  NaN  "
      ]
     },
     "execution_count": 4,
     "metadata": {},
     "output_type": "execute_result"
    }
   ],
   "source": [
    "all_news_df.head()"
   ]
  },
  {
   "cell_type": "code",
   "execution_count": 5,
   "metadata": {},
   "outputs": [
    {
     "name": "stdout",
     "output_type": "stream",
     "text": [
      "Index(['index', 'id', 'title', 'author', 'date', 'content', 'year', 'month',\n",
      "       'publication', 'category', 'digital', 'section', 'url'],\n",
      "      dtype='object')\n"
     ]
    }
   ],
   "source": [
    "# show columns\n",
    "print(all_news_df.columns)"
   ]
  },
  {
   "cell_type": "code",
   "execution_count": 6,
   "metadata": {},
   "outputs": [
    {
     "data": {
      "text/html": [
       "<div>\n",
       "<style scoped>\n",
       "    .dataframe tbody tr th:only-of-type {\n",
       "        vertical-align: middle;\n",
       "    }\n",
       "\n",
       "    .dataframe tbody tr th {\n",
       "        vertical-align: top;\n",
       "    }\n",
       "\n",
       "    .dataframe thead th {\n",
       "        text-align: right;\n",
       "    }\n",
       "</style>\n",
       "<table border=\"1\" class=\"dataframe\">\n",
       "  <thead>\n",
       "    <tr style=\"text-align: right;\">\n",
       "      <th></th>\n",
       "      <th>year</th>\n",
       "      <th>month</th>\n",
       "      <th>digital</th>\n",
       "    </tr>\n",
       "  </thead>\n",
       "  <tbody>\n",
       "    <tr>\n",
       "      <th>count</th>\n",
       "      <td>191530.000000</td>\n",
       "      <td>191530.000000</td>\n",
       "      <td>193115.000000</td>\n",
       "    </tr>\n",
       "    <tr>\n",
       "      <th>mean</th>\n",
       "      <td>2016.312374</td>\n",
       "      <td>5.723589</td>\n",
       "      <td>1.060435</td>\n",
       "    </tr>\n",
       "    <tr>\n",
       "      <th>std</th>\n",
       "      <td>0.833314</td>\n",
       "      <td>3.467818</td>\n",
       "      <td>1.200331</td>\n",
       "    </tr>\n",
       "    <tr>\n",
       "      <th>min</th>\n",
       "      <td>2000.000000</td>\n",
       "      <td>1.000000</td>\n",
       "      <td>0.000000</td>\n",
       "    </tr>\n",
       "    <tr>\n",
       "      <th>25%</th>\n",
       "      <td>2016.000000</td>\n",
       "      <td>3.000000</td>\n",
       "      <td>0.000000</td>\n",
       "    </tr>\n",
       "    <tr>\n",
       "      <th>50%</th>\n",
       "      <td>2016.000000</td>\n",
       "      <td>5.000000</td>\n",
       "      <td>1.000000</td>\n",
       "    </tr>\n",
       "    <tr>\n",
       "      <th>75%</th>\n",
       "      <td>2017.000000</td>\n",
       "      <td>9.000000</td>\n",
       "      <td>1.000000</td>\n",
       "    </tr>\n",
       "    <tr>\n",
       "      <th>max</th>\n",
       "      <td>2018.000000</td>\n",
       "      <td>12.000000</td>\n",
       "      <td>4.000000</td>\n",
       "    </tr>\n",
       "  </tbody>\n",
       "</table>\n",
       "</div>"
      ],
      "text/plain": [
       "                year          month        digital\n",
       "count  191530.000000  191530.000000  193115.000000\n",
       "mean     2016.312374       5.723589       1.060435\n",
       "std         0.833314       3.467818       1.200331\n",
       "min      2000.000000       1.000000       0.000000\n",
       "25%      2016.000000       3.000000       0.000000\n",
       "50%      2016.000000       5.000000       1.000000\n",
       "75%      2017.000000       9.000000       1.000000\n",
       "max      2018.000000      12.000000       4.000000"
      ]
     },
     "execution_count": 6,
     "metadata": {},
     "output_type": "execute_result"
    }
   ],
   "source": [
    "# show descriptions\n",
    "all_news_df.describe()"
   ]
  },
  {
   "cell_type": "code",
   "execution_count": 7,
   "metadata": {},
   "outputs": [
    {
     "data": {
      "text/plain": [
       "index               0\n",
       "id                  0\n",
       "title               5\n",
       "author          54071\n",
       "date            34274\n",
       "content         37072\n",
       "year            34274\n",
       "month           34274\n",
       "publication     29384\n",
       "category        57091\n",
       "digital         32689\n",
       "section        151232\n",
       "url            127008\n",
       "dtype: int64"
      ]
     },
     "execution_count": 7,
     "metadata": {},
     "output_type": "execute_result"
    }
   ],
   "source": [
    "# determine number of nan\n",
    "all_news_df.isnull().sum()"
   ]
  },
  {
   "cell_type": "code",
   "execution_count": 8,
   "metadata": {},
   "outputs": [],
   "source": [
    "# remove articles that are nan\n",
    "all_news_df = all_news_df[pd.notnull(all_news_df['content'])]"
   ]
  },
  {
   "cell_type": "code",
   "execution_count": 9,
   "metadata": {},
   "outputs": [
    {
     "data": {
      "text/plain": [
       "index               0\n",
       "id                  0\n",
       "title               3\n",
       "author          19967\n",
       "date             4422\n",
       "content             0\n",
       "year             4422\n",
       "month            4422\n",
       "publication         4\n",
       "category        26607\n",
       "digital          3268\n",
       "section        117336\n",
       "url             97449\n",
       "dtype: int64"
      ]
     },
     "execution_count": 9,
     "metadata": {},
     "output_type": "execute_result"
    }
   ],
   "source": [
    "all_news_df.isnull().sum()"
   ]
  },
  {
   "cell_type": "code",
   "execution_count": 10,
   "metadata": {},
   "outputs": [
    {
     "data": {
      "image/png": "[encoded data removed]",
      "text/plain": [
       "<Figure size 720x360 with 1 Axes>"
      ]
     },
     "metadata": {
      "needs_background": "light"
     },
     "output_type": "display_data"
    },
    {
     "data": {
      "text/plain": [
       "<Figure size 432x288 with 0 Axes>"
      ]
     },
     "metadata": {},
     "output_type": "display_data"
    }
   ],
   "source": [
    "# plot histograms of data across publications\n",
    "\n",
    "plt.figure(figsize=(10,5));\n",
    "sns.countplot(all_news_df['publication'])\n",
    "plt.ylabel('N');\n",
    "sns.set_context('talk', font_scale=1.5);\n",
    "plt.xticks(rotation=90);\n",
    "plt.show();\n",
    "plt.clf();"
   ]
  },
  {
   "cell_type": "markdown",
   "metadata": {},
   "source": [
    "We see a decent distribution of data across news media organizations and also across the political spectrum."
   ]
  },
  {
   "cell_type": "code",
   "execution_count": 11,
   "metadata": {},
   "outputs": [
    {
     "data": {
      "image/png": "[encoded data removed]",
      "text/plain": [
       "<Figure size 720x360 with 1 Axes>"
      ]
     },
     "metadata": {
      "needs_background": "light"
     },
     "output_type": "display_data"
    },
    {
     "data": {
      "text/plain": [
       "<Figure size 432x288 with 0 Axes>"
      ]
     },
     "metadata": {},
     "output_type": "display_data"
    }
   ],
   "source": [
    "# plot histograms across year published\n",
    "\n",
    "plt.figure(figsize=(10,5));\n",
    "sns.countplot(all_news_df['year'])\n",
    "plt.ylabel('N');\n",
    "sns.set_context('talk', font_scale=1.5);\n",
    "plt.xticks(rotation=90);\n",
    "plt.yscale('log')\n",
    "plt.show();\n",
    "plt.clf()"
   ]
  },
  {
   "cell_type": "markdown",
   "metadata": {},
   "source": [
    "Articles are mostly from 2015 to 2018. There are some older articles. This may make topic modeling of older news difficult."
   ]
  },
  {
   "cell_type": "code",
   "execution_count": 12,
   "metadata": {},
   "outputs": [
    {
     "data": {
      "image/png": "[encoded data removed]",
      "text/plain": [
       "<Figure size 720x360 with 1 Axes>"
      ]
     },
     "metadata": {
      "needs_background": "light"
     },
     "output_type": "display_data"
    },
    {
     "data": {
      "text/plain": [
       "<Figure size 432x288 with 0 Axes>"
      ]
     },
     "metadata": {},
     "output_type": "display_data"
    }
   ],
   "source": [
    "# plot histograms across type/category of article\n",
    "\n",
    "plt.figure(figsize=(10,5));\n",
    "sns.countplot(all_news_df['category'])\n",
    "plt.ylabel('N');\n",
    "sns.set_context('talk', font_scale=1.5);\n",
    "plt.xticks(rotation=90);\n",
    "plt.yscale('log')\n",
    "plt.show();\n",
    "plt.clf()"
   ]
  },
  {
   "cell_type": "markdown",
   "metadata": {},
   "source": [
    "There are pletny of news paper articles. The radio component is interesting. What is that?"
   ]
  },
  {
   "cell_type": "code",
   "execution_count": 13,
   "metadata": {},
   "outputs": [
    {
     "data": {
      "text/html": [
       "<div>\n",
       "<style scoped>\n",
       "    .dataframe tbody tr th:only-of-type {\n",
       "        vertical-align: middle;\n",
       "    }\n",
       "\n",
       "    .dataframe tbody tr th {\n",
       "        vertical-align: top;\n",
       "    }\n",
       "\n",
       "    .dataframe thead th {\n",
       "        text-align: right;\n",
       "    }\n",
       "</style>\n",
       "<table border=\"1\" class=\"dataframe\">\n",
       "  <thead>\n",
       "    <tr style=\"text-align: right;\">\n",
       "      <th></th>\n",
       "      <th>index</th>\n",
       "      <th>id</th>\n",
       "      <th>title</th>\n",
       "      <th>author</th>\n",
       "      <th>date</th>\n",
       "      <th>content</th>\n",
       "      <th>year</th>\n",
       "      <th>month</th>\n",
       "      <th>publication</th>\n",
       "      <th>category</th>\n",
       "      <th>digital</th>\n",
       "      <th>section</th>\n",
       "      <th>url</th>\n",
       "    </tr>\n",
       "  </thead>\n",
       "  <tbody>\n",
       "    <tr>\n",
       "      <th>126586</th>\n",
       "      <td>126586</td>\n",
       "      <td>160641</td>\n",
       "      <td>Thanks To Russia, 2016 Isn't Really Going To E...</td>\n",
       "      <td>Ron Elving</td>\n",
       "      <td>2016-12-31</td>\n",
       "      <td>[In the Washington of 2016, even when the poli...</td>\n",
       "      <td>2016.0</td>\n",
       "      <td>12.0</td>\n",
       "      <td>NPR</td>\n",
       "      <td>radio</td>\n",
       "      <td>3.0</td>\n",
       "      <td>NaN</td>\n",
       "      <td>http://www.npr.org/2016/12/31/507596704/for-tr...</td>\n",
       "    </tr>\n",
       "    <tr>\n",
       "      <th>126587</th>\n",
       "      <td>126587</td>\n",
       "      <td>160642</td>\n",
       "      <td>Trump Tweets Give A Glimpse Into Foreign Polic...</td>\n",
       "      <td>Jessica Taylor</td>\n",
       "      <td>2016-12-28</td>\n",
       "      <td>[President-elect Donald Trump has used Twitter...</td>\n",
       "      <td>2016.0</td>\n",
       "      <td>12.0</td>\n",
       "      <td>NPR</td>\n",
       "      <td>radio</td>\n",
       "      <td>3.0</td>\n",
       "      <td>NaN</td>\n",
       "      <td>http://www.npr.org/2016/12/28/507284226/trump-...</td>\n",
       "    </tr>\n",
       "    <tr>\n",
       "      <th>126588</th>\n",
       "      <td>126588</td>\n",
       "      <td>160643</td>\n",
       "      <td>As U.S. Confronts Russia, Trump's Admiration O...</td>\n",
       "      <td>Arnie Seipel</td>\n",
       "      <td>2016-12-30</td>\n",
       "      <td>[President-elect Donald Trump is unabashedly p...</td>\n",
       "      <td>2016.0</td>\n",
       "      <td>12.0</td>\n",
       "      <td>NPR</td>\n",
       "      <td>radio</td>\n",
       "      <td>3.0</td>\n",
       "      <td>NaN</td>\n",
       "      <td>http://www.npr.org/2016/12/30/507584595/as-u-s...</td>\n",
       "    </tr>\n",
       "    <tr>\n",
       "      <th>126589</th>\n",
       "      <td>126589</td>\n",
       "      <td>160644</td>\n",
       "      <td>Putin Says Russia Won't Expel Diplomats In Res...</td>\n",
       "      <td>Camila Domonoske</td>\n",
       "      <td>2016-12-30</td>\n",
       "      <td>[Updated at 2:50 p.m. ET, Russian President Vl...</td>\n",
       "      <td>2016.0</td>\n",
       "      <td>12.0</td>\n",
       "      <td>NPR</td>\n",
       "      <td>radio</td>\n",
       "      <td>3.0</td>\n",
       "      <td>thetwo-way</td>\n",
       "      <td>http://www.npr.org/sections/thetwo-way/2016/12...</td>\n",
       "    </tr>\n",
       "    <tr>\n",
       "      <th>126590</th>\n",
       "      <td>126590</td>\n",
       "      <td>160645</td>\n",
       "      <td>(Some Of) Our Favorite Visual Stories of 2016</td>\n",
       "      <td>Ariel Zambelich</td>\n",
       "      <td>2016-12-31</td>\n",
       "      <td>[From photography, illustration and video, to ...</td>\n",
       "      <td>2016.0</td>\n",
       "      <td>12.0</td>\n",
       "      <td>NPR</td>\n",
       "      <td>radio</td>\n",
       "      <td>3.0</td>\n",
       "      <td>NaN</td>\n",
       "      <td>http://www.npr.org/2016/12/31/507590770/-some-...</td>\n",
       "    </tr>\n",
       "  </tbody>\n",
       "</table>\n",
       "</div>"
      ],
      "text/plain": [
       "         index      id                                              title  \\\n",
       "126586  126586  160641  Thanks To Russia, 2016 Isn't Really Going To E...   \n",
       "126587  126587  160642  Trump Tweets Give A Glimpse Into Foreign Polic...   \n",
       "126588  126588  160643  As U.S. Confronts Russia, Trump's Admiration O...   \n",
       "126589  126589  160644  Putin Says Russia Won't Expel Diplomats In Res...   \n",
       "126590  126590  160645      (Some Of) Our Favorite Visual Stories of 2016   \n",
       "\n",
       "                  author        date  \\\n",
       "126586        Ron Elving  2016-12-31   \n",
       "126587    Jessica Taylor  2016-12-28   \n",
       "126588      Arnie Seipel  2016-12-30   \n",
       "126589  Camila Domonoske  2016-12-30   \n",
       "126590   Ariel Zambelich  2016-12-31   \n",
       "\n",
       "                                                  content    year  month  \\\n",
       "126586  [In the Washington of 2016, even when the poli...  2016.0   12.0   \n",
       "126587  [President-elect Donald Trump has used Twitter...  2016.0   12.0   \n",
       "126588  [President-elect Donald Trump is unabashedly p...  2016.0   12.0   \n",
       "126589  [Updated at 2:50 p.m. ET, Russian President Vl...  2016.0   12.0   \n",
       "126590  [From photography, illustration and video, to ...  2016.0   12.0   \n",
       "\n",
       "       publication category  digital     section  \\\n",
       "126586         NPR    radio      3.0         NaN   \n",
       "126587         NPR    radio      3.0         NaN   \n",
       "126588         NPR    radio      3.0         NaN   \n",
       "126589         NPR    radio      3.0  thetwo-way   \n",
       "126590         NPR    radio      3.0         NaN   \n",
       "\n",
       "                                                      url  \n",
       "126586  http://www.npr.org/2016/12/31/507596704/for-tr...  \n",
       "126587  http://www.npr.org/2016/12/28/507284226/trump-...  \n",
       "126588  http://www.npr.org/2016/12/30/507584595/as-u-s...  \n",
       "126589  http://www.npr.org/sections/thetwo-way/2016/12...  \n",
       "126590  http://www.npr.org/2016/12/31/507590770/-some-...  "
      ]
     },
     "execution_count": 13,
     "metadata": {},
     "output_type": "execute_result"
    }
   ],
   "source": [
    "radio_news = all_news_df.loc[all_news_df['category'] == 'radio']\n",
    "\n",
    "radio_news.head()\n"
   ]
  },
  {
   "cell_type": "code",
   "execution_count": 14,
   "metadata": {},
   "outputs": [
    {
     "data": {
      "image/png": "[encoded data removed]",
      "text/plain": [
       "<Figure size 720x360 with 1 Axes>"
      ]
     },
     "metadata": {
      "needs_background": "light"
     },
     "output_type": "display_data"
    },
    {
     "data": {
      "text/plain": [
       "<Figure size 432x288 with 0 Axes>"
      ]
     },
     "metadata": {},
     "output_type": "display_data"
    }
   ],
   "source": [
    "plt.figure(figsize=(10,5));\n",
    "sns.countplot(radio_news['publication'])\n",
    "plt.ylabel('N');\n",
    "sns.set_context('talk', font_scale=1.5);\n",
    "plt.xticks(rotation=90);\n",
    "plt.show();\n",
    "plt.clf();"
   ]
  },
  {
   "cell_type": "markdown",
   "metadata": {},
   "source": [
    "The radio news is entirely \"NPR\". Interesting. Let's look at an article to get a sense of whether it is transcribed from an interview or an NPR news article."
   ]
  },
  {
   "cell_type": "code",
   "execution_count": 15,
   "metadata": {},
   "outputs": [
    {
     "data": {
      "text/plain": [
       "'[President-elect Donald Trump has used Twitter — his preferred means of communication — to weigh in on a swath of foreign policy issues over the past few weeks., His comments give a glimpse into how his incoming administration will deal with pressing foreign matters — but also highlight how reactionary comments on social media can immediately spur international concern and attention. And his staff has indicated that taking to Twitter to air his concerns or, often, grievances, won\\'t end once he enters the Oval Office., On Wednesday, Trump blasted the U.S.\\'s abstention from the U.N. Security Council vote on Israeli settlements earlier this month., , The tweets came just hours before Secretary of State John Kerry gave a speech defending the decision and calling the continued building of settlements on Palestinian territory in the West Bank a threat to the two-state solution in the region., Trump\\'s support for Israel and Prime Minister Benjamin Netanyahu — who has had a fraught relationship with President Obama — may be the biggest forthcoming shift in immediate foreign policy between the outgoing and incoming administrations. Throughout the campaign, he pledged that his administration would be a steadfast ally of Israel., To underscore that, Netanyahu replied to one of Trump\\'s morning tweets, thanking him — and also his children Donald Jr. and Ivanka, who are close advisers — for their support. Ivanka converted to Judaism when she married her husband, Jared Kushner., An Israeli official told CNN the government will give the Trump administration \"detailed, sensitive information\" proving that the U.S. worked to push through the resolution. The Obama administration has denied those claims., Last week, after the U.S. decided not to veto the resolution, Trump also tweeted that \"things will be different\" come his inauguration, and then on Monday he again blasted the U.N. as ineffective., The Israeli settlement issue has been at the forefront in recent days, but last week Trump also weighed in on nuclear issues. In a tweet, Trump called for the U.S. to strengthen its nuclear arsenal. MSNBC\\'s Morning Joe reported that the president-elect told them he wanted an \"arms race. We will outmatch them at every pass.\", As the Washington Post\\'s Dan Zak told NPR\\'s Robert Siegel on All Things Considered last Friday, Trump was inconsistent in his statements about nuclear weapons during the campaign., \"Trump said, you know, he\\'d be the last to use nuclear weapons. Nuclear weapons are a horror. He seemed to understand what they\\'re capable of doing,\" Zak said. \"At the same time, he said it was only a matter of time until countries like South Korea and Japan get nuclear weapons. He seemed to tacitly or not so tacitly endorse proliferation, again going against decades of international policy.\", Trump also slammed China for its seizure of an unmanned U.S. Navy underwater drone, calling it \"unpresidented\" in a tweet before correcting the typo in a new tweet., After talks with the Pentagon, China agreed to return the drone, but then Trump later said the country should keep it., It\\'s not the first time Trump has stoked tensions with China. In a stark break with protocol, Trump spoke on the phone with Taiwanese President Tsai Ing-wen earlier this month. Beijing considers Taiwan to be a renegade province and doesn\\'t recognize it, and most other countries don\\'t either. The U.S. has operated under a \"one China\" policy for more than four decades., Throughout the campaign, Trump blasted China for taking away U.S. jobs and claimed it was intentionally devaluing its currency to boost exports. He has blasted U.S. companies that manufacture goods in China, but as a New York Times story noted Wednesday morning, many of his daughter Ivanka\\'s clothing and shoe lines are made in China much of Trump\\'s own apparel line is also made overseas, including in China.]'"
      ]
     },
     "execution_count": 15,
     "metadata": {},
     "output_type": "execute_result"
    }
   ],
   "source": [
    "radio_news.iloc[1,5]"
   ]
  },
  {
   "cell_type": "markdown",
   "metadata": {},
   "source": [
    "Is this transcribed from a radio recording or a news article from NPR? A quick Google search verifies it is a news article. I think it is certainly okay to include this."
   ]
  },
  {
   "cell_type": "code",
   "execution_count": 16,
   "metadata": {},
   "outputs": [
    {
     "data": {
      "text/html": [
       "<div>\n",
       "<style scoped>\n",
       "    .dataframe tbody tr th:only-of-type {\n",
       "        vertical-align: middle;\n",
       "    }\n",
       "\n",
       "    .dataframe tbody tr th {\n",
       "        vertical-align: top;\n",
       "    }\n",
       "\n",
       "    .dataframe thead th {\n",
       "        text-align: right;\n",
       "    }\n",
       "</style>\n",
       "<table border=\"1\" class=\"dataframe\">\n",
       "  <thead>\n",
       "    <tr style=\"text-align: right;\">\n",
       "      <th></th>\n",
       "      <th>index</th>\n",
       "      <th>id</th>\n",
       "      <th>title</th>\n",
       "      <th>author</th>\n",
       "      <th>date</th>\n",
       "      <th>content</th>\n",
       "      <th>year</th>\n",
       "      <th>month</th>\n",
       "      <th>publication</th>\n",
       "      <th>category</th>\n",
       "      <th>digital</th>\n",
       "      <th>section</th>\n",
       "      <th>url</th>\n",
       "      <th>article_length</th>\n",
       "    </tr>\n",
       "  </thead>\n",
       "  <tbody>\n",
       "    <tr>\n",
       "      <th>0</th>\n",
       "      <td>0</td>\n",
       "      <td>1</td>\n",
       "      <td>Agent Cooper in Twin Peaks is the audience: on...</td>\n",
       "      <td>\\nTasha Robinson\\n</td>\n",
       "      <td>2017-05-31</td>\n",
       "      <td>And never more so than in Showtime’s new...</td>\n",
       "      <td>2017.0</td>\n",
       "      <td>5.0</td>\n",
       "      <td>Verge</td>\n",
       "      <td>Longform</td>\n",
       "      <td>1.0</td>\n",
       "      <td>NaN</td>\n",
       "      <td>NaN</td>\n",
       "      <td>2121</td>\n",
       "    </tr>\n",
       "    <tr>\n",
       "      <th>1</th>\n",
       "      <td>1</td>\n",
       "      <td>2</td>\n",
       "      <td>AI, the humanity!</td>\n",
       "      <td>\\nSam Byford\\n</td>\n",
       "      <td>2017-05-30</td>\n",
       "      <td>AlphaGo’s victory isn’t a defeat for hum...</td>\n",
       "      <td>2017.0</td>\n",
       "      <td>5.0</td>\n",
       "      <td>Verge</td>\n",
       "      <td>Longform</td>\n",
       "      <td>1.0</td>\n",
       "      <td>NaN</td>\n",
       "      <td>NaN</td>\n",
       "      <td>1948</td>\n",
       "    </tr>\n",
       "    <tr>\n",
       "      <th>2</th>\n",
       "      <td>2</td>\n",
       "      <td>3</td>\n",
       "      <td>The Viral Machine</td>\n",
       "      <td>\\nKaitlyn Tiffany\\n</td>\n",
       "      <td>2017-05-25</td>\n",
       "      <td>Super Deluxe built a weird internet empi...</td>\n",
       "      <td>2017.0</td>\n",
       "      <td>5.0</td>\n",
       "      <td>Verge</td>\n",
       "      <td>Longform</td>\n",
       "      <td>1.0</td>\n",
       "      <td>NaN</td>\n",
       "      <td>NaN</td>\n",
       "      <td>3011</td>\n",
       "    </tr>\n",
       "    <tr>\n",
       "      <th>3</th>\n",
       "      <td>3</td>\n",
       "      <td>4</td>\n",
       "      <td>How Anker is beating Apple and Samsung at thei...</td>\n",
       "      <td>\\nNick Statt\\n</td>\n",
       "      <td>2017-05-22</td>\n",
       "      <td>Steven Yang quit his job at Google in th...</td>\n",
       "      <td>2017.0</td>\n",
       "      <td>5.0</td>\n",
       "      <td>Verge</td>\n",
       "      <td>Longform</td>\n",
       "      <td>1.0</td>\n",
       "      <td>NaN</td>\n",
       "      <td>NaN</td>\n",
       "      <td>3281</td>\n",
       "    </tr>\n",
       "    <tr>\n",
       "      <th>4</th>\n",
       "      <td>4</td>\n",
       "      <td>5</td>\n",
       "      <td>Tour Black Panther’s reimagined homeland with ...</td>\n",
       "      <td>\\nKwame Opam\\n</td>\n",
       "      <td>2017-05-15</td>\n",
       "      <td>Ahead of Black Panther’s 2018 theatrical...</td>\n",
       "      <td>2017.0</td>\n",
       "      <td>5.0</td>\n",
       "      <td>Verge</td>\n",
       "      <td>Longform</td>\n",
       "      <td>1.0</td>\n",
       "      <td>NaN</td>\n",
       "      <td>NaN</td>\n",
       "      <td>239</td>\n",
       "    </tr>\n",
       "  </tbody>\n",
       "</table>\n",
       "</div>"
      ],
      "text/plain": [
       "  index id                                              title  \\\n",
       "0     0  1  Agent Cooper in Twin Peaks is the audience: on...   \n",
       "1     1  2                                  AI, the humanity!   \n",
       "2     2  3                                  The Viral Machine   \n",
       "3     3  4  How Anker is beating Apple and Samsung at thei...   \n",
       "4     4  5  Tour Black Panther’s reimagined homeland with ...   \n",
       "\n",
       "                author        date  \\\n",
       "0   \\nTasha Robinson\\n  2017-05-31   \n",
       "1       \\nSam Byford\\n  2017-05-30   \n",
       "2  \\nKaitlyn Tiffany\\n  2017-05-25   \n",
       "3       \\nNick Statt\\n  2017-05-22   \n",
       "4       \\nKwame Opam\\n  2017-05-15   \n",
       "\n",
       "                                             content    year  month  \\\n",
       "0        And never more so than in Showtime’s new...  2017.0    5.0   \n",
       "1        AlphaGo’s victory isn’t a defeat for hum...  2017.0    5.0   \n",
       "2        Super Deluxe built a weird internet empi...  2017.0    5.0   \n",
       "3        Steven Yang quit his job at Google in th...  2017.0    5.0   \n",
       "4        Ahead of Black Panther’s 2018 theatrical...  2017.0    5.0   \n",
       "\n",
       "  publication  category  digital section  url  article_length  \n",
       "0       Verge  Longform      1.0     NaN  NaN            2121  \n",
       "1       Verge  Longform      1.0     NaN  NaN            1948  \n",
       "2       Verge  Longform      1.0     NaN  NaN            3011  \n",
       "3       Verge  Longform      1.0     NaN  NaN            3281  \n",
       "4       Verge  Longform      1.0     NaN  NaN             239  "
      ]
     },
     "execution_count": 16,
     "metadata": {},
     "output_type": "execute_result"
    }
   ],
   "source": [
    "# let's look at the lengths of the articles in words. first compute their lengths\n",
    "all_news_df['article_length'] = all_news_df.apply(lambda x: len(x['content'].split(' ')),axis=1)\n",
    "all_news_df.head()"
   ]
  },
  {
   "cell_type": "code",
   "execution_count": 17,
   "metadata": {},
   "outputs": [
    {
     "data": {
      "image/png": "[encoded data removed]",
      "text/plain": [
       "<Figure size 720x360 with 1 Axes>"
      ]
     },
     "metadata": {
      "needs_background": "light"
     },
     "output_type": "display_data"
    },
    {
     "data": {
      "text/plain": [
       "<Figure size 432x288 with 0 Axes>"
      ]
     },
     "metadata": {},
     "output_type": "display_data"
    }
   ],
   "source": [
    "plt.figure(figsize=(10,5));\n",
    "sns.distplot(all_news_df['article_length'],kde=False,bins=np.arange(0,10000,10))\n",
    "plt.ylabel('N');\n",
    "sns.set_context('talk', font_scale=1.5);\n",
    "plt.xticks(rotation=90);\n",
    "plt.xscale('log')\n",
    "plt.show();\n",
    "plt.clf()"
   ]
  },
  {
   "cell_type": "markdown",
   "metadata": {},
   "source": [
    "There are many short articles. I think it is fair to remove the shortest ones. We will choose a cut off of 50 words to\n",
    "keep some shorter articles."
   ]
  },
  {
   "cell_type": "code",
   "execution_count": 18,
   "metadata": {},
   "outputs": [],
   "source": [
    "all_news_df = all_news_df.loc[all_news_df['article_length'] > 50]"
   ]
  },
  {
   "cell_type": "code",
   "execution_count": 19,
   "metadata": {},
   "outputs": [
    {
     "data": {
      "image/png": "[encoded data removed]",
      "text/plain": [
       "<Figure size 720x360 with 1 Axes>"
      ]
     },
     "metadata": {
      "needs_background": "light"
     },
     "output_type": "display_data"
    },
    {
     "data": {
      "text/plain": [
       "<Figure size 432x288 with 0 Axes>"
      ]
     },
     "metadata": {},
     "output_type": "display_data"
    }
   ],
   "source": [
    "plt.figure(figsize=(10,5));\n",
    "sns.distplot(all_news_df['article_length'],kde=False,bins=np.arange(0,10000,10))\n",
    "plt.ylabel('N');\n",
    "sns.set_context('talk', font_scale=1.5);\n",
    "plt.xticks(rotation=90);\n",
    "plt.xscale('log')\n",
    "plt.show();\n",
    "plt.clf()"
   ]
  },
  {
   "cell_type": "markdown",
   "metadata": {},
   "source": [
    "This looks like a reasonable distribution of articles to work with as the corpus."
   ]
  },
  {
   "cell_type": "code",
   "execution_count": 20,
   "metadata": {},
   "outputs": [
    {
     "data": {
      "text/plain": [
       "(182636,)"
      ]
     },
     "execution_count": 20,
     "metadata": {},
     "output_type": "execute_result"
    }
   ],
   "source": [
    "all_news_df['content'].shape"
   ]
  },
  {
   "cell_type": "markdown",
   "metadata": {},
   "source": [
    "There are ~180,000 articles in this final article corpus. Save it to a csv."
   ]
  },
  {
   "cell_type": "code",
   "execution_count": 21,
   "metadata": {},
   "outputs": [],
   "source": [
    "all_news_df.to_csv('./all_the_news/all_news_df_processed.csv', index_label='index')"
   ]
  }
 ],
 "metadata": {
  "kernelspec": {
   "display_name": "Python 3",
   "language": "python",
   "name": "python3"
  },
  "language_info": {
   "codemirror_mode": {
    "name": "ipython",
    "version": 3
   },
   "file_extension": ".py",
   "mimetype": "text/x-python",
   "name": "python",
   "nbconvert_exporter": "python",
   "pygments_lexer": "ipython3",
   "version": "3.7.9"
  }
 },
 "nbformat": 4,
 "nbformat_minor": 4
}
