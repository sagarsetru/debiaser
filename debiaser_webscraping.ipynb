{
 "cells": [
  {
   "cell_type": "markdown",
   "metadata": {},
   "source": [
    "# Webscraping EDA \n",
    "### Sagar Setru, 17 September 2020"
   ]
  },
  {
   "cell_type": "code",
   "execution_count": 2,
   "metadata": {},
   "outputs": [],
   "source": [
    "# import basic ds packages\n",
    "\n",
    "import pandas as pd\n",
    "import numpy as np\n",
    "import matplotlib.pyplot as plt\n",
    "import seaborn as sns"
   ]
  },
  {
   "cell_type": "code",
   "execution_count": 3,
   "metadata": {},
   "outputs": [],
   "source": [
    "# importing packages for webscraping\n",
    "# following https://towardsdatascience.com/web-scraping-news-articles-in-python-9dd605799558\n",
    "\n",
    "import requests\n",
    "from bs4 import BeautifulSoup\n",
    "import urllib.request,sys,time"
   ]
  },
  {
   "cell_type": "code",
   "execution_count": 4,
   "metadata": {},
   "outputs": [],
   "source": [
    "# get list of urls for initial tests\n",
    "\n",
    "urls = [\n",
    "    \"https://www.wsj.com/articles/global-stock-markets-dow-update-9-17-2020-11600334220?mod=hp_lead_pos1\",\n",
    "    \"https://www.theguardian.com/sport/2020/sep/17/andy-murray-backs-calls-to-remove-margaret-courts-name-from-tennis-arena\",\n",
    "    \"https://www.foxnews.com/world/british-man-live-snake-face-mask-public-bus-photo\",\n",
    "    \"https://www.cnn.com/2020/09/17/weather/storm-sally-thursday/index.html\",\n",
    "]\n"
   ]
  },
  {
   "cell_type": "code",
   "execution_count": 22,
   "metadata": {},
   "outputs": [
    {
     "name": "stdout",
     "output_type": "stream",
     "text": [
      "404\n",
      " \n",
      "[<p aria-hidden=\"true\" aria-label=\"Column Name\" class=\"style--column-name--2-jhrm36\" id=\"footer-wsj-membership\">WSJ Membership</p>, <p aria-hidden=\"true\" aria-label=\"Column Name\" class=\"style--column-name--2-jhrm36\" id=\"footer-customer-service\">Customer Service</p>, <p aria-hidden=\"true\" aria-label=\"Column Name\" class=\"style--column-name--2-jhrm36\" id=\"footer-tools-&amp;-features\">Tools &amp; Features</p>, <p aria-hidden=\"true\" aria-label=\"Column Name\" class=\"style--column-name--2-jhrm36\" id=\"footer-ads\">Ads</p>, <p aria-hidden=\"true\" aria-label=\"Column Name\" class=\"style--column-name--2-jhrm36\" id=\"footer-more\">More</p>, <p class=\"style--products-title--1iCS_smA\" id=\"footer-products-title\">Dow Jones Products</p>]\n",
      " \n",
      "['WSJ Membership', 'Customer Service', 'Tools & Features', 'Ads', 'More', 'Dow Jones Products']\n",
      " \n",
      "\n",
      "Andy Murray backs calls to remove Margaret Court's name from tennis arena\n",
      "\n",
      " \n",
      "[<p class=\"byline\" data-component=\"meta-byline\" data-link-name=\"byline\">Reuters</p>, <p aria-hidden=\"true\" class=\"content__dateline\">\n",
      "<time class=\"content__dateline-wpd js-wpd\" data-timestamp=\"1600318019000\" datetime=\"2020-09-17T00:46:59-0400\" itemprop=\"datePublished\">\n",
      "Thu 17 Sep 2020 <span class=\"content__dateline-time\">00.46 EDT</span>\n",
      "</time>\n",
      "<time class=\"content__dateline-lm js-lm u-h\" data-timestamp=\"1600332683000\" datetime=\"2020-09-17T04:51:23-0400\" itemprop=\"dateModified\">\n",
      "Last modified on Thu 17 Sep 2020 <span class=\"content__dateline-time\">04.51 EDT</span>\n",
      "</time>\n",
      "</p>, <p>Andy Murray thinks the <a class=\"u-underline\" data-component=\"auto-linked-tag\" data-link-name=\"auto-linked-tag\" href=\"https://www.theguardian.com/sport/australian-open\">Australian Open</a> should consider removing Margaret Court’s name from the arena at Melbourne Park as he says the multiple grand slam champion’s values are at odds with what tennis stands for.</p>, <p>The 78-year-old Court, who holds the all-time record of 24 major singles titles, has been heavily criticised for voicing her religious-based opposition to same-sex marriage and transgender athletes.</p>, <p>“When you get to the Australian Open you want to concentrate on the tennis. Court’s views detract from that,” Murray, a five-times finalist at Melbourne Park, <a class=\"u-underline\" data-link-name=\"in body link\" href=\"https://pridelife.com/features/andy-murray-grand-slam-hunk/\">told Pride Life</a>.</p>, <p>“As far as renaming the venue ... yes, it’s something the sport should consider. I don’t know who makes the final decision on that but I don’t think her values are what tennis stands for.”</p>, <p><a class=\"u-underline\" data-component=\"auto-linked-tag\" data-link-name=\"auto-linked-tag\" href=\"https://www.theguardian.com/sport/tennis\">Tennis</a> Australia invited Court to Melbourne Park at this year’s tournament to recognise the 50th anniversary of her 1970 calendar grand slam, while saying it disagreed with her “personal views”.</p>, <p>In a low-key ceremony at Rod Laver Arena before a quarter-final match, Court was handed a replica trophy by 11-times grand slam champion Rod Laver following the screening of a short video of her tennis achievements.</p>, <p>Murray, a three-times grand slam champion and former world No 1, said she had received a lukewarm reception from the public. “She has obviously offended and upset a lot of people over the years,” he added. “I think the players certainly have spoken up, which is a positive thing.”</p>, <p>Tennis greats <a class=\"u-underline\" data-link-name=\"in body link\" href=\"https://www.theguardian.com/sport/2020/jan/28/martina-navratilova-takes-fight-on-court-for-name-change-to-evonne-goolagong-arena\">Martina Navratilova</a> and <a class=\"u-underline\" data-link-name=\"in body link\" href=\"https://www.theguardian.com/sport/2020/jan/27/john-mcenroe-slams-margaret-court-as-the-crazy-aunt-of-tennis\">John McEnroe</a> had also <a class=\"u-underline\" data-link-name=\"in body link\" href=\"https://www.theguardian.com/sport/blog/2020/jan/29/navratilova-mcenroe-sorry-margaret-court-australian-open-tennis\">called for Court’s name to be stripped</a> from the stadium.</p>]\n",
      " \n",
      "['Reuters', 'Thu 17 Sep 2020 00.46\\xa0EDT\\n\\n\\nLast modified on Thu 17 Sep 2020 04.51\\xa0EDT', 'Andy Murray thinks the Australian Open should consider removing Margaret Court’s name from the arena at Melbourne Park as he says the multiple grand slam champion’s values are at odds with what tennis stands for.', 'The 78-year-old Court, who holds the all-time record of 24 major singles titles, has been heavily criticised for voicing her religious-based opposition to same-sex marriage and transgender athletes.', '“When you get to the Australian Open you want to concentrate on the tennis. Court’s views detract from that,” Murray, a five-times finalist at Melbourne Park, told Pride Life.', '“As far as renaming the venue ... yes, it’s something the sport should consider. I don’t know who makes the final decision on that but I don’t think her values are what tennis stands for.”', 'Tennis Australia invited Court to Melbourne Park at this year’s tournament to recognise the 50th anniversary of her 1970 calendar grand slam, while saying it disagreed with her “personal views”.', 'In a low-key ceremony at Rod Laver Arena before a quarter-final match, Court was handed a replica trophy by 11-times grand slam champion Rod Laver following the screening of a short video of her tennis achievements.', 'Murray, a three-times grand slam champion and former world No 1, said she had received a lukewarm reception from the public. “She has obviously offended and upset a lot of people over the years,” he added. “I think the players certainly have spoken up, which is a positive thing.”', 'Tennis greats Martina Navratilova and John McEnroe had also called for Court’s name to be stripped from the stadium.']\n",
      " \n",
      "Man using live snake as face mask boards bus in England\n",
      " \n",
      "[<p class=\"copyright\">\n",
      "      This material may not be published, broadcast, rewritten,\n",
      "      or redistributed. ©2020 FOX News Network, LLC. All rights reserved.\n",
      "      Quotes displayed in real-time or delayed by at least 15 minutes. Market data provided by <a href=\"https://www.factset.com/\">Factset</a>. Powered and implemented by <a href=\"https://www.factset.com/solutions/business-needs/digital-solutions\">FactSet Digital Solutions</a>. <a href=\"https://www.factset.com/privacy\">Legal Statement</a>. Mutual Fund and ETF data provided by <a href=\"https://lipperalpha.refinitiv.com/\">Refinitiv Lipper</a>.\n",
      "    </p>, <p data-v-275a95fe=\"\">Fox News Flash top headlines are here. Check out what's clicking on Foxnews.com.</p>, <p class=\"speakable\">A man was spotted using a live <a href=\"https://www.foxnews.com/category/science/wild-nature/reptiles\" target=\"_blank\">snake</a> as a makeshift face mask on a public bus in <a href=\"https://www.foxnews.com/category/world/world-regions/united-kingdom\" target=\"_blank\">England</a>.</p>, <p class=\"speakable\">The unidentified man was taking the bus from Swinton to Manchester on Monday with the snake wrapped around his neck when another passenger snapped a photo of the bizarre moment.</p>, <p><a href=\"https://www.foxnews.com/science/pythons-australia-kitchen\" target=\"_blank\"><strong>AUSTRALIA MAN FINDS 2 HUGE PYTHONS IN HOME AFTER THEY CRASH THROUGH KITCHEN CEILING</strong></a></p>, <p>A passenger, who wished to remain anonymous, said she first believed the man was only wearing a “funky mask” until the reptile started slithering over the handrails, according to the <a href=\"https://www.bbc.com/news/uk-england-manchester-54163293\" target=\"_blank\">BBC</a>.</p>, <p>The woman said she found the incident “really funny” and the other passengers didn’t seem bothered by the serpent.</p>, <p>“No one batted an eyelid,” she said.</p>, <p>Authorities said a snake is not a proper face covering during the COVID-19 pandemic.</p>, <p><a href=\"https://www.foxnews.com/world/brexit-drama-uk-boris-johnson-override-eu-exit-deal\" target=\"_blank\"><strong>BREXIT DRAMA IN THE UK AS BORIS JOHNSON PUSHES BILL TO OVERRIDE EU EXIT DEAL</strong></a></p>, <p>\"Government guidance clearly states that this needn't be a surgical mask and that passengers can make their own or wear something suitable, such as a scarf or bandana,” a Transport for Greater Manchester spokesperson said in a statement, according to the outlet.</p>, <p>\"While there is a small degree of interpretation that can be applied to this, we do not believe it extends to the use of snakeskin - especially when still attached to the snake,\" the statement said.</p>, <p><strong><a href=\"https://www.foxnews.com/apps-products?pid=AppArticleLink\">CLICK HERE TO GET THE FOX NEWS APP</a></strong></p>, <p>In England, face masks are required on public transportation such as planes, trains, and buses to curb the spread of the coronavirus.</p>, <p class=\"dek\">Get all the stories you need-to-know from the most powerful name in news delivered first thing every morning to your inbox</p>, <p class=\"subscribed hide\">Subscribed</p>, <p class=\"success hide\">You've successfully subscribed to this newsletter!</p>, <p class=\"copyright\">This material may not be published, broadcast, rewritten, or redistributed. ©2020 FOX News Network, LLC. All rights reserved. Quotes displayed in real-time or delayed by at least 15 minutes. Market data provided by <a href=\"https://www.factset.com/\">Factset</a>. Powered and implemented by <a href=\"https://www.factset.com/solutions/business-needs/digital-solutions\">FactSet Digital Solutions</a>. <a href=\"https://www.factset.com/privacy\">Legal Statement</a>. Mutual Fund and ETF data provided by <a href=\"https://lipperalpha.refinitiv.com/\">Refinitiv Lipper</a>.</p>]\n",
      " \n",
      "['This material may not be published, broadcast, rewritten,\\n      or redistributed. ©2020 FOX News Network, LLC. All rights reserved.\\n      Quotes displayed in real-time or delayed by at least 15 minutes. Market data provided by Factset. Powered and implemented by FactSet Digital Solutions. Legal Statement. Mutual Fund and ETF data provided by Refinitiv Lipper.', \"Fox News Flash top headlines are here. Check out what's clicking on Foxnews.com.\", 'A man was spotted using a live snake as a makeshift face mask on a public bus in England.', 'The unidentified man was taking the bus\\xa0from Swinton to Manchester on Monday with the snake wrapped around his neck when another passenger snapped a photo of the bizarre moment.', 'AUSTRALIA MAN FINDS 2 HUGE PYTHONS IN HOME AFTER THEY CRASH THROUGH KITCHEN CEILING', 'A passenger, who wished to remain anonymous, said she first believed the man was only wearing a “funky mask” until the reptile started slithering over the handrails, according to the BBC.', 'The woman said she found the incident “really funny” and the other passengers didn’t seem bothered by the serpent.', '“No one batted an eyelid,” she said.', 'Authorities said a snake is not a proper face covering during the COVID-19 pandemic.', 'BREXIT DRAMA IN THE UK AS BORIS JOHNSON PUSHES BILL TO OVERRIDE EU EXIT DEAL', '\"Government guidance clearly states that this needn\\'t be a surgical mask and that passengers can make their own or wear something suitable, such as a scarf or bandana,” a Transport for Greater Manchester spokesperson said in a statement, according to the outlet.', '\"While there is a small degree of interpretation that can be applied to this, we do not believe it extends to the use of snakeskin - especially when still attached to the snake,\" the statement said.', 'CLICK HERE TO GET THE FOX NEWS APP', 'In England, face masks are required on public transportation such as planes, trains, and buses to curb the spread of the coronavirus.', 'Get all the stories you need-to-know from the most powerful name in news delivered first thing every morning to your inbox', 'Subscribed', \"You've successfully subscribed to this newsletter!\", 'This material may not be published, broadcast, rewritten, or redistributed. ©2020 FOX News Network, LLC. All rights reserved. Quotes displayed in real-time or delayed by at least 15 minutes. Market data provided by Factset. Powered and implemented by FactSet Digital Solutions. Legal Statement. Mutual Fund and ETF data provided by Refinitiv Lipper.']\n",
      " \n"
     ]
    }
   ],
   "source": [
    "# loop through URLs\n",
    "\n",
    "# following here: https://towardsdatascience.com/easily-scrape-and-summarize-news-articles-using-python-dfc7667d9e74\n",
    "\n",
    "for ind, url in enumerate(urls):\n",
    "    \n",
    "    # get html content of url\n",
    "    page = requests.get(url)\n",
    "    coverpage = page.content\n",
    "    \n",
    "    # create soup object\n",
    "    soup = BeautifulSoup(coverpage, 'html.parser')\n",
    "    \n",
    "    # get title\n",
    "    headline = soup.find('h1').get_text()\n",
    "    print(headline)\n",
    "    print(' ')\n",
    "    \n",
    "    # get text from all <p> tags\n",
    "    p_tags = soup.find_all('p')\n",
    "    \n",
    "    # get text from each p tag and strip whitespace\n",
    "    p_tags_text = [tag.get_text().strip() for tag in p_tags]\n",
    "    print(p_tags)\n",
    "    print(' ')\n",
    "    \n",
    "    print(p_tags_text)\n",
    "    print(' ')\n",
    "    # get news text\n",
    "#     coverpage_news = soup1.find_all('h2', class_='articulo-titulo')\n",
    "    \n",
    "    \n",
    "    if ind == 2:\n",
    "        break"
   ]
  },
  {
   "cell_type": "code",
   "execution_count": 11,
   "metadata": {},
   "outputs": [
    {
     "data": {
      "text/plain": [
       "200"
      ]
     },
     "execution_count": 11,
     "metadata": {},
     "output_type": "execute_result"
    }
   ],
   "source": [
    "# coverpage\n",
    "# r1\n",
    "page.status_code"
   ]
  },
  {
   "cell_type": "code",
   "execution_count": 23,
   "metadata": {},
   "outputs": [
    {
     "name": "stdout",
     "output_type": "stream",
     "text": [
      "This material may not be published, broadcast, rewritten,\n",
      "      or redistributed. ©2020 FOX News Network, LLC. All rights reserved.\n",
      "      Quotes displayed in real-time or delayed by at least 15 minutes. Market data provided by Factset. Powered and implemented by FactSet Digital Solutions. Legal Statement. Mutual Fund and ETF data provided by Refinitiv Lipper.Fox News Flash top headlines are here. Check out what's clicking on Foxnews.com.A man was spotted using a live snake as a makeshift face mask on a public bus in England.The unidentified man was taking the bus from Swinton to Manchester on Monday with the snake wrapped around his neck when another passenger snapped a photo of the bizarre moment.AUSTRALIA MAN FINDS 2 HUGE PYTHONS IN HOME AFTER THEY CRASH THROUGH KITCHEN CEILINGA passenger, who wished to remain anonymous, said she first believed the man was only wearing a “funky mask” until the reptile started slithering over the handrails, according to the BBC.The woman said she found the incident “really funny” and the other passengers didn’t seem bothered by the serpent.“No one batted an eyelid,” she said.Authorities said a snake is not a proper face covering during the COVID-19 pandemic.BREXIT DRAMA IN THE UK AS BORIS JOHNSON PUSHES BILL TO OVERRIDE EU EXIT DEAL\"Government guidance clearly states that this needn't be a surgical mask and that passengers can make their own or wear something suitable, such as a scarf or bandana,” a Transport for Greater Manchester spokesperson said in a statement, according to the outlet.\"While there is a small degree of interpretation that can be applied to this, we do not believe it extends to the use of snakeskin - especially when still attached to the snake,\" the statement said.CLICK HERE TO GET THE FOX NEWS APPIn England, face masks are required on public transportation such as planes, trains, and buses to curb the spread of the coronavirus.Get all the stories you need-to-know from the most powerful name in news delivered first thing every morning to your inboxSubscribedYou've successfully subscribed to this newsletter!This material may not be published, broadcast, rewritten, or redistributed. ©2020 FOX News Network, LLC. All rights reserved. Quotes displayed in real-time or delayed by at least 15 minutes. Market data provided by Factset. Powered and implemented by FactSet Digital Solutions. Legal Statement. Mutual Fund and ETF data provided by Refinitiv Lipper.\n"
     ]
    }
   ],
   "source": [
    "p_tags_text_1string = ''\n",
    "\n",
    "for p_tag_text in p_tags_text:\n",
    "    p_tags_text_1string += p_tag_text\n",
    "\n",
    "print(p_tags_text_1string)"
   ]
  },
  {
   "cell_type": "code",
   "execution_count": 21,
   "metadata": {},
   "outputs": [
    {
     "data": {
      "text/plain": [
       "['This material may not be published, broadcast, rewritten,\\n      or redistributed. ©2020 FOX News Network, LLC. All rights reserved.\\n      Quotes displayed in real-time or delayed by at least 15 minutes. Market data provided by Factset. Powered and implemented by FactSet Digital Solutions. Legal Statement. Mutual Fund and ETF data provided by Refinitiv Lipper.',\n",
       " \"Fox News Flash top headlines are here. Check out what's clicking on Foxnews.com.\",\n",
       " 'A man was spotted using a live snake as a makeshift face mask on a public bus in England.',\n",
       " 'The unidentified man was taking the bus\\xa0from Swinton to Manchester on Monday with the snake wrapped around his neck when another passenger snapped a photo of the bizarre moment.',\n",
       " 'AUSTRALIA MAN FINDS 2 HUGE PYTHONS IN HOME AFTER THEY CRASH THROUGH KITCHEN CEILING',\n",
       " 'A passenger, who wished to remain anonymous, said she first believed the man was only wearing a “funky mask” until the reptile started slithering over the handrails, according to the BBC.',\n",
       " 'The woman said she found the incident “really funny” and the other passengers didn’t seem bothered by the serpent.',\n",
       " '“No one batted an eyelid,” she said.',\n",
       " 'Authorities said a snake is not a proper face covering during the COVID-19 pandemic.',\n",
       " 'BREXIT DRAMA IN THE UK AS BORIS JOHNSON PUSHES BILL TO OVERRIDE EU EXIT DEAL',\n",
       " '\"Government guidance clearly states that this needn\\'t be a surgical mask and that passengers can make their own or wear something suitable, such as a scarf or bandana,” a Transport for Greater Manchester spokesperson said in a statement, according to the outlet.',\n",
       " '\"While there is a small degree of interpretation that can be applied to this, we do not believe it extends to the use of snakeskin - especially when still attached to the snake,\" the statement said.',\n",
       " 'CLICK HERE TO GET THE FOX NEWS APP',\n",
       " 'In England, face masks are required on public transportation such as planes, trains, and buses to curb the spread of the coronavirus.',\n",
       " 'Get all the stories you need-to-know from the most powerful name in news delivered first thing every morning to your inbox',\n",
       " 'Subscribed',\n",
       " \"You've successfully subscribed to this newsletter!\",\n",
       " 'This material may not be published, broadcast, rewritten, or redistributed. ©2020 FOX News Network, LLC. All rights reserved. Quotes displayed in real-time or delayed by at least 15 minutes. Market data provided by Factset. Powered and implemented by FactSet Digital Solutions. Legal Statement. Mutual Fund and ETF data provided by Refinitiv Lipper.']"
      ]
     },
     "execution_count": 21,
     "metadata": {},
     "output_type": "execute_result"
    }
   ],
   "source": [
    "p_tags_text"
   ]
  },
  {
   "cell_type": "code",
   "execution_count": null,
   "metadata": {},
   "outputs": [],
   "source": []
  }
 ],
 "metadata": {
  "kernelspec": {
   "display_name": "Python 3",
   "language": "python",
   "name": "python3"
  },
  "language_info": {
   "codemirror_mode": {
    "name": "ipython",
    "version": 3
   },
   "file_extension": ".py",
   "mimetype": "text/x-python",
   "name": "python",
   "nbconvert_exporter": "python",
   "pygments_lexer": "ipython3",
   "version": "3.8.5"
  }
 },
 "nbformat": 4,
 "nbformat_minor": 4
}
